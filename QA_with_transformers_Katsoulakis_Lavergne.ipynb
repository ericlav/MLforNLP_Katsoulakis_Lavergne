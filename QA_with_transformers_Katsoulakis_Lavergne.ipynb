{
  "nbformat": 4,
  "nbformat_minor": 0,
  "metadata": {
    "colab": {
      "name": "QA_with_transformers.ipynb",
      "provenance": [],
      "collapsed_sections": []
    },
    "kernelspec": {
      "display_name": "Python 3",
      "name": "python3"
    },
    "language_info": {
      "name": "python"
    },
    "widgets": {
      "application/vnd.jupyter.widget-state+json": {
        "cf51ac1cda73452bb77489ab3eae6c7c": {
          "model_module": "@jupyter-widgets/controls",
          "model_name": "HBoxModel",
          "state": {
            "_view_name": "HBoxView",
            "_dom_classes": [],
            "_model_name": "HBoxModel",
            "_view_module": "@jupyter-widgets/controls",
            "_model_module_version": "1.5.0",
            "_view_count": null,
            "_view_module_version": "1.5.0",
            "box_style": "",
            "layout": "IPY_MODEL_ab01b352bbb044cfb9e10f7881313042",
            "_model_module": "@jupyter-widgets/controls",
            "children": [
              "IPY_MODEL_03af6a4156a0444f841526be32dd365e",
              "IPY_MODEL_79d0363758c04bfcbce5c7051940670c"
            ]
          }
        },
        "ab01b352bbb044cfb9e10f7881313042": {
          "model_module": "@jupyter-widgets/base",
          "model_name": "LayoutModel",
          "state": {
            "_view_name": "LayoutView",
            "grid_template_rows": null,
            "right": null,
            "justify_content": null,
            "_view_module": "@jupyter-widgets/base",
            "overflow": null,
            "_model_module_version": "1.2.0",
            "_view_count": null,
            "flex_flow": null,
            "width": null,
            "min_width": null,
            "border": null,
            "align_items": null,
            "bottom": null,
            "_model_module": "@jupyter-widgets/base",
            "top": null,
            "grid_column": null,
            "overflow_y": null,
            "overflow_x": null,
            "grid_auto_flow": null,
            "grid_area": null,
            "grid_template_columns": null,
            "flex": null,
            "_model_name": "LayoutModel",
            "justify_items": null,
            "grid_row": null,
            "max_height": null,
            "align_content": null,
            "visibility": null,
            "align_self": null,
            "height": null,
            "min_height": null,
            "padding": null,
            "grid_auto_rows": null,
            "grid_gap": null,
            "max_width": null,
            "order": null,
            "_view_module_version": "1.2.0",
            "grid_template_areas": null,
            "object_position": null,
            "object_fit": null,
            "grid_auto_columns": null,
            "margin": null,
            "display": null,
            "left": null
          }
        },
        "03af6a4156a0444f841526be32dd365e": {
          "model_module": "@jupyter-widgets/controls",
          "model_name": "FloatProgressModel",
          "state": {
            "_view_name": "ProgressView",
            "style": "IPY_MODEL_ded9350f23fb4f66b3ad8fb08fd46cb2",
            "_dom_classes": [],
            "description": "Downloading: ",
            "_model_name": "FloatProgressModel",
            "bar_style": "success",
            "max": 1877,
            "_view_module": "@jupyter-widgets/controls",
            "_model_module_version": "1.5.0",
            "value": 1877,
            "_view_count": null,
            "_view_module_version": "1.5.0",
            "orientation": "horizontal",
            "min": 0,
            "description_tooltip": null,
            "_model_module": "@jupyter-widgets/controls",
            "layout": "IPY_MODEL_33f0ec21e366479bbabe31d09ec1f6a7"
          }
        },
        "79d0363758c04bfcbce5c7051940670c": {
          "model_module": "@jupyter-widgets/controls",
          "model_name": "HTMLModel",
          "state": {
            "_view_name": "HTMLView",
            "style": "IPY_MODEL_82b48d8d6b754a9bb580047ec7a773fb",
            "_dom_classes": [],
            "description": "",
            "_model_name": "HTMLModel",
            "placeholder": "​",
            "_view_module": "@jupyter-widgets/controls",
            "_model_module_version": "1.5.0",
            "value": " 5.03k/? [00:01&lt;00:00, 3.59kB/s]",
            "_view_count": null,
            "_view_module_version": "1.5.0",
            "description_tooltip": null,
            "_model_module": "@jupyter-widgets/controls",
            "layout": "IPY_MODEL_b1b10b4c331d4514b972c64a8db92f03"
          }
        },
        "ded9350f23fb4f66b3ad8fb08fd46cb2": {
          "model_module": "@jupyter-widgets/controls",
          "model_name": "ProgressStyleModel",
          "state": {
            "_view_name": "StyleView",
            "_model_name": "ProgressStyleModel",
            "description_width": "initial",
            "_view_module": "@jupyter-widgets/base",
            "_model_module_version": "1.5.0",
            "_view_count": null,
            "_view_module_version": "1.2.0",
            "bar_color": null,
            "_model_module": "@jupyter-widgets/controls"
          }
        },
        "33f0ec21e366479bbabe31d09ec1f6a7": {
          "model_module": "@jupyter-widgets/base",
          "model_name": "LayoutModel",
          "state": {
            "_view_name": "LayoutView",
            "grid_template_rows": null,
            "right": null,
            "justify_content": null,
            "_view_module": "@jupyter-widgets/base",
            "overflow": null,
            "_model_module_version": "1.2.0",
            "_view_count": null,
            "flex_flow": null,
            "width": null,
            "min_width": null,
            "border": null,
            "align_items": null,
            "bottom": null,
            "_model_module": "@jupyter-widgets/base",
            "top": null,
            "grid_column": null,
            "overflow_y": null,
            "overflow_x": null,
            "grid_auto_flow": null,
            "grid_area": null,
            "grid_template_columns": null,
            "flex": null,
            "_model_name": "LayoutModel",
            "justify_items": null,
            "grid_row": null,
            "max_height": null,
            "align_content": null,
            "visibility": null,
            "align_self": null,
            "height": null,
            "min_height": null,
            "padding": null,
            "grid_auto_rows": null,
            "grid_gap": null,
            "max_width": null,
            "order": null,
            "_view_module_version": "1.2.0",
            "grid_template_areas": null,
            "object_position": null,
            "object_fit": null,
            "grid_auto_columns": null,
            "margin": null,
            "display": null,
            "left": null
          }
        },
        "82b48d8d6b754a9bb580047ec7a773fb": {
          "model_module": "@jupyter-widgets/controls",
          "model_name": "DescriptionStyleModel",
          "state": {
            "_view_name": "StyleView",
            "_model_name": "DescriptionStyleModel",
            "description_width": "",
            "_view_module": "@jupyter-widgets/base",
            "_model_module_version": "1.5.0",
            "_view_count": null,
            "_view_module_version": "1.2.0",
            "_model_module": "@jupyter-widgets/controls"
          }
        },
        "b1b10b4c331d4514b972c64a8db92f03": {
          "model_module": "@jupyter-widgets/base",
          "model_name": "LayoutModel",
          "state": {
            "_view_name": "LayoutView",
            "grid_template_rows": null,
            "right": null,
            "justify_content": null,
            "_view_module": "@jupyter-widgets/base",
            "overflow": null,
            "_model_module_version": "1.2.0",
            "_view_count": null,
            "flex_flow": null,
            "width": null,
            "min_width": null,
            "border": null,
            "align_items": null,
            "bottom": null,
            "_model_module": "@jupyter-widgets/base",
            "top": null,
            "grid_column": null,
            "overflow_y": null,
            "overflow_x": null,
            "grid_auto_flow": null,
            "grid_area": null,
            "grid_template_columns": null,
            "flex": null,
            "_model_name": "LayoutModel",
            "justify_items": null,
            "grid_row": null,
            "max_height": null,
            "align_content": null,
            "visibility": null,
            "align_self": null,
            "height": null,
            "min_height": null,
            "padding": null,
            "grid_auto_rows": null,
            "grid_gap": null,
            "max_width": null,
            "order": null,
            "_view_module_version": "1.2.0",
            "grid_template_areas": null,
            "object_position": null,
            "object_fit": null,
            "grid_auto_columns": null,
            "margin": null,
            "display": null,
            "left": null
          }
        },
        "a29a1fd047104519a3663569ef72ce91": {
          "model_module": "@jupyter-widgets/controls",
          "model_name": "HBoxModel",
          "state": {
            "_view_name": "HBoxView",
            "_dom_classes": [],
            "_model_name": "HBoxModel",
            "_view_module": "@jupyter-widgets/controls",
            "_model_module_version": "1.5.0",
            "_view_count": null,
            "_view_module_version": "1.5.0",
            "box_style": "",
            "layout": "IPY_MODEL_ef0a8d4b50f54a33b93a599ff8775f5d",
            "_model_module": "@jupyter-widgets/controls",
            "children": [
              "IPY_MODEL_505aef3a3abc4fdb94617929b2b286f6",
              "IPY_MODEL_4abdbde395a744829928db44097c3e7d"
            ]
          }
        },
        "ef0a8d4b50f54a33b93a599ff8775f5d": {
          "model_module": "@jupyter-widgets/base",
          "model_name": "LayoutModel",
          "state": {
            "_view_name": "LayoutView",
            "grid_template_rows": null,
            "right": null,
            "justify_content": null,
            "_view_module": "@jupyter-widgets/base",
            "overflow": null,
            "_model_module_version": "1.2.0",
            "_view_count": null,
            "flex_flow": null,
            "width": null,
            "min_width": null,
            "border": null,
            "align_items": null,
            "bottom": null,
            "_model_module": "@jupyter-widgets/base",
            "top": null,
            "grid_column": null,
            "overflow_y": null,
            "overflow_x": null,
            "grid_auto_flow": null,
            "grid_area": null,
            "grid_template_columns": null,
            "flex": null,
            "_model_name": "LayoutModel",
            "justify_items": null,
            "grid_row": null,
            "max_height": null,
            "align_content": null,
            "visibility": null,
            "align_self": null,
            "height": null,
            "min_height": null,
            "padding": null,
            "grid_auto_rows": null,
            "grid_gap": null,
            "max_width": null,
            "order": null,
            "_view_module_version": "1.2.0",
            "grid_template_areas": null,
            "object_position": null,
            "object_fit": null,
            "grid_auto_columns": null,
            "margin": null,
            "display": null,
            "left": null
          }
        },
        "505aef3a3abc4fdb94617929b2b286f6": {
          "model_module": "@jupyter-widgets/controls",
          "model_name": "FloatProgressModel",
          "state": {
            "_view_name": "ProgressView",
            "style": "IPY_MODEL_58cfe19ea87b44a4ad54f9b84e488864",
            "_dom_classes": [],
            "description": "Downloading: ",
            "_model_name": "FloatProgressModel",
            "bar_style": "success",
            "max": 955,
            "_view_module": "@jupyter-widgets/controls",
            "_model_module_version": "1.5.0",
            "value": 955,
            "_view_count": null,
            "_view_module_version": "1.5.0",
            "orientation": "horizontal",
            "min": 0,
            "description_tooltip": null,
            "_model_module": "@jupyter-widgets/controls",
            "layout": "IPY_MODEL_db59234659d3444b9de5f3c28b74bd72"
          }
        },
        "4abdbde395a744829928db44097c3e7d": {
          "model_module": "@jupyter-widgets/controls",
          "model_name": "HTMLModel",
          "state": {
            "_view_name": "HTMLView",
            "style": "IPY_MODEL_fb1537229ea148bdbf80a13f3d9975d4",
            "_dom_classes": [],
            "description": "",
            "_model_name": "HTMLModel",
            "placeholder": "​",
            "_view_module": "@jupyter-widgets/controls",
            "_model_module_version": "1.5.0",
            "value": " 2.19k/? [00:01&lt;00:00, 1.90kB/s]",
            "_view_count": null,
            "_view_module_version": "1.5.0",
            "description_tooltip": null,
            "_model_module": "@jupyter-widgets/controls",
            "layout": "IPY_MODEL_07dbadbce36947ad8464139ac591c567"
          }
        },
        "58cfe19ea87b44a4ad54f9b84e488864": {
          "model_module": "@jupyter-widgets/controls",
          "model_name": "ProgressStyleModel",
          "state": {
            "_view_name": "StyleView",
            "_model_name": "ProgressStyleModel",
            "description_width": "initial",
            "_view_module": "@jupyter-widgets/base",
            "_model_module_version": "1.5.0",
            "_view_count": null,
            "_view_module_version": "1.2.0",
            "bar_color": null,
            "_model_module": "@jupyter-widgets/controls"
          }
        },
        "db59234659d3444b9de5f3c28b74bd72": {
          "model_module": "@jupyter-widgets/base",
          "model_name": "LayoutModel",
          "state": {
            "_view_name": "LayoutView",
            "grid_template_rows": null,
            "right": null,
            "justify_content": null,
            "_view_module": "@jupyter-widgets/base",
            "overflow": null,
            "_model_module_version": "1.2.0",
            "_view_count": null,
            "flex_flow": null,
            "width": null,
            "min_width": null,
            "border": null,
            "align_items": null,
            "bottom": null,
            "_model_module": "@jupyter-widgets/base",
            "top": null,
            "grid_column": null,
            "overflow_y": null,
            "overflow_x": null,
            "grid_auto_flow": null,
            "grid_area": null,
            "grid_template_columns": null,
            "flex": null,
            "_model_name": "LayoutModel",
            "justify_items": null,
            "grid_row": null,
            "max_height": null,
            "align_content": null,
            "visibility": null,
            "align_self": null,
            "height": null,
            "min_height": null,
            "padding": null,
            "grid_auto_rows": null,
            "grid_gap": null,
            "max_width": null,
            "order": null,
            "_view_module_version": "1.2.0",
            "grid_template_areas": null,
            "object_position": null,
            "object_fit": null,
            "grid_auto_columns": null,
            "margin": null,
            "display": null,
            "left": null
          }
        },
        "fb1537229ea148bdbf80a13f3d9975d4": {
          "model_module": "@jupyter-widgets/controls",
          "model_name": "DescriptionStyleModel",
          "state": {
            "_view_name": "StyleView",
            "_model_name": "DescriptionStyleModel",
            "description_width": "",
            "_view_module": "@jupyter-widgets/base",
            "_model_module_version": "1.5.0",
            "_view_count": null,
            "_view_module_version": "1.2.0",
            "_model_module": "@jupyter-widgets/controls"
          }
        },
        "07dbadbce36947ad8464139ac591c567": {
          "model_module": "@jupyter-widgets/base",
          "model_name": "LayoutModel",
          "state": {
            "_view_name": "LayoutView",
            "grid_template_rows": null,
            "right": null,
            "justify_content": null,
            "_view_module": "@jupyter-widgets/base",
            "overflow": null,
            "_model_module_version": "1.2.0",
            "_view_count": null,
            "flex_flow": null,
            "width": null,
            "min_width": null,
            "border": null,
            "align_items": null,
            "bottom": null,
            "_model_module": "@jupyter-widgets/base",
            "top": null,
            "grid_column": null,
            "overflow_y": null,
            "overflow_x": null,
            "grid_auto_flow": null,
            "grid_area": null,
            "grid_template_columns": null,
            "flex": null,
            "_model_name": "LayoutModel",
            "justify_items": null,
            "grid_row": null,
            "max_height": null,
            "align_content": null,
            "visibility": null,
            "align_self": null,
            "height": null,
            "min_height": null,
            "padding": null,
            "grid_auto_rows": null,
            "grid_gap": null,
            "max_width": null,
            "order": null,
            "_view_module_version": "1.2.0",
            "grid_template_areas": null,
            "object_position": null,
            "object_fit": null,
            "grid_auto_columns": null,
            "margin": null,
            "display": null,
            "left": null
          }
        },
        "f2062f07faff49d3bfe388ce9054319c": {
          "model_module": "@jupyter-widgets/controls",
          "model_name": "HBoxModel",
          "state": {
            "_view_name": "HBoxView",
            "_dom_classes": [],
            "_model_name": "HBoxModel",
            "_view_module": "@jupyter-widgets/controls",
            "_model_module_version": "1.5.0",
            "_view_count": null,
            "_view_module_version": "1.5.0",
            "box_style": "",
            "layout": "IPY_MODEL_bd9930ae0945426fa073b9d3b362fd9e",
            "_model_module": "@jupyter-widgets/controls",
            "children": [
              "IPY_MODEL_0c5d2cad5d69477caad45adc37343519",
              "IPY_MODEL_03cf33107d214b5c816fd606da28a69b"
            ]
          }
        },
        "bd9930ae0945426fa073b9d3b362fd9e": {
          "model_module": "@jupyter-widgets/base",
          "model_name": "LayoutModel",
          "state": {
            "_view_name": "LayoutView",
            "grid_template_rows": null,
            "right": null,
            "justify_content": null,
            "_view_module": "@jupyter-widgets/base",
            "overflow": null,
            "_model_module_version": "1.2.0",
            "_view_count": null,
            "flex_flow": null,
            "width": null,
            "min_width": null,
            "border": null,
            "align_items": null,
            "bottom": null,
            "_model_module": "@jupyter-widgets/base",
            "top": null,
            "grid_column": null,
            "overflow_y": null,
            "overflow_x": null,
            "grid_auto_flow": null,
            "grid_area": null,
            "grid_template_columns": null,
            "flex": null,
            "_model_name": "LayoutModel",
            "justify_items": null,
            "grid_row": null,
            "max_height": null,
            "align_content": null,
            "visibility": null,
            "align_self": null,
            "height": null,
            "min_height": null,
            "padding": null,
            "grid_auto_rows": null,
            "grid_gap": null,
            "max_width": null,
            "order": null,
            "_view_module_version": "1.2.0",
            "grid_template_areas": null,
            "object_position": null,
            "object_fit": null,
            "grid_auto_columns": null,
            "margin": null,
            "display": null,
            "left": null
          }
        },
        "0c5d2cad5d69477caad45adc37343519": {
          "model_module": "@jupyter-widgets/controls",
          "model_name": "FloatProgressModel",
          "state": {
            "_view_name": "ProgressView",
            "style": "IPY_MODEL_fd52bf3c6b45487aa407a6cccbb2c8bb",
            "_dom_classes": [],
            "description": "Downloading: ",
            "_model_name": "FloatProgressModel",
            "bar_style": "success",
            "max": 8116577,
            "_view_module": "@jupyter-widgets/controls",
            "_model_module_version": "1.5.0",
            "value": 8116577,
            "_view_count": null,
            "_view_module_version": "1.5.0",
            "orientation": "horizontal",
            "min": 0,
            "description_tooltip": null,
            "_model_module": "@jupyter-widgets/controls",
            "layout": "IPY_MODEL_8fd17315c8714e769ded2b00198abf06"
          }
        },
        "03cf33107d214b5c816fd606da28a69b": {
          "model_module": "@jupyter-widgets/controls",
          "model_name": "HTMLModel",
          "state": {
            "_view_name": "HTMLView",
            "style": "IPY_MODEL_2e2525d9d437483abb5f987f01de0bf6",
            "_dom_classes": [],
            "description": "",
            "_model_name": "HTMLModel",
            "placeholder": "​",
            "_view_module": "@jupyter-widgets/controls",
            "_model_module_version": "1.5.0",
            "value": " 30.3M/? [00:00&lt;00:00, 59.2MB/s]",
            "_view_count": null,
            "_view_module_version": "1.5.0",
            "description_tooltip": null,
            "_model_module": "@jupyter-widgets/controls",
            "layout": "IPY_MODEL_e548ce63c3f54badbe75688418cae711"
          }
        },
        "fd52bf3c6b45487aa407a6cccbb2c8bb": {
          "model_module": "@jupyter-widgets/controls",
          "model_name": "ProgressStyleModel",
          "state": {
            "_view_name": "StyleView",
            "_model_name": "ProgressStyleModel",
            "description_width": "initial",
            "_view_module": "@jupyter-widgets/base",
            "_model_module_version": "1.5.0",
            "_view_count": null,
            "_view_module_version": "1.2.0",
            "bar_color": null,
            "_model_module": "@jupyter-widgets/controls"
          }
        },
        "8fd17315c8714e769ded2b00198abf06": {
          "model_module": "@jupyter-widgets/base",
          "model_name": "LayoutModel",
          "state": {
            "_view_name": "LayoutView",
            "grid_template_rows": null,
            "right": null,
            "justify_content": null,
            "_view_module": "@jupyter-widgets/base",
            "overflow": null,
            "_model_module_version": "1.2.0",
            "_view_count": null,
            "flex_flow": null,
            "width": null,
            "min_width": null,
            "border": null,
            "align_items": null,
            "bottom": null,
            "_model_module": "@jupyter-widgets/base",
            "top": null,
            "grid_column": null,
            "overflow_y": null,
            "overflow_x": null,
            "grid_auto_flow": null,
            "grid_area": null,
            "grid_template_columns": null,
            "flex": null,
            "_model_name": "LayoutModel",
            "justify_items": null,
            "grid_row": null,
            "max_height": null,
            "align_content": null,
            "visibility": null,
            "align_self": null,
            "height": null,
            "min_height": null,
            "padding": null,
            "grid_auto_rows": null,
            "grid_gap": null,
            "max_width": null,
            "order": null,
            "_view_module_version": "1.2.0",
            "grid_template_areas": null,
            "object_position": null,
            "object_fit": null,
            "grid_auto_columns": null,
            "margin": null,
            "display": null,
            "left": null
          }
        },
        "2e2525d9d437483abb5f987f01de0bf6": {
          "model_module": "@jupyter-widgets/controls",
          "model_name": "DescriptionStyleModel",
          "state": {
            "_view_name": "StyleView",
            "_model_name": "DescriptionStyleModel",
            "description_width": "",
            "_view_module": "@jupyter-widgets/base",
            "_model_module_version": "1.5.0",
            "_view_count": null,
            "_view_module_version": "1.2.0",
            "_model_module": "@jupyter-widgets/controls"
          }
        },
        "e548ce63c3f54badbe75688418cae711": {
          "model_module": "@jupyter-widgets/base",
          "model_name": "LayoutModel",
          "state": {
            "_view_name": "LayoutView",
            "grid_template_rows": null,
            "right": null,
            "justify_content": null,
            "_view_module": "@jupyter-widgets/base",
            "overflow": null,
            "_model_module_version": "1.2.0",
            "_view_count": null,
            "flex_flow": null,
            "width": null,
            "min_width": null,
            "border": null,
            "align_items": null,
            "bottom": null,
            "_model_module": "@jupyter-widgets/base",
            "top": null,
            "grid_column": null,
            "overflow_y": null,
            "overflow_x": null,
            "grid_auto_flow": null,
            "grid_area": null,
            "grid_template_columns": null,
            "flex": null,
            "_model_name": "LayoutModel",
            "justify_items": null,
            "grid_row": null,
            "max_height": null,
            "align_content": null,
            "visibility": null,
            "align_self": null,
            "height": null,
            "min_height": null,
            "padding": null,
            "grid_auto_rows": null,
            "grid_gap": null,
            "max_width": null,
            "order": null,
            "_view_module_version": "1.2.0",
            "grid_template_areas": null,
            "object_position": null,
            "object_fit": null,
            "grid_auto_columns": null,
            "margin": null,
            "display": null,
            "left": null
          }
        },
        "4bddae6ec27d44dfb26a4606e92749c5": {
          "model_module": "@jupyter-widgets/controls",
          "model_name": "HBoxModel",
          "state": {
            "_view_name": "HBoxView",
            "_dom_classes": [],
            "_model_name": "HBoxModel",
            "_view_module": "@jupyter-widgets/controls",
            "_model_module_version": "1.5.0",
            "_view_count": null,
            "_view_module_version": "1.5.0",
            "box_style": "",
            "layout": "IPY_MODEL_96740315fac9497db586ce2596cd92f8",
            "_model_module": "@jupyter-widgets/controls",
            "children": [
              "IPY_MODEL_6a0b1176907f4242a64a33dc0c265c3d",
              "IPY_MODEL_dabd91285d8f499b9e72facf544effed"
            ]
          }
        },
        "96740315fac9497db586ce2596cd92f8": {
          "model_module": "@jupyter-widgets/base",
          "model_name": "LayoutModel",
          "state": {
            "_view_name": "LayoutView",
            "grid_template_rows": null,
            "right": null,
            "justify_content": null,
            "_view_module": "@jupyter-widgets/base",
            "overflow": null,
            "_model_module_version": "1.2.0",
            "_view_count": null,
            "flex_flow": null,
            "width": null,
            "min_width": null,
            "border": null,
            "align_items": null,
            "bottom": null,
            "_model_module": "@jupyter-widgets/base",
            "top": null,
            "grid_column": null,
            "overflow_y": null,
            "overflow_x": null,
            "grid_auto_flow": null,
            "grid_area": null,
            "grid_template_columns": null,
            "flex": null,
            "_model_name": "LayoutModel",
            "justify_items": null,
            "grid_row": null,
            "max_height": null,
            "align_content": null,
            "visibility": null,
            "align_self": null,
            "height": null,
            "min_height": null,
            "padding": null,
            "grid_auto_rows": null,
            "grid_gap": null,
            "max_width": null,
            "order": null,
            "_view_module_version": "1.2.0",
            "grid_template_areas": null,
            "object_position": null,
            "object_fit": null,
            "grid_auto_columns": null,
            "margin": null,
            "display": null,
            "left": null
          }
        },
        "6a0b1176907f4242a64a33dc0c265c3d": {
          "model_module": "@jupyter-widgets/controls",
          "model_name": "FloatProgressModel",
          "state": {
            "_view_name": "ProgressView",
            "style": "IPY_MODEL_4174c750072c45d48de12d5647c2502d",
            "_dom_classes": [],
            "description": "Downloading: ",
            "_model_name": "FloatProgressModel",
            "bar_style": "success",
            "max": 1054280,
            "_view_module": "@jupyter-widgets/controls",
            "_model_module_version": "1.5.0",
            "value": 1054280,
            "_view_count": null,
            "_view_module_version": "1.5.0",
            "orientation": "horizontal",
            "min": 0,
            "description_tooltip": null,
            "_model_module": "@jupyter-widgets/controls",
            "layout": "IPY_MODEL_e0a7dc0877e44ab483d59a2fac7a2f68"
          }
        },
        "dabd91285d8f499b9e72facf544effed": {
          "model_module": "@jupyter-widgets/controls",
          "model_name": "HTMLModel",
          "state": {
            "_view_name": "HTMLView",
            "style": "IPY_MODEL_9dee3022d19d4d7ca295728f29d2f2fc",
            "_dom_classes": [],
            "description": "",
            "_model_name": "HTMLModel",
            "placeholder": "​",
            "_view_module": "@jupyter-widgets/controls",
            "_model_module_version": "1.5.0",
            "value": " 4.85M/? [00:00&lt;00:00, 15.3MB/s]",
            "_view_count": null,
            "_view_module_version": "1.5.0",
            "description_tooltip": null,
            "_model_module": "@jupyter-widgets/controls",
            "layout": "IPY_MODEL_02bd5c37a1144c2fbf1b1b8e6cc78cc1"
          }
        },
        "4174c750072c45d48de12d5647c2502d": {
          "model_module": "@jupyter-widgets/controls",
          "model_name": "ProgressStyleModel",
          "state": {
            "_view_name": "StyleView",
            "_model_name": "ProgressStyleModel",
            "description_width": "initial",
            "_view_module": "@jupyter-widgets/base",
            "_model_module_version": "1.5.0",
            "_view_count": null,
            "_view_module_version": "1.2.0",
            "bar_color": null,
            "_model_module": "@jupyter-widgets/controls"
          }
        },
        "e0a7dc0877e44ab483d59a2fac7a2f68": {
          "model_module": "@jupyter-widgets/base",
          "model_name": "LayoutModel",
          "state": {
            "_view_name": "LayoutView",
            "grid_template_rows": null,
            "right": null,
            "justify_content": null,
            "_view_module": "@jupyter-widgets/base",
            "overflow": null,
            "_model_module_version": "1.2.0",
            "_view_count": null,
            "flex_flow": null,
            "width": null,
            "min_width": null,
            "border": null,
            "align_items": null,
            "bottom": null,
            "_model_module": "@jupyter-widgets/base",
            "top": null,
            "grid_column": null,
            "overflow_y": null,
            "overflow_x": null,
            "grid_auto_flow": null,
            "grid_area": null,
            "grid_template_columns": null,
            "flex": null,
            "_model_name": "LayoutModel",
            "justify_items": null,
            "grid_row": null,
            "max_height": null,
            "align_content": null,
            "visibility": null,
            "align_self": null,
            "height": null,
            "min_height": null,
            "padding": null,
            "grid_auto_rows": null,
            "grid_gap": null,
            "max_width": null,
            "order": null,
            "_view_module_version": "1.2.0",
            "grid_template_areas": null,
            "object_position": null,
            "object_fit": null,
            "grid_auto_columns": null,
            "margin": null,
            "display": null,
            "left": null
          }
        },
        "9dee3022d19d4d7ca295728f29d2f2fc": {
          "model_module": "@jupyter-widgets/controls",
          "model_name": "DescriptionStyleModel",
          "state": {
            "_view_name": "StyleView",
            "_model_name": "DescriptionStyleModel",
            "description_width": "",
            "_view_module": "@jupyter-widgets/base",
            "_model_module_version": "1.5.0",
            "_view_count": null,
            "_view_module_version": "1.2.0",
            "_model_module": "@jupyter-widgets/controls"
          }
        },
        "02bd5c37a1144c2fbf1b1b8e6cc78cc1": {
          "model_module": "@jupyter-widgets/base",
          "model_name": "LayoutModel",
          "state": {
            "_view_name": "LayoutView",
            "grid_template_rows": null,
            "right": null,
            "justify_content": null,
            "_view_module": "@jupyter-widgets/base",
            "overflow": null,
            "_model_module_version": "1.2.0",
            "_view_count": null,
            "flex_flow": null,
            "width": null,
            "min_width": null,
            "border": null,
            "align_items": null,
            "bottom": null,
            "_model_module": "@jupyter-widgets/base",
            "top": null,
            "grid_column": null,
            "overflow_y": null,
            "overflow_x": null,
            "grid_auto_flow": null,
            "grid_area": null,
            "grid_template_columns": null,
            "flex": null,
            "_model_name": "LayoutModel",
            "justify_items": null,
            "grid_row": null,
            "max_height": null,
            "align_content": null,
            "visibility": null,
            "align_self": null,
            "height": null,
            "min_height": null,
            "padding": null,
            "grid_auto_rows": null,
            "grid_gap": null,
            "max_width": null,
            "order": null,
            "_view_module_version": "1.2.0",
            "grid_template_areas": null,
            "object_position": null,
            "object_fit": null,
            "grid_auto_columns": null,
            "margin": null,
            "display": null,
            "left": null
          }
        },
        "30b625de810c43458fb15f31d44da945": {
          "model_module": "@jupyter-widgets/controls",
          "model_name": "HBoxModel",
          "state": {
            "_view_name": "HBoxView",
            "_dom_classes": [],
            "_model_name": "HBoxModel",
            "_view_module": "@jupyter-widgets/controls",
            "_model_module_version": "1.5.0",
            "_view_count": null,
            "_view_module_version": "1.5.0",
            "box_style": "",
            "layout": "IPY_MODEL_5d097cb9d8f94e21924c22e2c5fcb921",
            "_model_module": "@jupyter-widgets/controls",
            "children": [
              "IPY_MODEL_57193798c16d44b49b3267e0d8ddb014",
              "IPY_MODEL_540c0a5c58834c7f8a61e4cbc7d8fbf3"
            ]
          }
        },
        "5d097cb9d8f94e21924c22e2c5fcb921": {
          "model_module": "@jupyter-widgets/base",
          "model_name": "LayoutModel",
          "state": {
            "_view_name": "LayoutView",
            "grid_template_rows": null,
            "right": null,
            "justify_content": null,
            "_view_module": "@jupyter-widgets/base",
            "overflow": null,
            "_model_module_version": "1.2.0",
            "_view_count": null,
            "flex_flow": null,
            "width": null,
            "min_width": null,
            "border": null,
            "align_items": null,
            "bottom": null,
            "_model_module": "@jupyter-widgets/base",
            "top": null,
            "grid_column": null,
            "overflow_y": null,
            "overflow_x": null,
            "grid_auto_flow": null,
            "grid_area": null,
            "grid_template_columns": null,
            "flex": null,
            "_model_name": "LayoutModel",
            "justify_items": null,
            "grid_row": null,
            "max_height": null,
            "align_content": null,
            "visibility": null,
            "align_self": null,
            "height": null,
            "min_height": null,
            "padding": null,
            "grid_auto_rows": null,
            "grid_gap": null,
            "max_width": null,
            "order": null,
            "_view_module_version": "1.2.0",
            "grid_template_areas": null,
            "object_position": null,
            "object_fit": null,
            "grid_auto_columns": null,
            "margin": null,
            "display": null,
            "left": null
          }
        },
        "57193798c16d44b49b3267e0d8ddb014": {
          "model_module": "@jupyter-widgets/controls",
          "model_name": "FloatProgressModel",
          "state": {
            "_view_name": "ProgressView",
            "style": "IPY_MODEL_3bdb4e43f59744828ea09407f9ec3e4a",
            "_dom_classes": [],
            "description": "",
            "_model_name": "FloatProgressModel",
            "bar_style": "info",
            "max": 1,
            "_view_module": "@jupyter-widgets/controls",
            "_model_module_version": "1.5.0",
            "value": 1,
            "_view_count": null,
            "_view_module_version": "1.5.0",
            "orientation": "horizontal",
            "min": 0,
            "description_tooltip": null,
            "_model_module": "@jupyter-widgets/controls",
            "layout": "IPY_MODEL_44cb7a65f1854708a173d55ab009fa4c"
          }
        },
        "540c0a5c58834c7f8a61e4cbc7d8fbf3": {
          "model_module": "@jupyter-widgets/controls",
          "model_name": "HTMLModel",
          "state": {
            "_view_name": "HTMLView",
            "style": "IPY_MODEL_e17814cd35ef4215adbcb470e3572751",
            "_dom_classes": [],
            "description": "",
            "_model_name": "HTMLModel",
            "placeholder": "​",
            "_view_module": "@jupyter-widgets/controls",
            "_model_module_version": "1.5.0",
            "value": " 87599/0 [00:05&lt;00:00, 21002.76 examples/s]",
            "_view_count": null,
            "_view_module_version": "1.5.0",
            "description_tooltip": null,
            "_model_module": "@jupyter-widgets/controls",
            "layout": "IPY_MODEL_7f95f61048c64c01bd7c2eaa6da4ccf0"
          }
        },
        "3bdb4e43f59744828ea09407f9ec3e4a": {
          "model_module": "@jupyter-widgets/controls",
          "model_name": "ProgressStyleModel",
          "state": {
            "_view_name": "StyleView",
            "_model_name": "ProgressStyleModel",
            "description_width": "initial",
            "_view_module": "@jupyter-widgets/base",
            "_model_module_version": "1.5.0",
            "_view_count": null,
            "_view_module_version": "1.2.0",
            "bar_color": null,
            "_model_module": "@jupyter-widgets/controls"
          }
        },
        "44cb7a65f1854708a173d55ab009fa4c": {
          "model_module": "@jupyter-widgets/base",
          "model_name": "LayoutModel",
          "state": {
            "_view_name": "LayoutView",
            "grid_template_rows": null,
            "right": null,
            "justify_content": null,
            "_view_module": "@jupyter-widgets/base",
            "overflow": null,
            "_model_module_version": "1.2.0",
            "_view_count": null,
            "flex_flow": null,
            "width": null,
            "min_width": null,
            "border": null,
            "align_items": null,
            "bottom": null,
            "_model_module": "@jupyter-widgets/base",
            "top": null,
            "grid_column": null,
            "overflow_y": null,
            "overflow_x": null,
            "grid_auto_flow": null,
            "grid_area": null,
            "grid_template_columns": null,
            "flex": null,
            "_model_name": "LayoutModel",
            "justify_items": null,
            "grid_row": null,
            "max_height": null,
            "align_content": null,
            "visibility": null,
            "align_self": null,
            "height": null,
            "min_height": null,
            "padding": null,
            "grid_auto_rows": null,
            "grid_gap": null,
            "max_width": null,
            "order": null,
            "_view_module_version": "1.2.0",
            "grid_template_areas": null,
            "object_position": null,
            "object_fit": null,
            "grid_auto_columns": null,
            "margin": null,
            "display": null,
            "left": null
          }
        },
        "e17814cd35ef4215adbcb470e3572751": {
          "model_module": "@jupyter-widgets/controls",
          "model_name": "DescriptionStyleModel",
          "state": {
            "_view_name": "StyleView",
            "_model_name": "DescriptionStyleModel",
            "description_width": "",
            "_view_module": "@jupyter-widgets/base",
            "_model_module_version": "1.5.0",
            "_view_count": null,
            "_view_module_version": "1.2.0",
            "_model_module": "@jupyter-widgets/controls"
          }
        },
        "7f95f61048c64c01bd7c2eaa6da4ccf0": {
          "model_module": "@jupyter-widgets/base",
          "model_name": "LayoutModel",
          "state": {
            "_view_name": "LayoutView",
            "grid_template_rows": null,
            "right": null,
            "justify_content": null,
            "_view_module": "@jupyter-widgets/base",
            "overflow": null,
            "_model_module_version": "1.2.0",
            "_view_count": null,
            "flex_flow": null,
            "width": null,
            "min_width": null,
            "border": null,
            "align_items": null,
            "bottom": null,
            "_model_module": "@jupyter-widgets/base",
            "top": null,
            "grid_column": null,
            "overflow_y": null,
            "overflow_x": null,
            "grid_auto_flow": null,
            "grid_area": null,
            "grid_template_columns": null,
            "flex": null,
            "_model_name": "LayoutModel",
            "justify_items": null,
            "grid_row": null,
            "max_height": null,
            "align_content": null,
            "visibility": null,
            "align_self": null,
            "height": null,
            "min_height": null,
            "padding": null,
            "grid_auto_rows": null,
            "grid_gap": null,
            "max_width": null,
            "order": null,
            "_view_module_version": "1.2.0",
            "grid_template_areas": null,
            "object_position": null,
            "object_fit": null,
            "grid_auto_columns": null,
            "margin": null,
            "display": null,
            "left": null
          }
        },
        "5d6851b687234730a1b3b3fbe5cc5360": {
          "model_module": "@jupyter-widgets/controls",
          "model_name": "HBoxModel",
          "state": {
            "_view_name": "HBoxView",
            "_dom_classes": [],
            "_model_name": "HBoxModel",
            "_view_module": "@jupyter-widgets/controls",
            "_model_module_version": "1.5.0",
            "_view_count": null,
            "_view_module_version": "1.5.0",
            "box_style": "",
            "layout": "IPY_MODEL_a091f096d37d4190a2b9cec3c29f0c74",
            "_model_module": "@jupyter-widgets/controls",
            "children": [
              "IPY_MODEL_b5065c0ba075479c991413292ae46393",
              "IPY_MODEL_e90de590cec54f5f95b3df7aef4cbe2f"
            ]
          }
        },
        "a091f096d37d4190a2b9cec3c29f0c74": {
          "model_module": "@jupyter-widgets/base",
          "model_name": "LayoutModel",
          "state": {
            "_view_name": "LayoutView",
            "grid_template_rows": null,
            "right": null,
            "justify_content": null,
            "_view_module": "@jupyter-widgets/base",
            "overflow": null,
            "_model_module_version": "1.2.0",
            "_view_count": null,
            "flex_flow": null,
            "width": null,
            "min_width": null,
            "border": null,
            "align_items": null,
            "bottom": null,
            "_model_module": "@jupyter-widgets/base",
            "top": null,
            "grid_column": null,
            "overflow_y": null,
            "overflow_x": null,
            "grid_auto_flow": null,
            "grid_area": null,
            "grid_template_columns": null,
            "flex": null,
            "_model_name": "LayoutModel",
            "justify_items": null,
            "grid_row": null,
            "max_height": null,
            "align_content": null,
            "visibility": null,
            "align_self": null,
            "height": null,
            "min_height": null,
            "padding": null,
            "grid_auto_rows": null,
            "grid_gap": null,
            "max_width": null,
            "order": null,
            "_view_module_version": "1.2.0",
            "grid_template_areas": null,
            "object_position": null,
            "object_fit": null,
            "grid_auto_columns": null,
            "margin": null,
            "display": null,
            "left": null
          }
        },
        "b5065c0ba075479c991413292ae46393": {
          "model_module": "@jupyter-widgets/controls",
          "model_name": "FloatProgressModel",
          "state": {
            "_view_name": "ProgressView",
            "style": "IPY_MODEL_e7f4ffee66df4bf892b0a149cff0d3c8",
            "_dom_classes": [],
            "description": "",
            "_model_name": "FloatProgressModel",
            "bar_style": "info",
            "max": 1,
            "_view_module": "@jupyter-widgets/controls",
            "_model_module_version": "1.5.0",
            "value": 1,
            "_view_count": null,
            "_view_module_version": "1.5.0",
            "orientation": "horizontal",
            "min": 0,
            "description_tooltip": null,
            "_model_module": "@jupyter-widgets/controls",
            "layout": "IPY_MODEL_d1f0807523a748bb859ccb4b4890a434"
          }
        },
        "e90de590cec54f5f95b3df7aef4cbe2f": {
          "model_module": "@jupyter-widgets/controls",
          "model_name": "HTMLModel",
          "state": {
            "_view_name": "HTMLView",
            "style": "IPY_MODEL_149acf06192f4c76ae5b27d6794feaa0",
            "_dom_classes": [],
            "description": "",
            "_model_name": "HTMLModel",
            "placeholder": "​",
            "_view_module": "@jupyter-widgets/controls",
            "_model_module_version": "1.5.0",
            "value": " 10570/0 [00:00&lt;00:00, 5606.90 examples/s]",
            "_view_count": null,
            "_view_module_version": "1.5.0",
            "description_tooltip": null,
            "_model_module": "@jupyter-widgets/controls",
            "layout": "IPY_MODEL_1846907146b046e095887e4f6401e5a5"
          }
        },
        "e7f4ffee66df4bf892b0a149cff0d3c8": {
          "model_module": "@jupyter-widgets/controls",
          "model_name": "ProgressStyleModel",
          "state": {
            "_view_name": "StyleView",
            "_model_name": "ProgressStyleModel",
            "description_width": "initial",
            "_view_module": "@jupyter-widgets/base",
            "_model_module_version": "1.5.0",
            "_view_count": null,
            "_view_module_version": "1.2.0",
            "bar_color": null,
            "_model_module": "@jupyter-widgets/controls"
          }
        },
        "d1f0807523a748bb859ccb4b4890a434": {
          "model_module": "@jupyter-widgets/base",
          "model_name": "LayoutModel",
          "state": {
            "_view_name": "LayoutView",
            "grid_template_rows": null,
            "right": null,
            "justify_content": null,
            "_view_module": "@jupyter-widgets/base",
            "overflow": null,
            "_model_module_version": "1.2.0",
            "_view_count": null,
            "flex_flow": null,
            "width": null,
            "min_width": null,
            "border": null,
            "align_items": null,
            "bottom": null,
            "_model_module": "@jupyter-widgets/base",
            "top": null,
            "grid_column": null,
            "overflow_y": null,
            "overflow_x": null,
            "grid_auto_flow": null,
            "grid_area": null,
            "grid_template_columns": null,
            "flex": null,
            "_model_name": "LayoutModel",
            "justify_items": null,
            "grid_row": null,
            "max_height": null,
            "align_content": null,
            "visibility": null,
            "align_self": null,
            "height": null,
            "min_height": null,
            "padding": null,
            "grid_auto_rows": null,
            "grid_gap": null,
            "max_width": null,
            "order": null,
            "_view_module_version": "1.2.0",
            "grid_template_areas": null,
            "object_position": null,
            "object_fit": null,
            "grid_auto_columns": null,
            "margin": null,
            "display": null,
            "left": null
          }
        },
        "149acf06192f4c76ae5b27d6794feaa0": {
          "model_module": "@jupyter-widgets/controls",
          "model_name": "DescriptionStyleModel",
          "state": {
            "_view_name": "StyleView",
            "_model_name": "DescriptionStyleModel",
            "description_width": "",
            "_view_module": "@jupyter-widgets/base",
            "_model_module_version": "1.5.0",
            "_view_count": null,
            "_view_module_version": "1.2.0",
            "_model_module": "@jupyter-widgets/controls"
          }
        },
        "1846907146b046e095887e4f6401e5a5": {
          "model_module": "@jupyter-widgets/base",
          "model_name": "LayoutModel",
          "state": {
            "_view_name": "LayoutView",
            "grid_template_rows": null,
            "right": null,
            "justify_content": null,
            "_view_module": "@jupyter-widgets/base",
            "overflow": null,
            "_model_module_version": "1.2.0",
            "_view_count": null,
            "flex_flow": null,
            "width": null,
            "min_width": null,
            "border": null,
            "align_items": null,
            "bottom": null,
            "_model_module": "@jupyter-widgets/base",
            "top": null,
            "grid_column": null,
            "overflow_y": null,
            "overflow_x": null,
            "grid_auto_flow": null,
            "grid_area": null,
            "grid_template_columns": null,
            "flex": null,
            "_model_name": "LayoutModel",
            "justify_items": null,
            "grid_row": null,
            "max_height": null,
            "align_content": null,
            "visibility": null,
            "align_self": null,
            "height": null,
            "min_height": null,
            "padding": null,
            "grid_auto_rows": null,
            "grid_gap": null,
            "max_width": null,
            "order": null,
            "_view_module_version": "1.2.0",
            "grid_template_areas": null,
            "object_position": null,
            "object_fit": null,
            "grid_auto_columns": null,
            "margin": null,
            "display": null,
            "left": null
          }
        },
        "e8c3f04101c144cdaba9dea6b3f2f8d8": {
          "model_module": "@jupyter-widgets/controls",
          "model_name": "HBoxModel",
          "state": {
            "_view_name": "HBoxView",
            "_dom_classes": [],
            "_model_name": "HBoxModel",
            "_view_module": "@jupyter-widgets/controls",
            "_model_module_version": "1.5.0",
            "_view_count": null,
            "_view_module_version": "1.5.0",
            "box_style": "",
            "layout": "IPY_MODEL_6951953ae658444bb11e78a83f281efb",
            "_model_module": "@jupyter-widgets/controls",
            "children": [
              "IPY_MODEL_6a5c94e2f9b246edbc15d11b75ac72e0",
              "IPY_MODEL_1adc347dc1d74d95ac5baabcb1620674"
            ]
          }
        },
        "6951953ae658444bb11e78a83f281efb": {
          "model_module": "@jupyter-widgets/base",
          "model_name": "LayoutModel",
          "state": {
            "_view_name": "LayoutView",
            "grid_template_rows": null,
            "right": null,
            "justify_content": null,
            "_view_module": "@jupyter-widgets/base",
            "overflow": null,
            "_model_module_version": "1.2.0",
            "_view_count": null,
            "flex_flow": "row wrap",
            "width": "100%",
            "min_width": null,
            "border": null,
            "align_items": null,
            "bottom": null,
            "_model_module": "@jupyter-widgets/base",
            "top": null,
            "grid_column": null,
            "overflow_y": null,
            "overflow_x": null,
            "grid_auto_flow": null,
            "grid_area": null,
            "grid_template_columns": null,
            "flex": null,
            "_model_name": "LayoutModel",
            "justify_items": null,
            "grid_row": null,
            "max_height": null,
            "align_content": null,
            "visibility": null,
            "align_self": null,
            "height": null,
            "min_height": null,
            "padding": null,
            "grid_auto_rows": null,
            "grid_gap": null,
            "max_width": null,
            "order": null,
            "_view_module_version": "1.2.0",
            "grid_template_areas": null,
            "object_position": null,
            "object_fit": null,
            "grid_auto_columns": null,
            "margin": null,
            "display": "inline-flex",
            "left": null
          }
        },
        "6a5c94e2f9b246edbc15d11b75ac72e0": {
          "model_module": "@jupyter-widgets/controls",
          "model_name": "FloatProgressModel",
          "state": {
            "_view_name": "ProgressView",
            "style": "IPY_MODEL_8edea0bf18b044f8bffb730ab2f4f284",
            "_dom_classes": [],
            "description": "Validation sanity check:   0%",
            "_model_name": "FloatProgressModel",
            "bar_style": "danger",
            "max": 2,
            "_view_module": "@jupyter-widgets/controls",
            "_model_module_version": "1.5.0",
            "value": 0,
            "_view_count": null,
            "_view_module_version": "1.5.0",
            "orientation": "horizontal",
            "min": 0,
            "description_tooltip": null,
            "_model_module": "@jupyter-widgets/controls",
            "layout": "IPY_MODEL_600b3cf32fa2467791654d5bfb8819ac"
          }
        },
        "1adc347dc1d74d95ac5baabcb1620674": {
          "model_module": "@jupyter-widgets/controls",
          "model_name": "HTMLModel",
          "state": {
            "_view_name": "HTMLView",
            "style": "IPY_MODEL_0e515438c8a845a3bd1550ceaa6057d8",
            "_dom_classes": [],
            "description": "",
            "_model_name": "HTMLModel",
            "placeholder": "​",
            "_view_module": "@jupyter-widgets/controls",
            "_model_module_version": "1.5.0",
            "value": " 0/2 [00:00&lt;?, ?it/s]",
            "_view_count": null,
            "_view_module_version": "1.5.0",
            "description_tooltip": null,
            "_model_module": "@jupyter-widgets/controls",
            "layout": "IPY_MODEL_0e1f8f139cfd4e5abcc2645abce4094a"
          }
        },
        "8edea0bf18b044f8bffb730ab2f4f284": {
          "model_module": "@jupyter-widgets/controls",
          "model_name": "ProgressStyleModel",
          "state": {
            "_view_name": "StyleView",
            "_model_name": "ProgressStyleModel",
            "description_width": "initial",
            "_view_module": "@jupyter-widgets/base",
            "_model_module_version": "1.5.0",
            "_view_count": null,
            "_view_module_version": "1.2.0",
            "bar_color": null,
            "_model_module": "@jupyter-widgets/controls"
          }
        },
        "600b3cf32fa2467791654d5bfb8819ac": {
          "model_module": "@jupyter-widgets/base",
          "model_name": "LayoutModel",
          "state": {
            "_view_name": "LayoutView",
            "grid_template_rows": null,
            "right": null,
            "justify_content": null,
            "_view_module": "@jupyter-widgets/base",
            "overflow": null,
            "_model_module_version": "1.2.0",
            "_view_count": null,
            "flex_flow": null,
            "width": null,
            "min_width": null,
            "border": null,
            "align_items": null,
            "bottom": null,
            "_model_module": "@jupyter-widgets/base",
            "top": null,
            "grid_column": null,
            "overflow_y": null,
            "overflow_x": null,
            "grid_auto_flow": null,
            "grid_area": null,
            "grid_template_columns": null,
            "flex": "2",
            "_model_name": "LayoutModel",
            "justify_items": null,
            "grid_row": null,
            "max_height": null,
            "align_content": null,
            "visibility": null,
            "align_self": null,
            "height": null,
            "min_height": null,
            "padding": null,
            "grid_auto_rows": null,
            "grid_gap": null,
            "max_width": null,
            "order": null,
            "_view_module_version": "1.2.0",
            "grid_template_areas": null,
            "object_position": null,
            "object_fit": null,
            "grid_auto_columns": null,
            "margin": null,
            "display": null,
            "left": null
          }
        },
        "0e515438c8a845a3bd1550ceaa6057d8": {
          "model_module": "@jupyter-widgets/controls",
          "model_name": "DescriptionStyleModel",
          "state": {
            "_view_name": "StyleView",
            "_model_name": "DescriptionStyleModel",
            "description_width": "",
            "_view_module": "@jupyter-widgets/base",
            "_model_module_version": "1.5.0",
            "_view_count": null,
            "_view_module_version": "1.2.0",
            "_model_module": "@jupyter-widgets/controls"
          }
        },
        "0e1f8f139cfd4e5abcc2645abce4094a": {
          "model_module": "@jupyter-widgets/base",
          "model_name": "LayoutModel",
          "state": {
            "_view_name": "LayoutView",
            "grid_template_rows": null,
            "right": null,
            "justify_content": null,
            "_view_module": "@jupyter-widgets/base",
            "overflow": null,
            "_model_module_version": "1.2.0",
            "_view_count": null,
            "flex_flow": null,
            "width": null,
            "min_width": null,
            "border": null,
            "align_items": null,
            "bottom": null,
            "_model_module": "@jupyter-widgets/base",
            "top": null,
            "grid_column": null,
            "overflow_y": null,
            "overflow_x": null,
            "grid_auto_flow": null,
            "grid_area": null,
            "grid_template_columns": null,
            "flex": null,
            "_model_name": "LayoutModel",
            "justify_items": null,
            "grid_row": null,
            "max_height": null,
            "align_content": null,
            "visibility": null,
            "align_self": null,
            "height": null,
            "min_height": null,
            "padding": null,
            "grid_auto_rows": null,
            "grid_gap": null,
            "max_width": null,
            "order": null,
            "_view_module_version": "1.2.0",
            "grid_template_areas": null,
            "object_position": null,
            "object_fit": null,
            "grid_auto_columns": null,
            "margin": null,
            "display": null,
            "left": null
          }
        },
        "7019fbb6fb344adfbd902624313696e6": {
          "model_module": "@jupyter-widgets/controls",
          "model_name": "HBoxModel",
          "state": {
            "_view_name": "HBoxView",
            "_dom_classes": [],
            "_model_name": "HBoxModel",
            "_view_module": "@jupyter-widgets/controls",
            "_model_module_version": "1.5.0",
            "_view_count": null,
            "_view_module_version": "1.5.0",
            "box_style": "",
            "layout": "IPY_MODEL_bc7bf8026f2d4782bdd1bab7a947c955",
            "_model_module": "@jupyter-widgets/controls",
            "children": [
              "IPY_MODEL_d2b4fa0ed51140d0bf1e3b656daec0ac",
              "IPY_MODEL_bcdaf8c2242e45ca8fddbe567425ae21"
            ]
          }
        },
        "bc7bf8026f2d4782bdd1bab7a947c955": {
          "model_module": "@jupyter-widgets/base",
          "model_name": "LayoutModel",
          "state": {
            "_view_name": "LayoutView",
            "grid_template_rows": null,
            "right": null,
            "justify_content": null,
            "_view_module": "@jupyter-widgets/base",
            "overflow": null,
            "_model_module_version": "1.2.0",
            "_view_count": null,
            "flex_flow": "row wrap",
            "width": "100%",
            "min_width": null,
            "border": null,
            "align_items": null,
            "bottom": null,
            "_model_module": "@jupyter-widgets/base",
            "top": null,
            "grid_column": null,
            "overflow_y": null,
            "overflow_x": null,
            "grid_auto_flow": null,
            "grid_area": null,
            "grid_template_columns": null,
            "flex": null,
            "_model_name": "LayoutModel",
            "justify_items": null,
            "grid_row": null,
            "max_height": null,
            "align_content": null,
            "visibility": null,
            "align_self": null,
            "height": null,
            "min_height": null,
            "padding": null,
            "grid_auto_rows": null,
            "grid_gap": null,
            "max_width": null,
            "order": null,
            "_view_module_version": "1.2.0",
            "grid_template_areas": null,
            "object_position": null,
            "object_fit": null,
            "grid_auto_columns": null,
            "margin": null,
            "display": "inline-flex",
            "left": null
          }
        },
        "d2b4fa0ed51140d0bf1e3b656daec0ac": {
          "model_module": "@jupyter-widgets/controls",
          "model_name": "FloatProgressModel",
          "state": {
            "_view_name": "ProgressView",
            "style": "IPY_MODEL_eabf4d4af0ec48388937ea54f5332de1",
            "_dom_classes": [],
            "description": "Epoch 4: 100%",
            "_model_name": "FloatProgressModel",
            "bar_style": "info",
            "max": 5673,
            "_view_module": "@jupyter-widgets/controls",
            "_model_module_version": "1.5.0",
            "value": 5673,
            "_view_count": null,
            "_view_module_version": "1.5.0",
            "orientation": "horizontal",
            "min": 0,
            "description_tooltip": null,
            "_model_module": "@jupyter-widgets/controls",
            "layout": "IPY_MODEL_5c7d6e6e68034965a7953435927493de"
          }
        },
        "bcdaf8c2242e45ca8fddbe567425ae21": {
          "model_module": "@jupyter-widgets/controls",
          "model_name": "HTMLModel",
          "state": {
            "_view_name": "HTMLView",
            "style": "IPY_MODEL_3674100b50114f8b8b1872bc68862a9c",
            "_dom_classes": [],
            "description": "",
            "_model_name": "HTMLModel",
            "placeholder": "​",
            "_view_module": "@jupyter-widgets/controls",
            "_model_module_version": "1.5.0",
            "value": " 5673/5673 [02:59&lt;00:00, 31.52it/s, loss=3.18, v_num=0, val_f1_score=0.159, val_exact_matching=0.110]",
            "_view_count": null,
            "_view_module_version": "1.5.0",
            "description_tooltip": null,
            "_model_module": "@jupyter-widgets/controls",
            "layout": "IPY_MODEL_bee84f882e5340aab99c1af6ebb44a40"
          }
        },
        "eabf4d4af0ec48388937ea54f5332de1": {
          "model_module": "@jupyter-widgets/controls",
          "model_name": "ProgressStyleModel",
          "state": {
            "_view_name": "StyleView",
            "_model_name": "ProgressStyleModel",
            "description_width": "initial",
            "_view_module": "@jupyter-widgets/base",
            "_model_module_version": "1.5.0",
            "_view_count": null,
            "_view_module_version": "1.2.0",
            "bar_color": null,
            "_model_module": "@jupyter-widgets/controls"
          }
        },
        "5c7d6e6e68034965a7953435927493de": {
          "model_module": "@jupyter-widgets/base",
          "model_name": "LayoutModel",
          "state": {
            "_view_name": "LayoutView",
            "grid_template_rows": null,
            "right": null,
            "justify_content": null,
            "_view_module": "@jupyter-widgets/base",
            "overflow": null,
            "_model_module_version": "1.2.0",
            "_view_count": null,
            "flex_flow": null,
            "width": null,
            "min_width": null,
            "border": null,
            "align_items": null,
            "bottom": null,
            "_model_module": "@jupyter-widgets/base",
            "top": null,
            "grid_column": null,
            "overflow_y": null,
            "overflow_x": null,
            "grid_auto_flow": null,
            "grid_area": null,
            "grid_template_columns": null,
            "flex": "2",
            "_model_name": "LayoutModel",
            "justify_items": null,
            "grid_row": null,
            "max_height": null,
            "align_content": null,
            "visibility": null,
            "align_self": null,
            "height": null,
            "min_height": null,
            "padding": null,
            "grid_auto_rows": null,
            "grid_gap": null,
            "max_width": null,
            "order": null,
            "_view_module_version": "1.2.0",
            "grid_template_areas": null,
            "object_position": null,
            "object_fit": null,
            "grid_auto_columns": null,
            "margin": null,
            "display": null,
            "left": null
          }
        },
        "3674100b50114f8b8b1872bc68862a9c": {
          "model_module": "@jupyter-widgets/controls",
          "model_name": "DescriptionStyleModel",
          "state": {
            "_view_name": "StyleView",
            "_model_name": "DescriptionStyleModel",
            "description_width": "",
            "_view_module": "@jupyter-widgets/base",
            "_model_module_version": "1.5.0",
            "_view_count": null,
            "_view_module_version": "1.2.0",
            "_model_module": "@jupyter-widgets/controls"
          }
        },
        "bee84f882e5340aab99c1af6ebb44a40": {
          "model_module": "@jupyter-widgets/base",
          "model_name": "LayoutModel",
          "state": {
            "_view_name": "LayoutView",
            "grid_template_rows": null,
            "right": null,
            "justify_content": null,
            "_view_module": "@jupyter-widgets/base",
            "overflow": null,
            "_model_module_version": "1.2.0",
            "_view_count": null,
            "flex_flow": null,
            "width": null,
            "min_width": null,
            "border": null,
            "align_items": null,
            "bottom": null,
            "_model_module": "@jupyter-widgets/base",
            "top": null,
            "grid_column": null,
            "overflow_y": null,
            "overflow_x": null,
            "grid_auto_flow": null,
            "grid_area": null,
            "grid_template_columns": null,
            "flex": null,
            "_model_name": "LayoutModel",
            "justify_items": null,
            "grid_row": null,
            "max_height": null,
            "align_content": null,
            "visibility": null,
            "align_self": null,
            "height": null,
            "min_height": null,
            "padding": null,
            "grid_auto_rows": null,
            "grid_gap": null,
            "max_width": null,
            "order": null,
            "_view_module_version": "1.2.0",
            "grid_template_areas": null,
            "object_position": null,
            "object_fit": null,
            "grid_auto_columns": null,
            "margin": null,
            "display": null,
            "left": null
          }
        },
        "5820d4bf525e4f42b8235cc0ec2c3989": {
          "model_module": "@jupyter-widgets/controls",
          "model_name": "HBoxModel",
          "state": {
            "_view_name": "HBoxView",
            "_dom_classes": [],
            "_model_name": "HBoxModel",
            "_view_module": "@jupyter-widgets/controls",
            "_model_module_version": "1.5.0",
            "_view_count": null,
            "_view_module_version": "1.5.0",
            "box_style": "",
            "layout": "IPY_MODEL_2bd6b4970f8743b9b792a44ba50286f8",
            "_model_module": "@jupyter-widgets/controls",
            "children": [
              "IPY_MODEL_4316d52e6b2845de9894ec6f5ea68162",
              "IPY_MODEL_821e98c9d4534aca88ad9c072097a83b"
            ]
          }
        },
        "2bd6b4970f8743b9b792a44ba50286f8": {
          "model_module": "@jupyter-widgets/base",
          "model_name": "LayoutModel",
          "state": {
            "_view_name": "LayoutView",
            "grid_template_rows": null,
            "right": null,
            "justify_content": null,
            "_view_module": "@jupyter-widgets/base",
            "overflow": null,
            "_model_module_version": "1.2.0",
            "_view_count": null,
            "flex_flow": "row wrap",
            "width": "100%",
            "min_width": null,
            "border": null,
            "align_items": null,
            "bottom": null,
            "_model_module": "@jupyter-widgets/base",
            "top": null,
            "grid_column": null,
            "overflow_y": null,
            "overflow_x": null,
            "grid_auto_flow": null,
            "grid_area": null,
            "grid_template_columns": null,
            "flex": null,
            "_model_name": "LayoutModel",
            "justify_items": null,
            "grid_row": null,
            "max_height": null,
            "align_content": null,
            "visibility": null,
            "align_self": null,
            "height": null,
            "min_height": null,
            "padding": null,
            "grid_auto_rows": null,
            "grid_gap": null,
            "max_width": null,
            "order": null,
            "_view_module_version": "1.2.0",
            "grid_template_areas": null,
            "object_position": null,
            "object_fit": null,
            "grid_auto_columns": null,
            "margin": null,
            "display": "inline-flex",
            "left": null
          }
        },
        "4316d52e6b2845de9894ec6f5ea68162": {
          "model_module": "@jupyter-widgets/controls",
          "model_name": "FloatProgressModel",
          "state": {
            "_view_name": "ProgressView",
            "style": "IPY_MODEL_323d7497aeb9483bbb83be067837e5ab",
            "_dom_classes": [],
            "description": "Validating: 100%",
            "_model_name": "FloatProgressModel",
            "bar_style": "info",
            "max": 313,
            "_view_module": "@jupyter-widgets/controls",
            "_model_module_version": "1.5.0",
            "value": 313,
            "_view_count": null,
            "_view_module_version": "1.5.0",
            "orientation": "horizontal",
            "min": 0,
            "description_tooltip": null,
            "_model_module": "@jupyter-widgets/controls",
            "layout": "IPY_MODEL_f7726bad76d24429aa3ff604d8dfdc22"
          }
        },
        "821e98c9d4534aca88ad9c072097a83b": {
          "model_module": "@jupyter-widgets/controls",
          "model_name": "HTMLModel",
          "state": {
            "_view_name": "HTMLView",
            "style": "IPY_MODEL_3afca45948ff403dbc0c91b91c3d6ea8",
            "_dom_classes": [],
            "description": "",
            "_model_name": "HTMLModel",
            "placeholder": "​",
            "_view_module": "@jupyter-widgets/controls",
            "_model_module_version": "1.5.0",
            "value": " 313/313 [00:12&lt;00:00, 25.71it/s]",
            "_view_count": null,
            "_view_module_version": "1.5.0",
            "description_tooltip": null,
            "_model_module": "@jupyter-widgets/controls",
            "layout": "IPY_MODEL_7b2be7e253b54e7fb9d652848660c121"
          }
        },
        "323d7497aeb9483bbb83be067837e5ab": {
          "model_module": "@jupyter-widgets/controls",
          "model_name": "ProgressStyleModel",
          "state": {
            "_view_name": "StyleView",
            "_model_name": "ProgressStyleModel",
            "description_width": "initial",
            "_view_module": "@jupyter-widgets/base",
            "_model_module_version": "1.5.0",
            "_view_count": null,
            "_view_module_version": "1.2.0",
            "bar_color": null,
            "_model_module": "@jupyter-widgets/controls"
          }
        },
        "f7726bad76d24429aa3ff604d8dfdc22": {
          "model_module": "@jupyter-widgets/base",
          "model_name": "LayoutModel",
          "state": {
            "_view_name": "LayoutView",
            "grid_template_rows": null,
            "right": null,
            "justify_content": null,
            "_view_module": "@jupyter-widgets/base",
            "overflow": null,
            "_model_module_version": "1.2.0",
            "_view_count": null,
            "flex_flow": null,
            "width": null,
            "min_width": null,
            "border": null,
            "align_items": null,
            "bottom": null,
            "_model_module": "@jupyter-widgets/base",
            "top": null,
            "grid_column": null,
            "overflow_y": null,
            "overflow_x": null,
            "grid_auto_flow": null,
            "grid_area": null,
            "grid_template_columns": null,
            "flex": "2",
            "_model_name": "LayoutModel",
            "justify_items": null,
            "grid_row": null,
            "max_height": null,
            "align_content": null,
            "visibility": null,
            "align_self": null,
            "height": null,
            "min_height": null,
            "padding": null,
            "grid_auto_rows": null,
            "grid_gap": null,
            "max_width": null,
            "order": null,
            "_view_module_version": "1.2.0",
            "grid_template_areas": null,
            "object_position": null,
            "object_fit": null,
            "grid_auto_columns": null,
            "margin": null,
            "display": null,
            "left": null
          }
        },
        "3afca45948ff403dbc0c91b91c3d6ea8": {
          "model_module": "@jupyter-widgets/controls",
          "model_name": "DescriptionStyleModel",
          "state": {
            "_view_name": "StyleView",
            "_model_name": "DescriptionStyleModel",
            "description_width": "",
            "_view_module": "@jupyter-widgets/base",
            "_model_module_version": "1.5.0",
            "_view_count": null,
            "_view_module_version": "1.2.0",
            "_model_module": "@jupyter-widgets/controls"
          }
        },
        "7b2be7e253b54e7fb9d652848660c121": {
          "model_module": "@jupyter-widgets/base",
          "model_name": "LayoutModel",
          "state": {
            "_view_name": "LayoutView",
            "grid_template_rows": null,
            "right": null,
            "justify_content": null,
            "_view_module": "@jupyter-widgets/base",
            "overflow": null,
            "_model_module_version": "1.2.0",
            "_view_count": null,
            "flex_flow": null,
            "width": null,
            "min_width": null,
            "border": null,
            "align_items": null,
            "bottom": null,
            "_model_module": "@jupyter-widgets/base",
            "top": null,
            "grid_column": null,
            "overflow_y": null,
            "overflow_x": null,
            "grid_auto_flow": null,
            "grid_area": null,
            "grid_template_columns": null,
            "flex": null,
            "_model_name": "LayoutModel",
            "justify_items": null,
            "grid_row": null,
            "max_height": null,
            "align_content": null,
            "visibility": null,
            "align_self": null,
            "height": null,
            "min_height": null,
            "padding": null,
            "grid_auto_rows": null,
            "grid_gap": null,
            "max_width": null,
            "order": null,
            "_view_module_version": "1.2.0",
            "grid_template_areas": null,
            "object_position": null,
            "object_fit": null,
            "grid_auto_columns": null,
            "margin": null,
            "display": null,
            "left": null
          }
        },
        "dbfd0d62d8124232b6a8d1ad2d752923": {
          "model_module": "@jupyter-widgets/controls",
          "model_name": "HBoxModel",
          "state": {
            "_view_name": "HBoxView",
            "_dom_classes": [],
            "_model_name": "HBoxModel",
            "_view_module": "@jupyter-widgets/controls",
            "_model_module_version": "1.5.0",
            "_view_count": null,
            "_view_module_version": "1.5.0",
            "box_style": "",
            "layout": "IPY_MODEL_dc2e1ffd8fe2460e9f05a04eae0f870a",
            "_model_module": "@jupyter-widgets/controls",
            "children": [
              "IPY_MODEL_6603c86fe3c1485faa1a26c8f85798e7",
              "IPY_MODEL_9b99743dbe7640618aaed071eeaf77e1"
            ]
          }
        },
        "dc2e1ffd8fe2460e9f05a04eae0f870a": {
          "model_module": "@jupyter-widgets/base",
          "model_name": "LayoutModel",
          "state": {
            "_view_name": "LayoutView",
            "grid_template_rows": null,
            "right": null,
            "justify_content": null,
            "_view_module": "@jupyter-widgets/base",
            "overflow": null,
            "_model_module_version": "1.2.0",
            "_view_count": null,
            "flex_flow": "row wrap",
            "width": "100%",
            "min_width": null,
            "border": null,
            "align_items": null,
            "bottom": null,
            "_model_module": "@jupyter-widgets/base",
            "top": null,
            "grid_column": null,
            "overflow_y": null,
            "overflow_x": null,
            "grid_auto_flow": null,
            "grid_area": null,
            "grid_template_columns": null,
            "flex": null,
            "_model_name": "LayoutModel",
            "justify_items": null,
            "grid_row": null,
            "max_height": null,
            "align_content": null,
            "visibility": null,
            "align_self": null,
            "height": null,
            "min_height": null,
            "padding": null,
            "grid_auto_rows": null,
            "grid_gap": null,
            "max_width": null,
            "order": null,
            "_view_module_version": "1.2.0",
            "grid_template_areas": null,
            "object_position": null,
            "object_fit": null,
            "grid_auto_columns": null,
            "margin": null,
            "display": "inline-flex",
            "left": null
          }
        },
        "6603c86fe3c1485faa1a26c8f85798e7": {
          "model_module": "@jupyter-widgets/controls",
          "model_name": "FloatProgressModel",
          "state": {
            "_view_name": "ProgressView",
            "style": "IPY_MODEL_a9c0385a590b4776a5b864a6744aad72",
            "_dom_classes": [],
            "description": "Testing: 100%",
            "_model_name": "FloatProgressModel",
            "bar_style": "success",
            "max": 1,
            "_view_module": "@jupyter-widgets/controls",
            "_model_module_version": "1.5.0",
            "value": 1,
            "_view_count": null,
            "_view_module_version": "1.5.0",
            "orientation": "horizontal",
            "min": 0,
            "description_tooltip": null,
            "_model_module": "@jupyter-widgets/controls",
            "layout": "IPY_MODEL_6fd56c3c86644a189651209ab5d24cac"
          }
        },
        "9b99743dbe7640618aaed071eeaf77e1": {
          "model_module": "@jupyter-widgets/controls",
          "model_name": "HTMLModel",
          "state": {
            "_view_name": "HTMLView",
            "style": "IPY_MODEL_107b98e6fa5e423099009acf769fe3d6",
            "_dom_classes": [],
            "description": "",
            "_model_name": "HTMLModel",
            "placeholder": "​",
            "_view_module": "@jupyter-widgets/controls",
            "_model_module_version": "1.5.0",
            "value": " 313/313 [00:12&lt;00:00, 24.74it/s]",
            "_view_count": null,
            "_view_module_version": "1.5.0",
            "description_tooltip": null,
            "_model_module": "@jupyter-widgets/controls",
            "layout": "IPY_MODEL_855e78f36e8b4587834f06aafc767508"
          }
        },
        "a9c0385a590b4776a5b864a6744aad72": {
          "model_module": "@jupyter-widgets/controls",
          "model_name": "ProgressStyleModel",
          "state": {
            "_view_name": "StyleView",
            "_model_name": "ProgressStyleModel",
            "description_width": "initial",
            "_view_module": "@jupyter-widgets/base",
            "_model_module_version": "1.5.0",
            "_view_count": null,
            "_view_module_version": "1.2.0",
            "bar_color": null,
            "_model_module": "@jupyter-widgets/controls"
          }
        },
        "6fd56c3c86644a189651209ab5d24cac": {
          "model_module": "@jupyter-widgets/base",
          "model_name": "LayoutModel",
          "state": {
            "_view_name": "LayoutView",
            "grid_template_rows": null,
            "right": null,
            "justify_content": null,
            "_view_module": "@jupyter-widgets/base",
            "overflow": null,
            "_model_module_version": "1.2.0",
            "_view_count": null,
            "flex_flow": null,
            "width": null,
            "min_width": null,
            "border": null,
            "align_items": null,
            "bottom": null,
            "_model_module": "@jupyter-widgets/base",
            "top": null,
            "grid_column": null,
            "overflow_y": null,
            "overflow_x": null,
            "grid_auto_flow": null,
            "grid_area": null,
            "grid_template_columns": null,
            "flex": "2",
            "_model_name": "LayoutModel",
            "justify_items": null,
            "grid_row": null,
            "max_height": null,
            "align_content": null,
            "visibility": null,
            "align_self": null,
            "height": null,
            "min_height": null,
            "padding": null,
            "grid_auto_rows": null,
            "grid_gap": null,
            "max_width": null,
            "order": null,
            "_view_module_version": "1.2.0",
            "grid_template_areas": null,
            "object_position": null,
            "object_fit": null,
            "grid_auto_columns": null,
            "margin": null,
            "display": null,
            "left": null
          }
        },
        "107b98e6fa5e423099009acf769fe3d6": {
          "model_module": "@jupyter-widgets/controls",
          "model_name": "DescriptionStyleModel",
          "state": {
            "_view_name": "StyleView",
            "_model_name": "DescriptionStyleModel",
            "description_width": "",
            "_view_module": "@jupyter-widgets/base",
            "_model_module_version": "1.5.0",
            "_view_count": null,
            "_view_module_version": "1.2.0",
            "_model_module": "@jupyter-widgets/controls"
          }
        },
        "855e78f36e8b4587834f06aafc767508": {
          "model_module": "@jupyter-widgets/base",
          "model_name": "LayoutModel",
          "state": {
            "_view_name": "LayoutView",
            "grid_template_rows": null,
            "right": null,
            "justify_content": null,
            "_view_module": "@jupyter-widgets/base",
            "overflow": null,
            "_model_module_version": "1.2.0",
            "_view_count": null,
            "flex_flow": null,
            "width": null,
            "min_width": null,
            "border": null,
            "align_items": null,
            "bottom": null,
            "_model_module": "@jupyter-widgets/base",
            "top": null,
            "grid_column": null,
            "overflow_y": null,
            "overflow_x": null,
            "grid_auto_flow": null,
            "grid_area": null,
            "grid_template_columns": null,
            "flex": null,
            "_model_name": "LayoutModel",
            "justify_items": null,
            "grid_row": null,
            "max_height": null,
            "align_content": null,
            "visibility": null,
            "align_self": null,
            "height": null,
            "min_height": null,
            "padding": null,
            "grid_auto_rows": null,
            "grid_gap": null,
            "max_width": null,
            "order": null,
            "_view_module_version": "1.2.0",
            "grid_template_areas": null,
            "object_position": null,
            "object_fit": null,
            "grid_auto_columns": null,
            "margin": null,
            "display": null,
            "left": null
          }
        },
        "c65ce3cffa9a42a3abf28fbfa5dfe4da": {
          "model_module": "@jupyter-widgets/controls",
          "model_name": "HBoxModel",
          "state": {
            "_view_name": "HBoxView",
            "_dom_classes": [],
            "_model_name": "HBoxModel",
            "_view_module": "@jupyter-widgets/controls",
            "_model_module_version": "1.5.0",
            "_view_count": null,
            "_view_module_version": "1.5.0",
            "box_style": "",
            "layout": "IPY_MODEL_d668ade1e99c4a9bb1d94d8f99d87ee8",
            "_model_module": "@jupyter-widgets/controls",
            "children": [
              "IPY_MODEL_4f97a906970541e988914b58c878436b",
              "IPY_MODEL_66ecf95c0dd84e8f9cac721ef16e3e35"
            ]
          }
        },
        "d668ade1e99c4a9bb1d94d8f99d87ee8": {
          "model_module": "@jupyter-widgets/base",
          "model_name": "LayoutModel",
          "state": {
            "_view_name": "LayoutView",
            "grid_template_rows": null,
            "right": null,
            "justify_content": null,
            "_view_module": "@jupyter-widgets/base",
            "overflow": null,
            "_model_module_version": "1.2.0",
            "_view_count": null,
            "flex_flow": null,
            "width": null,
            "min_width": null,
            "border": null,
            "align_items": null,
            "bottom": null,
            "_model_module": "@jupyter-widgets/base",
            "top": null,
            "grid_column": null,
            "overflow_y": null,
            "overflow_x": null,
            "grid_auto_flow": null,
            "grid_area": null,
            "grid_template_columns": null,
            "flex": null,
            "_model_name": "LayoutModel",
            "justify_items": null,
            "grid_row": null,
            "max_height": null,
            "align_content": null,
            "visibility": null,
            "align_self": null,
            "height": null,
            "min_height": null,
            "padding": null,
            "grid_auto_rows": null,
            "grid_gap": null,
            "max_width": null,
            "order": null,
            "_view_module_version": "1.2.0",
            "grid_template_areas": null,
            "object_position": null,
            "object_fit": null,
            "grid_auto_columns": null,
            "margin": null,
            "display": null,
            "left": null
          }
        },
        "4f97a906970541e988914b58c878436b": {
          "model_module": "@jupyter-widgets/controls",
          "model_name": "FloatProgressModel",
          "state": {
            "_view_name": "ProgressView",
            "style": "IPY_MODEL_8c173b63162e410eac8ea2ed3cb8762e",
            "_dom_classes": [],
            "description": "Downloading: 100%",
            "_model_name": "FloatProgressModel",
            "bar_style": "success",
            "max": 411,
            "_view_module": "@jupyter-widgets/controls",
            "_model_module_version": "1.5.0",
            "value": 411,
            "_view_count": null,
            "_view_module_version": "1.5.0",
            "orientation": "horizontal",
            "min": 0,
            "description_tooltip": null,
            "_model_module": "@jupyter-widgets/controls",
            "layout": "IPY_MODEL_604dcab6c4cd44149b95fb5fd87e461f"
          }
        },
        "66ecf95c0dd84e8f9cac721ef16e3e35": {
          "model_module": "@jupyter-widgets/controls",
          "model_name": "HTMLModel",
          "state": {
            "_view_name": "HTMLView",
            "style": "IPY_MODEL_c822d88c9fae4860bdc522e98a6e95eb",
            "_dom_classes": [],
            "description": "",
            "_model_name": "HTMLModel",
            "placeholder": "​",
            "_view_module": "@jupyter-widgets/controls",
            "_model_module_version": "1.5.0",
            "value": " 411/411 [00:00&lt;00:00, 2.27kB/s]",
            "_view_count": null,
            "_view_module_version": "1.5.0",
            "description_tooltip": null,
            "_model_module": "@jupyter-widgets/controls",
            "layout": "IPY_MODEL_c4c686ff2f1b4f7c813e65ebbf9a6bea"
          }
        },
        "8c173b63162e410eac8ea2ed3cb8762e": {
          "model_module": "@jupyter-widgets/controls",
          "model_name": "ProgressStyleModel",
          "state": {
            "_view_name": "StyleView",
            "_model_name": "ProgressStyleModel",
            "description_width": "initial",
            "_view_module": "@jupyter-widgets/base",
            "_model_module_version": "1.5.0",
            "_view_count": null,
            "_view_module_version": "1.2.0",
            "bar_color": null,
            "_model_module": "@jupyter-widgets/controls"
          }
        },
        "604dcab6c4cd44149b95fb5fd87e461f": {
          "model_module": "@jupyter-widgets/base",
          "model_name": "LayoutModel",
          "state": {
            "_view_name": "LayoutView",
            "grid_template_rows": null,
            "right": null,
            "justify_content": null,
            "_view_module": "@jupyter-widgets/base",
            "overflow": null,
            "_model_module_version": "1.2.0",
            "_view_count": null,
            "flex_flow": null,
            "width": null,
            "min_width": null,
            "border": null,
            "align_items": null,
            "bottom": null,
            "_model_module": "@jupyter-widgets/base",
            "top": null,
            "grid_column": null,
            "overflow_y": null,
            "overflow_x": null,
            "grid_auto_flow": null,
            "grid_area": null,
            "grid_template_columns": null,
            "flex": null,
            "_model_name": "LayoutModel",
            "justify_items": null,
            "grid_row": null,
            "max_height": null,
            "align_content": null,
            "visibility": null,
            "align_self": null,
            "height": null,
            "min_height": null,
            "padding": null,
            "grid_auto_rows": null,
            "grid_gap": null,
            "max_width": null,
            "order": null,
            "_view_module_version": "1.2.0",
            "grid_template_areas": null,
            "object_position": null,
            "object_fit": null,
            "grid_auto_columns": null,
            "margin": null,
            "display": null,
            "left": null
          }
        },
        "c822d88c9fae4860bdc522e98a6e95eb": {
          "model_module": "@jupyter-widgets/controls",
          "model_name": "DescriptionStyleModel",
          "state": {
            "_view_name": "StyleView",
            "_model_name": "DescriptionStyleModel",
            "description_width": "",
            "_view_module": "@jupyter-widgets/base",
            "_model_module_version": "1.5.0",
            "_view_count": null,
            "_view_module_version": "1.2.0",
            "_model_module": "@jupyter-widgets/controls"
          }
        },
        "c4c686ff2f1b4f7c813e65ebbf9a6bea": {
          "model_module": "@jupyter-widgets/base",
          "model_name": "LayoutModel",
          "state": {
            "_view_name": "LayoutView",
            "grid_template_rows": null,
            "right": null,
            "justify_content": null,
            "_view_module": "@jupyter-widgets/base",
            "overflow": null,
            "_model_module_version": "1.2.0",
            "_view_count": null,
            "flex_flow": null,
            "width": null,
            "min_width": null,
            "border": null,
            "align_items": null,
            "bottom": null,
            "_model_module": "@jupyter-widgets/base",
            "top": null,
            "grid_column": null,
            "overflow_y": null,
            "overflow_x": null,
            "grid_auto_flow": null,
            "grid_area": null,
            "grid_template_columns": null,
            "flex": null,
            "_model_name": "LayoutModel",
            "justify_items": null,
            "grid_row": null,
            "max_height": null,
            "align_content": null,
            "visibility": null,
            "align_self": null,
            "height": null,
            "min_height": null,
            "padding": null,
            "grid_auto_rows": null,
            "grid_gap": null,
            "max_width": null,
            "order": null,
            "_view_module_version": "1.2.0",
            "grid_template_areas": null,
            "object_position": null,
            "object_fit": null,
            "grid_auto_columns": null,
            "margin": null,
            "display": null,
            "left": null
          }
        },
        "38eb88d98c00415c89c33048298ab241": {
          "model_module": "@jupyter-widgets/controls",
          "model_name": "HBoxModel",
          "state": {
            "_view_name": "HBoxView",
            "_dom_classes": [],
            "_model_name": "HBoxModel",
            "_view_module": "@jupyter-widgets/controls",
            "_model_module_version": "1.5.0",
            "_view_count": null,
            "_view_module_version": "1.5.0",
            "box_style": "",
            "layout": "IPY_MODEL_c8331009a6324c2892a7c7618c76a220",
            "_model_module": "@jupyter-widgets/controls",
            "children": [
              "IPY_MODEL_656f88dc14764f8c9dfb955289afadc0",
              "IPY_MODEL_b67b5a67bba44c278b2224f01ba40888"
            ]
          }
        },
        "c8331009a6324c2892a7c7618c76a220": {
          "model_module": "@jupyter-widgets/base",
          "model_name": "LayoutModel",
          "state": {
            "_view_name": "LayoutView",
            "grid_template_rows": null,
            "right": null,
            "justify_content": null,
            "_view_module": "@jupyter-widgets/base",
            "overflow": null,
            "_model_module_version": "1.2.0",
            "_view_count": null,
            "flex_flow": null,
            "width": null,
            "min_width": null,
            "border": null,
            "align_items": null,
            "bottom": null,
            "_model_module": "@jupyter-widgets/base",
            "top": null,
            "grid_column": null,
            "overflow_y": null,
            "overflow_x": null,
            "grid_auto_flow": null,
            "grid_area": null,
            "grid_template_columns": null,
            "flex": null,
            "_model_name": "LayoutModel",
            "justify_items": null,
            "grid_row": null,
            "max_height": null,
            "align_content": null,
            "visibility": null,
            "align_self": null,
            "height": null,
            "min_height": null,
            "padding": null,
            "grid_auto_rows": null,
            "grid_gap": null,
            "max_width": null,
            "order": null,
            "_view_module_version": "1.2.0",
            "grid_template_areas": null,
            "object_position": null,
            "object_fit": null,
            "grid_auto_columns": null,
            "margin": null,
            "display": null,
            "left": null
          }
        },
        "656f88dc14764f8c9dfb955289afadc0": {
          "model_module": "@jupyter-widgets/controls",
          "model_name": "FloatProgressModel",
          "state": {
            "_view_name": "ProgressView",
            "style": "IPY_MODEL_472358f0b3f646ac8c9be135cd096ef1",
            "_dom_classes": [],
            "description": "Downloading: 100%",
            "_model_name": "FloatProgressModel",
            "bar_style": "success",
            "max": 213450,
            "_view_module": "@jupyter-widgets/controls",
            "_model_module_version": "1.5.0",
            "value": 213450,
            "_view_count": null,
            "_view_module_version": "1.5.0",
            "orientation": "horizontal",
            "min": 0,
            "description_tooltip": null,
            "_model_module": "@jupyter-widgets/controls",
            "layout": "IPY_MODEL_c8363058de1c4df2b9ffd6db617bbe17"
          }
        },
        "b67b5a67bba44c278b2224f01ba40888": {
          "model_module": "@jupyter-widgets/controls",
          "model_name": "HTMLModel",
          "state": {
            "_view_name": "HTMLView",
            "style": "IPY_MODEL_043a61479fad4248a6cb85a6cb6b1be0",
            "_dom_classes": [],
            "description": "",
            "_model_name": "HTMLModel",
            "placeholder": "​",
            "_view_module": "@jupyter-widgets/controls",
            "_model_module_version": "1.5.0",
            "value": " 213k/213k [00:43&lt;00:00, 4.94kB/s]",
            "_view_count": null,
            "_view_module_version": "1.5.0",
            "description_tooltip": null,
            "_model_module": "@jupyter-widgets/controls",
            "layout": "IPY_MODEL_160026f1347e45f6a01e03fadb946050"
          }
        },
        "472358f0b3f646ac8c9be135cd096ef1": {
          "model_module": "@jupyter-widgets/controls",
          "model_name": "ProgressStyleModel",
          "state": {
            "_view_name": "StyleView",
            "_model_name": "ProgressStyleModel",
            "description_width": "initial",
            "_view_module": "@jupyter-widgets/base",
            "_model_module_version": "1.5.0",
            "_view_count": null,
            "_view_module_version": "1.2.0",
            "bar_color": null,
            "_model_module": "@jupyter-widgets/controls"
          }
        },
        "c8363058de1c4df2b9ffd6db617bbe17": {
          "model_module": "@jupyter-widgets/base",
          "model_name": "LayoutModel",
          "state": {
            "_view_name": "LayoutView",
            "grid_template_rows": null,
            "right": null,
            "justify_content": null,
            "_view_module": "@jupyter-widgets/base",
            "overflow": null,
            "_model_module_version": "1.2.0",
            "_view_count": null,
            "flex_flow": null,
            "width": null,
            "min_width": null,
            "border": null,
            "align_items": null,
            "bottom": null,
            "_model_module": "@jupyter-widgets/base",
            "top": null,
            "grid_column": null,
            "overflow_y": null,
            "overflow_x": null,
            "grid_auto_flow": null,
            "grid_area": null,
            "grid_template_columns": null,
            "flex": null,
            "_model_name": "LayoutModel",
            "justify_items": null,
            "grid_row": null,
            "max_height": null,
            "align_content": null,
            "visibility": null,
            "align_self": null,
            "height": null,
            "min_height": null,
            "padding": null,
            "grid_auto_rows": null,
            "grid_gap": null,
            "max_width": null,
            "order": null,
            "_view_module_version": "1.2.0",
            "grid_template_areas": null,
            "object_position": null,
            "object_fit": null,
            "grid_auto_columns": null,
            "margin": null,
            "display": null,
            "left": null
          }
        },
        "043a61479fad4248a6cb85a6cb6b1be0": {
          "model_module": "@jupyter-widgets/controls",
          "model_name": "DescriptionStyleModel",
          "state": {
            "_view_name": "StyleView",
            "_model_name": "DescriptionStyleModel",
            "description_width": "",
            "_view_module": "@jupyter-widgets/base",
            "_model_module_version": "1.5.0",
            "_view_count": null,
            "_view_module_version": "1.2.0",
            "_model_module": "@jupyter-widgets/controls"
          }
        },
        "160026f1347e45f6a01e03fadb946050": {
          "model_module": "@jupyter-widgets/base",
          "model_name": "LayoutModel",
          "state": {
            "_view_name": "LayoutView",
            "grid_template_rows": null,
            "right": null,
            "justify_content": null,
            "_view_module": "@jupyter-widgets/base",
            "overflow": null,
            "_model_module_version": "1.2.0",
            "_view_count": null,
            "flex_flow": null,
            "width": null,
            "min_width": null,
            "border": null,
            "align_items": null,
            "bottom": null,
            "_model_module": "@jupyter-widgets/base",
            "top": null,
            "grid_column": null,
            "overflow_y": null,
            "overflow_x": null,
            "grid_auto_flow": null,
            "grid_area": null,
            "grid_template_columns": null,
            "flex": null,
            "_model_name": "LayoutModel",
            "justify_items": null,
            "grid_row": null,
            "max_height": null,
            "align_content": null,
            "visibility": null,
            "align_self": null,
            "height": null,
            "min_height": null,
            "padding": null,
            "grid_auto_rows": null,
            "grid_gap": null,
            "max_width": null,
            "order": null,
            "_view_module_version": "1.2.0",
            "grid_template_areas": null,
            "object_position": null,
            "object_fit": null,
            "grid_auto_columns": null,
            "margin": null,
            "display": null,
            "left": null
          }
        },
        "224395e4f1b24831b79b8d961a9ab86d": {
          "model_module": "@jupyter-widgets/controls",
          "model_name": "HBoxModel",
          "state": {
            "_view_name": "HBoxView",
            "_dom_classes": [],
            "_model_name": "HBoxModel",
            "_view_module": "@jupyter-widgets/controls",
            "_model_module_version": "1.5.0",
            "_view_count": null,
            "_view_module_version": "1.5.0",
            "box_style": "",
            "layout": "IPY_MODEL_e7a4d2439f114f6abbb96e63aef81e16",
            "_model_module": "@jupyter-widgets/controls",
            "children": [
              "IPY_MODEL_eb90c8d954ed4596b485ef31bb81a03e",
              "IPY_MODEL_fd479e75e1a54af4895890af9b1eca38"
            ]
          }
        },
        "e7a4d2439f114f6abbb96e63aef81e16": {
          "model_module": "@jupyter-widgets/base",
          "model_name": "LayoutModel",
          "state": {
            "_view_name": "LayoutView",
            "grid_template_rows": null,
            "right": null,
            "justify_content": null,
            "_view_module": "@jupyter-widgets/base",
            "overflow": null,
            "_model_module_version": "1.2.0",
            "_view_count": null,
            "flex_flow": null,
            "width": null,
            "min_width": null,
            "border": null,
            "align_items": null,
            "bottom": null,
            "_model_module": "@jupyter-widgets/base",
            "top": null,
            "grid_column": null,
            "overflow_y": null,
            "overflow_x": null,
            "grid_auto_flow": null,
            "grid_area": null,
            "grid_template_columns": null,
            "flex": null,
            "_model_name": "LayoutModel",
            "justify_items": null,
            "grid_row": null,
            "max_height": null,
            "align_content": null,
            "visibility": null,
            "align_self": null,
            "height": null,
            "min_height": null,
            "padding": null,
            "grid_auto_rows": null,
            "grid_gap": null,
            "max_width": null,
            "order": null,
            "_view_module_version": "1.2.0",
            "grid_template_areas": null,
            "object_position": null,
            "object_fit": null,
            "grid_auto_columns": null,
            "margin": null,
            "display": null,
            "left": null
          }
        },
        "eb90c8d954ed4596b485ef31bb81a03e": {
          "model_module": "@jupyter-widgets/controls",
          "model_name": "FloatProgressModel",
          "state": {
            "_view_name": "ProgressView",
            "style": "IPY_MODEL_fea40126d2f04985989740460a7bc3ed",
            "_dom_classes": [],
            "description": "Downloading: 100%",
            "_model_name": "FloatProgressModel",
            "bar_style": "success",
            "max": 435797,
            "_view_module": "@jupyter-widgets/controls",
            "_model_module_version": "1.5.0",
            "value": 435797,
            "_view_count": null,
            "_view_module_version": "1.5.0",
            "orientation": "horizontal",
            "min": 0,
            "description_tooltip": null,
            "_model_module": "@jupyter-widgets/controls",
            "layout": "IPY_MODEL_19f4d83a02394a8184aafbd73133e70f"
          }
        },
        "fd479e75e1a54af4895890af9b1eca38": {
          "model_module": "@jupyter-widgets/controls",
          "model_name": "HTMLModel",
          "state": {
            "_view_name": "HTMLView",
            "style": "IPY_MODEL_d1e636aba38d4944b0534adbbfac832c",
            "_dom_classes": [],
            "description": "",
            "_model_name": "HTMLModel",
            "placeholder": "​",
            "_view_module": "@jupyter-widgets/controls",
            "_model_module_version": "1.5.0",
            "value": " 436k/436k [00:01&lt;00:00, 309kB/s]",
            "_view_count": null,
            "_view_module_version": "1.5.0",
            "description_tooltip": null,
            "_model_module": "@jupyter-widgets/controls",
            "layout": "IPY_MODEL_27d2bf519d634aafb3725ac85ccbd35f"
          }
        },
        "fea40126d2f04985989740460a7bc3ed": {
          "model_module": "@jupyter-widgets/controls",
          "model_name": "ProgressStyleModel",
          "state": {
            "_view_name": "StyleView",
            "_model_name": "ProgressStyleModel",
            "description_width": "initial",
            "_view_module": "@jupyter-widgets/base",
            "_model_module_version": "1.5.0",
            "_view_count": null,
            "_view_module_version": "1.2.0",
            "bar_color": null,
            "_model_module": "@jupyter-widgets/controls"
          }
        },
        "19f4d83a02394a8184aafbd73133e70f": {
          "model_module": "@jupyter-widgets/base",
          "model_name": "LayoutModel",
          "state": {
            "_view_name": "LayoutView",
            "grid_template_rows": null,
            "right": null,
            "justify_content": null,
            "_view_module": "@jupyter-widgets/base",
            "overflow": null,
            "_model_module_version": "1.2.0",
            "_view_count": null,
            "flex_flow": null,
            "width": null,
            "min_width": null,
            "border": null,
            "align_items": null,
            "bottom": null,
            "_model_module": "@jupyter-widgets/base",
            "top": null,
            "grid_column": null,
            "overflow_y": null,
            "overflow_x": null,
            "grid_auto_flow": null,
            "grid_area": null,
            "grid_template_columns": null,
            "flex": null,
            "_model_name": "LayoutModel",
            "justify_items": null,
            "grid_row": null,
            "max_height": null,
            "align_content": null,
            "visibility": null,
            "align_self": null,
            "height": null,
            "min_height": null,
            "padding": null,
            "grid_auto_rows": null,
            "grid_gap": null,
            "max_width": null,
            "order": null,
            "_view_module_version": "1.2.0",
            "grid_template_areas": null,
            "object_position": null,
            "object_fit": null,
            "grid_auto_columns": null,
            "margin": null,
            "display": null,
            "left": null
          }
        },
        "d1e636aba38d4944b0534adbbfac832c": {
          "model_module": "@jupyter-widgets/controls",
          "model_name": "DescriptionStyleModel",
          "state": {
            "_view_name": "StyleView",
            "_model_name": "DescriptionStyleModel",
            "description_width": "",
            "_view_module": "@jupyter-widgets/base",
            "_model_module_version": "1.5.0",
            "_view_count": null,
            "_view_module_version": "1.2.0",
            "_model_module": "@jupyter-widgets/controls"
          }
        },
        "27d2bf519d634aafb3725ac85ccbd35f": {
          "model_module": "@jupyter-widgets/base",
          "model_name": "LayoutModel",
          "state": {
            "_view_name": "LayoutView",
            "grid_template_rows": null,
            "right": null,
            "justify_content": null,
            "_view_module": "@jupyter-widgets/base",
            "overflow": null,
            "_model_module_version": "1.2.0",
            "_view_count": null,
            "flex_flow": null,
            "width": null,
            "min_width": null,
            "border": null,
            "align_items": null,
            "bottom": null,
            "_model_module": "@jupyter-widgets/base",
            "top": null,
            "grid_column": null,
            "overflow_y": null,
            "overflow_x": null,
            "grid_auto_flow": null,
            "grid_area": null,
            "grid_template_columns": null,
            "flex": null,
            "_model_name": "LayoutModel",
            "justify_items": null,
            "grid_row": null,
            "max_height": null,
            "align_content": null,
            "visibility": null,
            "align_self": null,
            "height": null,
            "min_height": null,
            "padding": null,
            "grid_auto_rows": null,
            "grid_gap": null,
            "max_width": null,
            "order": null,
            "_view_module_version": "1.2.0",
            "grid_template_areas": null,
            "object_position": null,
            "object_fit": null,
            "grid_auto_columns": null,
            "margin": null,
            "display": null,
            "left": null
          }
        },
        "3ec552059300477e82de037e8ca30285": {
          "model_module": "@jupyter-widgets/controls",
          "model_name": "HBoxModel",
          "state": {
            "_view_name": "HBoxView",
            "_dom_classes": [],
            "_model_name": "HBoxModel",
            "_view_module": "@jupyter-widgets/controls",
            "_model_module_version": "1.5.0",
            "_view_count": null,
            "_view_module_version": "1.5.0",
            "box_style": "",
            "layout": "IPY_MODEL_79189910b59a4247884f2eba0b3baea3",
            "_model_module": "@jupyter-widgets/controls",
            "children": [
              "IPY_MODEL_916ee14c68114328aaac0a66dae7cadb",
              "IPY_MODEL_edb9dc69de02479ea5fdd41eb0667f38"
            ]
          }
        },
        "79189910b59a4247884f2eba0b3baea3": {
          "model_module": "@jupyter-widgets/base",
          "model_name": "LayoutModel",
          "state": {
            "_view_name": "LayoutView",
            "grid_template_rows": null,
            "right": null,
            "justify_content": null,
            "_view_module": "@jupyter-widgets/base",
            "overflow": null,
            "_model_module_version": "1.2.0",
            "_view_count": null,
            "flex_flow": null,
            "width": null,
            "min_width": null,
            "border": null,
            "align_items": null,
            "bottom": null,
            "_model_module": "@jupyter-widgets/base",
            "top": null,
            "grid_column": null,
            "overflow_y": null,
            "overflow_x": null,
            "grid_auto_flow": null,
            "grid_area": null,
            "grid_template_columns": null,
            "flex": null,
            "_model_name": "LayoutModel",
            "justify_items": null,
            "grid_row": null,
            "max_height": null,
            "align_content": null,
            "visibility": null,
            "align_self": null,
            "height": null,
            "min_height": null,
            "padding": null,
            "grid_auto_rows": null,
            "grid_gap": null,
            "max_width": null,
            "order": null,
            "_view_module_version": "1.2.0",
            "grid_template_areas": null,
            "object_position": null,
            "object_fit": null,
            "grid_auto_columns": null,
            "margin": null,
            "display": null,
            "left": null
          }
        },
        "916ee14c68114328aaac0a66dae7cadb": {
          "model_module": "@jupyter-widgets/controls",
          "model_name": "FloatProgressModel",
          "state": {
            "_view_name": "ProgressView",
            "style": "IPY_MODEL_d358c1cc98474260ab380bf7c7c56d5d",
            "_dom_classes": [],
            "description": "Downloading: 100%",
            "_model_name": "FloatProgressModel",
            "bar_style": "success",
            "max": 29,
            "_view_module": "@jupyter-widgets/controls",
            "_model_module_version": "1.5.0",
            "value": 29,
            "_view_count": null,
            "_view_module_version": "1.5.0",
            "orientation": "horizontal",
            "min": 0,
            "description_tooltip": null,
            "_model_module": "@jupyter-widgets/controls",
            "layout": "IPY_MODEL_a528e7bf099a44838743bac5b88d8c07"
          }
        },
        "edb9dc69de02479ea5fdd41eb0667f38": {
          "model_module": "@jupyter-widgets/controls",
          "model_name": "HTMLModel",
          "state": {
            "_view_name": "HTMLView",
            "style": "IPY_MODEL_f0a07b4d7b0348caa4dd549c445440ba",
            "_dom_classes": [],
            "description": "",
            "_model_name": "HTMLModel",
            "placeholder": "​",
            "_view_module": "@jupyter-widgets/controls",
            "_model_module_version": "1.5.0",
            "value": " 29.0/29.0 [00:01&lt;00:00, 22.9B/s]",
            "_view_count": null,
            "_view_module_version": "1.5.0",
            "description_tooltip": null,
            "_model_module": "@jupyter-widgets/controls",
            "layout": "IPY_MODEL_22fc0964db354e3fb849986bd1b80c8f"
          }
        },
        "d358c1cc98474260ab380bf7c7c56d5d": {
          "model_module": "@jupyter-widgets/controls",
          "model_name": "ProgressStyleModel",
          "state": {
            "_view_name": "StyleView",
            "_model_name": "ProgressStyleModel",
            "description_width": "initial",
            "_view_module": "@jupyter-widgets/base",
            "_model_module_version": "1.5.0",
            "_view_count": null,
            "_view_module_version": "1.2.0",
            "bar_color": null,
            "_model_module": "@jupyter-widgets/controls"
          }
        },
        "a528e7bf099a44838743bac5b88d8c07": {
          "model_module": "@jupyter-widgets/base",
          "model_name": "LayoutModel",
          "state": {
            "_view_name": "LayoutView",
            "grid_template_rows": null,
            "right": null,
            "justify_content": null,
            "_view_module": "@jupyter-widgets/base",
            "overflow": null,
            "_model_module_version": "1.2.0",
            "_view_count": null,
            "flex_flow": null,
            "width": null,
            "min_width": null,
            "border": null,
            "align_items": null,
            "bottom": null,
            "_model_module": "@jupyter-widgets/base",
            "top": null,
            "grid_column": null,
            "overflow_y": null,
            "overflow_x": null,
            "grid_auto_flow": null,
            "grid_area": null,
            "grid_template_columns": null,
            "flex": null,
            "_model_name": "LayoutModel",
            "justify_items": null,
            "grid_row": null,
            "max_height": null,
            "align_content": null,
            "visibility": null,
            "align_self": null,
            "height": null,
            "min_height": null,
            "padding": null,
            "grid_auto_rows": null,
            "grid_gap": null,
            "max_width": null,
            "order": null,
            "_view_module_version": "1.2.0",
            "grid_template_areas": null,
            "object_position": null,
            "object_fit": null,
            "grid_auto_columns": null,
            "margin": null,
            "display": null,
            "left": null
          }
        },
        "f0a07b4d7b0348caa4dd549c445440ba": {
          "model_module": "@jupyter-widgets/controls",
          "model_name": "DescriptionStyleModel",
          "state": {
            "_view_name": "StyleView",
            "_model_name": "DescriptionStyleModel",
            "description_width": "",
            "_view_module": "@jupyter-widgets/base",
            "_model_module_version": "1.5.0",
            "_view_count": null,
            "_view_module_version": "1.2.0",
            "_model_module": "@jupyter-widgets/controls"
          }
        },
        "22fc0964db354e3fb849986bd1b80c8f": {
          "model_module": "@jupyter-widgets/base",
          "model_name": "LayoutModel",
          "state": {
            "_view_name": "LayoutView",
            "grid_template_rows": null,
            "right": null,
            "justify_content": null,
            "_view_module": "@jupyter-widgets/base",
            "overflow": null,
            "_model_module_version": "1.2.0",
            "_view_count": null,
            "flex_flow": null,
            "width": null,
            "min_width": null,
            "border": null,
            "align_items": null,
            "bottom": null,
            "_model_module": "@jupyter-widgets/base",
            "top": null,
            "grid_column": null,
            "overflow_y": null,
            "overflow_x": null,
            "grid_auto_flow": null,
            "grid_area": null,
            "grid_template_columns": null,
            "flex": null,
            "_model_name": "LayoutModel",
            "justify_items": null,
            "grid_row": null,
            "max_height": null,
            "align_content": null,
            "visibility": null,
            "align_self": null,
            "height": null,
            "min_height": null,
            "padding": null,
            "grid_auto_rows": null,
            "grid_gap": null,
            "max_width": null,
            "order": null,
            "_view_module_version": "1.2.0",
            "grid_template_areas": null,
            "object_position": null,
            "object_fit": null,
            "grid_auto_columns": null,
            "margin": null,
            "display": null,
            "left": null
          }
        },
        "542ff9831cd54cb5978d811f4ee45029": {
          "model_module": "@jupyter-widgets/controls",
          "model_name": "HBoxModel",
          "state": {
            "_view_name": "HBoxView",
            "_dom_classes": [],
            "_model_name": "HBoxModel",
            "_view_module": "@jupyter-widgets/controls",
            "_model_module_version": "1.5.0",
            "_view_count": null,
            "_view_module_version": "1.5.0",
            "box_style": "",
            "layout": "IPY_MODEL_31cac2dc35a94d49a4af71430309e021",
            "_model_module": "@jupyter-widgets/controls",
            "children": [
              "IPY_MODEL_4e23781511ec4a04ba334d8c5255af65",
              "IPY_MODEL_f916b533b8614248a118053147653e7d"
            ]
          }
        },
        "31cac2dc35a94d49a4af71430309e021": {
          "model_module": "@jupyter-widgets/base",
          "model_name": "LayoutModel",
          "state": {
            "_view_name": "LayoutView",
            "grid_template_rows": null,
            "right": null,
            "justify_content": null,
            "_view_module": "@jupyter-widgets/base",
            "overflow": null,
            "_model_module_version": "1.2.0",
            "_view_count": null,
            "flex_flow": null,
            "width": null,
            "min_width": null,
            "border": null,
            "align_items": null,
            "bottom": null,
            "_model_module": "@jupyter-widgets/base",
            "top": null,
            "grid_column": null,
            "overflow_y": null,
            "overflow_x": null,
            "grid_auto_flow": null,
            "grid_area": null,
            "grid_template_columns": null,
            "flex": null,
            "_model_name": "LayoutModel",
            "justify_items": null,
            "grid_row": null,
            "max_height": null,
            "align_content": null,
            "visibility": null,
            "align_self": null,
            "height": null,
            "min_height": null,
            "padding": null,
            "grid_auto_rows": null,
            "grid_gap": null,
            "max_width": null,
            "order": null,
            "_view_module_version": "1.2.0",
            "grid_template_areas": null,
            "object_position": null,
            "object_fit": null,
            "grid_auto_columns": null,
            "margin": null,
            "display": null,
            "left": null
          }
        },
        "4e23781511ec4a04ba334d8c5255af65": {
          "model_module": "@jupyter-widgets/controls",
          "model_name": "FloatProgressModel",
          "state": {
            "_view_name": "ProgressView",
            "style": "IPY_MODEL_f072dd49c11b48129df174fe50dc3230",
            "_dom_classes": [],
            "description": "Downloading: 100%",
            "_model_name": "FloatProgressModel",
            "bar_style": "success",
            "max": 263273408,
            "_view_module": "@jupyter-widgets/controls",
            "_model_module_version": "1.5.0",
            "value": 263273408,
            "_view_count": null,
            "_view_module_version": "1.5.0",
            "orientation": "horizontal",
            "min": 0,
            "description_tooltip": null,
            "_model_module": "@jupyter-widgets/controls",
            "layout": "IPY_MODEL_b1cd2c161e2148aa886d456756b884d5"
          }
        },
        "f916b533b8614248a118053147653e7d": {
          "model_module": "@jupyter-widgets/controls",
          "model_name": "HTMLModel",
          "state": {
            "_view_name": "HTMLView",
            "style": "IPY_MODEL_d66fa16a11d040989d66e0524475afa2",
            "_dom_classes": [],
            "description": "",
            "_model_name": "HTMLModel",
            "placeholder": "​",
            "_view_module": "@jupyter-widgets/controls",
            "_model_module_version": "1.5.0",
            "value": " 263M/263M [01:19&lt;00:00, 3.31MB/s]",
            "_view_count": null,
            "_view_module_version": "1.5.0",
            "description_tooltip": null,
            "_model_module": "@jupyter-widgets/controls",
            "layout": "IPY_MODEL_f31543873db744c19233cbd0a4ac69f7"
          }
        },
        "f072dd49c11b48129df174fe50dc3230": {
          "model_module": "@jupyter-widgets/controls",
          "model_name": "ProgressStyleModel",
          "state": {
            "_view_name": "StyleView",
            "_model_name": "ProgressStyleModel",
            "description_width": "initial",
            "_view_module": "@jupyter-widgets/base",
            "_model_module_version": "1.5.0",
            "_view_count": null,
            "_view_module_version": "1.2.0",
            "bar_color": null,
            "_model_module": "@jupyter-widgets/controls"
          }
        },
        "b1cd2c161e2148aa886d456756b884d5": {
          "model_module": "@jupyter-widgets/base",
          "model_name": "LayoutModel",
          "state": {
            "_view_name": "LayoutView",
            "grid_template_rows": null,
            "right": null,
            "justify_content": null,
            "_view_module": "@jupyter-widgets/base",
            "overflow": null,
            "_model_module_version": "1.2.0",
            "_view_count": null,
            "flex_flow": null,
            "width": null,
            "min_width": null,
            "border": null,
            "align_items": null,
            "bottom": null,
            "_model_module": "@jupyter-widgets/base",
            "top": null,
            "grid_column": null,
            "overflow_y": null,
            "overflow_x": null,
            "grid_auto_flow": null,
            "grid_area": null,
            "grid_template_columns": null,
            "flex": null,
            "_model_name": "LayoutModel",
            "justify_items": null,
            "grid_row": null,
            "max_height": null,
            "align_content": null,
            "visibility": null,
            "align_self": null,
            "height": null,
            "min_height": null,
            "padding": null,
            "grid_auto_rows": null,
            "grid_gap": null,
            "max_width": null,
            "order": null,
            "_view_module_version": "1.2.0",
            "grid_template_areas": null,
            "object_position": null,
            "object_fit": null,
            "grid_auto_columns": null,
            "margin": null,
            "display": null,
            "left": null
          }
        },
        "d66fa16a11d040989d66e0524475afa2": {
          "model_module": "@jupyter-widgets/controls",
          "model_name": "DescriptionStyleModel",
          "state": {
            "_view_name": "StyleView",
            "_model_name": "DescriptionStyleModel",
            "description_width": "",
            "_view_module": "@jupyter-widgets/base",
            "_model_module_version": "1.5.0",
            "_view_count": null,
            "_view_module_version": "1.2.0",
            "_model_module": "@jupyter-widgets/controls"
          }
        },
        "f31543873db744c19233cbd0a4ac69f7": {
          "model_module": "@jupyter-widgets/base",
          "model_name": "LayoutModel",
          "state": {
            "_view_name": "LayoutView",
            "grid_template_rows": null,
            "right": null,
            "justify_content": null,
            "_view_module": "@jupyter-widgets/base",
            "overflow": null,
            "_model_module_version": "1.2.0",
            "_view_count": null,
            "flex_flow": null,
            "width": null,
            "min_width": null,
            "border": null,
            "align_items": null,
            "bottom": null,
            "_model_module": "@jupyter-widgets/base",
            "top": null,
            "grid_column": null,
            "overflow_y": null,
            "overflow_x": null,
            "grid_auto_flow": null,
            "grid_area": null,
            "grid_template_columns": null,
            "flex": null,
            "_model_name": "LayoutModel",
            "justify_items": null,
            "grid_row": null,
            "max_height": null,
            "align_content": null,
            "visibility": null,
            "align_self": null,
            "height": null,
            "min_height": null,
            "padding": null,
            "grid_auto_rows": null,
            "grid_gap": null,
            "max_width": null,
            "order": null,
            "_view_module_version": "1.2.0",
            "grid_template_areas": null,
            "object_position": null,
            "object_fit": null,
            "grid_auto_columns": null,
            "margin": null,
            "display": null,
            "left": null
          }
        },
        "4b60c44453e248d081cc879822536c65": {
          "model_module": "@jupyter-widgets/controls",
          "model_name": "HBoxModel",
          "state": {
            "_view_name": "HBoxView",
            "_dom_classes": [],
            "_model_name": "HBoxModel",
            "_view_module": "@jupyter-widgets/controls",
            "_model_module_version": "1.5.0",
            "_view_count": null,
            "_view_module_version": "1.5.0",
            "box_style": "",
            "layout": "IPY_MODEL_e239f8e128664b0ca5af43d555a1361f",
            "_model_module": "@jupyter-widgets/controls",
            "children": [
              "IPY_MODEL_bdf9d05952ec4ba4b14ed817dd8ae707",
              "IPY_MODEL_6c29e5e3131c41fea53d9cce9d7d6c43"
            ]
          }
        },
        "e239f8e128664b0ca5af43d555a1361f": {
          "model_module": "@jupyter-widgets/base",
          "model_name": "LayoutModel",
          "state": {
            "_view_name": "LayoutView",
            "grid_template_rows": null,
            "right": null,
            "justify_content": null,
            "_view_module": "@jupyter-widgets/base",
            "overflow": null,
            "_model_module_version": "1.2.0",
            "_view_count": null,
            "flex_flow": null,
            "width": null,
            "min_width": null,
            "border": null,
            "align_items": null,
            "bottom": null,
            "_model_module": "@jupyter-widgets/base",
            "top": null,
            "grid_column": null,
            "overflow_y": null,
            "overflow_x": null,
            "grid_auto_flow": null,
            "grid_area": null,
            "grid_template_columns": null,
            "flex": null,
            "_model_name": "LayoutModel",
            "justify_items": null,
            "grid_row": null,
            "max_height": null,
            "align_content": null,
            "visibility": null,
            "align_self": null,
            "height": null,
            "min_height": null,
            "padding": null,
            "grid_auto_rows": null,
            "grid_gap": null,
            "max_width": null,
            "order": null,
            "_view_module_version": "1.2.0",
            "grid_template_areas": null,
            "object_position": null,
            "object_fit": null,
            "grid_auto_columns": null,
            "margin": null,
            "display": null,
            "left": null
          }
        },
        "bdf9d05952ec4ba4b14ed817dd8ae707": {
          "model_module": "@jupyter-widgets/controls",
          "model_name": "FloatProgressModel",
          "state": {
            "_view_name": "ProgressView",
            "style": "IPY_MODEL_8db2ffc63a47406c85d4a4ca438a19ae",
            "_dom_classes": [],
            "description": "Finding best initial lr: 100%",
            "_model_name": "FloatProgressModel",
            "bar_style": "",
            "max": 100,
            "_view_module": "@jupyter-widgets/controls",
            "_model_module_version": "1.5.0",
            "value": 100,
            "_view_count": null,
            "_view_module_version": "1.5.0",
            "orientation": "horizontal",
            "min": 0,
            "description_tooltip": null,
            "_model_module": "@jupyter-widgets/controls",
            "layout": "IPY_MODEL_80f7e1f18c4d43f789025ba569f9e4ac"
          }
        },
        "6c29e5e3131c41fea53d9cce9d7d6c43": {
          "model_module": "@jupyter-widgets/controls",
          "model_name": "HTMLModel",
          "state": {
            "_view_name": "HTMLView",
            "style": "IPY_MODEL_94eb147b563748039c7d930ec49ecafd",
            "_dom_classes": [],
            "description": "",
            "_model_name": "HTMLModel",
            "placeholder": "​",
            "_view_module": "@jupyter-widgets/controls",
            "_model_module_version": "1.5.0",
            "value": " 100/100 [01:20&lt;00:00,  1.18it/s]",
            "_view_count": null,
            "_view_module_version": "1.5.0",
            "description_tooltip": null,
            "_model_module": "@jupyter-widgets/controls",
            "layout": "IPY_MODEL_9d6c63770a1d44f4bd4fe5a95163212e"
          }
        },
        "8db2ffc63a47406c85d4a4ca438a19ae": {
          "model_module": "@jupyter-widgets/controls",
          "model_name": "ProgressStyleModel",
          "state": {
            "_view_name": "StyleView",
            "_model_name": "ProgressStyleModel",
            "description_width": "initial",
            "_view_module": "@jupyter-widgets/base",
            "_model_module_version": "1.5.0",
            "_view_count": null,
            "_view_module_version": "1.2.0",
            "bar_color": null,
            "_model_module": "@jupyter-widgets/controls"
          }
        },
        "80f7e1f18c4d43f789025ba569f9e4ac": {
          "model_module": "@jupyter-widgets/base",
          "model_name": "LayoutModel",
          "state": {
            "_view_name": "LayoutView",
            "grid_template_rows": null,
            "right": null,
            "justify_content": null,
            "_view_module": "@jupyter-widgets/base",
            "overflow": null,
            "_model_module_version": "1.2.0",
            "_view_count": null,
            "flex_flow": null,
            "width": null,
            "min_width": null,
            "border": null,
            "align_items": null,
            "bottom": null,
            "_model_module": "@jupyter-widgets/base",
            "top": null,
            "grid_column": null,
            "overflow_y": null,
            "overflow_x": null,
            "grid_auto_flow": null,
            "grid_area": null,
            "grid_template_columns": null,
            "flex": null,
            "_model_name": "LayoutModel",
            "justify_items": null,
            "grid_row": null,
            "max_height": null,
            "align_content": null,
            "visibility": null,
            "align_self": null,
            "height": null,
            "min_height": null,
            "padding": null,
            "grid_auto_rows": null,
            "grid_gap": null,
            "max_width": null,
            "order": null,
            "_view_module_version": "1.2.0",
            "grid_template_areas": null,
            "object_position": null,
            "object_fit": null,
            "grid_auto_columns": null,
            "margin": null,
            "display": null,
            "left": null
          }
        },
        "94eb147b563748039c7d930ec49ecafd": {
          "model_module": "@jupyter-widgets/controls",
          "model_name": "DescriptionStyleModel",
          "state": {
            "_view_name": "StyleView",
            "_model_name": "DescriptionStyleModel",
            "description_width": "",
            "_view_module": "@jupyter-widgets/base",
            "_model_module_version": "1.5.0",
            "_view_count": null,
            "_view_module_version": "1.2.0",
            "_model_module": "@jupyter-widgets/controls"
          }
        },
        "9d6c63770a1d44f4bd4fe5a95163212e": {
          "model_module": "@jupyter-widgets/base",
          "model_name": "LayoutModel",
          "state": {
            "_view_name": "LayoutView",
            "grid_template_rows": null,
            "right": null,
            "justify_content": null,
            "_view_module": "@jupyter-widgets/base",
            "overflow": null,
            "_model_module_version": "1.2.0",
            "_view_count": null,
            "flex_flow": null,
            "width": null,
            "min_width": null,
            "border": null,
            "align_items": null,
            "bottom": null,
            "_model_module": "@jupyter-widgets/base",
            "top": null,
            "grid_column": null,
            "overflow_y": null,
            "overflow_x": null,
            "grid_auto_flow": null,
            "grid_area": null,
            "grid_template_columns": null,
            "flex": null,
            "_model_name": "LayoutModel",
            "justify_items": null,
            "grid_row": null,
            "max_height": null,
            "align_content": null,
            "visibility": null,
            "align_self": null,
            "height": null,
            "min_height": null,
            "padding": null,
            "grid_auto_rows": null,
            "grid_gap": null,
            "max_width": null,
            "order": null,
            "_view_module_version": "1.2.0",
            "grid_template_areas": null,
            "object_position": null,
            "object_fit": null,
            "grid_auto_columns": null,
            "margin": null,
            "display": null,
            "left": null
          }
        },
        "6148cd2cc19a44e9aec2d143f8cae6c4": {
          "model_module": "@jupyter-widgets/controls",
          "model_name": "HBoxModel",
          "state": {
            "_view_name": "HBoxView",
            "_dom_classes": [],
            "_model_name": "HBoxModel",
            "_view_module": "@jupyter-widgets/controls",
            "_model_module_version": "1.5.0",
            "_view_count": null,
            "_view_module_version": "1.5.0",
            "box_style": "",
            "layout": "IPY_MODEL_528f6f33a8304060889bb1a8bac6e19e",
            "_model_module": "@jupyter-widgets/controls",
            "children": [
              "IPY_MODEL_e13110dbb8014ca989d2641a375c8ca2",
              "IPY_MODEL_a070e19e34a0427b94b53ba7b359a350"
            ]
          }
        },
        "528f6f33a8304060889bb1a8bac6e19e": {
          "model_module": "@jupyter-widgets/base",
          "model_name": "LayoutModel",
          "state": {
            "_view_name": "LayoutView",
            "grid_template_rows": null,
            "right": null,
            "justify_content": null,
            "_view_module": "@jupyter-widgets/base",
            "overflow": null,
            "_model_module_version": "1.2.0",
            "_view_count": null,
            "flex_flow": null,
            "width": null,
            "min_width": null,
            "border": null,
            "align_items": null,
            "bottom": null,
            "_model_module": "@jupyter-widgets/base",
            "top": null,
            "grid_column": null,
            "overflow_y": null,
            "overflow_x": null,
            "grid_auto_flow": null,
            "grid_area": null,
            "grid_template_columns": null,
            "flex": null,
            "_model_name": "LayoutModel",
            "justify_items": null,
            "grid_row": null,
            "max_height": null,
            "align_content": null,
            "visibility": null,
            "align_self": null,
            "height": null,
            "min_height": null,
            "padding": null,
            "grid_auto_rows": null,
            "grid_gap": null,
            "max_width": null,
            "order": null,
            "_view_module_version": "1.2.0",
            "grid_template_areas": null,
            "object_position": null,
            "object_fit": null,
            "grid_auto_columns": null,
            "margin": null,
            "display": null,
            "left": null
          }
        },
        "e13110dbb8014ca989d2641a375c8ca2": {
          "model_module": "@jupyter-widgets/controls",
          "model_name": "FloatProgressModel",
          "state": {
            "_view_name": "ProgressView",
            "style": "IPY_MODEL_221006a999bb408b812a7dbea0b806e9",
            "_dom_classes": [],
            "description": "Downloading: ",
            "_model_name": "FloatProgressModel",
            "bar_style": "success",
            "max": 1771,
            "_view_module": "@jupyter-widgets/controls",
            "_model_module_version": "1.5.0",
            "value": 1771,
            "_view_count": null,
            "_view_module_version": "1.5.0",
            "orientation": "horizontal",
            "min": 0,
            "description_tooltip": null,
            "_model_module": "@jupyter-widgets/controls",
            "layout": "IPY_MODEL_7de603f63bc049968569adbe4d428665"
          }
        },
        "a070e19e34a0427b94b53ba7b359a350": {
          "model_module": "@jupyter-widgets/controls",
          "model_name": "HTMLModel",
          "state": {
            "_view_name": "HTMLView",
            "style": "IPY_MODEL_613c082a0d4e4df1a67b9284b6d26181",
            "_dom_classes": [],
            "description": "",
            "_model_name": "HTMLModel",
            "placeholder": "​",
            "_view_module": "@jupyter-widgets/controls",
            "_model_module_version": "1.5.0",
            "value": " 5.00k/? [00:00&lt;00:00, 19.8kB/s]",
            "_view_count": null,
            "_view_module_version": "1.5.0",
            "description_tooltip": null,
            "_model_module": "@jupyter-widgets/controls",
            "layout": "IPY_MODEL_7f5674cf72ed48fbb1125a29c156e9c9"
          }
        },
        "221006a999bb408b812a7dbea0b806e9": {
          "model_module": "@jupyter-widgets/controls",
          "model_name": "ProgressStyleModel",
          "state": {
            "_view_name": "StyleView",
            "_model_name": "ProgressStyleModel",
            "description_width": "initial",
            "_view_module": "@jupyter-widgets/base",
            "_model_module_version": "1.5.0",
            "_view_count": null,
            "_view_module_version": "1.2.0",
            "bar_color": null,
            "_model_module": "@jupyter-widgets/controls"
          }
        },
        "7de603f63bc049968569adbe4d428665": {
          "model_module": "@jupyter-widgets/base",
          "model_name": "LayoutModel",
          "state": {
            "_view_name": "LayoutView",
            "grid_template_rows": null,
            "right": null,
            "justify_content": null,
            "_view_module": "@jupyter-widgets/base",
            "overflow": null,
            "_model_module_version": "1.2.0",
            "_view_count": null,
            "flex_flow": null,
            "width": null,
            "min_width": null,
            "border": null,
            "align_items": null,
            "bottom": null,
            "_model_module": "@jupyter-widgets/base",
            "top": null,
            "grid_column": null,
            "overflow_y": null,
            "overflow_x": null,
            "grid_auto_flow": null,
            "grid_area": null,
            "grid_template_columns": null,
            "flex": null,
            "_model_name": "LayoutModel",
            "justify_items": null,
            "grid_row": null,
            "max_height": null,
            "align_content": null,
            "visibility": null,
            "align_self": null,
            "height": null,
            "min_height": null,
            "padding": null,
            "grid_auto_rows": null,
            "grid_gap": null,
            "max_width": null,
            "order": null,
            "_view_module_version": "1.2.0",
            "grid_template_areas": null,
            "object_position": null,
            "object_fit": null,
            "grid_auto_columns": null,
            "margin": null,
            "display": null,
            "left": null
          }
        },
        "613c082a0d4e4df1a67b9284b6d26181": {
          "model_module": "@jupyter-widgets/controls",
          "model_name": "DescriptionStyleModel",
          "state": {
            "_view_name": "StyleView",
            "_model_name": "DescriptionStyleModel",
            "description_width": "",
            "_view_module": "@jupyter-widgets/base",
            "_model_module_version": "1.5.0",
            "_view_count": null,
            "_view_module_version": "1.2.0",
            "_model_module": "@jupyter-widgets/controls"
          }
        },
        "7f5674cf72ed48fbb1125a29c156e9c9": {
          "model_module": "@jupyter-widgets/base",
          "model_name": "LayoutModel",
          "state": {
            "_view_name": "LayoutView",
            "grid_template_rows": null,
            "right": null,
            "justify_content": null,
            "_view_module": "@jupyter-widgets/base",
            "overflow": null,
            "_model_module_version": "1.2.0",
            "_view_count": null,
            "flex_flow": null,
            "width": null,
            "min_width": null,
            "border": null,
            "align_items": null,
            "bottom": null,
            "_model_module": "@jupyter-widgets/base",
            "top": null,
            "grid_column": null,
            "overflow_y": null,
            "overflow_x": null,
            "grid_auto_flow": null,
            "grid_area": null,
            "grid_template_columns": null,
            "flex": null,
            "_model_name": "LayoutModel",
            "justify_items": null,
            "grid_row": null,
            "max_height": null,
            "align_content": null,
            "visibility": null,
            "align_self": null,
            "height": null,
            "min_height": null,
            "padding": null,
            "grid_auto_rows": null,
            "grid_gap": null,
            "max_width": null,
            "order": null,
            "_view_module_version": "1.2.0",
            "grid_template_areas": null,
            "object_position": null,
            "object_fit": null,
            "grid_auto_columns": null,
            "margin": null,
            "display": null,
            "left": null
          }
        },
        "aa069e2b34994d70a5ddfde2f0e7ffdc": {
          "model_module": "@jupyter-widgets/controls",
          "model_name": "HBoxModel",
          "state": {
            "_view_name": "HBoxView",
            "_dom_classes": [],
            "_model_name": "HBoxModel",
            "_view_module": "@jupyter-widgets/controls",
            "_model_module_version": "1.5.0",
            "_view_count": null,
            "_view_module_version": "1.5.0",
            "box_style": "",
            "layout": "IPY_MODEL_a446ed8fef194ae0bcc0fbff049dab16",
            "_model_module": "@jupyter-widgets/controls",
            "children": [
              "IPY_MODEL_53a73da2524a401fb89ebb67609bddcf",
              "IPY_MODEL_4326369668274840932be1818950f0c2"
            ]
          }
        },
        "a446ed8fef194ae0bcc0fbff049dab16": {
          "model_module": "@jupyter-widgets/base",
          "model_name": "LayoutModel",
          "state": {
            "_view_name": "LayoutView",
            "grid_template_rows": null,
            "right": null,
            "justify_content": null,
            "_view_module": "@jupyter-widgets/base",
            "overflow": null,
            "_model_module_version": "1.2.0",
            "_view_count": null,
            "flex_flow": null,
            "width": null,
            "min_width": null,
            "border": null,
            "align_items": null,
            "bottom": null,
            "_model_module": "@jupyter-widgets/base",
            "top": null,
            "grid_column": null,
            "overflow_y": null,
            "overflow_x": null,
            "grid_auto_flow": null,
            "grid_area": null,
            "grid_template_columns": null,
            "flex": null,
            "_model_name": "LayoutModel",
            "justify_items": null,
            "grid_row": null,
            "max_height": null,
            "align_content": null,
            "visibility": null,
            "align_self": null,
            "height": null,
            "min_height": null,
            "padding": null,
            "grid_auto_rows": null,
            "grid_gap": null,
            "max_width": null,
            "order": null,
            "_view_module_version": "1.2.0",
            "grid_template_areas": null,
            "object_position": null,
            "object_fit": null,
            "grid_auto_columns": null,
            "margin": null,
            "display": null,
            "left": null
          }
        },
        "53a73da2524a401fb89ebb67609bddcf": {
          "model_module": "@jupyter-widgets/controls",
          "model_name": "FloatProgressModel",
          "state": {
            "_view_name": "ProgressView",
            "style": "IPY_MODEL_2451918683b34a079c2b4338777d1fb4",
            "_dom_classes": [],
            "description": "Downloading: ",
            "_model_name": "FloatProgressModel",
            "bar_style": "success",
            "max": 963,
            "_view_module": "@jupyter-widgets/controls",
            "_model_module_version": "1.5.0",
            "value": 963,
            "_view_count": null,
            "_view_module_version": "1.5.0",
            "orientation": "horizontal",
            "min": 0,
            "description_tooltip": null,
            "_model_module": "@jupyter-widgets/controls",
            "layout": "IPY_MODEL_9657df83fa5143238fe184eadc64f95d"
          }
        },
        "4326369668274840932be1818950f0c2": {
          "model_module": "@jupyter-widgets/controls",
          "model_name": "HTMLModel",
          "state": {
            "_view_name": "HTMLView",
            "style": "IPY_MODEL_a2dca0674872470c93d8f47abe498eb7",
            "_dom_classes": [],
            "description": "",
            "_model_name": "HTMLModel",
            "placeholder": "​",
            "_view_module": "@jupyter-widgets/controls",
            "_model_module_version": "1.5.0",
            "value": " 2.23k/? [00:00&lt;00:00, 37.4kB/s]",
            "_view_count": null,
            "_view_module_version": "1.5.0",
            "description_tooltip": null,
            "_model_module": "@jupyter-widgets/controls",
            "layout": "IPY_MODEL_937d902ff8834718a0e623059847e573"
          }
        },
        "2451918683b34a079c2b4338777d1fb4": {
          "model_module": "@jupyter-widgets/controls",
          "model_name": "ProgressStyleModel",
          "state": {
            "_view_name": "StyleView",
            "_model_name": "ProgressStyleModel",
            "description_width": "initial",
            "_view_module": "@jupyter-widgets/base",
            "_model_module_version": "1.5.0",
            "_view_count": null,
            "_view_module_version": "1.2.0",
            "bar_color": null,
            "_model_module": "@jupyter-widgets/controls"
          }
        },
        "9657df83fa5143238fe184eadc64f95d": {
          "model_module": "@jupyter-widgets/base",
          "model_name": "LayoutModel",
          "state": {
            "_view_name": "LayoutView",
            "grid_template_rows": null,
            "right": null,
            "justify_content": null,
            "_view_module": "@jupyter-widgets/base",
            "overflow": null,
            "_model_module_version": "1.2.0",
            "_view_count": null,
            "flex_flow": null,
            "width": null,
            "min_width": null,
            "border": null,
            "align_items": null,
            "bottom": null,
            "_model_module": "@jupyter-widgets/base",
            "top": null,
            "grid_column": null,
            "overflow_y": null,
            "overflow_x": null,
            "grid_auto_flow": null,
            "grid_area": null,
            "grid_template_columns": null,
            "flex": null,
            "_model_name": "LayoutModel",
            "justify_items": null,
            "grid_row": null,
            "max_height": null,
            "align_content": null,
            "visibility": null,
            "align_self": null,
            "height": null,
            "min_height": null,
            "padding": null,
            "grid_auto_rows": null,
            "grid_gap": null,
            "max_width": null,
            "order": null,
            "_view_module_version": "1.2.0",
            "grid_template_areas": null,
            "object_position": null,
            "object_fit": null,
            "grid_auto_columns": null,
            "margin": null,
            "display": null,
            "left": null
          }
        },
        "a2dca0674872470c93d8f47abe498eb7": {
          "model_module": "@jupyter-widgets/controls",
          "model_name": "DescriptionStyleModel",
          "state": {
            "_view_name": "StyleView",
            "_model_name": "DescriptionStyleModel",
            "description_width": "",
            "_view_module": "@jupyter-widgets/base",
            "_model_module_version": "1.5.0",
            "_view_count": null,
            "_view_module_version": "1.2.0",
            "_model_module": "@jupyter-widgets/controls"
          }
        },
        "937d902ff8834718a0e623059847e573": {
          "model_module": "@jupyter-widgets/base",
          "model_name": "LayoutModel",
          "state": {
            "_view_name": "LayoutView",
            "grid_template_rows": null,
            "right": null,
            "justify_content": null,
            "_view_module": "@jupyter-widgets/base",
            "overflow": null,
            "_model_module_version": "1.2.0",
            "_view_count": null,
            "flex_flow": null,
            "width": null,
            "min_width": null,
            "border": null,
            "align_items": null,
            "bottom": null,
            "_model_module": "@jupyter-widgets/base",
            "top": null,
            "grid_column": null,
            "overflow_y": null,
            "overflow_x": null,
            "grid_auto_flow": null,
            "grid_area": null,
            "grid_template_columns": null,
            "flex": null,
            "_model_name": "LayoutModel",
            "justify_items": null,
            "grid_row": null,
            "max_height": null,
            "align_content": null,
            "visibility": null,
            "align_self": null,
            "height": null,
            "min_height": null,
            "padding": null,
            "grid_auto_rows": null,
            "grid_gap": null,
            "max_width": null,
            "order": null,
            "_view_module_version": "1.2.0",
            "grid_template_areas": null,
            "object_position": null,
            "object_fit": null,
            "grid_auto_columns": null,
            "margin": null,
            "display": null,
            "left": null
          }
        },
        "50101533ff8a40569abdde35bd8703c5": {
          "model_module": "@jupyter-widgets/controls",
          "model_name": "HBoxModel",
          "state": {
            "_view_name": "HBoxView",
            "_dom_classes": [],
            "_model_name": "HBoxModel",
            "_view_module": "@jupyter-widgets/controls",
            "_model_module_version": "1.5.0",
            "_view_count": null,
            "_view_module_version": "1.5.0",
            "box_style": "",
            "layout": "IPY_MODEL_683193102371416cac251e73999bfb5e",
            "_model_module": "@jupyter-widgets/controls",
            "children": [
              "IPY_MODEL_22110ef68a5c4f9d947c244cbe9a7907",
              "IPY_MODEL_a6697693ce4d4c57b05a97e70daf78d5"
            ]
          }
        },
        "683193102371416cac251e73999bfb5e": {
          "model_module": "@jupyter-widgets/base",
          "model_name": "LayoutModel",
          "state": {
            "_view_name": "LayoutView",
            "grid_template_rows": null,
            "right": null,
            "justify_content": null,
            "_view_module": "@jupyter-widgets/base",
            "overflow": null,
            "_model_module_version": "1.2.0",
            "_view_count": null,
            "flex_flow": null,
            "width": null,
            "min_width": null,
            "border": null,
            "align_items": null,
            "bottom": null,
            "_model_module": "@jupyter-widgets/base",
            "top": null,
            "grid_column": null,
            "overflow_y": null,
            "overflow_x": null,
            "grid_auto_flow": null,
            "grid_area": null,
            "grid_template_columns": null,
            "flex": null,
            "_model_name": "LayoutModel",
            "justify_items": null,
            "grid_row": null,
            "max_height": null,
            "align_content": null,
            "visibility": null,
            "align_self": null,
            "height": null,
            "min_height": null,
            "padding": null,
            "grid_auto_rows": null,
            "grid_gap": null,
            "max_width": null,
            "order": null,
            "_view_module_version": "1.2.0",
            "grid_template_areas": null,
            "object_position": null,
            "object_fit": null,
            "grid_auto_columns": null,
            "margin": null,
            "display": null,
            "left": null
          }
        },
        "22110ef68a5c4f9d947c244cbe9a7907": {
          "model_module": "@jupyter-widgets/controls",
          "model_name": "FloatProgressModel",
          "state": {
            "_view_name": "ProgressView",
            "style": "IPY_MODEL_205bebe64f9c404d9d77b315d505762b",
            "_dom_classes": [],
            "description": "Downloading: ",
            "_model_name": "FloatProgressModel",
            "bar_style": "success",
            "max": 9551051,
            "_view_module": "@jupyter-widgets/controls",
            "_model_module_version": "1.5.0",
            "value": 9551051,
            "_view_count": null,
            "_view_module_version": "1.5.0",
            "orientation": "horizontal",
            "min": 0,
            "description_tooltip": null,
            "_model_module": "@jupyter-widgets/controls",
            "layout": "IPY_MODEL_13503b7fcf3c477b8232094602e6952a"
          }
        },
        "a6697693ce4d4c57b05a97e70daf78d5": {
          "model_module": "@jupyter-widgets/controls",
          "model_name": "HTMLModel",
          "state": {
            "_view_name": "HTMLView",
            "style": "IPY_MODEL_0085fcc54b4d4bd2bf3da94da211e38b",
            "_dom_classes": [],
            "description": "",
            "_model_name": "HTMLModel",
            "placeholder": "​",
            "_view_module": "@jupyter-widgets/controls",
            "_model_module_version": "1.5.0",
            "value": " 42.1M/? [00:01&lt;00:00, 38.8MB/s]",
            "_view_count": null,
            "_view_module_version": "1.5.0",
            "description_tooltip": null,
            "_model_module": "@jupyter-widgets/controls",
            "layout": "IPY_MODEL_61154da358a8448d8fa7cd5abaf74a9f"
          }
        },
        "205bebe64f9c404d9d77b315d505762b": {
          "model_module": "@jupyter-widgets/controls",
          "model_name": "ProgressStyleModel",
          "state": {
            "_view_name": "StyleView",
            "_model_name": "ProgressStyleModel",
            "description_width": "initial",
            "_view_module": "@jupyter-widgets/base",
            "_model_module_version": "1.5.0",
            "_view_count": null,
            "_view_module_version": "1.2.0",
            "bar_color": null,
            "_model_module": "@jupyter-widgets/controls"
          }
        },
        "13503b7fcf3c477b8232094602e6952a": {
          "model_module": "@jupyter-widgets/base",
          "model_name": "LayoutModel",
          "state": {
            "_view_name": "LayoutView",
            "grid_template_rows": null,
            "right": null,
            "justify_content": null,
            "_view_module": "@jupyter-widgets/base",
            "overflow": null,
            "_model_module_version": "1.2.0",
            "_view_count": null,
            "flex_flow": null,
            "width": null,
            "min_width": null,
            "border": null,
            "align_items": null,
            "bottom": null,
            "_model_module": "@jupyter-widgets/base",
            "top": null,
            "grid_column": null,
            "overflow_y": null,
            "overflow_x": null,
            "grid_auto_flow": null,
            "grid_area": null,
            "grid_template_columns": null,
            "flex": null,
            "_model_name": "LayoutModel",
            "justify_items": null,
            "grid_row": null,
            "max_height": null,
            "align_content": null,
            "visibility": null,
            "align_self": null,
            "height": null,
            "min_height": null,
            "padding": null,
            "grid_auto_rows": null,
            "grid_gap": null,
            "max_width": null,
            "order": null,
            "_view_module_version": "1.2.0",
            "grid_template_areas": null,
            "object_position": null,
            "object_fit": null,
            "grid_auto_columns": null,
            "margin": null,
            "display": null,
            "left": null
          }
        },
        "0085fcc54b4d4bd2bf3da94da211e38b": {
          "model_module": "@jupyter-widgets/controls",
          "model_name": "DescriptionStyleModel",
          "state": {
            "_view_name": "StyleView",
            "_model_name": "DescriptionStyleModel",
            "description_width": "",
            "_view_module": "@jupyter-widgets/base",
            "_model_module_version": "1.5.0",
            "_view_count": null,
            "_view_module_version": "1.2.0",
            "_model_module": "@jupyter-widgets/controls"
          }
        },
        "61154da358a8448d8fa7cd5abaf74a9f": {
          "model_module": "@jupyter-widgets/base",
          "model_name": "LayoutModel",
          "state": {
            "_view_name": "LayoutView",
            "grid_template_rows": null,
            "right": null,
            "justify_content": null,
            "_view_module": "@jupyter-widgets/base",
            "overflow": null,
            "_model_module_version": "1.2.0",
            "_view_count": null,
            "flex_flow": null,
            "width": null,
            "min_width": null,
            "border": null,
            "align_items": null,
            "bottom": null,
            "_model_module": "@jupyter-widgets/base",
            "top": null,
            "grid_column": null,
            "overflow_y": null,
            "overflow_x": null,
            "grid_auto_flow": null,
            "grid_area": null,
            "grid_template_columns": null,
            "flex": null,
            "_model_name": "LayoutModel",
            "justify_items": null,
            "grid_row": null,
            "max_height": null,
            "align_content": null,
            "visibility": null,
            "align_self": null,
            "height": null,
            "min_height": null,
            "padding": null,
            "grid_auto_rows": null,
            "grid_gap": null,
            "max_width": null,
            "order": null,
            "_view_module_version": "1.2.0",
            "grid_template_areas": null,
            "object_position": null,
            "object_fit": null,
            "grid_auto_columns": null,
            "margin": null,
            "display": null,
            "left": null
          }
        },
        "27a1a7dabcfc4a11a65f58583acf4c01": {
          "model_module": "@jupyter-widgets/controls",
          "model_name": "HBoxModel",
          "state": {
            "_view_name": "HBoxView",
            "_dom_classes": [],
            "_model_name": "HBoxModel",
            "_view_module": "@jupyter-widgets/controls",
            "_model_module_version": "1.5.0",
            "_view_count": null,
            "_view_module_version": "1.5.0",
            "box_style": "",
            "layout": "IPY_MODEL_6971ba63571c4330a6a8d01cc942cf31",
            "_model_module": "@jupyter-widgets/controls",
            "children": [
              "IPY_MODEL_7bb27e6743b246d988d32a43a65be8a8",
              "IPY_MODEL_beba893159464d769d2dfb19b72b321d"
            ]
          }
        },
        "6971ba63571c4330a6a8d01cc942cf31": {
          "model_module": "@jupyter-widgets/base",
          "model_name": "LayoutModel",
          "state": {
            "_view_name": "LayoutView",
            "grid_template_rows": null,
            "right": null,
            "justify_content": null,
            "_view_module": "@jupyter-widgets/base",
            "overflow": null,
            "_model_module_version": "1.2.0",
            "_view_count": null,
            "flex_flow": null,
            "width": null,
            "min_width": null,
            "border": null,
            "align_items": null,
            "bottom": null,
            "_model_module": "@jupyter-widgets/base",
            "top": null,
            "grid_column": null,
            "overflow_y": null,
            "overflow_x": null,
            "grid_auto_flow": null,
            "grid_area": null,
            "grid_template_columns": null,
            "flex": null,
            "_model_name": "LayoutModel",
            "justify_items": null,
            "grid_row": null,
            "max_height": null,
            "align_content": null,
            "visibility": null,
            "align_self": null,
            "height": null,
            "min_height": null,
            "padding": null,
            "grid_auto_rows": null,
            "grid_gap": null,
            "max_width": null,
            "order": null,
            "_view_module_version": "1.2.0",
            "grid_template_areas": null,
            "object_position": null,
            "object_fit": null,
            "grid_auto_columns": null,
            "margin": null,
            "display": null,
            "left": null
          }
        },
        "7bb27e6743b246d988d32a43a65be8a8": {
          "model_module": "@jupyter-widgets/controls",
          "model_name": "FloatProgressModel",
          "state": {
            "_view_name": "ProgressView",
            "style": "IPY_MODEL_ce00748ff3674385893728a7b540642a",
            "_dom_classes": [],
            "description": "Downloading: ",
            "_model_name": "FloatProgressModel",
            "bar_style": "success",
            "max": 800683,
            "_view_module": "@jupyter-widgets/controls",
            "_model_module_version": "1.5.0",
            "value": 800683,
            "_view_count": null,
            "_view_module_version": "1.5.0",
            "orientation": "horizontal",
            "min": 0,
            "description_tooltip": null,
            "_model_module": "@jupyter-widgets/controls",
            "layout": "IPY_MODEL_fc4596b8ca4a436194b55c5096ed4ec9"
          }
        },
        "beba893159464d769d2dfb19b72b321d": {
          "model_module": "@jupyter-widgets/controls",
          "model_name": "HTMLModel",
          "state": {
            "_view_name": "HTMLView",
            "style": "IPY_MODEL_8e91644fca95436b96b208c327367fa9",
            "_dom_classes": [],
            "description": "",
            "_model_name": "HTMLModel",
            "placeholder": "​",
            "_view_module": "@jupyter-widgets/controls",
            "_model_module_version": "1.5.0",
            "value": " 4.37M/? [00:00&lt;00:00, 12.9MB/s]",
            "_view_count": null,
            "_view_module_version": "1.5.0",
            "description_tooltip": null,
            "_model_module": "@jupyter-widgets/controls",
            "layout": "IPY_MODEL_00cc654172ce45b8bcf97e9037648d02"
          }
        },
        "ce00748ff3674385893728a7b540642a": {
          "model_module": "@jupyter-widgets/controls",
          "model_name": "ProgressStyleModel",
          "state": {
            "_view_name": "StyleView",
            "_model_name": "ProgressStyleModel",
            "description_width": "initial",
            "_view_module": "@jupyter-widgets/base",
            "_model_module_version": "1.5.0",
            "_view_count": null,
            "_view_module_version": "1.2.0",
            "bar_color": null,
            "_model_module": "@jupyter-widgets/controls"
          }
        },
        "fc4596b8ca4a436194b55c5096ed4ec9": {
          "model_module": "@jupyter-widgets/base",
          "model_name": "LayoutModel",
          "state": {
            "_view_name": "LayoutView",
            "grid_template_rows": null,
            "right": null,
            "justify_content": null,
            "_view_module": "@jupyter-widgets/base",
            "overflow": null,
            "_model_module_version": "1.2.0",
            "_view_count": null,
            "flex_flow": null,
            "width": null,
            "min_width": null,
            "border": null,
            "align_items": null,
            "bottom": null,
            "_model_module": "@jupyter-widgets/base",
            "top": null,
            "grid_column": null,
            "overflow_y": null,
            "overflow_x": null,
            "grid_auto_flow": null,
            "grid_area": null,
            "grid_template_columns": null,
            "flex": null,
            "_model_name": "LayoutModel",
            "justify_items": null,
            "grid_row": null,
            "max_height": null,
            "align_content": null,
            "visibility": null,
            "align_self": null,
            "height": null,
            "min_height": null,
            "padding": null,
            "grid_auto_rows": null,
            "grid_gap": null,
            "max_width": null,
            "order": null,
            "_view_module_version": "1.2.0",
            "grid_template_areas": null,
            "object_position": null,
            "object_fit": null,
            "grid_auto_columns": null,
            "margin": null,
            "display": null,
            "left": null
          }
        },
        "8e91644fca95436b96b208c327367fa9": {
          "model_module": "@jupyter-widgets/controls",
          "model_name": "DescriptionStyleModel",
          "state": {
            "_view_name": "StyleView",
            "_model_name": "DescriptionStyleModel",
            "description_width": "",
            "_view_module": "@jupyter-widgets/base",
            "_model_module_version": "1.5.0",
            "_view_count": null,
            "_view_module_version": "1.2.0",
            "_model_module": "@jupyter-widgets/controls"
          }
        },
        "00cc654172ce45b8bcf97e9037648d02": {
          "model_module": "@jupyter-widgets/base",
          "model_name": "LayoutModel",
          "state": {
            "_view_name": "LayoutView",
            "grid_template_rows": null,
            "right": null,
            "justify_content": null,
            "_view_module": "@jupyter-widgets/base",
            "overflow": null,
            "_model_module_version": "1.2.0",
            "_view_count": null,
            "flex_flow": null,
            "width": null,
            "min_width": null,
            "border": null,
            "align_items": null,
            "bottom": null,
            "_model_module": "@jupyter-widgets/base",
            "top": null,
            "grid_column": null,
            "overflow_y": null,
            "overflow_x": null,
            "grid_auto_flow": null,
            "grid_area": null,
            "grid_template_columns": null,
            "flex": null,
            "_model_name": "LayoutModel",
            "justify_items": null,
            "grid_row": null,
            "max_height": null,
            "align_content": null,
            "visibility": null,
            "align_self": null,
            "height": null,
            "min_height": null,
            "padding": null,
            "grid_auto_rows": null,
            "grid_gap": null,
            "max_width": null,
            "order": null,
            "_view_module_version": "1.2.0",
            "grid_template_areas": null,
            "object_position": null,
            "object_fit": null,
            "grid_auto_columns": null,
            "margin": null,
            "display": null,
            "left": null
          }
        },
        "80ecb050414b4fc39ab3ae6e14722115": {
          "model_module": "@jupyter-widgets/controls",
          "model_name": "HBoxModel",
          "state": {
            "_view_name": "HBoxView",
            "_dom_classes": [],
            "_model_name": "HBoxModel",
            "_view_module": "@jupyter-widgets/controls",
            "_model_module_version": "1.5.0",
            "_view_count": null,
            "_view_module_version": "1.5.0",
            "box_style": "",
            "layout": "IPY_MODEL_279a8a87955841aabeb92a7cf1241198",
            "_model_module": "@jupyter-widgets/controls",
            "children": [
              "IPY_MODEL_96f8c7bc29e946868905a3fe61a47d32",
              "IPY_MODEL_4c75003c0b4e4c6ea61ea2120e92d743"
            ]
          }
        },
        "279a8a87955841aabeb92a7cf1241198": {
          "model_module": "@jupyter-widgets/base",
          "model_name": "LayoutModel",
          "state": {
            "_view_name": "LayoutView",
            "grid_template_rows": null,
            "right": null,
            "justify_content": null,
            "_view_module": "@jupyter-widgets/base",
            "overflow": null,
            "_model_module_version": "1.2.0",
            "_view_count": null,
            "flex_flow": null,
            "width": null,
            "min_width": null,
            "border": null,
            "align_items": null,
            "bottom": null,
            "_model_module": "@jupyter-widgets/base",
            "top": null,
            "grid_column": null,
            "overflow_y": null,
            "overflow_x": null,
            "grid_auto_flow": null,
            "grid_area": null,
            "grid_template_columns": null,
            "flex": null,
            "_model_name": "LayoutModel",
            "justify_items": null,
            "grid_row": null,
            "max_height": null,
            "align_content": null,
            "visibility": null,
            "align_self": null,
            "height": null,
            "min_height": null,
            "padding": null,
            "grid_auto_rows": null,
            "grid_gap": null,
            "max_width": null,
            "order": null,
            "_view_module_version": "1.2.0",
            "grid_template_areas": null,
            "object_position": null,
            "object_fit": null,
            "grid_auto_columns": null,
            "margin": null,
            "display": null,
            "left": null
          }
        },
        "96f8c7bc29e946868905a3fe61a47d32": {
          "model_module": "@jupyter-widgets/controls",
          "model_name": "FloatProgressModel",
          "state": {
            "_view_name": "ProgressView",
            "style": "IPY_MODEL_3b013394d7a2409f9b5824d469fa745b",
            "_dom_classes": [],
            "description": "",
            "_model_name": "FloatProgressModel",
            "bar_style": "info",
            "max": 1,
            "_view_module": "@jupyter-widgets/controls",
            "_model_module_version": "1.5.0",
            "value": 1,
            "_view_count": null,
            "_view_module_version": "1.5.0",
            "orientation": "horizontal",
            "min": 0,
            "description_tooltip": null,
            "_model_module": "@jupyter-widgets/controls",
            "layout": "IPY_MODEL_d8ee7668d9644ea080419072b0b32611"
          }
        },
        "4c75003c0b4e4c6ea61ea2120e92d743": {
          "model_module": "@jupyter-widgets/controls",
          "model_name": "HTMLModel",
          "state": {
            "_view_name": "HTMLView",
            "style": "IPY_MODEL_eb413ac38b074f9a8287d101805ae825",
            "_dom_classes": [],
            "description": "",
            "_model_name": "HTMLModel",
            "placeholder": "​",
            "_view_module": "@jupyter-widgets/controls",
            "_model_module_version": "1.5.0",
            "value": " 130319/0 [00:07&lt;00:00, 22000.86 examples/s]",
            "_view_count": null,
            "_view_module_version": "1.5.0",
            "description_tooltip": null,
            "_model_module": "@jupyter-widgets/controls",
            "layout": "IPY_MODEL_4070ce0b72b243e3b671eb9ae3a558da"
          }
        },
        "3b013394d7a2409f9b5824d469fa745b": {
          "model_module": "@jupyter-widgets/controls",
          "model_name": "ProgressStyleModel",
          "state": {
            "_view_name": "StyleView",
            "_model_name": "ProgressStyleModel",
            "description_width": "initial",
            "_view_module": "@jupyter-widgets/base",
            "_model_module_version": "1.5.0",
            "_view_count": null,
            "_view_module_version": "1.2.0",
            "bar_color": null,
            "_model_module": "@jupyter-widgets/controls"
          }
        },
        "d8ee7668d9644ea080419072b0b32611": {
          "model_module": "@jupyter-widgets/base",
          "model_name": "LayoutModel",
          "state": {
            "_view_name": "LayoutView",
            "grid_template_rows": null,
            "right": null,
            "justify_content": null,
            "_view_module": "@jupyter-widgets/base",
            "overflow": null,
            "_model_module_version": "1.2.0",
            "_view_count": null,
            "flex_flow": null,
            "width": null,
            "min_width": null,
            "border": null,
            "align_items": null,
            "bottom": null,
            "_model_module": "@jupyter-widgets/base",
            "top": null,
            "grid_column": null,
            "overflow_y": null,
            "overflow_x": null,
            "grid_auto_flow": null,
            "grid_area": null,
            "grid_template_columns": null,
            "flex": null,
            "_model_name": "LayoutModel",
            "justify_items": null,
            "grid_row": null,
            "max_height": null,
            "align_content": null,
            "visibility": null,
            "align_self": null,
            "height": null,
            "min_height": null,
            "padding": null,
            "grid_auto_rows": null,
            "grid_gap": null,
            "max_width": null,
            "order": null,
            "_view_module_version": "1.2.0",
            "grid_template_areas": null,
            "object_position": null,
            "object_fit": null,
            "grid_auto_columns": null,
            "margin": null,
            "display": null,
            "left": null
          }
        },
        "eb413ac38b074f9a8287d101805ae825": {
          "model_module": "@jupyter-widgets/controls",
          "model_name": "DescriptionStyleModel",
          "state": {
            "_view_name": "StyleView",
            "_model_name": "DescriptionStyleModel",
            "description_width": "",
            "_view_module": "@jupyter-widgets/base",
            "_model_module_version": "1.5.0",
            "_view_count": null,
            "_view_module_version": "1.2.0",
            "_model_module": "@jupyter-widgets/controls"
          }
        },
        "4070ce0b72b243e3b671eb9ae3a558da": {
          "model_module": "@jupyter-widgets/base",
          "model_name": "LayoutModel",
          "state": {
            "_view_name": "LayoutView",
            "grid_template_rows": null,
            "right": null,
            "justify_content": null,
            "_view_module": "@jupyter-widgets/base",
            "overflow": null,
            "_model_module_version": "1.2.0",
            "_view_count": null,
            "flex_flow": null,
            "width": null,
            "min_width": null,
            "border": null,
            "align_items": null,
            "bottom": null,
            "_model_module": "@jupyter-widgets/base",
            "top": null,
            "grid_column": null,
            "overflow_y": null,
            "overflow_x": null,
            "grid_auto_flow": null,
            "grid_area": null,
            "grid_template_columns": null,
            "flex": null,
            "_model_name": "LayoutModel",
            "justify_items": null,
            "grid_row": null,
            "max_height": null,
            "align_content": null,
            "visibility": null,
            "align_self": null,
            "height": null,
            "min_height": null,
            "padding": null,
            "grid_auto_rows": null,
            "grid_gap": null,
            "max_width": null,
            "order": null,
            "_view_module_version": "1.2.0",
            "grid_template_areas": null,
            "object_position": null,
            "object_fit": null,
            "grid_auto_columns": null,
            "margin": null,
            "display": null,
            "left": null
          }
        },
        "ae120de18e0948daaad0603bc553e50e": {
          "model_module": "@jupyter-widgets/controls",
          "model_name": "HBoxModel",
          "state": {
            "_view_name": "HBoxView",
            "_dom_classes": [],
            "_model_name": "HBoxModel",
            "_view_module": "@jupyter-widgets/controls",
            "_model_module_version": "1.5.0",
            "_view_count": null,
            "_view_module_version": "1.5.0",
            "box_style": "",
            "layout": "IPY_MODEL_abbe76c0fd7240239580b15995a101aa",
            "_model_module": "@jupyter-widgets/controls",
            "children": [
              "IPY_MODEL_92ef9ec68c1a491ebda4ec411fb47024",
              "IPY_MODEL_7697a96914204f448b9cb64c56cf3a48"
            ]
          }
        },
        "abbe76c0fd7240239580b15995a101aa": {
          "model_module": "@jupyter-widgets/base",
          "model_name": "LayoutModel",
          "state": {
            "_view_name": "LayoutView",
            "grid_template_rows": null,
            "right": null,
            "justify_content": null,
            "_view_module": "@jupyter-widgets/base",
            "overflow": null,
            "_model_module_version": "1.2.0",
            "_view_count": null,
            "flex_flow": null,
            "width": null,
            "min_width": null,
            "border": null,
            "align_items": null,
            "bottom": null,
            "_model_module": "@jupyter-widgets/base",
            "top": null,
            "grid_column": null,
            "overflow_y": null,
            "overflow_x": null,
            "grid_auto_flow": null,
            "grid_area": null,
            "grid_template_columns": null,
            "flex": null,
            "_model_name": "LayoutModel",
            "justify_items": null,
            "grid_row": null,
            "max_height": null,
            "align_content": null,
            "visibility": null,
            "align_self": null,
            "height": null,
            "min_height": null,
            "padding": null,
            "grid_auto_rows": null,
            "grid_gap": null,
            "max_width": null,
            "order": null,
            "_view_module_version": "1.2.0",
            "grid_template_areas": null,
            "object_position": null,
            "object_fit": null,
            "grid_auto_columns": null,
            "margin": null,
            "display": null,
            "left": null
          }
        },
        "92ef9ec68c1a491ebda4ec411fb47024": {
          "model_module": "@jupyter-widgets/controls",
          "model_name": "FloatProgressModel",
          "state": {
            "_view_name": "ProgressView",
            "style": "IPY_MODEL_6ab90c1d9b984973990b36e44350bc42",
            "_dom_classes": [],
            "description": "",
            "_model_name": "FloatProgressModel",
            "bar_style": "info",
            "max": 1,
            "_view_module": "@jupyter-widgets/controls",
            "_model_module_version": "1.5.0",
            "value": 1,
            "_view_count": null,
            "_view_module_version": "1.5.0",
            "orientation": "horizontal",
            "min": 0,
            "description_tooltip": null,
            "_model_module": "@jupyter-widgets/controls",
            "layout": "IPY_MODEL_e2e51536a1ad4f9981b633e86e68bfde"
          }
        },
        "7697a96914204f448b9cb64c56cf3a48": {
          "model_module": "@jupyter-widgets/controls",
          "model_name": "HTMLModel",
          "state": {
            "_view_name": "HTMLView",
            "style": "IPY_MODEL_d1b2d454f7f2442d8508ccfaa800a3cf",
            "_dom_classes": [],
            "description": "",
            "_model_name": "HTMLModel",
            "placeholder": "​",
            "_view_module": "@jupyter-widgets/controls",
            "_model_module_version": "1.5.0",
            "value": " 11873/0 [00:00&lt;00:00, 26.97 examples/s]",
            "_view_count": null,
            "_view_module_version": "1.5.0",
            "description_tooltip": null,
            "_model_module": "@jupyter-widgets/controls",
            "layout": "IPY_MODEL_51a478d028c54b74865ae0a782cce7ab"
          }
        },
        "6ab90c1d9b984973990b36e44350bc42": {
          "model_module": "@jupyter-widgets/controls",
          "model_name": "ProgressStyleModel",
          "state": {
            "_view_name": "StyleView",
            "_model_name": "ProgressStyleModel",
            "description_width": "initial",
            "_view_module": "@jupyter-widgets/base",
            "_model_module_version": "1.5.0",
            "_view_count": null,
            "_view_module_version": "1.2.0",
            "bar_color": null,
            "_model_module": "@jupyter-widgets/controls"
          }
        },
        "e2e51536a1ad4f9981b633e86e68bfde": {
          "model_module": "@jupyter-widgets/base",
          "model_name": "LayoutModel",
          "state": {
            "_view_name": "LayoutView",
            "grid_template_rows": null,
            "right": null,
            "justify_content": null,
            "_view_module": "@jupyter-widgets/base",
            "overflow": null,
            "_model_module_version": "1.2.0",
            "_view_count": null,
            "flex_flow": null,
            "width": null,
            "min_width": null,
            "border": null,
            "align_items": null,
            "bottom": null,
            "_model_module": "@jupyter-widgets/base",
            "top": null,
            "grid_column": null,
            "overflow_y": null,
            "overflow_x": null,
            "grid_auto_flow": null,
            "grid_area": null,
            "grid_template_columns": null,
            "flex": null,
            "_model_name": "LayoutModel",
            "justify_items": null,
            "grid_row": null,
            "max_height": null,
            "align_content": null,
            "visibility": null,
            "align_self": null,
            "height": null,
            "min_height": null,
            "padding": null,
            "grid_auto_rows": null,
            "grid_gap": null,
            "max_width": null,
            "order": null,
            "_view_module_version": "1.2.0",
            "grid_template_areas": null,
            "object_position": null,
            "object_fit": null,
            "grid_auto_columns": null,
            "margin": null,
            "display": null,
            "left": null
          }
        },
        "d1b2d454f7f2442d8508ccfaa800a3cf": {
          "model_module": "@jupyter-widgets/controls",
          "model_name": "DescriptionStyleModel",
          "state": {
            "_view_name": "StyleView",
            "_model_name": "DescriptionStyleModel",
            "description_width": "",
            "_view_module": "@jupyter-widgets/base",
            "_model_module_version": "1.5.0",
            "_view_count": null,
            "_view_module_version": "1.2.0",
            "_model_module": "@jupyter-widgets/controls"
          }
        },
        "51a478d028c54b74865ae0a782cce7ab": {
          "model_module": "@jupyter-widgets/base",
          "model_name": "LayoutModel",
          "state": {
            "_view_name": "LayoutView",
            "grid_template_rows": null,
            "right": null,
            "justify_content": null,
            "_view_module": "@jupyter-widgets/base",
            "overflow": null,
            "_model_module_version": "1.2.0",
            "_view_count": null,
            "flex_flow": null,
            "width": null,
            "min_width": null,
            "border": null,
            "align_items": null,
            "bottom": null,
            "_model_module": "@jupyter-widgets/base",
            "top": null,
            "grid_column": null,
            "overflow_y": null,
            "overflow_x": null,
            "grid_auto_flow": null,
            "grid_area": null,
            "grid_template_columns": null,
            "flex": null,
            "_model_name": "LayoutModel",
            "justify_items": null,
            "grid_row": null,
            "max_height": null,
            "align_content": null,
            "visibility": null,
            "align_self": null,
            "height": null,
            "min_height": null,
            "padding": null,
            "grid_auto_rows": null,
            "grid_gap": null,
            "max_width": null,
            "order": null,
            "_view_module_version": "1.2.0",
            "grid_template_areas": null,
            "object_position": null,
            "object_fit": null,
            "grid_auto_columns": null,
            "margin": null,
            "display": null,
            "left": null
          }
        },
        "7b69cc61a1b640b3a617fd5651a48734": {
          "model_module": "@jupyter-widgets/controls",
          "model_name": "HBoxModel",
          "state": {
            "_view_name": "HBoxView",
            "_dom_classes": [],
            "_model_name": "HBoxModel",
            "_view_module": "@jupyter-widgets/controls",
            "_model_module_version": "1.5.0",
            "_view_count": null,
            "_view_module_version": "1.5.0",
            "box_style": "",
            "layout": "IPY_MODEL_70f8379802474293a98cf7a66a18fe71",
            "_model_module": "@jupyter-widgets/controls",
            "children": [
              "IPY_MODEL_43ed33aa565a466883d42797816fbada",
              "IPY_MODEL_e338f130ba2f485384206fed5aa74a6b"
            ]
          }
        },
        "70f8379802474293a98cf7a66a18fe71": {
          "model_module": "@jupyter-widgets/base",
          "model_name": "LayoutModel",
          "state": {
            "_view_name": "LayoutView",
            "grid_template_rows": null,
            "right": null,
            "justify_content": null,
            "_view_module": "@jupyter-widgets/base",
            "overflow": null,
            "_model_module_version": "1.2.0",
            "_view_count": null,
            "flex_flow": null,
            "width": null,
            "min_width": null,
            "border": null,
            "align_items": null,
            "bottom": null,
            "_model_module": "@jupyter-widgets/base",
            "top": null,
            "grid_column": null,
            "overflow_y": null,
            "overflow_x": null,
            "grid_auto_flow": null,
            "grid_area": null,
            "grid_template_columns": null,
            "flex": null,
            "_model_name": "LayoutModel",
            "justify_items": null,
            "grid_row": null,
            "max_height": null,
            "align_content": null,
            "visibility": null,
            "align_self": null,
            "height": null,
            "min_height": null,
            "padding": null,
            "grid_auto_rows": null,
            "grid_gap": null,
            "max_width": null,
            "order": null,
            "_view_module_version": "1.2.0",
            "grid_template_areas": null,
            "object_position": null,
            "object_fit": null,
            "grid_auto_columns": null,
            "margin": null,
            "display": null,
            "left": null
          }
        },
        "43ed33aa565a466883d42797816fbada": {
          "model_module": "@jupyter-widgets/controls",
          "model_name": "FloatProgressModel",
          "state": {
            "_view_name": "ProgressView",
            "style": "IPY_MODEL_4d843453b8444d429fb9c55b7b7f1a94",
            "_dom_classes": [],
            "description": "Downloading: 100%",
            "_model_name": "FloatProgressModel",
            "bar_style": "success",
            "max": 411,
            "_view_module": "@jupyter-widgets/controls",
            "_model_module_version": "1.5.0",
            "value": 411,
            "_view_count": null,
            "_view_module_version": "1.5.0",
            "orientation": "horizontal",
            "min": 0,
            "description_tooltip": null,
            "_model_module": "@jupyter-widgets/controls",
            "layout": "IPY_MODEL_bb52fce7fce8448f842e1da226268108"
          }
        },
        "e338f130ba2f485384206fed5aa74a6b": {
          "model_module": "@jupyter-widgets/controls",
          "model_name": "HTMLModel",
          "state": {
            "_view_name": "HTMLView",
            "style": "IPY_MODEL_783ccb13538744bba8f733f42d8de2e4",
            "_dom_classes": [],
            "description": "",
            "_model_name": "HTMLModel",
            "placeholder": "​",
            "_view_module": "@jupyter-widgets/controls",
            "_model_module_version": "1.5.0",
            "value": " 411/411 [00:01&lt;00:00, 355B/s]",
            "_view_count": null,
            "_view_module_version": "1.5.0",
            "description_tooltip": null,
            "_model_module": "@jupyter-widgets/controls",
            "layout": "IPY_MODEL_a4ebdfa0c07e4ce2859fabfd9a0775c1"
          }
        },
        "4d843453b8444d429fb9c55b7b7f1a94": {
          "model_module": "@jupyter-widgets/controls",
          "model_name": "ProgressStyleModel",
          "state": {
            "_view_name": "StyleView",
            "_model_name": "ProgressStyleModel",
            "description_width": "initial",
            "_view_module": "@jupyter-widgets/base",
            "_model_module_version": "1.5.0",
            "_view_count": null,
            "_view_module_version": "1.2.0",
            "bar_color": null,
            "_model_module": "@jupyter-widgets/controls"
          }
        },
        "bb52fce7fce8448f842e1da226268108": {
          "model_module": "@jupyter-widgets/base",
          "model_name": "LayoutModel",
          "state": {
            "_view_name": "LayoutView",
            "grid_template_rows": null,
            "right": null,
            "justify_content": null,
            "_view_module": "@jupyter-widgets/base",
            "overflow": null,
            "_model_module_version": "1.2.0",
            "_view_count": null,
            "flex_flow": null,
            "width": null,
            "min_width": null,
            "border": null,
            "align_items": null,
            "bottom": null,
            "_model_module": "@jupyter-widgets/base",
            "top": null,
            "grid_column": null,
            "overflow_y": null,
            "overflow_x": null,
            "grid_auto_flow": null,
            "grid_area": null,
            "grid_template_columns": null,
            "flex": null,
            "_model_name": "LayoutModel",
            "justify_items": null,
            "grid_row": null,
            "max_height": null,
            "align_content": null,
            "visibility": null,
            "align_self": null,
            "height": null,
            "min_height": null,
            "padding": null,
            "grid_auto_rows": null,
            "grid_gap": null,
            "max_width": null,
            "order": null,
            "_view_module_version": "1.2.0",
            "grid_template_areas": null,
            "object_position": null,
            "object_fit": null,
            "grid_auto_columns": null,
            "margin": null,
            "display": null,
            "left": null
          }
        },
        "783ccb13538744bba8f733f42d8de2e4": {
          "model_module": "@jupyter-widgets/controls",
          "model_name": "DescriptionStyleModel",
          "state": {
            "_view_name": "StyleView",
            "_model_name": "DescriptionStyleModel",
            "description_width": "",
            "_view_module": "@jupyter-widgets/base",
            "_model_module_version": "1.5.0",
            "_view_count": null,
            "_view_module_version": "1.2.0",
            "_model_module": "@jupyter-widgets/controls"
          }
        },
        "a4ebdfa0c07e4ce2859fabfd9a0775c1": {
          "model_module": "@jupyter-widgets/base",
          "model_name": "LayoutModel",
          "state": {
            "_view_name": "LayoutView",
            "grid_template_rows": null,
            "right": null,
            "justify_content": null,
            "_view_module": "@jupyter-widgets/base",
            "overflow": null,
            "_model_module_version": "1.2.0",
            "_view_count": null,
            "flex_flow": null,
            "width": null,
            "min_width": null,
            "border": null,
            "align_items": null,
            "bottom": null,
            "_model_module": "@jupyter-widgets/base",
            "top": null,
            "grid_column": null,
            "overflow_y": null,
            "overflow_x": null,
            "grid_auto_flow": null,
            "grid_area": null,
            "grid_template_columns": null,
            "flex": null,
            "_model_name": "LayoutModel",
            "justify_items": null,
            "grid_row": null,
            "max_height": null,
            "align_content": null,
            "visibility": null,
            "align_self": null,
            "height": null,
            "min_height": null,
            "padding": null,
            "grid_auto_rows": null,
            "grid_gap": null,
            "max_width": null,
            "order": null,
            "_view_module_version": "1.2.0",
            "grid_template_areas": null,
            "object_position": null,
            "object_fit": null,
            "grid_auto_columns": null,
            "margin": null,
            "display": null,
            "left": null
          }
        },
        "e22ad40a7f4b4a399f0c255fd6984424": {
          "model_module": "@jupyter-widgets/controls",
          "model_name": "HBoxModel",
          "state": {
            "_view_name": "HBoxView",
            "_dom_classes": [],
            "_model_name": "HBoxModel",
            "_view_module": "@jupyter-widgets/controls",
            "_model_module_version": "1.5.0",
            "_view_count": null,
            "_view_module_version": "1.5.0",
            "box_style": "",
            "layout": "IPY_MODEL_05c5dfbb7f154eeba3703dc401832c01",
            "_model_module": "@jupyter-widgets/controls",
            "children": [
              "IPY_MODEL_d60146abc8764c50b6c6a3df161e2676",
              "IPY_MODEL_72268aec79bb42fd933be2933daf0d81"
            ]
          }
        },
        "05c5dfbb7f154eeba3703dc401832c01": {
          "model_module": "@jupyter-widgets/base",
          "model_name": "LayoutModel",
          "state": {
            "_view_name": "LayoutView",
            "grid_template_rows": null,
            "right": null,
            "justify_content": null,
            "_view_module": "@jupyter-widgets/base",
            "overflow": null,
            "_model_module_version": "1.2.0",
            "_view_count": null,
            "flex_flow": null,
            "width": null,
            "min_width": null,
            "border": null,
            "align_items": null,
            "bottom": null,
            "_model_module": "@jupyter-widgets/base",
            "top": null,
            "grid_column": null,
            "overflow_y": null,
            "overflow_x": null,
            "grid_auto_flow": null,
            "grid_area": null,
            "grid_template_columns": null,
            "flex": null,
            "_model_name": "LayoutModel",
            "justify_items": null,
            "grid_row": null,
            "max_height": null,
            "align_content": null,
            "visibility": null,
            "align_self": null,
            "height": null,
            "min_height": null,
            "padding": null,
            "grid_auto_rows": null,
            "grid_gap": null,
            "max_width": null,
            "order": null,
            "_view_module_version": "1.2.0",
            "grid_template_areas": null,
            "object_position": null,
            "object_fit": null,
            "grid_auto_columns": null,
            "margin": null,
            "display": null,
            "left": null
          }
        },
        "d60146abc8764c50b6c6a3df161e2676": {
          "model_module": "@jupyter-widgets/controls",
          "model_name": "FloatProgressModel",
          "state": {
            "_view_name": "ProgressView",
            "style": "IPY_MODEL_0d89420422254e8e9fdb136aff8ed808",
            "_dom_classes": [],
            "description": "Downloading: 100%",
            "_model_name": "FloatProgressModel",
            "bar_style": "success",
            "max": 213450,
            "_view_module": "@jupyter-widgets/controls",
            "_model_module_version": "1.5.0",
            "value": 213450,
            "_view_count": null,
            "_view_module_version": "1.5.0",
            "orientation": "horizontal",
            "min": 0,
            "description_tooltip": null,
            "_model_module": "@jupyter-widgets/controls",
            "layout": "IPY_MODEL_3f97ca1bdff0488db030af041e37171f"
          }
        },
        "72268aec79bb42fd933be2933daf0d81": {
          "model_module": "@jupyter-widgets/controls",
          "model_name": "HTMLModel",
          "state": {
            "_view_name": "HTMLView",
            "style": "IPY_MODEL_f09ef14838724303bb24c740522f0b47",
            "_dom_classes": [],
            "description": "",
            "_model_name": "HTMLModel",
            "placeholder": "​",
            "_view_module": "@jupyter-widgets/controls",
            "_model_module_version": "1.5.0",
            "value": " 213k/213k [00:00&lt;00:00, 310kB/s]",
            "_view_count": null,
            "_view_module_version": "1.5.0",
            "description_tooltip": null,
            "_model_module": "@jupyter-widgets/controls",
            "layout": "IPY_MODEL_adf49c9310984c879923acc443cd76f9"
          }
        },
        "0d89420422254e8e9fdb136aff8ed808": {
          "model_module": "@jupyter-widgets/controls",
          "model_name": "ProgressStyleModel",
          "state": {
            "_view_name": "StyleView",
            "_model_name": "ProgressStyleModel",
            "description_width": "initial",
            "_view_module": "@jupyter-widgets/base",
            "_model_module_version": "1.5.0",
            "_view_count": null,
            "_view_module_version": "1.2.0",
            "bar_color": null,
            "_model_module": "@jupyter-widgets/controls"
          }
        },
        "3f97ca1bdff0488db030af041e37171f": {
          "model_module": "@jupyter-widgets/base",
          "model_name": "LayoutModel",
          "state": {
            "_view_name": "LayoutView",
            "grid_template_rows": null,
            "right": null,
            "justify_content": null,
            "_view_module": "@jupyter-widgets/base",
            "overflow": null,
            "_model_module_version": "1.2.0",
            "_view_count": null,
            "flex_flow": null,
            "width": null,
            "min_width": null,
            "border": null,
            "align_items": null,
            "bottom": null,
            "_model_module": "@jupyter-widgets/base",
            "top": null,
            "grid_column": null,
            "overflow_y": null,
            "overflow_x": null,
            "grid_auto_flow": null,
            "grid_area": null,
            "grid_template_columns": null,
            "flex": null,
            "_model_name": "LayoutModel",
            "justify_items": null,
            "grid_row": null,
            "max_height": null,
            "align_content": null,
            "visibility": null,
            "align_self": null,
            "height": null,
            "min_height": null,
            "padding": null,
            "grid_auto_rows": null,
            "grid_gap": null,
            "max_width": null,
            "order": null,
            "_view_module_version": "1.2.0",
            "grid_template_areas": null,
            "object_position": null,
            "object_fit": null,
            "grid_auto_columns": null,
            "margin": null,
            "display": null,
            "left": null
          }
        },
        "f09ef14838724303bb24c740522f0b47": {
          "model_module": "@jupyter-widgets/controls",
          "model_name": "DescriptionStyleModel",
          "state": {
            "_view_name": "StyleView",
            "_model_name": "DescriptionStyleModel",
            "description_width": "",
            "_view_module": "@jupyter-widgets/base",
            "_model_module_version": "1.5.0",
            "_view_count": null,
            "_view_module_version": "1.2.0",
            "_model_module": "@jupyter-widgets/controls"
          }
        },
        "adf49c9310984c879923acc443cd76f9": {
          "model_module": "@jupyter-widgets/base",
          "model_name": "LayoutModel",
          "state": {
            "_view_name": "LayoutView",
            "grid_template_rows": null,
            "right": null,
            "justify_content": null,
            "_view_module": "@jupyter-widgets/base",
            "overflow": null,
            "_model_module_version": "1.2.0",
            "_view_count": null,
            "flex_flow": null,
            "width": null,
            "min_width": null,
            "border": null,
            "align_items": null,
            "bottom": null,
            "_model_module": "@jupyter-widgets/base",
            "top": null,
            "grid_column": null,
            "overflow_y": null,
            "overflow_x": null,
            "grid_auto_flow": null,
            "grid_area": null,
            "grid_template_columns": null,
            "flex": null,
            "_model_name": "LayoutModel",
            "justify_items": null,
            "grid_row": null,
            "max_height": null,
            "align_content": null,
            "visibility": null,
            "align_self": null,
            "height": null,
            "min_height": null,
            "padding": null,
            "grid_auto_rows": null,
            "grid_gap": null,
            "max_width": null,
            "order": null,
            "_view_module_version": "1.2.0",
            "grid_template_areas": null,
            "object_position": null,
            "object_fit": null,
            "grid_auto_columns": null,
            "margin": null,
            "display": null,
            "left": null
          }
        },
        "61b372f7f2bf49788185fd493afeee66": {
          "model_module": "@jupyter-widgets/controls",
          "model_name": "HBoxModel",
          "state": {
            "_view_name": "HBoxView",
            "_dom_classes": [],
            "_model_name": "HBoxModel",
            "_view_module": "@jupyter-widgets/controls",
            "_model_module_version": "1.5.0",
            "_view_count": null,
            "_view_module_version": "1.5.0",
            "box_style": "",
            "layout": "IPY_MODEL_ad91680f97684a17b15e469c265714d3",
            "_model_module": "@jupyter-widgets/controls",
            "children": [
              "IPY_MODEL_dc87857f8fe5429a9a68e6dbf71a6ffc",
              "IPY_MODEL_91c6e9cf6de54954aa47c50321c31b32"
            ]
          }
        },
        "ad91680f97684a17b15e469c265714d3": {
          "model_module": "@jupyter-widgets/base",
          "model_name": "LayoutModel",
          "state": {
            "_view_name": "LayoutView",
            "grid_template_rows": null,
            "right": null,
            "justify_content": null,
            "_view_module": "@jupyter-widgets/base",
            "overflow": null,
            "_model_module_version": "1.2.0",
            "_view_count": null,
            "flex_flow": null,
            "width": null,
            "min_width": null,
            "border": null,
            "align_items": null,
            "bottom": null,
            "_model_module": "@jupyter-widgets/base",
            "top": null,
            "grid_column": null,
            "overflow_y": null,
            "overflow_x": null,
            "grid_auto_flow": null,
            "grid_area": null,
            "grid_template_columns": null,
            "flex": null,
            "_model_name": "LayoutModel",
            "justify_items": null,
            "grid_row": null,
            "max_height": null,
            "align_content": null,
            "visibility": null,
            "align_self": null,
            "height": null,
            "min_height": null,
            "padding": null,
            "grid_auto_rows": null,
            "grid_gap": null,
            "max_width": null,
            "order": null,
            "_view_module_version": "1.2.0",
            "grid_template_areas": null,
            "object_position": null,
            "object_fit": null,
            "grid_auto_columns": null,
            "margin": null,
            "display": null,
            "left": null
          }
        },
        "dc87857f8fe5429a9a68e6dbf71a6ffc": {
          "model_module": "@jupyter-widgets/controls",
          "model_name": "FloatProgressModel",
          "state": {
            "_view_name": "ProgressView",
            "style": "IPY_MODEL_ca511ef4409941ac8e35b0053322533c",
            "_dom_classes": [],
            "description": "Downloading: 100%",
            "_model_name": "FloatProgressModel",
            "bar_style": "success",
            "max": 435797,
            "_view_module": "@jupyter-widgets/controls",
            "_model_module_version": "1.5.0",
            "value": 435797,
            "_view_count": null,
            "_view_module_version": "1.5.0",
            "orientation": "horizontal",
            "min": 0,
            "description_tooltip": null,
            "_model_module": "@jupyter-widgets/controls",
            "layout": "IPY_MODEL_c18a9ddea70b44529703d147f9ee92db"
          }
        },
        "91c6e9cf6de54954aa47c50321c31b32": {
          "model_module": "@jupyter-widgets/controls",
          "model_name": "HTMLModel",
          "state": {
            "_view_name": "HTMLView",
            "style": "IPY_MODEL_330b9888c05a42dbbc28fb9fbdb025bf",
            "_dom_classes": [],
            "description": "",
            "_model_name": "HTMLModel",
            "placeholder": "​",
            "_view_module": "@jupyter-widgets/controls",
            "_model_module_version": "1.5.0",
            "value": " 436k/436k [00:01&lt;00:00, 351kB/s]",
            "_view_count": null,
            "_view_module_version": "1.5.0",
            "description_tooltip": null,
            "_model_module": "@jupyter-widgets/controls",
            "layout": "IPY_MODEL_335bc30e68e64dd3867b427c0e90e936"
          }
        },
        "ca511ef4409941ac8e35b0053322533c": {
          "model_module": "@jupyter-widgets/controls",
          "model_name": "ProgressStyleModel",
          "state": {
            "_view_name": "StyleView",
            "_model_name": "ProgressStyleModel",
            "description_width": "initial",
            "_view_module": "@jupyter-widgets/base",
            "_model_module_version": "1.5.0",
            "_view_count": null,
            "_view_module_version": "1.2.0",
            "bar_color": null,
            "_model_module": "@jupyter-widgets/controls"
          }
        },
        "c18a9ddea70b44529703d147f9ee92db": {
          "model_module": "@jupyter-widgets/base",
          "model_name": "LayoutModel",
          "state": {
            "_view_name": "LayoutView",
            "grid_template_rows": null,
            "right": null,
            "justify_content": null,
            "_view_module": "@jupyter-widgets/base",
            "overflow": null,
            "_model_module_version": "1.2.0",
            "_view_count": null,
            "flex_flow": null,
            "width": null,
            "min_width": null,
            "border": null,
            "align_items": null,
            "bottom": null,
            "_model_module": "@jupyter-widgets/base",
            "top": null,
            "grid_column": null,
            "overflow_y": null,
            "overflow_x": null,
            "grid_auto_flow": null,
            "grid_area": null,
            "grid_template_columns": null,
            "flex": null,
            "_model_name": "LayoutModel",
            "justify_items": null,
            "grid_row": null,
            "max_height": null,
            "align_content": null,
            "visibility": null,
            "align_self": null,
            "height": null,
            "min_height": null,
            "padding": null,
            "grid_auto_rows": null,
            "grid_gap": null,
            "max_width": null,
            "order": null,
            "_view_module_version": "1.2.0",
            "grid_template_areas": null,
            "object_position": null,
            "object_fit": null,
            "grid_auto_columns": null,
            "margin": null,
            "display": null,
            "left": null
          }
        },
        "330b9888c05a42dbbc28fb9fbdb025bf": {
          "model_module": "@jupyter-widgets/controls",
          "model_name": "DescriptionStyleModel",
          "state": {
            "_view_name": "StyleView",
            "_model_name": "DescriptionStyleModel",
            "description_width": "",
            "_view_module": "@jupyter-widgets/base",
            "_model_module_version": "1.5.0",
            "_view_count": null,
            "_view_module_version": "1.2.0",
            "_model_module": "@jupyter-widgets/controls"
          }
        },
        "335bc30e68e64dd3867b427c0e90e936": {
          "model_module": "@jupyter-widgets/base",
          "model_name": "LayoutModel",
          "state": {
            "_view_name": "LayoutView",
            "grid_template_rows": null,
            "right": null,
            "justify_content": null,
            "_view_module": "@jupyter-widgets/base",
            "overflow": null,
            "_model_module_version": "1.2.0",
            "_view_count": null,
            "flex_flow": null,
            "width": null,
            "min_width": null,
            "border": null,
            "align_items": null,
            "bottom": null,
            "_model_module": "@jupyter-widgets/base",
            "top": null,
            "grid_column": null,
            "overflow_y": null,
            "overflow_x": null,
            "grid_auto_flow": null,
            "grid_area": null,
            "grid_template_columns": null,
            "flex": null,
            "_model_name": "LayoutModel",
            "justify_items": null,
            "grid_row": null,
            "max_height": null,
            "align_content": null,
            "visibility": null,
            "align_self": null,
            "height": null,
            "min_height": null,
            "padding": null,
            "grid_auto_rows": null,
            "grid_gap": null,
            "max_width": null,
            "order": null,
            "_view_module_version": "1.2.0",
            "grid_template_areas": null,
            "object_position": null,
            "object_fit": null,
            "grid_auto_columns": null,
            "margin": null,
            "display": null,
            "left": null
          }
        },
        "aca46d49a5994860a7d28e682df117d1": {
          "model_module": "@jupyter-widgets/controls",
          "model_name": "HBoxModel",
          "state": {
            "_view_name": "HBoxView",
            "_dom_classes": [],
            "_model_name": "HBoxModel",
            "_view_module": "@jupyter-widgets/controls",
            "_model_module_version": "1.5.0",
            "_view_count": null,
            "_view_module_version": "1.5.0",
            "box_style": "",
            "layout": "IPY_MODEL_c2a1497ba1124338b55d2af4a935d7c6",
            "_model_module": "@jupyter-widgets/controls",
            "children": [
              "IPY_MODEL_ccc51c7db7b5487e99d290ba3b72a977",
              "IPY_MODEL_481721de4a434534bd249c25741aaeba"
            ]
          }
        },
        "c2a1497ba1124338b55d2af4a935d7c6": {
          "model_module": "@jupyter-widgets/base",
          "model_name": "LayoutModel",
          "state": {
            "_view_name": "LayoutView",
            "grid_template_rows": null,
            "right": null,
            "justify_content": null,
            "_view_module": "@jupyter-widgets/base",
            "overflow": null,
            "_model_module_version": "1.2.0",
            "_view_count": null,
            "flex_flow": null,
            "width": null,
            "min_width": null,
            "border": null,
            "align_items": null,
            "bottom": null,
            "_model_module": "@jupyter-widgets/base",
            "top": null,
            "grid_column": null,
            "overflow_y": null,
            "overflow_x": null,
            "grid_auto_flow": null,
            "grid_area": null,
            "grid_template_columns": null,
            "flex": null,
            "_model_name": "LayoutModel",
            "justify_items": null,
            "grid_row": null,
            "max_height": null,
            "align_content": null,
            "visibility": null,
            "align_self": null,
            "height": null,
            "min_height": null,
            "padding": null,
            "grid_auto_rows": null,
            "grid_gap": null,
            "max_width": null,
            "order": null,
            "_view_module_version": "1.2.0",
            "grid_template_areas": null,
            "object_position": null,
            "object_fit": null,
            "grid_auto_columns": null,
            "margin": null,
            "display": null,
            "left": null
          }
        },
        "ccc51c7db7b5487e99d290ba3b72a977": {
          "model_module": "@jupyter-widgets/controls",
          "model_name": "FloatProgressModel",
          "state": {
            "_view_name": "ProgressView",
            "style": "IPY_MODEL_191715bcd93444329b9158c4d9ca5f25",
            "_dom_classes": [],
            "description": "Downloading: 100%",
            "_model_name": "FloatProgressModel",
            "bar_style": "success",
            "max": 29,
            "_view_module": "@jupyter-widgets/controls",
            "_model_module_version": "1.5.0",
            "value": 29,
            "_view_count": null,
            "_view_module_version": "1.5.0",
            "orientation": "horizontal",
            "min": 0,
            "description_tooltip": null,
            "_model_module": "@jupyter-widgets/controls",
            "layout": "IPY_MODEL_233eaabcbbba4008a89b5638e7a74601"
          }
        },
        "481721de4a434534bd249c25741aaeba": {
          "model_module": "@jupyter-widgets/controls",
          "model_name": "HTMLModel",
          "state": {
            "_view_name": "HTMLView",
            "style": "IPY_MODEL_b30c94b884a043c3ad36c3c93c3a22f1",
            "_dom_classes": [],
            "description": "",
            "_model_name": "HTMLModel",
            "placeholder": "​",
            "_view_module": "@jupyter-widgets/controls",
            "_model_module_version": "1.5.0",
            "value": " 29.0/29.0 [00:00&lt;00:00, 274B/s]",
            "_view_count": null,
            "_view_module_version": "1.5.0",
            "description_tooltip": null,
            "_model_module": "@jupyter-widgets/controls",
            "layout": "IPY_MODEL_9303ecdd30cc44748dc3ad2c73188c8e"
          }
        },
        "191715bcd93444329b9158c4d9ca5f25": {
          "model_module": "@jupyter-widgets/controls",
          "model_name": "ProgressStyleModel",
          "state": {
            "_view_name": "StyleView",
            "_model_name": "ProgressStyleModel",
            "description_width": "initial",
            "_view_module": "@jupyter-widgets/base",
            "_model_module_version": "1.5.0",
            "_view_count": null,
            "_view_module_version": "1.2.0",
            "bar_color": null,
            "_model_module": "@jupyter-widgets/controls"
          }
        },
        "233eaabcbbba4008a89b5638e7a74601": {
          "model_module": "@jupyter-widgets/base",
          "model_name": "LayoutModel",
          "state": {
            "_view_name": "LayoutView",
            "grid_template_rows": null,
            "right": null,
            "justify_content": null,
            "_view_module": "@jupyter-widgets/base",
            "overflow": null,
            "_model_module_version": "1.2.0",
            "_view_count": null,
            "flex_flow": null,
            "width": null,
            "min_width": null,
            "border": null,
            "align_items": null,
            "bottom": null,
            "_model_module": "@jupyter-widgets/base",
            "top": null,
            "grid_column": null,
            "overflow_y": null,
            "overflow_x": null,
            "grid_auto_flow": null,
            "grid_area": null,
            "grid_template_columns": null,
            "flex": null,
            "_model_name": "LayoutModel",
            "justify_items": null,
            "grid_row": null,
            "max_height": null,
            "align_content": null,
            "visibility": null,
            "align_self": null,
            "height": null,
            "min_height": null,
            "padding": null,
            "grid_auto_rows": null,
            "grid_gap": null,
            "max_width": null,
            "order": null,
            "_view_module_version": "1.2.0",
            "grid_template_areas": null,
            "object_position": null,
            "object_fit": null,
            "grid_auto_columns": null,
            "margin": null,
            "display": null,
            "left": null
          }
        },
        "b30c94b884a043c3ad36c3c93c3a22f1": {
          "model_module": "@jupyter-widgets/controls",
          "model_name": "DescriptionStyleModel",
          "state": {
            "_view_name": "StyleView",
            "_model_name": "DescriptionStyleModel",
            "description_width": "",
            "_view_module": "@jupyter-widgets/base",
            "_model_module_version": "1.5.0",
            "_view_count": null,
            "_view_module_version": "1.2.0",
            "_model_module": "@jupyter-widgets/controls"
          }
        },
        "9303ecdd30cc44748dc3ad2c73188c8e": {
          "model_module": "@jupyter-widgets/base",
          "model_name": "LayoutModel",
          "state": {
            "_view_name": "LayoutView",
            "grid_template_rows": null,
            "right": null,
            "justify_content": null,
            "_view_module": "@jupyter-widgets/base",
            "overflow": null,
            "_model_module_version": "1.2.0",
            "_view_count": null,
            "flex_flow": null,
            "width": null,
            "min_width": null,
            "border": null,
            "align_items": null,
            "bottom": null,
            "_model_module": "@jupyter-widgets/base",
            "top": null,
            "grid_column": null,
            "overflow_y": null,
            "overflow_x": null,
            "grid_auto_flow": null,
            "grid_area": null,
            "grid_template_columns": null,
            "flex": null,
            "_model_name": "LayoutModel",
            "justify_items": null,
            "grid_row": null,
            "max_height": null,
            "align_content": null,
            "visibility": null,
            "align_self": null,
            "height": null,
            "min_height": null,
            "padding": null,
            "grid_auto_rows": null,
            "grid_gap": null,
            "max_width": null,
            "order": null,
            "_view_module_version": "1.2.0",
            "grid_template_areas": null,
            "object_position": null,
            "object_fit": null,
            "grid_auto_columns": null,
            "margin": null,
            "display": null,
            "left": null
          }
        },
        "b14d5d909574460a962e938cf12c55dd": {
          "model_module": "@jupyter-widgets/controls",
          "model_name": "HBoxModel",
          "state": {
            "_view_name": "HBoxView",
            "_dom_classes": [],
            "_model_name": "HBoxModel",
            "_view_module": "@jupyter-widgets/controls",
            "_model_module_version": "1.5.0",
            "_view_count": null,
            "_view_module_version": "1.5.0",
            "box_style": "",
            "layout": "IPY_MODEL_c3841eff72fb4fb799bfeb92dee1ab9b",
            "_model_module": "@jupyter-widgets/controls",
            "children": [
              "IPY_MODEL_5c595e03905e469ab51becceceaad158",
              "IPY_MODEL_599d6b0926904595af1a84a7b44994a0"
            ]
          }
        },
        "c3841eff72fb4fb799bfeb92dee1ab9b": {
          "model_module": "@jupyter-widgets/base",
          "model_name": "LayoutModel",
          "state": {
            "_view_name": "LayoutView",
            "grid_template_rows": null,
            "right": null,
            "justify_content": null,
            "_view_module": "@jupyter-widgets/base",
            "overflow": null,
            "_model_module_version": "1.2.0",
            "_view_count": null,
            "flex_flow": null,
            "width": null,
            "min_width": null,
            "border": null,
            "align_items": null,
            "bottom": null,
            "_model_module": "@jupyter-widgets/base",
            "top": null,
            "grid_column": null,
            "overflow_y": null,
            "overflow_x": null,
            "grid_auto_flow": null,
            "grid_area": null,
            "grid_template_columns": null,
            "flex": null,
            "_model_name": "LayoutModel",
            "justify_items": null,
            "grid_row": null,
            "max_height": null,
            "align_content": null,
            "visibility": null,
            "align_self": null,
            "height": null,
            "min_height": null,
            "padding": null,
            "grid_auto_rows": null,
            "grid_gap": null,
            "max_width": null,
            "order": null,
            "_view_module_version": "1.2.0",
            "grid_template_areas": null,
            "object_position": null,
            "object_fit": null,
            "grid_auto_columns": null,
            "margin": null,
            "display": null,
            "left": null
          }
        },
        "5c595e03905e469ab51becceceaad158": {
          "model_module": "@jupyter-widgets/controls",
          "model_name": "FloatProgressModel",
          "state": {
            "_view_name": "ProgressView",
            "style": "IPY_MODEL_009746cd8dda410dae85494cd758ac94",
            "_dom_classes": [],
            "description": "Downloading: 100%",
            "_model_name": "FloatProgressModel",
            "bar_style": "success",
            "max": 263273408,
            "_view_module": "@jupyter-widgets/controls",
            "_model_module_version": "1.5.0",
            "value": 263273408,
            "_view_count": null,
            "_view_module_version": "1.5.0",
            "orientation": "horizontal",
            "min": 0,
            "description_tooltip": null,
            "_model_module": "@jupyter-widgets/controls",
            "layout": "IPY_MODEL_0df9962d612b4b07b49135820a112529"
          }
        },
        "599d6b0926904595af1a84a7b44994a0": {
          "model_module": "@jupyter-widgets/controls",
          "model_name": "HTMLModel",
          "state": {
            "_view_name": "HTMLView",
            "style": "IPY_MODEL_e7fb3438869443a89398c33cee35dbf4",
            "_dom_classes": [],
            "description": "",
            "_model_name": "HTMLModel",
            "placeholder": "​",
            "_view_module": "@jupyter-widgets/controls",
            "_model_module_version": "1.5.0",
            "value": " 263M/263M [00:04&lt;00:00, 53.7MB/s]",
            "_view_count": null,
            "_view_module_version": "1.5.0",
            "description_tooltip": null,
            "_model_module": "@jupyter-widgets/controls",
            "layout": "IPY_MODEL_52df715471ce489ebf12765d8347cf88"
          }
        },
        "009746cd8dda410dae85494cd758ac94": {
          "model_module": "@jupyter-widgets/controls",
          "model_name": "ProgressStyleModel",
          "state": {
            "_view_name": "StyleView",
            "_model_name": "ProgressStyleModel",
            "description_width": "initial",
            "_view_module": "@jupyter-widgets/base",
            "_model_module_version": "1.5.0",
            "_view_count": null,
            "_view_module_version": "1.2.0",
            "bar_color": null,
            "_model_module": "@jupyter-widgets/controls"
          }
        },
        "0df9962d612b4b07b49135820a112529": {
          "model_module": "@jupyter-widgets/base",
          "model_name": "LayoutModel",
          "state": {
            "_view_name": "LayoutView",
            "grid_template_rows": null,
            "right": null,
            "justify_content": null,
            "_view_module": "@jupyter-widgets/base",
            "overflow": null,
            "_model_module_version": "1.2.0",
            "_view_count": null,
            "flex_flow": null,
            "width": null,
            "min_width": null,
            "border": null,
            "align_items": null,
            "bottom": null,
            "_model_module": "@jupyter-widgets/base",
            "top": null,
            "grid_column": null,
            "overflow_y": null,
            "overflow_x": null,
            "grid_auto_flow": null,
            "grid_area": null,
            "grid_template_columns": null,
            "flex": null,
            "_model_name": "LayoutModel",
            "justify_items": null,
            "grid_row": null,
            "max_height": null,
            "align_content": null,
            "visibility": null,
            "align_self": null,
            "height": null,
            "min_height": null,
            "padding": null,
            "grid_auto_rows": null,
            "grid_gap": null,
            "max_width": null,
            "order": null,
            "_view_module_version": "1.2.0",
            "grid_template_areas": null,
            "object_position": null,
            "object_fit": null,
            "grid_auto_columns": null,
            "margin": null,
            "display": null,
            "left": null
          }
        },
        "e7fb3438869443a89398c33cee35dbf4": {
          "model_module": "@jupyter-widgets/controls",
          "model_name": "DescriptionStyleModel",
          "state": {
            "_view_name": "StyleView",
            "_model_name": "DescriptionStyleModel",
            "description_width": "",
            "_view_module": "@jupyter-widgets/base",
            "_model_module_version": "1.5.0",
            "_view_count": null,
            "_view_module_version": "1.2.0",
            "_model_module": "@jupyter-widgets/controls"
          }
        },
        "52df715471ce489ebf12765d8347cf88": {
          "model_module": "@jupyter-widgets/base",
          "model_name": "LayoutModel",
          "state": {
            "_view_name": "LayoutView",
            "grid_template_rows": null,
            "right": null,
            "justify_content": null,
            "_view_module": "@jupyter-widgets/base",
            "overflow": null,
            "_model_module_version": "1.2.0",
            "_view_count": null,
            "flex_flow": null,
            "width": null,
            "min_width": null,
            "border": null,
            "align_items": null,
            "bottom": null,
            "_model_module": "@jupyter-widgets/base",
            "top": null,
            "grid_column": null,
            "overflow_y": null,
            "overflow_x": null,
            "grid_auto_flow": null,
            "grid_area": null,
            "grid_template_columns": null,
            "flex": null,
            "_model_name": "LayoutModel",
            "justify_items": null,
            "grid_row": null,
            "max_height": null,
            "align_content": null,
            "visibility": null,
            "align_self": null,
            "height": null,
            "min_height": null,
            "padding": null,
            "grid_auto_rows": null,
            "grid_gap": null,
            "max_width": null,
            "order": null,
            "_view_module_version": "1.2.0",
            "grid_template_areas": null,
            "object_position": null,
            "object_fit": null,
            "grid_auto_columns": null,
            "margin": null,
            "display": null,
            "left": null
          }
        },
        "f1516a5d741d41c5bd49954d1dbf3eb7": {
          "model_module": "@jupyter-widgets/controls",
          "model_name": "HBoxModel",
          "state": {
            "_view_name": "HBoxView",
            "_dom_classes": [],
            "_model_name": "HBoxModel",
            "_view_module": "@jupyter-widgets/controls",
            "_model_module_version": "1.5.0",
            "_view_count": null,
            "_view_module_version": "1.5.0",
            "box_style": "",
            "layout": "IPY_MODEL_fd7e1f32788b411fa9422db48ea1b66c",
            "_model_module": "@jupyter-widgets/controls",
            "children": [
              "IPY_MODEL_168df7374df44bfe87fe2852aa4af7ce",
              "IPY_MODEL_de662202e05e45d3ae43edc0edabcd95"
            ]
          }
        },
        "fd7e1f32788b411fa9422db48ea1b66c": {
          "model_module": "@jupyter-widgets/base",
          "model_name": "LayoutModel",
          "state": {
            "_view_name": "LayoutView",
            "grid_template_rows": null,
            "right": null,
            "justify_content": null,
            "_view_module": "@jupyter-widgets/base",
            "overflow": null,
            "_model_module_version": "1.2.0",
            "_view_count": null,
            "flex_flow": null,
            "width": null,
            "min_width": null,
            "border": null,
            "align_items": null,
            "bottom": null,
            "_model_module": "@jupyter-widgets/base",
            "top": null,
            "grid_column": null,
            "overflow_y": null,
            "overflow_x": null,
            "grid_auto_flow": null,
            "grid_area": null,
            "grid_template_columns": null,
            "flex": null,
            "_model_name": "LayoutModel",
            "justify_items": null,
            "grid_row": null,
            "max_height": null,
            "align_content": null,
            "visibility": null,
            "align_self": null,
            "height": null,
            "min_height": null,
            "padding": null,
            "grid_auto_rows": null,
            "grid_gap": null,
            "max_width": null,
            "order": null,
            "_view_module_version": "1.2.0",
            "grid_template_areas": null,
            "object_position": null,
            "object_fit": null,
            "grid_auto_columns": null,
            "margin": null,
            "display": null,
            "left": null
          }
        },
        "168df7374df44bfe87fe2852aa4af7ce": {
          "model_module": "@jupyter-widgets/controls",
          "model_name": "FloatProgressModel",
          "state": {
            "_view_name": "ProgressView",
            "style": "IPY_MODEL_69c4d9ba76df4bc69493f7e1b94ce91f",
            "_dom_classes": [],
            "description": "Finding best initial lr: 100%",
            "_model_name": "FloatProgressModel",
            "bar_style": "",
            "max": 100,
            "_view_module": "@jupyter-widgets/controls",
            "_model_module_version": "1.5.0",
            "value": 100,
            "_view_count": null,
            "_view_module_version": "1.5.0",
            "orientation": "horizontal",
            "min": 0,
            "description_tooltip": null,
            "_model_module": "@jupyter-widgets/controls",
            "layout": "IPY_MODEL_0afc3e86869f430492022fa05650ec14"
          }
        },
        "de662202e05e45d3ae43edc0edabcd95": {
          "model_module": "@jupyter-widgets/controls",
          "model_name": "HTMLModel",
          "state": {
            "_view_name": "HTMLView",
            "style": "IPY_MODEL_ed09e3dc95fe461789cd35f3344d94a7",
            "_dom_classes": [],
            "description": "",
            "_model_name": "HTMLModel",
            "placeholder": "​",
            "_view_module": "@jupyter-widgets/controls",
            "_model_module_version": "1.5.0",
            "value": " 100/100 [01:20&lt;00:00,  1.18it/s]",
            "_view_count": null,
            "_view_module_version": "1.5.0",
            "description_tooltip": null,
            "_model_module": "@jupyter-widgets/controls",
            "layout": "IPY_MODEL_32786ba397744e99a2b12f0f41222512"
          }
        },
        "69c4d9ba76df4bc69493f7e1b94ce91f": {
          "model_module": "@jupyter-widgets/controls",
          "model_name": "ProgressStyleModel",
          "state": {
            "_view_name": "StyleView",
            "_model_name": "ProgressStyleModel",
            "description_width": "initial",
            "_view_module": "@jupyter-widgets/base",
            "_model_module_version": "1.5.0",
            "_view_count": null,
            "_view_module_version": "1.2.0",
            "bar_color": null,
            "_model_module": "@jupyter-widgets/controls"
          }
        },
        "0afc3e86869f430492022fa05650ec14": {
          "model_module": "@jupyter-widgets/base",
          "model_name": "LayoutModel",
          "state": {
            "_view_name": "LayoutView",
            "grid_template_rows": null,
            "right": null,
            "justify_content": null,
            "_view_module": "@jupyter-widgets/base",
            "overflow": null,
            "_model_module_version": "1.2.0",
            "_view_count": null,
            "flex_flow": null,
            "width": null,
            "min_width": null,
            "border": null,
            "align_items": null,
            "bottom": null,
            "_model_module": "@jupyter-widgets/base",
            "top": null,
            "grid_column": null,
            "overflow_y": null,
            "overflow_x": null,
            "grid_auto_flow": null,
            "grid_area": null,
            "grid_template_columns": null,
            "flex": null,
            "_model_name": "LayoutModel",
            "justify_items": null,
            "grid_row": null,
            "max_height": null,
            "align_content": null,
            "visibility": null,
            "align_self": null,
            "height": null,
            "min_height": null,
            "padding": null,
            "grid_auto_rows": null,
            "grid_gap": null,
            "max_width": null,
            "order": null,
            "_view_module_version": "1.2.0",
            "grid_template_areas": null,
            "object_position": null,
            "object_fit": null,
            "grid_auto_columns": null,
            "margin": null,
            "display": null,
            "left": null
          }
        },
        "ed09e3dc95fe461789cd35f3344d94a7": {
          "model_module": "@jupyter-widgets/controls",
          "model_name": "DescriptionStyleModel",
          "state": {
            "_view_name": "StyleView",
            "_model_name": "DescriptionStyleModel",
            "description_width": "",
            "_view_module": "@jupyter-widgets/base",
            "_model_module_version": "1.5.0",
            "_view_count": null,
            "_view_module_version": "1.2.0",
            "_model_module": "@jupyter-widgets/controls"
          }
        },
        "32786ba397744e99a2b12f0f41222512": {
          "model_module": "@jupyter-widgets/base",
          "model_name": "LayoutModel",
          "state": {
            "_view_name": "LayoutView",
            "grid_template_rows": null,
            "right": null,
            "justify_content": null,
            "_view_module": "@jupyter-widgets/base",
            "overflow": null,
            "_model_module_version": "1.2.0",
            "_view_count": null,
            "flex_flow": null,
            "width": null,
            "min_width": null,
            "border": null,
            "align_items": null,
            "bottom": null,
            "_model_module": "@jupyter-widgets/base",
            "top": null,
            "grid_column": null,
            "overflow_y": null,
            "overflow_x": null,
            "grid_auto_flow": null,
            "grid_area": null,
            "grid_template_columns": null,
            "flex": null,
            "_model_name": "LayoutModel",
            "justify_items": null,
            "grid_row": null,
            "max_height": null,
            "align_content": null,
            "visibility": null,
            "align_self": null,
            "height": null,
            "min_height": null,
            "padding": null,
            "grid_auto_rows": null,
            "grid_gap": null,
            "max_width": null,
            "order": null,
            "_view_module_version": "1.2.0",
            "grid_template_areas": null,
            "object_position": null,
            "object_fit": null,
            "grid_auto_columns": null,
            "margin": null,
            "display": null,
            "left": null
          }
        },
        "b6a77ee54529438eba2041d3a4591013": {
          "model_module": "@jupyter-widgets/controls",
          "model_name": "HBoxModel",
          "state": {
            "_view_name": "HBoxView",
            "_dom_classes": [],
            "_model_name": "HBoxModel",
            "_view_module": "@jupyter-widgets/controls",
            "_model_module_version": "1.5.0",
            "_view_count": null,
            "_view_module_version": "1.5.0",
            "box_style": "",
            "layout": "IPY_MODEL_1e79e4ed5324413f86f50d79341ab15d",
            "_model_module": "@jupyter-widgets/controls",
            "children": [
              "IPY_MODEL_7aa03662bc1f4585a997e892f0443eea",
              "IPY_MODEL_26c707f70881405bb94ca3fddff3231b"
            ]
          }
        },
        "1e79e4ed5324413f86f50d79341ab15d": {
          "model_module": "@jupyter-widgets/base",
          "model_name": "LayoutModel",
          "state": {
            "_view_name": "LayoutView",
            "grid_template_rows": null,
            "right": null,
            "justify_content": null,
            "_view_module": "@jupyter-widgets/base",
            "overflow": null,
            "_model_module_version": "1.2.0",
            "_view_count": null,
            "flex_flow": "row wrap",
            "width": "100%",
            "min_width": null,
            "border": null,
            "align_items": null,
            "bottom": null,
            "_model_module": "@jupyter-widgets/base",
            "top": null,
            "grid_column": null,
            "overflow_y": null,
            "overflow_x": null,
            "grid_auto_flow": null,
            "grid_area": null,
            "grid_template_columns": null,
            "flex": null,
            "_model_name": "LayoutModel",
            "justify_items": null,
            "grid_row": null,
            "max_height": null,
            "align_content": null,
            "visibility": null,
            "align_self": null,
            "height": null,
            "min_height": null,
            "padding": null,
            "grid_auto_rows": null,
            "grid_gap": null,
            "max_width": null,
            "order": null,
            "_view_module_version": "1.2.0",
            "grid_template_areas": null,
            "object_position": null,
            "object_fit": null,
            "grid_auto_columns": null,
            "margin": null,
            "display": "inline-flex",
            "left": null
          }
        },
        "7aa03662bc1f4585a997e892f0443eea": {
          "model_module": "@jupyter-widgets/controls",
          "model_name": "FloatProgressModel",
          "state": {
            "_view_name": "ProgressView",
            "style": "IPY_MODEL_2d817b2add6349d1a4d6ad407a965812",
            "_dom_classes": [],
            "description": "Validation sanity check:   0%",
            "_model_name": "FloatProgressModel",
            "bar_style": "danger",
            "max": 2,
            "_view_module": "@jupyter-widgets/controls",
            "_model_module_version": "1.5.0",
            "value": 0,
            "_view_count": null,
            "_view_module_version": "1.5.0",
            "orientation": "horizontal",
            "min": 0,
            "description_tooltip": null,
            "_model_module": "@jupyter-widgets/controls",
            "layout": "IPY_MODEL_761f4b391edc49dab9e0fd71a0f22749"
          }
        },
        "26c707f70881405bb94ca3fddff3231b": {
          "model_module": "@jupyter-widgets/controls",
          "model_name": "HTMLModel",
          "state": {
            "_view_name": "HTMLView",
            "style": "IPY_MODEL_37417b887a324b53bb0b9252ed671595",
            "_dom_classes": [],
            "description": "",
            "_model_name": "HTMLModel",
            "placeholder": "​",
            "_view_module": "@jupyter-widgets/controls",
            "_model_module_version": "1.5.0",
            "value": " 0/2 [00:00&lt;?, ?it/s]",
            "_view_count": null,
            "_view_module_version": "1.5.0",
            "description_tooltip": null,
            "_model_module": "@jupyter-widgets/controls",
            "layout": "IPY_MODEL_5d77b3aa1d1a4139bfe84ca060deb6ce"
          }
        },
        "2d817b2add6349d1a4d6ad407a965812": {
          "model_module": "@jupyter-widgets/controls",
          "model_name": "ProgressStyleModel",
          "state": {
            "_view_name": "StyleView",
            "_model_name": "ProgressStyleModel",
            "description_width": "initial",
            "_view_module": "@jupyter-widgets/base",
            "_model_module_version": "1.5.0",
            "_view_count": null,
            "_view_module_version": "1.2.0",
            "bar_color": null,
            "_model_module": "@jupyter-widgets/controls"
          }
        },
        "761f4b391edc49dab9e0fd71a0f22749": {
          "model_module": "@jupyter-widgets/base",
          "model_name": "LayoutModel",
          "state": {
            "_view_name": "LayoutView",
            "grid_template_rows": null,
            "right": null,
            "justify_content": null,
            "_view_module": "@jupyter-widgets/base",
            "overflow": null,
            "_model_module_version": "1.2.0",
            "_view_count": null,
            "flex_flow": null,
            "width": null,
            "min_width": null,
            "border": null,
            "align_items": null,
            "bottom": null,
            "_model_module": "@jupyter-widgets/base",
            "top": null,
            "grid_column": null,
            "overflow_y": null,
            "overflow_x": null,
            "grid_auto_flow": null,
            "grid_area": null,
            "grid_template_columns": null,
            "flex": "2",
            "_model_name": "LayoutModel",
            "justify_items": null,
            "grid_row": null,
            "max_height": null,
            "align_content": null,
            "visibility": null,
            "align_self": null,
            "height": null,
            "min_height": null,
            "padding": null,
            "grid_auto_rows": null,
            "grid_gap": null,
            "max_width": null,
            "order": null,
            "_view_module_version": "1.2.0",
            "grid_template_areas": null,
            "object_position": null,
            "object_fit": null,
            "grid_auto_columns": null,
            "margin": null,
            "display": null,
            "left": null
          }
        },
        "37417b887a324b53bb0b9252ed671595": {
          "model_module": "@jupyter-widgets/controls",
          "model_name": "DescriptionStyleModel",
          "state": {
            "_view_name": "StyleView",
            "_model_name": "DescriptionStyleModel",
            "description_width": "",
            "_view_module": "@jupyter-widgets/base",
            "_model_module_version": "1.5.0",
            "_view_count": null,
            "_view_module_version": "1.2.0",
            "_model_module": "@jupyter-widgets/controls"
          }
        },
        "5d77b3aa1d1a4139bfe84ca060deb6ce": {
          "model_module": "@jupyter-widgets/base",
          "model_name": "LayoutModel",
          "state": {
            "_view_name": "LayoutView",
            "grid_template_rows": null,
            "right": null,
            "justify_content": null,
            "_view_module": "@jupyter-widgets/base",
            "overflow": null,
            "_model_module_version": "1.2.0",
            "_view_count": null,
            "flex_flow": null,
            "width": null,
            "min_width": null,
            "border": null,
            "align_items": null,
            "bottom": null,
            "_model_module": "@jupyter-widgets/base",
            "top": null,
            "grid_column": null,
            "overflow_y": null,
            "overflow_x": null,
            "grid_auto_flow": null,
            "grid_area": null,
            "grid_template_columns": null,
            "flex": null,
            "_model_name": "LayoutModel",
            "justify_items": null,
            "grid_row": null,
            "max_height": null,
            "align_content": null,
            "visibility": null,
            "align_self": null,
            "height": null,
            "min_height": null,
            "padding": null,
            "grid_auto_rows": null,
            "grid_gap": null,
            "max_width": null,
            "order": null,
            "_view_module_version": "1.2.0",
            "grid_template_areas": null,
            "object_position": null,
            "object_fit": null,
            "grid_auto_columns": null,
            "margin": null,
            "display": null,
            "left": null
          }
        },
        "c2c910a63233473f98f133a8df2f9f85": {
          "model_module": "@jupyter-widgets/controls",
          "model_name": "HBoxModel",
          "state": {
            "_view_name": "HBoxView",
            "_dom_classes": [],
            "_model_name": "HBoxModel",
            "_view_module": "@jupyter-widgets/controls",
            "_model_module_version": "1.5.0",
            "_view_count": null,
            "_view_module_version": "1.5.0",
            "box_style": "",
            "layout": "IPY_MODEL_53bba9d2d2274d31bbc0dac04d8dbd77",
            "_model_module": "@jupyter-widgets/controls",
            "children": [
              "IPY_MODEL_42e9f450db1440a1ba8e5798c1a2e6db",
              "IPY_MODEL_146f5227e70b4e479be7446f5e7abf53"
            ]
          }
        },
        "53bba9d2d2274d31bbc0dac04d8dbd77": {
          "model_module": "@jupyter-widgets/base",
          "model_name": "LayoutModel",
          "state": {
            "_view_name": "LayoutView",
            "grid_template_rows": null,
            "right": null,
            "justify_content": null,
            "_view_module": "@jupyter-widgets/base",
            "overflow": null,
            "_model_module_version": "1.2.0",
            "_view_count": null,
            "flex_flow": "row wrap",
            "width": "100%",
            "min_width": null,
            "border": null,
            "align_items": null,
            "bottom": null,
            "_model_module": "@jupyter-widgets/base",
            "top": null,
            "grid_column": null,
            "overflow_y": null,
            "overflow_x": null,
            "grid_auto_flow": null,
            "grid_area": null,
            "grid_template_columns": null,
            "flex": null,
            "_model_name": "LayoutModel",
            "justify_items": null,
            "grid_row": null,
            "max_height": null,
            "align_content": null,
            "visibility": null,
            "align_self": null,
            "height": null,
            "min_height": null,
            "padding": null,
            "grid_auto_rows": null,
            "grid_gap": null,
            "max_width": null,
            "order": null,
            "_view_module_version": "1.2.0",
            "grid_template_areas": null,
            "object_position": null,
            "object_fit": null,
            "grid_auto_columns": null,
            "margin": null,
            "display": "inline-flex",
            "left": null
          }
        },
        "42e9f450db1440a1ba8e5798c1a2e6db": {
          "model_module": "@jupyter-widgets/controls",
          "model_name": "FloatProgressModel",
          "state": {
            "_view_name": "ProgressView",
            "style": "IPY_MODEL_8d2531143dbf484196da4a2d936b25ff",
            "_dom_classes": [],
            "description": "Epoch 1: 100%",
            "_model_name": "FloatProgressModel",
            "bar_style": "info",
            "max": 6875,
            "_view_module": "@jupyter-widgets/controls",
            "_model_module_version": "1.5.0",
            "value": 6875,
            "_view_count": null,
            "_view_module_version": "1.5.0",
            "orientation": "horizontal",
            "min": 0,
            "description_tooltip": null,
            "_model_module": "@jupyter-widgets/controls",
            "layout": "IPY_MODEL_047975b2b1184f59a29a6012a3b16d0e"
          }
        },
        "146f5227e70b4e479be7446f5e7abf53": {
          "model_module": "@jupyter-widgets/controls",
          "model_name": "HTMLModel",
          "state": {
            "_view_name": "HTMLView",
            "style": "IPY_MODEL_c1b4a8f9cd174e909adac2272a7b856b",
            "_dom_classes": [],
            "description": "",
            "_model_name": "HTMLModel",
            "placeholder": "​",
            "_view_module": "@jupyter-widgets/controls",
            "_model_module_version": "1.5.0",
            "value": " 6875/6875 [1:29:57&lt;00:00,  1.27it/s, loss=1.27, v_num=0, val_exact_matching=0.390]",
            "_view_count": null,
            "_view_module_version": "1.5.0",
            "description_tooltip": null,
            "_model_module": "@jupyter-widgets/controls",
            "layout": "IPY_MODEL_3dd7d53003f6487d9216b95523cd36e0"
          }
        },
        "8d2531143dbf484196da4a2d936b25ff": {
          "model_module": "@jupyter-widgets/controls",
          "model_name": "ProgressStyleModel",
          "state": {
            "_view_name": "StyleView",
            "_model_name": "ProgressStyleModel",
            "description_width": "initial",
            "_view_module": "@jupyter-widgets/base",
            "_model_module_version": "1.5.0",
            "_view_count": null,
            "_view_module_version": "1.2.0",
            "bar_color": null,
            "_model_module": "@jupyter-widgets/controls"
          }
        },
        "047975b2b1184f59a29a6012a3b16d0e": {
          "model_module": "@jupyter-widgets/base",
          "model_name": "LayoutModel",
          "state": {
            "_view_name": "LayoutView",
            "grid_template_rows": null,
            "right": null,
            "justify_content": null,
            "_view_module": "@jupyter-widgets/base",
            "overflow": null,
            "_model_module_version": "1.2.0",
            "_view_count": null,
            "flex_flow": null,
            "width": null,
            "min_width": null,
            "border": null,
            "align_items": null,
            "bottom": null,
            "_model_module": "@jupyter-widgets/base",
            "top": null,
            "grid_column": null,
            "overflow_y": null,
            "overflow_x": null,
            "grid_auto_flow": null,
            "grid_area": null,
            "grid_template_columns": null,
            "flex": "2",
            "_model_name": "LayoutModel",
            "justify_items": null,
            "grid_row": null,
            "max_height": null,
            "align_content": null,
            "visibility": null,
            "align_self": null,
            "height": null,
            "min_height": null,
            "padding": null,
            "grid_auto_rows": null,
            "grid_gap": null,
            "max_width": null,
            "order": null,
            "_view_module_version": "1.2.0",
            "grid_template_areas": null,
            "object_position": null,
            "object_fit": null,
            "grid_auto_columns": null,
            "margin": null,
            "display": null,
            "left": null
          }
        },
        "c1b4a8f9cd174e909adac2272a7b856b": {
          "model_module": "@jupyter-widgets/controls",
          "model_name": "DescriptionStyleModel",
          "state": {
            "_view_name": "StyleView",
            "_model_name": "DescriptionStyleModel",
            "description_width": "",
            "_view_module": "@jupyter-widgets/base",
            "_model_module_version": "1.5.0",
            "_view_count": null,
            "_view_module_version": "1.2.0",
            "_model_module": "@jupyter-widgets/controls"
          }
        },
        "3dd7d53003f6487d9216b95523cd36e0": {
          "model_module": "@jupyter-widgets/base",
          "model_name": "LayoutModel",
          "state": {
            "_view_name": "LayoutView",
            "grid_template_rows": null,
            "right": null,
            "justify_content": null,
            "_view_module": "@jupyter-widgets/base",
            "overflow": null,
            "_model_module_version": "1.2.0",
            "_view_count": null,
            "flex_flow": null,
            "width": null,
            "min_width": null,
            "border": null,
            "align_items": null,
            "bottom": null,
            "_model_module": "@jupyter-widgets/base",
            "top": null,
            "grid_column": null,
            "overflow_y": null,
            "overflow_x": null,
            "grid_auto_flow": null,
            "grid_area": null,
            "grid_template_columns": null,
            "flex": null,
            "_model_name": "LayoutModel",
            "justify_items": null,
            "grid_row": null,
            "max_height": null,
            "align_content": null,
            "visibility": null,
            "align_self": null,
            "height": null,
            "min_height": null,
            "padding": null,
            "grid_auto_rows": null,
            "grid_gap": null,
            "max_width": null,
            "order": null,
            "_view_module_version": "1.2.0",
            "grid_template_areas": null,
            "object_position": null,
            "object_fit": null,
            "grid_auto_columns": null,
            "margin": null,
            "display": null,
            "left": null
          }
        },
        "0d5082f149334cec997ab3dbba7e8bc1": {
          "model_module": "@jupyter-widgets/controls",
          "model_name": "HBoxModel",
          "state": {
            "_view_name": "HBoxView",
            "_dom_classes": [],
            "_model_name": "HBoxModel",
            "_view_module": "@jupyter-widgets/controls",
            "_model_module_version": "1.5.0",
            "_view_count": null,
            "_view_module_version": "1.5.0",
            "box_style": "",
            "layout": "IPY_MODEL_e8b1174f598444ad89553498fc5f4bc7",
            "_model_module": "@jupyter-widgets/controls",
            "children": [
              "IPY_MODEL_193564b7667242c8b35a660e3f8c73e1",
              "IPY_MODEL_77f97576ad01470f91ad33dbc56c3a58"
            ]
          }
        },
        "e8b1174f598444ad89553498fc5f4bc7": {
          "model_module": "@jupyter-widgets/base",
          "model_name": "LayoutModel",
          "state": {
            "_view_name": "LayoutView",
            "grid_template_rows": null,
            "right": null,
            "justify_content": null,
            "_view_module": "@jupyter-widgets/base",
            "overflow": null,
            "_model_module_version": "1.2.0",
            "_view_count": null,
            "flex_flow": "row wrap",
            "width": "100%",
            "min_width": null,
            "border": null,
            "align_items": null,
            "bottom": null,
            "_model_module": "@jupyter-widgets/base",
            "top": null,
            "grid_column": null,
            "overflow_y": null,
            "overflow_x": null,
            "grid_auto_flow": null,
            "grid_area": null,
            "grid_template_columns": null,
            "flex": null,
            "_model_name": "LayoutModel",
            "justify_items": null,
            "grid_row": null,
            "max_height": null,
            "align_content": null,
            "visibility": null,
            "align_self": null,
            "height": null,
            "min_height": null,
            "padding": null,
            "grid_auto_rows": null,
            "grid_gap": null,
            "max_width": null,
            "order": null,
            "_view_module_version": "1.2.0",
            "grid_template_areas": null,
            "object_position": null,
            "object_fit": null,
            "grid_auto_columns": null,
            "margin": null,
            "display": "inline-flex",
            "left": null
          }
        },
        "193564b7667242c8b35a660e3f8c73e1": {
          "model_module": "@jupyter-widgets/controls",
          "model_name": "FloatProgressModel",
          "state": {
            "_view_name": "ProgressView",
            "style": "IPY_MODEL_d9cb1bbb21be4740950976883c2394a5",
            "_dom_classes": [],
            "description": "Validating: 100%",
            "_model_name": "FloatProgressModel",
            "bar_style": "info",
            "max": 625,
            "_view_module": "@jupyter-widgets/controls",
            "_model_module_version": "1.5.0",
            "value": 625,
            "_view_count": null,
            "_view_module_version": "1.5.0",
            "orientation": "horizontal",
            "min": 0,
            "description_tooltip": null,
            "_model_module": "@jupyter-widgets/controls",
            "layout": "IPY_MODEL_f7f2946c45e54e9f84225f7916db809d"
          }
        },
        "77f97576ad01470f91ad33dbc56c3a58": {
          "model_module": "@jupyter-widgets/controls",
          "model_name": "HTMLModel",
          "state": {
            "_view_name": "HTMLView",
            "style": "IPY_MODEL_445e4d15d4074dc29d0f8aa853974a44",
            "_dom_classes": [],
            "description": "",
            "_model_name": "HTMLModel",
            "placeholder": "​",
            "_view_module": "@jupyter-widgets/controls",
            "_model_module_version": "1.5.0",
            "value": " 625/625 [03:04&lt;00:00,  3.40it/s]",
            "_view_count": null,
            "_view_module_version": "1.5.0",
            "description_tooltip": null,
            "_model_module": "@jupyter-widgets/controls",
            "layout": "IPY_MODEL_c9c98c3184f64f078b82427d85cdbd80"
          }
        },
        "d9cb1bbb21be4740950976883c2394a5": {
          "model_module": "@jupyter-widgets/controls",
          "model_name": "ProgressStyleModel",
          "state": {
            "_view_name": "StyleView",
            "_model_name": "ProgressStyleModel",
            "description_width": "initial",
            "_view_module": "@jupyter-widgets/base",
            "_model_module_version": "1.5.0",
            "_view_count": null,
            "_view_module_version": "1.2.0",
            "bar_color": null,
            "_model_module": "@jupyter-widgets/controls"
          }
        },
        "f7f2946c45e54e9f84225f7916db809d": {
          "model_module": "@jupyter-widgets/base",
          "model_name": "LayoutModel",
          "state": {
            "_view_name": "LayoutView",
            "grid_template_rows": null,
            "right": null,
            "justify_content": null,
            "_view_module": "@jupyter-widgets/base",
            "overflow": null,
            "_model_module_version": "1.2.0",
            "_view_count": null,
            "flex_flow": null,
            "width": null,
            "min_width": null,
            "border": null,
            "align_items": null,
            "bottom": null,
            "_model_module": "@jupyter-widgets/base",
            "top": null,
            "grid_column": null,
            "overflow_y": null,
            "overflow_x": null,
            "grid_auto_flow": null,
            "grid_area": null,
            "grid_template_columns": null,
            "flex": "2",
            "_model_name": "LayoutModel",
            "justify_items": null,
            "grid_row": null,
            "max_height": null,
            "align_content": null,
            "visibility": null,
            "align_self": null,
            "height": null,
            "min_height": null,
            "padding": null,
            "grid_auto_rows": null,
            "grid_gap": null,
            "max_width": null,
            "order": null,
            "_view_module_version": "1.2.0",
            "grid_template_areas": null,
            "object_position": null,
            "object_fit": null,
            "grid_auto_columns": null,
            "margin": null,
            "display": null,
            "left": null
          }
        },
        "445e4d15d4074dc29d0f8aa853974a44": {
          "model_module": "@jupyter-widgets/controls",
          "model_name": "DescriptionStyleModel",
          "state": {
            "_view_name": "StyleView",
            "_model_name": "DescriptionStyleModel",
            "description_width": "",
            "_view_module": "@jupyter-widgets/base",
            "_model_module_version": "1.5.0",
            "_view_count": null,
            "_view_module_version": "1.2.0",
            "_model_module": "@jupyter-widgets/controls"
          }
        },
        "c9c98c3184f64f078b82427d85cdbd80": {
          "model_module": "@jupyter-widgets/base",
          "model_name": "LayoutModel",
          "state": {
            "_view_name": "LayoutView",
            "grid_template_rows": null,
            "right": null,
            "justify_content": null,
            "_view_module": "@jupyter-widgets/base",
            "overflow": null,
            "_model_module_version": "1.2.0",
            "_view_count": null,
            "flex_flow": null,
            "width": null,
            "min_width": null,
            "border": null,
            "align_items": null,
            "bottom": null,
            "_model_module": "@jupyter-widgets/base",
            "top": null,
            "grid_column": null,
            "overflow_y": null,
            "overflow_x": null,
            "grid_auto_flow": null,
            "grid_area": null,
            "grid_template_columns": null,
            "flex": null,
            "_model_name": "LayoutModel",
            "justify_items": null,
            "grid_row": null,
            "max_height": null,
            "align_content": null,
            "visibility": null,
            "align_self": null,
            "height": null,
            "min_height": null,
            "padding": null,
            "grid_auto_rows": null,
            "grid_gap": null,
            "max_width": null,
            "order": null,
            "_view_module_version": "1.2.0",
            "grid_template_areas": null,
            "object_position": null,
            "object_fit": null,
            "grid_auto_columns": null,
            "margin": null,
            "display": null,
            "left": null
          }
        },
        "e9a8f9d70d5a4be89cb40745561e02fa": {
          "model_module": "@jupyter-widgets/controls",
          "model_name": "HBoxModel",
          "state": {
            "_view_name": "HBoxView",
            "_dom_classes": [],
            "_model_name": "HBoxModel",
            "_view_module": "@jupyter-widgets/controls",
            "_model_module_version": "1.5.0",
            "_view_count": null,
            "_view_module_version": "1.5.0",
            "box_style": "",
            "layout": "IPY_MODEL_e491a9a861dd49898be127befab2a0a4",
            "_model_module": "@jupyter-widgets/controls",
            "children": [
              "IPY_MODEL_bfa93c2db0764f1394fdb7066377c1e8",
              "IPY_MODEL_7a51b9333f5041868b0bde78678c0403"
            ]
          }
        },
        "e491a9a861dd49898be127befab2a0a4": {
          "model_module": "@jupyter-widgets/base",
          "model_name": "LayoutModel",
          "state": {
            "_view_name": "LayoutView",
            "grid_template_rows": null,
            "right": null,
            "justify_content": null,
            "_view_module": "@jupyter-widgets/base",
            "overflow": null,
            "_model_module_version": "1.2.0",
            "_view_count": null,
            "flex_flow": "row wrap",
            "width": "100%",
            "min_width": null,
            "border": null,
            "align_items": null,
            "bottom": null,
            "_model_module": "@jupyter-widgets/base",
            "top": null,
            "grid_column": null,
            "overflow_y": null,
            "overflow_x": null,
            "grid_auto_flow": null,
            "grid_area": null,
            "grid_template_columns": null,
            "flex": null,
            "_model_name": "LayoutModel",
            "justify_items": null,
            "grid_row": null,
            "max_height": null,
            "align_content": null,
            "visibility": null,
            "align_self": null,
            "height": null,
            "min_height": null,
            "padding": null,
            "grid_auto_rows": null,
            "grid_gap": null,
            "max_width": null,
            "order": null,
            "_view_module_version": "1.2.0",
            "grid_template_areas": null,
            "object_position": null,
            "object_fit": null,
            "grid_auto_columns": null,
            "margin": null,
            "display": "inline-flex",
            "left": null
          }
        },
        "bfa93c2db0764f1394fdb7066377c1e8": {
          "model_module": "@jupyter-widgets/controls",
          "model_name": "FloatProgressModel",
          "state": {
            "_view_name": "ProgressView",
            "style": "IPY_MODEL_80162d3cca0841cb9df7a52617cc0571",
            "_dom_classes": [],
            "description": "Testing: 100%",
            "_model_name": "FloatProgressModel",
            "bar_style": "success",
            "max": 1,
            "_view_module": "@jupyter-widgets/controls",
            "_model_module_version": "1.5.0",
            "value": 1,
            "_view_count": null,
            "_view_module_version": "1.5.0",
            "orientation": "horizontal",
            "min": 0,
            "description_tooltip": null,
            "_model_module": "@jupyter-widgets/controls",
            "layout": "IPY_MODEL_b12ea6da6acd47b2b8aee9fda1970ef0"
          }
        },
        "7a51b9333f5041868b0bde78678c0403": {
          "model_module": "@jupyter-widgets/controls",
          "model_name": "HTMLModel",
          "state": {
            "_view_name": "HTMLView",
            "style": "IPY_MODEL_49b5d365159b47cfbf14123f50834ea5",
            "_dom_classes": [],
            "description": "",
            "_model_name": "HTMLModel",
            "placeholder": "​",
            "_view_module": "@jupyter-widgets/controls",
            "_model_module_version": "1.5.0",
            "value": " 625/625 [03:03&lt;00:00,  3.40it/s]",
            "_view_count": null,
            "_view_module_version": "1.5.0",
            "description_tooltip": null,
            "_model_module": "@jupyter-widgets/controls",
            "layout": "IPY_MODEL_717899fd94a74571a499dcd6a3d56502"
          }
        },
        "80162d3cca0841cb9df7a52617cc0571": {
          "model_module": "@jupyter-widgets/controls",
          "model_name": "ProgressStyleModel",
          "state": {
            "_view_name": "StyleView",
            "_model_name": "ProgressStyleModel",
            "description_width": "initial",
            "_view_module": "@jupyter-widgets/base",
            "_model_module_version": "1.5.0",
            "_view_count": null,
            "_view_module_version": "1.2.0",
            "bar_color": null,
            "_model_module": "@jupyter-widgets/controls"
          }
        },
        "b12ea6da6acd47b2b8aee9fda1970ef0": {
          "model_module": "@jupyter-widgets/base",
          "model_name": "LayoutModel",
          "state": {
            "_view_name": "LayoutView",
            "grid_template_rows": null,
            "right": null,
            "justify_content": null,
            "_view_module": "@jupyter-widgets/base",
            "overflow": null,
            "_model_module_version": "1.2.0",
            "_view_count": null,
            "flex_flow": null,
            "width": null,
            "min_width": null,
            "border": null,
            "align_items": null,
            "bottom": null,
            "_model_module": "@jupyter-widgets/base",
            "top": null,
            "grid_column": null,
            "overflow_y": null,
            "overflow_x": null,
            "grid_auto_flow": null,
            "grid_area": null,
            "grid_template_columns": null,
            "flex": "2",
            "_model_name": "LayoutModel",
            "justify_items": null,
            "grid_row": null,
            "max_height": null,
            "align_content": null,
            "visibility": null,
            "align_self": null,
            "height": null,
            "min_height": null,
            "padding": null,
            "grid_auto_rows": null,
            "grid_gap": null,
            "max_width": null,
            "order": null,
            "_view_module_version": "1.2.0",
            "grid_template_areas": null,
            "object_position": null,
            "object_fit": null,
            "grid_auto_columns": null,
            "margin": null,
            "display": null,
            "left": null
          }
        },
        "49b5d365159b47cfbf14123f50834ea5": {
          "model_module": "@jupyter-widgets/controls",
          "model_name": "DescriptionStyleModel",
          "state": {
            "_view_name": "StyleView",
            "_model_name": "DescriptionStyleModel",
            "description_width": "",
            "_view_module": "@jupyter-widgets/base",
            "_model_module_version": "1.5.0",
            "_view_count": null,
            "_view_module_version": "1.2.0",
            "_model_module": "@jupyter-widgets/controls"
          }
        },
        "717899fd94a74571a499dcd6a3d56502": {
          "model_module": "@jupyter-widgets/base",
          "model_name": "LayoutModel",
          "state": {
            "_view_name": "LayoutView",
            "grid_template_rows": null,
            "right": null,
            "justify_content": null,
            "_view_module": "@jupyter-widgets/base",
            "overflow": null,
            "_model_module_version": "1.2.0",
            "_view_count": null,
            "flex_flow": null,
            "width": null,
            "min_width": null,
            "border": null,
            "align_items": null,
            "bottom": null,
            "_model_module": "@jupyter-widgets/base",
            "top": null,
            "grid_column": null,
            "overflow_y": null,
            "overflow_x": null,
            "grid_auto_flow": null,
            "grid_area": null,
            "grid_template_columns": null,
            "flex": null,
            "_model_name": "LayoutModel",
            "justify_items": null,
            "grid_row": null,
            "max_height": null,
            "align_content": null,
            "visibility": null,
            "align_self": null,
            "height": null,
            "min_height": null,
            "padding": null,
            "grid_auto_rows": null,
            "grid_gap": null,
            "max_width": null,
            "order": null,
            "_view_module_version": "1.2.0",
            "grid_template_areas": null,
            "object_position": null,
            "object_fit": null,
            "grid_auto_columns": null,
            "margin": null,
            "display": null,
            "left": null
          }
        }
      }
    },
    "accelerator": "GPU"
  },
  "cells": [
    {
      "cell_type": "markdown",
      "metadata": {
        "id": "BrxKEHCJilhy"
      },
      "source": [
        "<center> <h1> Machine Learning for Natural Language Processing <h1> <center>"
      ]
    },
    {
      "cell_type": "markdown",
      "metadata": {
        "id": "Fgf8xzXaAPZC"
      },
      "source": [
        "# Introduction"
      ]
    },
    {
      "cell_type": "markdown",
      "metadata": {
        "id": "4-NRc6Y4HMaD"
      },
      "source": [
        "This notebook is the result of a project by Christos Katsoulakis and Eric Lavergne, carried out as part of the Machine Learning for NLP course at Ensae Paris. We chose to focus on the question answering task, with a model which we learned from scratch and then with a pre-trained model using transformers architectures."
      ]
    },
    {
      "cell_type": "markdown",
      "metadata": {
        "id": "JhxPWIzW-EtQ"
      },
      "source": [
        "### Imports"
      ]
    },
    {
      "cell_type": "markdown",
      "metadata": {
        "id": "d9e70oxq-Z7U"
      },
      "source": [
        "We chose to use PyTorch for this project. In particular, we chose to exploit the PyTorch Lightning framework which allows to refactor the code efficiently, and provides tools to quickly improve the training by supporting execution on GPU, optimizing the learning rate, or logging the results."
      ]
    },
    {
      "cell_type": "markdown",
      "metadata": {
        "id": "o53NVidw_2ct"
      },
      "source": [
        "For the use of pre-trained models such as DistilBERT, we used Hugging Face's fantastic library transformers."
      ]
    },
    {
      "cell_type": "code",
      "metadata": {
        "colab": {
          "base_uri": "https://localhost:8080/"
        },
        "id": "aI_ZYxKQYw0b",
        "outputId": "3787cda1-ad0e-4c73-95e0-64591fea3e16"
      },
      "source": [
        "!pip install datasets\n",
        "!pip install transformers\n",
        "!pip install pytorch_lightning"
      ],
      "execution_count": null,
      "outputs": [
        {
          "output_type": "stream",
          "text": [
            "Collecting datasets\n",
            "\u001b[?25l  Downloading https://files.pythonhosted.org/packages/da/d6/a3d2c55b940a7c556e88f5598b401990805fc0f0a28b2fc9870cf0b8c761/datasets-1.6.0-py3-none-any.whl (202kB)\n",
            "\u001b[K     |████████████████████████████████| 204kB 8.2MB/s \n",
            "\u001b[?25hCollecting xxhash\n",
            "\u001b[?25l  Downloading https://files.pythonhosted.org/packages/7d/4f/0a862cad26aa2ed7a7cd87178cbbfa824fc1383e472d63596a0d018374e7/xxhash-2.0.2-cp37-cp37m-manylinux2010_x86_64.whl (243kB)\n",
            "\u001b[K     |████████████████████████████████| 245kB 32.7MB/s \n",
            "\u001b[?25hCollecting huggingface-hub<0.1.0\n",
            "  Downloading https://files.pythonhosted.org/packages/a1/88/7b1e45720ecf59c6c6737ff332f41c955963090a18e72acbcbeac6b25e86/huggingface_hub-0.0.8-py3-none-any.whl\n",
            "Requirement already satisfied: numpy>=1.17 in /usr/local/lib/python3.7/dist-packages (from datasets) (1.19.5)\n",
            "Requirement already satisfied: multiprocess in /usr/local/lib/python3.7/dist-packages (from datasets) (0.70.11.1)\n",
            "Requirement already satisfied: packaging in /usr/local/lib/python3.7/dist-packages (from datasets) (20.9)\n",
            "Requirement already satisfied: pandas in /usr/local/lib/python3.7/dist-packages (from datasets) (1.1.5)\n",
            "Requirement already satisfied: importlib-metadata; python_version < \"3.8\" in /usr/local/lib/python3.7/dist-packages (from datasets) (3.10.1)\n",
            "Requirement already satisfied: tqdm<4.50.0,>=4.27 in /usr/local/lib/python3.7/dist-packages (from datasets) (4.41.1)\n",
            "Requirement already satisfied: requests>=2.19.0 in /usr/local/lib/python3.7/dist-packages (from datasets) (2.23.0)\n",
            "Collecting fsspec\n",
            "\u001b[?25l  Downloading https://files.pythonhosted.org/packages/e9/91/2ef649137816850fa4f4c97c6f2eabb1a79bf0aa2c8ed198e387e373455e/fsspec-2021.4.0-py3-none-any.whl (108kB)\n",
            "\u001b[K     |████████████████████████████████| 112kB 36.0MB/s \n",
            "\u001b[?25hRequirement already satisfied: pyarrow>=1.0.0 in /usr/local/lib/python3.7/dist-packages (from datasets) (3.0.0)\n",
            "Requirement already satisfied: dill in /usr/local/lib/python3.7/dist-packages (from datasets) (0.3.3)\n",
            "Requirement already satisfied: filelock in /usr/local/lib/python3.7/dist-packages (from huggingface-hub<0.1.0->datasets) (3.0.12)\n",
            "Requirement already satisfied: pyparsing>=2.0.2 in /usr/local/lib/python3.7/dist-packages (from packaging->datasets) (2.4.7)\n",
            "Requirement already satisfied: python-dateutil>=2.7.3 in /usr/local/lib/python3.7/dist-packages (from pandas->datasets) (2.8.1)\n",
            "Requirement already satisfied: pytz>=2017.2 in /usr/local/lib/python3.7/dist-packages (from pandas->datasets) (2018.9)\n",
            "Requirement already satisfied: zipp>=0.5 in /usr/local/lib/python3.7/dist-packages (from importlib-metadata; python_version < \"3.8\"->datasets) (3.4.1)\n",
            "Requirement already satisfied: typing-extensions>=3.6.4; python_version < \"3.8\" in /usr/local/lib/python3.7/dist-packages (from importlib-metadata; python_version < \"3.8\"->datasets) (3.7.4.3)\n",
            "Requirement already satisfied: certifi>=2017.4.17 in /usr/local/lib/python3.7/dist-packages (from requests>=2.19.0->datasets) (2020.12.5)\n",
            "Requirement already satisfied: urllib3!=1.25.0,!=1.25.1,<1.26,>=1.21.1 in /usr/local/lib/python3.7/dist-packages (from requests>=2.19.0->datasets) (1.24.3)\n",
            "Requirement already satisfied: idna<3,>=2.5 in /usr/local/lib/python3.7/dist-packages (from requests>=2.19.0->datasets) (2.10)\n",
            "Requirement already satisfied: chardet<4,>=3.0.2 in /usr/local/lib/python3.7/dist-packages (from requests>=2.19.0->datasets) (3.0.4)\n",
            "Requirement already satisfied: six>=1.5 in /usr/local/lib/python3.7/dist-packages (from python-dateutil>=2.7.3->pandas->datasets) (1.15.0)\n",
            "Installing collected packages: xxhash, huggingface-hub, fsspec, datasets\n",
            "Successfully installed datasets-1.6.0 fsspec-2021.4.0 huggingface-hub-0.0.8 xxhash-2.0.2\n",
            "Collecting transformers\n",
            "\u001b[?25l  Downloading https://files.pythonhosted.org/packages/d8/b2/57495b5309f09fa501866e225c84532d1fd89536ea62406b2181933fb418/transformers-4.5.1-py3-none-any.whl (2.1MB)\n",
            "\u001b[K     |████████████████████████████████| 2.1MB 8.1MB/s \n",
            "\u001b[?25hRequirement already satisfied: importlib-metadata; python_version < \"3.8\" in /usr/local/lib/python3.7/dist-packages (from transformers) (3.10.1)\n",
            "Requirement already satisfied: tqdm>=4.27 in /usr/local/lib/python3.7/dist-packages (from transformers) (4.41.1)\n",
            "Requirement already satisfied: packaging in /usr/local/lib/python3.7/dist-packages (from transformers) (20.9)\n",
            "Requirement already satisfied: filelock in /usr/local/lib/python3.7/dist-packages (from transformers) (3.0.12)\n",
            "Requirement already satisfied: requests in /usr/local/lib/python3.7/dist-packages (from transformers) (2.23.0)\n",
            "Collecting tokenizers<0.11,>=0.10.1\n",
            "\u001b[?25l  Downloading https://files.pythonhosted.org/packages/ae/04/5b870f26a858552025a62f1649c20d29d2672c02ff3c3fb4c688ca46467a/tokenizers-0.10.2-cp37-cp37m-manylinux2010_x86_64.whl (3.3MB)\n",
            "\u001b[K     |████████████████████████████████| 3.3MB 53.9MB/s \n",
            "\u001b[?25hRequirement already satisfied: numpy>=1.17 in /usr/local/lib/python3.7/dist-packages (from transformers) (1.19.5)\n",
            "Collecting sacremoses\n",
            "\u001b[?25l  Downloading https://files.pythonhosted.org/packages/75/ee/67241dc87f266093c533a2d4d3d69438e57d7a90abb216fa076e7d475d4a/sacremoses-0.0.45-py3-none-any.whl (895kB)\n",
            "\u001b[K     |████████████████████████████████| 901kB 54.9MB/s \n",
            "\u001b[?25hRequirement already satisfied: regex!=2019.12.17 in /usr/local/lib/python3.7/dist-packages (from transformers) (2019.12.20)\n",
            "Requirement already satisfied: typing-extensions>=3.6.4; python_version < \"3.8\" in /usr/local/lib/python3.7/dist-packages (from importlib-metadata; python_version < \"3.8\"->transformers) (3.7.4.3)\n",
            "Requirement already satisfied: zipp>=0.5 in /usr/local/lib/python3.7/dist-packages (from importlib-metadata; python_version < \"3.8\"->transformers) (3.4.1)\n",
            "Requirement already satisfied: pyparsing>=2.0.2 in /usr/local/lib/python3.7/dist-packages (from packaging->transformers) (2.4.7)\n",
            "Requirement already satisfied: urllib3!=1.25.0,!=1.25.1,<1.26,>=1.21.1 in /usr/local/lib/python3.7/dist-packages (from requests->transformers) (1.24.3)\n",
            "Requirement already satisfied: certifi>=2017.4.17 in /usr/local/lib/python3.7/dist-packages (from requests->transformers) (2020.12.5)\n",
            "Requirement already satisfied: idna<3,>=2.5 in /usr/local/lib/python3.7/dist-packages (from requests->transformers) (2.10)\n",
            "Requirement already satisfied: chardet<4,>=3.0.2 in /usr/local/lib/python3.7/dist-packages (from requests->transformers) (3.0.4)\n",
            "Requirement already satisfied: six in /usr/local/lib/python3.7/dist-packages (from sacremoses->transformers) (1.15.0)\n",
            "Requirement already satisfied: click in /usr/local/lib/python3.7/dist-packages (from sacremoses->transformers) (7.1.2)\n",
            "Requirement already satisfied: joblib in /usr/local/lib/python3.7/dist-packages (from sacremoses->transformers) (1.0.1)\n",
            "Installing collected packages: tokenizers, sacremoses, transformers\n",
            "Successfully installed sacremoses-0.0.45 tokenizers-0.10.2 transformers-4.5.1\n",
            "Collecting pytorch_lightning\n",
            "\u001b[?25l  Downloading https://files.pythonhosted.org/packages/07/0c/e2d52147ac12a77ee4e7fd7deb4b5f334cfb335af9133a0f2780c8bb9a2c/pytorch_lightning-1.2.10-py3-none-any.whl (841kB)\n",
            "\u001b[K     |████████████████████████████████| 849kB 7.7MB/s \n",
            "\u001b[?25hCollecting PyYAML!=5.4.*,>=5.1\n",
            "\u001b[?25l  Downloading https://files.pythonhosted.org/packages/64/c2/b80047c7ac2478f9501676c988a5411ed5572f35d1beff9cae07d321512c/PyYAML-5.3.1.tar.gz (269kB)\n",
            "\u001b[K     |████████████████████████████████| 276kB 16.8MB/s \n",
            "\u001b[?25hRequirement already satisfied: tqdm>=4.41.0 in /usr/local/lib/python3.7/dist-packages (from pytorch_lightning) (4.41.1)\n",
            "Requirement already satisfied: tensorboard!=2.5.0,>=2.2.0 in /usr/local/lib/python3.7/dist-packages (from pytorch_lightning) (2.4.1)\n",
            "Collecting torchmetrics==0.2.0\n",
            "\u001b[?25l  Downloading https://files.pythonhosted.org/packages/3a/42/d984612cabf005a265aa99c8d4ab2958e37b753aafb12f31c81df38751c8/torchmetrics-0.2.0-py3-none-any.whl (176kB)\n",
            "\u001b[K     |████████████████████████████████| 184kB 22.3MB/s \n",
            "\u001b[?25hRequirement already satisfied: packaging in /usr/local/lib/python3.7/dist-packages (from pytorch_lightning) (20.9)\n",
            "Requirement already satisfied: torch>=1.4 in /usr/local/lib/python3.7/dist-packages (from pytorch_lightning) (1.8.1+cu101)\n",
            "Collecting future>=0.17.1\n",
            "\u001b[?25l  Downloading https://files.pythonhosted.org/packages/45/0b/38b06fd9b92dc2b68d58b75f900e97884c45bedd2ff83203d933cf5851c9/future-0.18.2.tar.gz (829kB)\n",
            "\u001b[K     |████████████████████████████████| 829kB 25.5MB/s \n",
            "\u001b[?25hRequirement already satisfied: numpy>=1.16.6 in /usr/local/lib/python3.7/dist-packages (from pytorch_lightning) (1.19.5)\n",
            "Requirement already satisfied: fsspec[http]>=0.8.1 in /usr/local/lib/python3.7/dist-packages (from pytorch_lightning) (2021.4.0)\n",
            "Requirement already satisfied: protobuf>=3.6.0 in /usr/local/lib/python3.7/dist-packages (from tensorboard!=2.5.0,>=2.2.0->pytorch_lightning) (3.12.4)\n",
            "Requirement already satisfied: six>=1.10.0 in /usr/local/lib/python3.7/dist-packages (from tensorboard!=2.5.0,>=2.2.0->pytorch_lightning) (1.15.0)\n",
            "Requirement already satisfied: wheel>=0.26; python_version >= \"3\" in /usr/local/lib/python3.7/dist-packages (from tensorboard!=2.5.0,>=2.2.0->pytorch_lightning) (0.36.2)\n",
            "Requirement already satisfied: requests<3,>=2.21.0 in /usr/local/lib/python3.7/dist-packages (from tensorboard!=2.5.0,>=2.2.0->pytorch_lightning) (2.23.0)\n",
            "Requirement already satisfied: tensorboard-plugin-wit>=1.6.0 in /usr/local/lib/python3.7/dist-packages (from tensorboard!=2.5.0,>=2.2.0->pytorch_lightning) (1.8.0)\n",
            "Requirement already satisfied: google-auth-oauthlib<0.5,>=0.4.1 in /usr/local/lib/python3.7/dist-packages (from tensorboard!=2.5.0,>=2.2.0->pytorch_lightning) (0.4.4)\n",
            "Requirement already satisfied: markdown>=2.6.8 in /usr/local/lib/python3.7/dist-packages (from tensorboard!=2.5.0,>=2.2.0->pytorch_lightning) (3.3.4)\n",
            "Requirement already satisfied: google-auth<2,>=1.6.3 in /usr/local/lib/python3.7/dist-packages (from tensorboard!=2.5.0,>=2.2.0->pytorch_lightning) (1.28.1)\n",
            "Requirement already satisfied: absl-py>=0.4 in /usr/local/lib/python3.7/dist-packages (from tensorboard!=2.5.0,>=2.2.0->pytorch_lightning) (0.12.0)\n",
            "Requirement already satisfied: werkzeug>=0.11.15 in /usr/local/lib/python3.7/dist-packages (from tensorboard!=2.5.0,>=2.2.0->pytorch_lightning) (1.0.1)\n",
            "Requirement already satisfied: grpcio>=1.24.3 in /usr/local/lib/python3.7/dist-packages (from tensorboard!=2.5.0,>=2.2.0->pytorch_lightning) (1.32.0)\n",
            "Requirement already satisfied: setuptools>=41.0.0 in /usr/local/lib/python3.7/dist-packages (from tensorboard!=2.5.0,>=2.2.0->pytorch_lightning) (56.0.0)\n",
            "Requirement already satisfied: pyparsing>=2.0.2 in /usr/local/lib/python3.7/dist-packages (from packaging->pytorch_lightning) (2.4.7)\n",
            "Requirement already satisfied: typing-extensions in /usr/local/lib/python3.7/dist-packages (from torch>=1.4->pytorch_lightning) (3.7.4.3)\n",
            "Collecting aiohttp; extra == \"http\"\n",
            "\u001b[?25l  Downloading https://files.pythonhosted.org/packages/88/c0/5890b4c8b04a79b7360e8fe4490feb0bb3ab179743f199f0e6220cebd568/aiohttp-3.7.4.post0-cp37-cp37m-manylinux2014_x86_64.whl (1.3MB)\n",
            "\u001b[K     |████████████████████████████████| 1.3MB 15.6MB/s \n",
            "\u001b[?25hRequirement already satisfied: urllib3!=1.25.0,!=1.25.1,<1.26,>=1.21.1 in /usr/local/lib/python3.7/dist-packages (from requests<3,>=2.21.0->tensorboard!=2.5.0,>=2.2.0->pytorch_lightning) (1.24.3)\n",
            "Requirement already satisfied: certifi>=2017.4.17 in /usr/local/lib/python3.7/dist-packages (from requests<3,>=2.21.0->tensorboard!=2.5.0,>=2.2.0->pytorch_lightning) (2020.12.5)\n",
            "Requirement already satisfied: idna<3,>=2.5 in /usr/local/lib/python3.7/dist-packages (from requests<3,>=2.21.0->tensorboard!=2.5.0,>=2.2.0->pytorch_lightning) (2.10)\n",
            "Requirement already satisfied: chardet<4,>=3.0.2 in /usr/local/lib/python3.7/dist-packages (from requests<3,>=2.21.0->tensorboard!=2.5.0,>=2.2.0->pytorch_lightning) (3.0.4)\n",
            "Requirement already satisfied: requests-oauthlib>=0.7.0 in /usr/local/lib/python3.7/dist-packages (from google-auth-oauthlib<0.5,>=0.4.1->tensorboard!=2.5.0,>=2.2.0->pytorch_lightning) (1.3.0)\n",
            "Requirement already satisfied: importlib-metadata; python_version < \"3.8\" in /usr/local/lib/python3.7/dist-packages (from markdown>=2.6.8->tensorboard!=2.5.0,>=2.2.0->pytorch_lightning) (3.10.1)\n",
            "Requirement already satisfied: pyasn1-modules>=0.2.1 in /usr/local/lib/python3.7/dist-packages (from google-auth<2,>=1.6.3->tensorboard!=2.5.0,>=2.2.0->pytorch_lightning) (0.2.8)\n",
            "Requirement already satisfied: cachetools<5.0,>=2.0.0 in /usr/local/lib/python3.7/dist-packages (from google-auth<2,>=1.6.3->tensorboard!=2.5.0,>=2.2.0->pytorch_lightning) (4.2.1)\n",
            "Requirement already satisfied: rsa<5,>=3.1.4; python_version >= \"3.6\" in /usr/local/lib/python3.7/dist-packages (from google-auth<2,>=1.6.3->tensorboard!=2.5.0,>=2.2.0->pytorch_lightning) (4.7.2)\n",
            "Collecting multidict<7.0,>=4.5\n",
            "\u001b[?25l  Downloading https://files.pythonhosted.org/packages/7c/a6/4123b8165acbe773d1a8dc8e3f0d1edea16d29f7de018eda769abb56bd30/multidict-5.1.0-cp37-cp37m-manylinux2014_x86_64.whl (142kB)\n",
            "\u001b[K     |████████████████████████████████| 143kB 51.8MB/s \n",
            "\u001b[?25hCollecting yarl<2.0,>=1.0\n",
            "\u001b[?25l  Downloading https://files.pythonhosted.org/packages/f1/62/046834c5fc998c88ab2ef722f5d42122230a632212c8afa76418324f53ff/yarl-1.6.3-cp37-cp37m-manylinux2014_x86_64.whl (294kB)\n",
            "\u001b[K     |████████████████████████████████| 296kB 53.9MB/s \n",
            "\u001b[?25hCollecting async-timeout<4.0,>=3.0\n",
            "  Downloading https://files.pythonhosted.org/packages/e1/1e/5a4441be21b0726c4464f3f23c8b19628372f606755a9d2e46c187e65ec4/async_timeout-3.0.1-py3-none-any.whl\n",
            "Requirement already satisfied: attrs>=17.3.0 in /usr/local/lib/python3.7/dist-packages (from aiohttp; extra == \"http\"->fsspec[http]>=0.8.1->pytorch_lightning) (20.3.0)\n",
            "Requirement already satisfied: oauthlib>=3.0.0 in /usr/local/lib/python3.7/dist-packages (from requests-oauthlib>=0.7.0->google-auth-oauthlib<0.5,>=0.4.1->tensorboard!=2.5.0,>=2.2.0->pytorch_lightning) (3.1.0)\n",
            "Requirement already satisfied: zipp>=0.5 in /usr/local/lib/python3.7/dist-packages (from importlib-metadata; python_version < \"3.8\"->markdown>=2.6.8->tensorboard!=2.5.0,>=2.2.0->pytorch_lightning) (3.4.1)\n",
            "Requirement already satisfied: pyasn1<0.5.0,>=0.4.6 in /usr/local/lib/python3.7/dist-packages (from pyasn1-modules>=0.2.1->google-auth<2,>=1.6.3->tensorboard!=2.5.0,>=2.2.0->pytorch_lightning) (0.4.8)\n",
            "Building wheels for collected packages: PyYAML, future\n",
            "  Building wheel for PyYAML (setup.py) ... \u001b[?25l\u001b[?25hdone\n",
            "  Created wheel for PyYAML: filename=PyYAML-5.3.1-cp37-cp37m-linux_x86_64.whl size=44620 sha256=243b38ddedc4e3ecddbe95fae4d45f12fe21d2df55712b4d29d62b158db49b16\n",
            "  Stored in directory: /root/.cache/pip/wheels/a7/c1/ea/cf5bd31012e735dc1dfea3131a2d5eae7978b251083d6247bd\n",
            "  Building wheel for future (setup.py) ... \u001b[?25l\u001b[?25hdone\n",
            "  Created wheel for future: filename=future-0.18.2-cp37-none-any.whl size=491058 sha256=6d829c140c3ff8bd78d6008c60ae89a3e96ee01e125547c91f6c8be1cced3d14\n",
            "  Stored in directory: /root/.cache/pip/wheels/8b/99/a0/81daf51dcd359a9377b110a8a886b3895921802d2fc1b2397e\n",
            "Successfully built PyYAML future\n",
            "Installing collected packages: PyYAML, torchmetrics, future, pytorch-lightning, multidict, yarl, async-timeout, aiohttp\n",
            "  Found existing installation: PyYAML 3.13\n",
            "    Uninstalling PyYAML-3.13:\n",
            "      Successfully uninstalled PyYAML-3.13\n",
            "  Found existing installation: future 0.16.0\n",
            "    Uninstalling future-0.16.0:\n",
            "      Successfully uninstalled future-0.16.0\n",
            "Successfully installed PyYAML-5.3.1 aiohttp-3.7.4.post0 async-timeout-3.0.1 future-0.18.2 multidict-5.1.0 pytorch-lightning-1.2.10 torchmetrics-0.2.0 yarl-1.6.3\n"
          ],
          "name": "stdout"
        }
      ]
    },
    {
      "cell_type": "code",
      "metadata": {
        "id": "xfnPRGUti94v"
      },
      "source": [
        "import pandas as pd\n",
        "import numpy as np\n",
        "import matplotlib.pyplot as plt\n",
        "import torch\n",
        "import torch.nn as nn\n",
        "from torch.nn import functional as F\n",
        "from torch.utils.data import TensorDataset, DataLoader\n",
        "from transformers import AutoTokenizer, AutoModel\n",
        "from datasets import load_dataset\n",
        "import pytorch_lightning as pl\n",
        "from keras.preprocessing.sequence import pad_sequences\n",
        "import nltk\n",
        "import torchtext"
      ],
      "execution_count": null,
      "outputs": []
    },
    {
      "cell_type": "markdown",
      "metadata": {
        "id": "2q8S8pST00uL"
      },
      "source": [
        "# Data presentation"
      ]
    },
    {
      "cell_type": "markdown",
      "metadata": {
        "id": "N9TGinVsGw5x"
      },
      "source": [
        "We chose to work with the question-answering data from SQuAD 1 and SQuAD 2, which are based on extracts from Wikipedia. \n",
        "\n",
        "We start by downloading SQuAD 1."
      ]
    },
    {
      "cell_type": "code",
      "metadata": {
        "colab": {
          "base_uri": "https://localhost:8080/",
          "height": 282,
          "referenced_widgets": [
            "cf51ac1cda73452bb77489ab3eae6c7c",
            "ab01b352bbb044cfb9e10f7881313042",
            "03af6a4156a0444f841526be32dd365e",
            "79d0363758c04bfcbce5c7051940670c",
            "ded9350f23fb4f66b3ad8fb08fd46cb2",
            "33f0ec21e366479bbabe31d09ec1f6a7",
            "82b48d8d6b754a9bb580047ec7a773fb",
            "b1b10b4c331d4514b972c64a8db92f03",
            "a29a1fd047104519a3663569ef72ce91",
            "ef0a8d4b50f54a33b93a599ff8775f5d",
            "505aef3a3abc4fdb94617929b2b286f6",
            "4abdbde395a744829928db44097c3e7d",
            "58cfe19ea87b44a4ad54f9b84e488864",
            "db59234659d3444b9de5f3c28b74bd72",
            "fb1537229ea148bdbf80a13f3d9975d4",
            "07dbadbce36947ad8464139ac591c567",
            "f2062f07faff49d3bfe388ce9054319c",
            "bd9930ae0945426fa073b9d3b362fd9e",
            "0c5d2cad5d69477caad45adc37343519",
            "03cf33107d214b5c816fd606da28a69b",
            "fd52bf3c6b45487aa407a6cccbb2c8bb",
            "8fd17315c8714e769ded2b00198abf06",
            "2e2525d9d437483abb5f987f01de0bf6",
            "e548ce63c3f54badbe75688418cae711",
            "4bddae6ec27d44dfb26a4606e92749c5",
            "96740315fac9497db586ce2596cd92f8",
            "6a0b1176907f4242a64a33dc0c265c3d",
            "dabd91285d8f499b9e72facf544effed",
            "4174c750072c45d48de12d5647c2502d",
            "e0a7dc0877e44ab483d59a2fac7a2f68",
            "9dee3022d19d4d7ca295728f29d2f2fc",
            "02bd5c37a1144c2fbf1b1b8e6cc78cc1",
            "30b625de810c43458fb15f31d44da945",
            "5d097cb9d8f94e21924c22e2c5fcb921",
            "57193798c16d44b49b3267e0d8ddb014",
            "540c0a5c58834c7f8a61e4cbc7d8fbf3",
            "3bdb4e43f59744828ea09407f9ec3e4a",
            "44cb7a65f1854708a173d55ab009fa4c",
            "e17814cd35ef4215adbcb470e3572751",
            "7f95f61048c64c01bd7c2eaa6da4ccf0",
            "5d6851b687234730a1b3b3fbe5cc5360",
            "a091f096d37d4190a2b9cec3c29f0c74",
            "b5065c0ba075479c991413292ae46393",
            "e90de590cec54f5f95b3df7aef4cbe2f",
            "e7f4ffee66df4bf892b0a149cff0d3c8",
            "d1f0807523a748bb859ccb4b4890a434",
            "149acf06192f4c76ae5b27d6794feaa0",
            "1846907146b046e095887e4f6401e5a5"
          ]
        },
        "id": "RvsLdftYVRGr",
        "outputId": "5afa5502-586d-47bf-8b74-09e26b14f633"
      },
      "source": [
        "#Data loading\n",
        "squad_v1_dataset_train = load_dataset(\"squad\", split=\"train\")\n",
        "squad_v1_dataset_val = load_dataset(\"squad\", split=\"validation\")\n",
        "\n",
        "#Data transformation to DataFrame\n",
        "squad_v1_train_df = pd.DataFrame(squad_v1_dataset_train)\n",
        "squad_v1_val_df = pd.DataFrame(squad_v1_dataset_val)"
      ],
      "execution_count": null,
      "outputs": [
        {
          "output_type": "display_data",
          "data": {
            "application/vnd.jupyter.widget-view+json": {
              "model_id": "cf51ac1cda73452bb77489ab3eae6c7c",
              "version_minor": 0,
              "version_major": 2
            },
            "text/plain": [
              "HBox(children=(FloatProgress(value=0.0, description='Downloading', max=1877.0, style=ProgressStyle(description…"
            ]
          },
          "metadata": {
            "tags": []
          }
        },
        {
          "output_type": "stream",
          "text": [
            "\n"
          ],
          "name": "stdout"
        },
        {
          "output_type": "display_data",
          "data": {
            "application/vnd.jupyter.widget-view+json": {
              "model_id": "a29a1fd047104519a3663569ef72ce91",
              "version_minor": 0,
              "version_major": 2
            },
            "text/plain": [
              "HBox(children=(FloatProgress(value=0.0, description='Downloading', max=955.0, style=ProgressStyle(description_…"
            ]
          },
          "metadata": {
            "tags": []
          }
        },
        {
          "output_type": "stream",
          "text": [
            "\n",
            "Downloading and preparing dataset squad/plain_text (download: 33.51 MiB, generated: 85.75 MiB, post-processed: Unknown size, total: 119.27 MiB) to /root/.cache/huggingface/datasets/squad/plain_text/1.0.0/4fffa6cf76083860f85fa83486ec3028e7e32c342c218ff2a620fc6b2868483a...\n"
          ],
          "name": "stdout"
        },
        {
          "output_type": "display_data",
          "data": {
            "application/vnd.jupyter.widget-view+json": {
              "model_id": "f2062f07faff49d3bfe388ce9054319c",
              "version_minor": 0,
              "version_major": 2
            },
            "text/plain": [
              "HBox(children=(FloatProgress(value=0.0, description='Downloading', max=8116577.0, style=ProgressStyle(descript…"
            ]
          },
          "metadata": {
            "tags": []
          }
        },
        {
          "output_type": "stream",
          "text": [
            "\n"
          ],
          "name": "stdout"
        },
        {
          "output_type": "display_data",
          "data": {
            "application/vnd.jupyter.widget-view+json": {
              "model_id": "4bddae6ec27d44dfb26a4606e92749c5",
              "version_minor": 0,
              "version_major": 2
            },
            "text/plain": [
              "HBox(children=(FloatProgress(value=0.0, description='Downloading', max=1054280.0, style=ProgressStyle(descript…"
            ]
          },
          "metadata": {
            "tags": []
          }
        },
        {
          "output_type": "stream",
          "text": [
            "\n"
          ],
          "name": "stdout"
        },
        {
          "output_type": "display_data",
          "data": {
            "application/vnd.jupyter.widget-view+json": {
              "model_id": "30b625de810c43458fb15f31d44da945",
              "version_minor": 0,
              "version_major": 2
            },
            "text/plain": [
              "HBox(children=(FloatProgress(value=1.0, bar_style='info', max=1.0), HTML(value='')))"
            ]
          },
          "metadata": {
            "tags": []
          }
        },
        {
          "output_type": "stream",
          "text": [
            "\r"
          ],
          "name": "stdout"
        },
        {
          "output_type": "display_data",
          "data": {
            "application/vnd.jupyter.widget-view+json": {
              "model_id": "5d6851b687234730a1b3b3fbe5cc5360",
              "version_minor": 0,
              "version_major": 2
            },
            "text/plain": [
              "HBox(children=(FloatProgress(value=1.0, bar_style='info', max=1.0), HTML(value='')))"
            ]
          },
          "metadata": {
            "tags": []
          }
        },
        {
          "output_type": "stream",
          "text": [
            "\rDataset squad downloaded and prepared to /root/.cache/huggingface/datasets/squad/plain_text/1.0.0/4fffa6cf76083860f85fa83486ec3028e7e32c342c218ff2a620fc6b2868483a. Subsequent calls will reuse this data.\n"
          ],
          "name": "stdout"
        },
        {
          "output_type": "stream",
          "text": [
            "Reusing dataset squad (/root/.cache/huggingface/datasets/squad/plain_text/1.0.0/4fffa6cf76083860f85fa83486ec3028e7e32c342c218ff2a620fc6b2868483a)\n"
          ],
          "name": "stderr"
        }
      ]
    },
    {
      "cell_type": "markdown",
      "metadata": {
        "id": "f74ElnJQIe2c"
      },
      "source": [
        "We can see that the dataset provides a context, a question about this context and an expected answer extracted from the context.\n",
        "\n",
        "The starting position of an answer is indicated in 'answer_start', the position of the end of the answer is not indicated and will be calculated manually in the data processing part."
      ]
    },
    {
      "cell_type": "code",
      "metadata": {
        "colab": {
          "base_uri": "https://localhost:8080/",
          "height": 195
        },
        "id": "bNzHtTuq0ZvS",
        "outputId": "6f4405a0-e3d5-4dc9-8dc3-564b753f8be9"
      },
      "source": [
        "#Training data overview\n",
        "squad_v1_train_df.head()"
      ],
      "execution_count": null,
      "outputs": [
        {
          "output_type": "execute_result",
          "data": {
            "text/html": [
              "<div>\n",
              "<style scoped>\n",
              "    .dataframe tbody tr th:only-of-type {\n",
              "        vertical-align: middle;\n",
              "    }\n",
              "\n",
              "    .dataframe tbody tr th {\n",
              "        vertical-align: top;\n",
              "    }\n",
              "\n",
              "    .dataframe thead th {\n",
              "        text-align: right;\n",
              "    }\n",
              "</style>\n",
              "<table border=\"1\" class=\"dataframe\">\n",
              "  <thead>\n",
              "    <tr style=\"text-align: right;\">\n",
              "      <th></th>\n",
              "      <th>answers</th>\n",
              "      <th>context</th>\n",
              "      <th>id</th>\n",
              "      <th>question</th>\n",
              "      <th>title</th>\n",
              "    </tr>\n",
              "  </thead>\n",
              "  <tbody>\n",
              "    <tr>\n",
              "      <th>0</th>\n",
              "      <td>{'answer_start': [515], 'text': ['Saint Bernad...</td>\n",
              "      <td>Architecturally, the school has a Catholic cha...</td>\n",
              "      <td>5733be284776f41900661182</td>\n",
              "      <td>To whom did the Virgin Mary allegedly appear i...</td>\n",
              "      <td>University_of_Notre_Dame</td>\n",
              "    </tr>\n",
              "    <tr>\n",
              "      <th>1</th>\n",
              "      <td>{'answer_start': [188], 'text': ['a copper sta...</td>\n",
              "      <td>Architecturally, the school has a Catholic cha...</td>\n",
              "      <td>5733be284776f4190066117f</td>\n",
              "      <td>What is in front of the Notre Dame Main Building?</td>\n",
              "      <td>University_of_Notre_Dame</td>\n",
              "    </tr>\n",
              "    <tr>\n",
              "      <th>2</th>\n",
              "      <td>{'answer_start': [279], 'text': ['the Main Bui...</td>\n",
              "      <td>Architecturally, the school has a Catholic cha...</td>\n",
              "      <td>5733be284776f41900661180</td>\n",
              "      <td>The Basilica of the Sacred heart at Notre Dame...</td>\n",
              "      <td>University_of_Notre_Dame</td>\n",
              "    </tr>\n",
              "    <tr>\n",
              "      <th>3</th>\n",
              "      <td>{'answer_start': [381], 'text': ['a Marian pla...</td>\n",
              "      <td>Architecturally, the school has a Catholic cha...</td>\n",
              "      <td>5733be284776f41900661181</td>\n",
              "      <td>What is the Grotto at Notre Dame?</td>\n",
              "      <td>University_of_Notre_Dame</td>\n",
              "    </tr>\n",
              "    <tr>\n",
              "      <th>4</th>\n",
              "      <td>{'answer_start': [92], 'text': ['a golden stat...</td>\n",
              "      <td>Architecturally, the school has a Catholic cha...</td>\n",
              "      <td>5733be284776f4190066117e</td>\n",
              "      <td>What sits on top of the Main Building at Notre...</td>\n",
              "      <td>University_of_Notre_Dame</td>\n",
              "    </tr>\n",
              "  </tbody>\n",
              "</table>\n",
              "</div>"
            ],
            "text/plain": [
              "                                             answers  ...                     title\n",
              "0  {'answer_start': [515], 'text': ['Saint Bernad...  ...  University_of_Notre_Dame\n",
              "1  {'answer_start': [188], 'text': ['a copper sta...  ...  University_of_Notre_Dame\n",
              "2  {'answer_start': [279], 'text': ['the Main Bui...  ...  University_of_Notre_Dame\n",
              "3  {'answer_start': [381], 'text': ['a Marian pla...  ...  University_of_Notre_Dame\n",
              "4  {'answer_start': [92], 'text': ['a golden stat...  ...  University_of_Notre_Dame\n",
              "\n",
              "[5 rows x 5 columns]"
            ]
          },
          "metadata": {
            "tags": []
          },
          "execution_count": 4
        }
      ]
    },
    {
      "cell_type": "markdown",
      "metadata": {
        "id": "PwW-TqfaJJms"
      },
      "source": [
        "The train dataset of SQuAD 1 consists of 87599 context/question/answers triplets."
      ]
    },
    {
      "cell_type": "code",
      "metadata": {
        "colab": {
          "base_uri": "https://localhost:8080/"
        },
        "id": "iwKMlFz2CS_H",
        "outputId": "56a219cc-c558-4392-a47f-23efce15d3ee"
      },
      "source": [
        "#Information on Training data\n",
        "squad_v1_train_df.info()"
      ],
      "execution_count": null,
      "outputs": [
        {
          "output_type": "stream",
          "text": [
            "<class 'pandas.core.frame.DataFrame'>\n",
            "RangeIndex: 87599 entries, 0 to 87598\n",
            "Data columns (total 5 columns):\n",
            " #   Column    Non-Null Count  Dtype \n",
            "---  ------    --------------  ----- \n",
            " 0   answers   87599 non-null  object\n",
            " 1   context   87599 non-null  object\n",
            " 2   id        87599 non-null  object\n",
            " 3   question  87599 non-null  object\n",
            " 4   title     87599 non-null  object\n",
            "dtypes: object(5)\n",
            "memory usage: 3.3+ MB\n"
          ],
          "name": "stdout"
        }
      ]
    },
    {
      "cell_type": "markdown",
      "metadata": {
        "id": "n6SUNn77N1Ps"
      },
      "source": [
        "There is only one ground truth answer given per question."
      ]
    },
    {
      "cell_type": "code",
      "metadata": {
        "id": "cnbDVhaNNzz9",
        "colab": {
          "base_uri": "https://localhost:8080/",
          "height": 298
        },
        "outputId": "4bebeace-91ef-4d3b-f341-d76b60f6200d"
      },
      "source": [
        "#Distribution of numbers of answers per question on Training data\n",
        "nb_answers = []\n",
        "for i in range(len(squad_v1_train_df)):\n",
        "    nb_answers.append(len(squad_v1_train_df[\"answers\"][i][\"text\"]))\n",
        "print(\"Mean number of answers : {}\".format(np.array(nb_answers).mean()))\n",
        "\n",
        "plt.hist(nb_answers, bins=5)\n",
        "plt.title(\"Distribution of numbers of answers per question\")\n",
        "plt.show()"
      ],
      "execution_count": null,
      "outputs": [
        {
          "output_type": "stream",
          "text": [
            "Mean number of answers : 1.0\n"
          ],
          "name": "stdout"
        },
        {
          "output_type": "display_data",
          "data": {
            "image/png": "[encoded data removed]",
            "text/plain": [
              "<Figure size 432x288 with 1 Axes>"
            ]
          },
          "metadata": {
            "tags": [],
            "needs_background": "light"
          }
        }
      ]
    },
    {
      "cell_type": "markdown",
      "metadata": {
        "id": "q6af76COJpkw"
      },
      "source": [
        "The validation dataset provides a context, a question about this context and an expected answer extracted from the context. Contrary to train data, there are several possible answers per question. "
      ]
    },
    {
      "cell_type": "code",
      "metadata": {
        "colab": {
          "base_uri": "https://localhost:8080/",
          "height": 195
        },
        "id": "NJqb9rFR0m62",
        "outputId": "116b0e67-ec6f-4c23-d22b-1c1e9545ca01"
      },
      "source": [
        "#Validation data overview\n",
        "squad_v1_val_df.head()"
      ],
      "execution_count": null,
      "outputs": [
        {
          "output_type": "execute_result",
          "data": {
            "text/html": [
              "<div>\n",
              "<style scoped>\n",
              "    .dataframe tbody tr th:only-of-type {\n",
              "        vertical-align: middle;\n",
              "    }\n",
              "\n",
              "    .dataframe tbody tr th {\n",
              "        vertical-align: top;\n",
              "    }\n",
              "\n",
              "    .dataframe thead th {\n",
              "        text-align: right;\n",
              "    }\n",
              "</style>\n",
              "<table border=\"1\" class=\"dataframe\">\n",
              "  <thead>\n",
              "    <tr style=\"text-align: right;\">\n",
              "      <th></th>\n",
              "      <th>answers</th>\n",
              "      <th>context</th>\n",
              "      <th>id</th>\n",
              "      <th>question</th>\n",
              "      <th>title</th>\n",
              "    </tr>\n",
              "  </thead>\n",
              "  <tbody>\n",
              "    <tr>\n",
              "      <th>0</th>\n",
              "      <td>{'answer_start': [177, 177, 177], 'text': ['De...</td>\n",
              "      <td>Super Bowl 50 was an American football game to...</td>\n",
              "      <td>56be4db0acb8001400a502ec</td>\n",
              "      <td>Which NFL team represented the AFC at Super Bo...</td>\n",
              "      <td>Super_Bowl_50</td>\n",
              "    </tr>\n",
              "    <tr>\n",
              "      <th>1</th>\n",
              "      <td>{'answer_start': [249, 249, 249], 'text': ['Ca...</td>\n",
              "      <td>Super Bowl 50 was an American football game to...</td>\n",
              "      <td>56be4db0acb8001400a502ed</td>\n",
              "      <td>Which NFL team represented the NFC at Super Bo...</td>\n",
              "      <td>Super_Bowl_50</td>\n",
              "    </tr>\n",
              "    <tr>\n",
              "      <th>2</th>\n",
              "      <td>{'answer_start': [403, 355, 355], 'text': ['Sa...</td>\n",
              "      <td>Super Bowl 50 was an American football game to...</td>\n",
              "      <td>56be4db0acb8001400a502ee</td>\n",
              "      <td>Where did Super Bowl 50 take place?</td>\n",
              "      <td>Super_Bowl_50</td>\n",
              "    </tr>\n",
              "    <tr>\n",
              "      <th>3</th>\n",
              "      <td>{'answer_start': [177, 177, 177], 'text': ['De...</td>\n",
              "      <td>Super Bowl 50 was an American football game to...</td>\n",
              "      <td>56be4db0acb8001400a502ef</td>\n",
              "      <td>Which NFL team won Super Bowl 50?</td>\n",
              "      <td>Super_Bowl_50</td>\n",
              "    </tr>\n",
              "    <tr>\n",
              "      <th>4</th>\n",
              "      <td>{'answer_start': [488, 488, 521], 'text': ['go...</td>\n",
              "      <td>Super Bowl 50 was an American football game to...</td>\n",
              "      <td>56be4db0acb8001400a502f0</td>\n",
              "      <td>What color was used to emphasize the 50th anni...</td>\n",
              "      <td>Super_Bowl_50</td>\n",
              "    </tr>\n",
              "  </tbody>\n",
              "</table>\n",
              "</div>"
            ],
            "text/plain": [
              "                                             answers  ...          title\n",
              "0  {'answer_start': [177, 177, 177], 'text': ['De...  ...  Super_Bowl_50\n",
              "1  {'answer_start': [249, 249, 249], 'text': ['Ca...  ...  Super_Bowl_50\n",
              "2  {'answer_start': [403, 355, 355], 'text': ['Sa...  ...  Super_Bowl_50\n",
              "3  {'answer_start': [177, 177, 177], 'text': ['De...  ...  Super_Bowl_50\n",
              "4  {'answer_start': [488, 488, 521], 'text': ['go...  ...  Super_Bowl_50\n",
              "\n",
              "[5 rows x 5 columns]"
            ]
          },
          "metadata": {
            "tags": []
          },
          "execution_count": 7
        }
      ]
    },
    {
      "cell_type": "markdown",
      "metadata": {
        "id": "fVu-OM1eJeUL"
      },
      "source": [
        "The validation dataset of SQuAD 1 consists of 10570 context/question/answers triplets."
      ]
    },
    {
      "cell_type": "code",
      "metadata": {
        "colab": {
          "base_uri": "https://localhost:8080/"
        },
        "id": "wslW_lpFCfr9",
        "outputId": "2b15e88d-8ac9-4770-e479-48780fe6fc6c"
      },
      "source": [
        "#Information on Validation data\n",
        "squad_v1_val_df.info()"
      ],
      "execution_count": null,
      "outputs": [
        {
          "output_type": "stream",
          "text": [
            "<class 'pandas.core.frame.DataFrame'>\n",
            "RangeIndex: 10570 entries, 0 to 10569\n",
            "Data columns (total 5 columns):\n",
            " #   Column    Non-Null Count  Dtype \n",
            "---  ------    --------------  ----- \n",
            " 0   answers   10570 non-null  object\n",
            " 1   context   10570 non-null  object\n",
            " 2   id        10570 non-null  object\n",
            " 3   question  10570 non-null  object\n",
            " 4   title     10570 non-null  object\n",
            "dtypes: object(5)\n",
            "memory usage: 413.0+ KB\n"
          ],
          "name": "stdout"
        }
      ]
    },
    {
      "cell_type": "markdown",
      "metadata": {
        "id": "HbxghIOl_YoT"
      },
      "source": [
        "In validation data, all the questions have at least one answer and the mean number of answers per question is 3."
      ]
    },
    {
      "cell_type": "code",
      "metadata": {
        "id": "1oijo8uBOFWQ",
        "colab": {
          "base_uri": "https://localhost:8080/",
          "height": 314
        },
        "outputId": "be47a356-8e28-43ae-8f74-c67594c9d9f8"
      },
      "source": [
        "#Distribution of numbers of answers per question on Validation data\n",
        "nb_answers = []\n",
        "for i in range(len(squad_v1_val_df)):\n",
        "    nb_answers.append(len(squad_v1_val_df[\"answers\"][i][\"text\"]))\n",
        "print(\"Mean number of answers : {}\".format(np.array(nb_answers).mean()))\n",
        "print(\"Maximum number of answers : {}\".format(np.array(nb_answers).max()))\n",
        "\n",
        "plt.hist(nb_answers, bins=5)\n",
        "plt.title(\"Distribution of numbers of answers per question\")\n",
        "plt.show()"
      ],
      "execution_count": null,
      "outputs": [
        {
          "output_type": "stream",
          "text": [
            "Mean number of answers : 3.285335856196783\n",
            "Maximum number of answers : 6\n"
          ],
          "name": "stdout"
        },
        {
          "output_type": "display_data",
          "data": {
            "image/png": "[encoded data removed]",
            "text/plain": [
              "<Figure size 432x288 with 1 Axes>"
            ]
          },
          "metadata": {
            "tags": [],
            "needs_background": "light"
          }
        }
      ]
    },
    {
      "cell_type": "markdown",
      "metadata": {
        "id": "eBHr6ZeoJ9bb"
      },
      "source": [
        "The SQuAD dataset deals about various subjects such as Anthropology, Canadian Football and Digestion ; this is a goldmine for building a robust system but also an additional difficulty when learning."
      ]
    },
    {
      "cell_type": "code",
      "metadata": {
        "colab": {
          "base_uri": "https://localhost:8080/"
        },
        "id": "IP5z3G-91JuB",
        "outputId": "01bd6cc3-2fcf-49c4-fcae-ba053fe6009a"
      },
      "source": [
        "#List of subjects in training data\n",
        "list_subject = squad_v1_train_df['title'].unique()\n",
        "list_subject.sort()\n",
        "list_subject"
      ],
      "execution_count": null,
      "outputs": [
        {
          "output_type": "execute_result",
          "data": {
            "text/plain": [
              "array(['2008_Sichuan_earthquake', '2008_Summer_Olympics_torch_relay',\n",
              "       '51st_state', 'ASCII', 'A_cappella', 'Adolescence',\n",
              "       'Adult_contemporary_music',\n",
              "       'Affirmative_action_in_the_United_States', 'Age_of_Enlightenment',\n",
              "       'Aircraft_carrier', 'Airport', 'Alaska', 'Alexander_Graham_Bell',\n",
              "       'Alfred_North_Whitehead', 'Alloy', 'Alps', 'Alsace',\n",
              "       'American_Idol', 'Animal', 'Ann_Arbor,_Michigan', 'Annelid',\n",
              "       'Antarctica', 'Antenna_(radio)', 'Anthropology',\n",
              "       'Anti-aircraft_warfare', 'Antibiotics', 'Apollo',\n",
              "       'Appalachian_Mountains', 'Architecture', 'Arena_Football_League',\n",
              "       'Armenia', 'Armenians', 'Arnold_Schwarzenegger', 'Arsenal_F.C.',\n",
              "       'Ashkenazi_Jews', 'Asphalt', 'Aspirated_consonant',\n",
              "       'Association_football', 'Asthma', 'Athanasius_of_Alexandria',\n",
              "       'Atlantic_City,_New_Jersey', 'Avicenna', 'BBC_Television',\n",
              "       'Bacteria', 'Baptists', 'Beer',\n",
              "       'BeiDou_Navigation_Satellite_System', 'Bermuda', 'Bern', 'Beyoncé',\n",
              "       'Bill_%26_Melinda_Gates_Foundation', 'Biodiversity', 'Bird',\n",
              "       'Bird_migration', 'Black_people', 'Boston', 'Botany', 'Brain',\n",
              "       'Bras%C3%ADlia', 'Brigham_Young_University', 'British_Empire',\n",
              "       'British_Isles', 'Buckingham_Palace', 'Buddhism', 'CBC_Television',\n",
              "       'Canadian_Armed_Forces', 'Canadian_football', 'Canon_law',\n",
              "       'Capacitor', 'Capital_punishment_in_the_United_States',\n",
              "       'Cardinal_(Catholicism)', 'Carnival', 'Catalan_language',\n",
              "       'Central_African_Republic', 'Central_Intelligence_Agency',\n",
              "       'Charleston,_South_Carolina', 'Chicago_Cubs', 'Chihuahua_(state)',\n",
              "       'Child_labour', 'Chinese_characters', 'Christian',\n",
              "       'Circadian_rhythm', 'Classical_music', 'Clothing', 'Comcast',\n",
              "       'Comics', 'Communication', 'Communications_in_Somalia',\n",
              "       'Compact_disc', 'Comprehensive_school', 'Computer',\n",
              "       'Computer_security', 'Copper', 'Copyright_infringement',\n",
              "       'Cork_(city)', 'Cotton', 'Crimean_War', 'Crucifixion_of_Jesus',\n",
              "       'Cubism', 'Culture', 'Cyprus', 'Czech_language',\n",
              "       'Data_compression', 'Database', 'Daylight_saving_time', 'Dell',\n",
              "       'Department_store', 'Detroit', 'Dialect', 'Diarrhea', 'Digestion',\n",
              "       'Digimon', 'Dissolution_of_the_Soviet_Union', 'Dog',\n",
              "       'Dominican_Order', 'Dutch_Republic', 'Dutch_language',\n",
              "       'Dwight_D._Eisenhower', 'East_India_Company', 'East_Prussia',\n",
              "       'Economy_of_Greece', 'Edmund_Burke', 'Education', 'Egypt',\n",
              "       'Electric_motor', 'Elevator', 'Elizabeth_II', 'Emotion',\n",
              "       'Empiricism', 'Endangered_Species_Act', 'Energy',\n",
              "       'England_national_football_team', 'Eritrea', 'Estonia',\n",
              "       'Estonian_language', 'Eton_College', 'European_Central_Bank',\n",
              "       'Everton_F.C.', 'Exhibition_game', 'FA_Cup', 'FC_Barcelona',\n",
              "       'Federal_Aviation_Administration',\n",
              "       'Federal_Bureau_of_Investigation', 'Federalism', 'Film_speed',\n",
              "       'Financial_crisis_of_2007%E2%80%9308', 'Florida',\n",
              "       'Flowering_plant', 'Franco-Prussian_War', 'Freemasonry',\n",
              "       'Friedrich_Hayek', 'Frédéric_Chopin', 'Galicia_(Spain)',\n",
              "       'Gamal_Abdel_Nasser', 'Gene', 'General_Electric', 'Genocide',\n",
              "       'Genome', 'Geography_of_the_United_States',\n",
              "       'Geological_history_of_Earth', 'George_VI',\n",
              "       'Georgian_architecture', 'Germans', 'Glacier', 'Glass', 'God',\n",
              "       'Gothic_architecture', 'Gramophone_record', 'Grape',\n",
              "       'Great_Plains', 'Great_power', 'Greece', 'Greeks', 'Green',\n",
              "       'Gregorian_calendar', 'Group_(mathematics)', 'Guam',\n",
              "       'Guinea-Bissau', 'Gymnastics', 'Han_dynasty', 'Hanover',\n",
              "       'Hard_rock', 'Heian_period', 'Hellenistic_period', 'Heresy',\n",
              "       'High-definition_television', 'Himachal_Pradesh',\n",
              "       'Hindu_philosophy', 'History_of_India', 'History_of_science',\n",
              "       'Hokkien', 'House_music', 'Houston', 'Human_Development_Index',\n",
              "       'Humanism', 'Hunter-gatherer', 'Hunting', 'Hyderabad', 'Hydrogen',\n",
              "       'IBM', 'IPod', 'Idealism', 'Identity_(social_science)',\n",
              "       'Imamah_(Shia_doctrine)', 'Immaculate_Conception', 'Immunology',\n",
              "       'Imperial_College_London', 'Incandescent_light_bulb',\n",
              "       'Indigenous_peoples_of_the_Americas', 'Infection', 'Infrared',\n",
              "       'Insect', 'Institute_of_technology', 'Intellectual_property',\n",
              "       'Internet_service_provider', 'Iran', 'Iranian_languages', 'Israel',\n",
              "       'Jehovah%27s_Witnesses', 'Jews', 'John,_King_of_England',\n",
              "       'John_Kerry', 'John_von_Neumann', 'Josip_Broz_Tito', 'Kanye_West',\n",
              "       'Karl_Popper', 'Kathmandu', 'Kievan_Rus%27', 'Korean_War',\n",
              "       'Labour_Party_(UK)', 'Lancashire', 'LaserDisc', 'Late_Middle_Ages',\n",
              "       'Law_of_the_United_States', 'Letter_case',\n",
              "       'Liberal_Party_of_Australia', 'Liberia', 'Light-emitting_diode',\n",
              "       'Lighting', 'List_of_numbered_streets_in_Manhattan', 'Literature',\n",
              "       'London', 'MP3', 'Macintosh', 'Madonna_(entertainer)', 'Madrasa',\n",
              "       'Mali', 'Mammal', 'Mandolin', 'Marshall_Islands', 'Marvel_Comics',\n",
              "       'Mary_(mother_of_Jesus)', 'Materialism', 'Matter', 'Melbourne',\n",
              "       'Memory', 'Mesozoic', 'Mexico_City', 'Miami', 'Middle_Ages',\n",
              "       'Military_history_of_the_United_States',\n",
              "       'Ministry_of_Defence_(United_Kingdom)', 'Modern_history',\n",
              "       'Molotov%E2%80%93Ribbentrop_Pact', 'Montana', 'Montevideo',\n",
              "       'Mosaic', 'Muammar_Gaddafi', 'Multiracial_American',\n",
              "       'Muslim_world', 'Myanmar', 'Myocardial_infarction', 'Namibia',\n",
              "       'Nanjing', 'Napoleon',\n",
              "       'National_Archives_and_Records_Administration', 'Near_East',\n",
              "       'Neoclassical_architecture', 'Neolithic', 'Neptune', 'New_Delhi',\n",
              "       'New_Haven,_Connecticut', 'New_York_City', 'Nigeria',\n",
              "       'Nintendo_Entertainment_System', 'Nonprofit_organization',\n",
              "       'Norfolk_Island', 'North_Carolina', 'Northwestern_University',\n",
              "       'Nutrition', 'Oklahoma', 'Oklahoma_City', 'Old_English',\n",
              "       'On_the_Origin_of_Species', 'Order_of_the_British_Empire',\n",
              "       'Orthodox_Judaism', 'Ottoman_Empire', 'Pacific_War', 'Pain',\n",
              "       'Palermo', 'Paper', 'Paris',\n",
              "       'Party_leaders_of_the_United_States_House_of_Representatives',\n",
              "       'Pesticide', 'Pharmaceutical_industry', 'Philadelphia',\n",
              "       'Philosophy_of_space_and_time', 'Phonology', 'Pitch_(music)',\n",
              "       'Planck_constant', 'PlayStation_3', 'Plymouth', 'Police',\n",
              "       'Political_corruption', 'Political_party', 'Political_philosophy',\n",
              "       'Pope_John_XXIII', 'Pope_Paul_VI', 'Portugal', 'Post-punk',\n",
              "       'Poultry', 'Predation', 'Premier_League', 'Presbyterianism',\n",
              "       'Prime_minister', 'Printed_circuit_board',\n",
              "       'Professional_wrestling', 'Protestantism', 'Pub',\n",
              "       'Punjab,_Pakistan', 'Qing_dynasty', 'Queen_(band)',\n",
              "       'Queen_Victoria', 'Quran', 'Race_(human_categorization)',\n",
              "       'Race_and_ethnicity_in_the_United_States_Census',\n",
              "       'Railway_electrification_system', 'Rajasthan',\n",
              "       'Raleigh,_North_Carolina', 'Red', 'Religion_in_ancient_Rome',\n",
              "       'Renewable_energy_commercialization', 'Republic_of_the_Congo',\n",
              "       'Richard_Feynman', 'Richmond,_Virginia', 'Roman_Republic',\n",
              "       'Royal_Dutch_Shell', 'Royal_Institute_of_British_Architects',\n",
              "       'Royal_assent', 'Rule_of_law',\n",
              "       'Russian_Soviet_Federative_Socialist_Republic', 'Russian_language',\n",
              "       'Sahara', 'Saint_Barth%C3%A9lemy', 'Saint_Helena', 'Samoa',\n",
              "       'Samurai', 'San_Diego', 'Sanskrit', 'Santa_Monica,_California',\n",
              "       'Seattle', 'Separation_of_church_and_state_in_the_United_States',\n",
              "       'Separation_of_powers_under_the_United_States_Constitution',\n",
              "       'Serbo-Croatian', 'Seven_Years%27_War', 'Sexual_orientation',\n",
              "       'Sichuan', 'Sino-Tibetan_relations_during_the_Ming_dynasty',\n",
              "       'Slavs', 'Software_testing', 'Solar_energy', 'Somalis', 'Somerset',\n",
              "       'Sony_Music_Entertainment', 'Southampton', 'Southeast_Asia',\n",
              "       'Southern_Europe', 'Space_Race',\n",
              "       'Spanish_language_in_the_United_States', 'Spectre_(2015_film)',\n",
              "       'St._John%27s,_Newfoundland_and_Labrador', 'States_of_Germany',\n",
              "       'Steven_Spielberg', 'Strasbourg', 'Sumer',\n",
              "       'Super_Nintendo_Entertainment_System', 'Supreme_court',\n",
              "       'Swaziland', 'Switzerland', 'Symbiosis', 'Szlachta', 'Tajikistan',\n",
              "       'Tennessee', 'Textual_criticism', 'The_Blitz', 'The_Bronx',\n",
              "       'The_Legend_of_Zelda:_Twilight_Princess',\n",
              "       'The_Sun_(United_Kingdom)', 'The_Times', 'Thuringia', 'Tibet',\n",
              "       'Time', 'To_Kill_a_Mockingbird', 'Transistor', 'Translation',\n",
              "       'Treaty', 'Tristan_da_Cunha', 'Tuberculosis', 'Tucson,_Arizona',\n",
              "       'Turner_Classic_Movies', 'Tuvalu', 'USB', 'Umayyad_Caliphate',\n",
              "       'Unicode', 'United_Nations_Population_Fund',\n",
              "       'United_States_Air_Force', 'United_States_Army',\n",
              "       'United_States_dollar',\n",
              "       'United_States_presidential_election,_2004', 'Universal_Studios',\n",
              "       'University', 'University_of_Kansas', 'University_of_Notre_Dame',\n",
              "       'Uranium', 'Utrecht', 'Vacuum', 'Valencia', 'Videoconferencing',\n",
              "       'Virgil', 'War_on_Terror', 'Warsaw_Pact',\n",
              "       'Washington_University_in_St._Louis', 'Wayback_Machine',\n",
              "       'Web_browser', 'Westminster_Abbey', 'Windows_8', 'Wood',\n",
              "       'Xbox_360', 'Yale_University', 'YouTube', 'Zhejiang', 'Zinc'],\n",
              "      dtype=object)"
            ]
          },
          "metadata": {
            "tags": []
          },
          "execution_count": 10
        }
      ]
    },
    {
      "cell_type": "markdown",
      "metadata": {
        "id": "UQLRZE_wKr92"
      },
      "source": [
        "The subjects in validation data are not the same as in training data."
      ]
    },
    {
      "cell_type": "code",
      "metadata": {
        "colab": {
          "base_uri": "https://localhost:8080/"
        },
        "id": "HDy112QX1Mly",
        "outputId": "63117f52-f50a-48c7-b7e4-d3ee01264d02"
      },
      "source": [
        "#List of subjects in validation data\n",
        "list_subject = squad_v1_val_df['title'].unique()\n",
        "list_subject.sort()\n",
        "list_subject"
      ],
      "execution_count": null,
      "outputs": [
        {
          "output_type": "execute_result",
          "data": {
            "text/plain": [
              "array(['1973_oil_crisis', 'Amazon_rainforest',\n",
              "       'American_Broadcasting_Company', 'Apollo_program', 'Black_Death',\n",
              "       'Chloroplast', 'Civil_disobedience',\n",
              "       'Computational_complexity_theory', 'Construction', 'Ctenophora',\n",
              "       'Doctor_Who', 'Economic_inequality', 'European_Union_law', 'Force',\n",
              "       'French_and_Indian_War', 'Fresno,_California', 'Genghis_Khan',\n",
              "       'Geology', 'Harvard_University', 'Huguenot', 'Immune_system',\n",
              "       'Imperialism', 'Intergovernmental_Panel_on_Climate_Change',\n",
              "       'Islamism', 'Jacksonville,_Florida', 'Kenya', 'Martin_Luther',\n",
              "       'Newcastle_upon_Tyne', 'Nikola_Tesla', 'Normans', 'Oxygen',\n",
              "       'Packet_switching', 'Pharmacy', 'Prime_number', 'Private_school',\n",
              "       'Rhine', 'Scottish_Parliament', 'Sky_(United_Kingdom)',\n",
              "       'Southern_California', 'Steam_engine', 'Super_Bowl_50', 'Teacher',\n",
              "       'United_Methodist_Church', 'University_of_Chicago',\n",
              "       'Victoria_(Australia)', 'Victoria_and_Albert_Museum', 'Warsaw',\n",
              "       'Yuan_dynasty'], dtype=object)"
            ]
          },
          "metadata": {
            "tags": []
          },
          "execution_count": 11
        }
      ]
    },
    {
      "cell_type": "markdown",
      "metadata": {
        "id": "tdxll8-RLNCp"
      },
      "source": [
        "Now let's look for instance at context, questions and answers related to Antartica."
      ]
    },
    {
      "cell_type": "code",
      "metadata": {
        "colab": {
          "base_uri": "https://localhost:8080/",
          "height": 402
        },
        "id": "01YyXDMS1MnQ",
        "outputId": "a291cddf-1700-44b3-c723-538f5eac022a"
      },
      "source": [
        "#Data related to Antarctica\n",
        "squad_v1_train_df.loc[squad_v1_train_df['title']=='Antarctica']"
      ],
      "execution_count": null,
      "outputs": [
        {
          "output_type": "execute_result",
          "data": {
            "text/html": [
              "<div>\n",
              "<style scoped>\n",
              "    .dataframe tbody tr th:only-of-type {\n",
              "        vertical-align: middle;\n",
              "    }\n",
              "\n",
              "    .dataframe tbody tr th {\n",
              "        vertical-align: top;\n",
              "    }\n",
              "\n",
              "    .dataframe thead th {\n",
              "        text-align: right;\n",
              "    }\n",
              "</style>\n",
              "<table border=\"1\" class=\"dataframe\">\n",
              "  <thead>\n",
              "    <tr style=\"text-align: right;\">\n",
              "      <th></th>\n",
              "      <th>answers</th>\n",
              "      <th>context</th>\n",
              "      <th>id</th>\n",
              "      <th>question</th>\n",
              "      <th>title</th>\n",
              "    </tr>\n",
              "  </thead>\n",
              "  <tbody>\n",
              "    <tr>\n",
              "      <th>30928</th>\n",
              "      <td>{'answer_start': [160], 'text': ['desert']}</td>\n",
              "      <td>Antarctica, on average, is the coldest, driest...</td>\n",
              "      <td>570c2257ec8fbc190045bc62</td>\n",
              "      <td>What type of land is Antarctica considered to be?</td>\n",
              "      <td>Antarctica</td>\n",
              "    </tr>\n",
              "    <tr>\n",
              "      <th>30929</th>\n",
              "      <td>{'answer_start': [202], 'text': ['200 mm (8 in...</td>\n",
              "      <td>Antarctica, on average, is the coldest, driest...</td>\n",
              "      <td>570c2257ec8fbc190045bc63</td>\n",
              "      <td>What is Antarctica's annual precipitation alon...</td>\n",
              "      <td>Antarctica</td>\n",
              "    </tr>\n",
              "    <tr>\n",
              "      <th>30930</th>\n",
              "      <td>{'answer_start': [392], 'text': ['−63 °C (−81 ...</td>\n",
              "      <td>Antarctica, on average, is the coldest, driest...</td>\n",
              "      <td>570c2257ec8fbc190045bc64</td>\n",
              "      <td>What is Antarctica's average temperature durin...</td>\n",
              "      <td>Antarctica</td>\n",
              "    </tr>\n",
              "    <tr>\n",
              "      <th>30931</th>\n",
              "      <td>{'answer_start': [453], 'text': ['anywhere fro...</td>\n",
              "      <td>Antarctica, on average, is the coldest, driest...</td>\n",
              "      <td>570c2257ec8fbc190045bc65</td>\n",
              "      <td>Approximately how many people live throughout ...</td>\n",
              "      <td>Antarctica</td>\n",
              "    </tr>\n",
              "    <tr>\n",
              "      <th>30932</th>\n",
              "      <td>{'answer_start': [697], 'text': ['mites, nemat...</td>\n",
              "      <td>Antarctica, on average, is the coldest, driest...</td>\n",
              "      <td>570c2257ec8fbc190045bc66</td>\n",
              "      <td>What are some animals native to Antarctica?</td>\n",
              "      <td>Antarctica</td>\n",
              "    </tr>\n",
              "    <tr>\n",
              "      <th>...</th>\n",
              "      <td>...</td>\n",
              "      <td>...</td>\n",
              "      <td>...</td>\n",
              "      <td>...</td>\n",
              "      <td>...</td>\n",
              "    </tr>\n",
              "    <tr>\n",
              "      <th>31153</th>\n",
              "      <td>{'answer_start': [120], 'text': ['Geologists']}</td>\n",
              "      <td>Researchers include biologists, geologists, oc...</td>\n",
              "      <td>570e1f340dc6ce1900204dc9</td>\n",
              "      <td>What group of scientists study tectonics?</td>\n",
              "      <td>Antarctica</td>\n",
              "    </tr>\n",
              "    <tr>\n",
              "      <th>31154</th>\n",
              "      <td>{'answer_start': [397], 'text': ['Biologists']}</td>\n",
              "      <td>Researchers include biologists, geologists, oc...</td>\n",
              "      <td>570e1f340dc6ce1900204dcb</td>\n",
              "      <td>Who is interested in the effects of harsh envi...</td>\n",
              "      <td>Antarctica</td>\n",
              "    </tr>\n",
              "    <tr>\n",
              "      <th>31155</th>\n",
              "      <td>{'answer_start': [254], 'text': ['Glaciologist...</td>\n",
              "      <td>Researchers include biologists, geologists, oc...</td>\n",
              "      <td>570e1f340dc6ce1900204dca</td>\n",
              "      <td>Which science is concerned with the study of t...</td>\n",
              "      <td>Antarctica</td>\n",
              "    </tr>\n",
              "    <tr>\n",
              "      <th>31156</th>\n",
              "      <td>{'answer_start': [851], 'text': ['astronomical']}</td>\n",
              "      <td>Researchers include biologists, geologists, oc...</td>\n",
              "      <td>570e1f340dc6ce1900204dcc</td>\n",
              "      <td>What kind of observations use  the high elevat...</td>\n",
              "      <td>Antarctica</td>\n",
              "    </tr>\n",
              "    <tr>\n",
              "      <th>31157</th>\n",
              "      <td>{'answer_start': [1347], 'text': ['Amundsen–Sc...</td>\n",
              "      <td>Researchers include biologists, geologists, oc...</td>\n",
              "      <td>570e1f340dc6ce1900204dcd</td>\n",
              "      <td>Where is the largest neutrino telescope on Earth?</td>\n",
              "      <td>Antarctica</td>\n",
              "    </tr>\n",
              "  </tbody>\n",
              "</table>\n",
              "<p>230 rows × 5 columns</p>\n",
              "</div>"
            ],
            "text/plain": [
              "                                                 answers  ...       title\n",
              "30928        {'answer_start': [160], 'text': ['desert']}  ...  Antarctica\n",
              "30929  {'answer_start': [202], 'text': ['200 mm (8 in...  ...  Antarctica\n",
              "30930  {'answer_start': [392], 'text': ['−63 °C (−81 ...  ...  Antarctica\n",
              "30931  {'answer_start': [453], 'text': ['anywhere fro...  ...  Antarctica\n",
              "30932  {'answer_start': [697], 'text': ['mites, nemat...  ...  Antarctica\n",
              "...                                                  ...  ...         ...\n",
              "31153    {'answer_start': [120], 'text': ['Geologists']}  ...  Antarctica\n",
              "31154    {'answer_start': [397], 'text': ['Biologists']}  ...  Antarctica\n",
              "31155  {'answer_start': [254], 'text': ['Glaciologist...  ...  Antarctica\n",
              "31156  {'answer_start': [851], 'text': ['astronomical']}  ...  Antarctica\n",
              "31157  {'answer_start': [1347], 'text': ['Amundsen–Sc...  ...  Antarctica\n",
              "\n",
              "[230 rows x 5 columns]"
            ]
          },
          "metadata": {
            "tags": []
          },
          "execution_count": 12
        }
      ]
    },
    {
      "cell_type": "code",
      "metadata": {
        "colab": {
          "base_uri": "https://localhost:8080/"
        },
        "id": "B2Z1vBca4rVo",
        "outputId": "e6fbe294-6417-44e6-d4b9-ff821b8f96ed"
      },
      "source": [
        "#Questions and answers related to a context from Antarctica\n",
        "print(\"context: \\n\", squad_v1_train_df.loc[squad_v1_train_df['title']=='Antarctica', 'context'].iloc[0], \"\\n\")\n",
        "for i in [0, 2, 3, 5, 8]:\n",
        "    print(\"question:\", squad_v1_train_df.loc[squad_v1_train_df['title']=='Antarctica', 'question'].iloc[i])\n",
        "    print(\"answer:\", squad_v1_train_df.loc[squad_v1_train_df['title']=='Antarctica', 'answers'].iloc[i]['text'], \"\\n\")"
      ],
      "execution_count": null,
      "outputs": [
        {
          "output_type": "stream",
          "text": [
            "context: \n",
            " Antarctica, on average, is the coldest, driest, and windiest continent, and has the highest average elevation of all the continents. Antarctica is considered a desert, with annual precipitation of only 200 mm (8 in) along the coast and far less inland. The temperature in Antarctica has reached −89.2 °C (−128.6 °F), though the average for the third quarter (the coldest part of the year) is −63 °C (−81 °F). There are no permanent human residents, but anywhere from 1,000 to 5,000 people reside throughout the year at the research stations scattered across the continent. Organisms native to Antarctica include many types of algae, bacteria, fungi, plants, protista, and certain animals, such as mites, nematodes, penguins, seals and tardigrades. Vegetation, where it occurs, is tundra. \n",
            "\n",
            "question: What type of land is Antarctica considered to be?\n",
            "answer: ['desert'] \n",
            "\n",
            "question: What is Antarctica's average temperature during the coldest part of the year?\n",
            "answer: ['−63 °C (−81 °F)'] \n",
            "\n",
            "question: Approximately how many people live throughout the year at research stations across Antarctica?\n",
            "answer: ['anywhere from 1,000 to 5,000'] \n",
            "\n",
            "question: Which continent is the highest in elevation?\n",
            "answer: ['Antarctica'] \n",
            "\n",
            "question: What is the coldest recorded temperature?\n",
            "answer: ['−89.2 °C'] \n",
            "\n"
          ],
          "name": "stdout"
        }
      ]
    },
    {
      "cell_type": "markdown",
      "metadata": {
        "id": "C2iLqmg_Gh4D"
      },
      "source": [
        "# Data preprocessing functions"
      ]
    },
    {
      "cell_type": "markdown",
      "metadata": {
        "id": "xUU1CPDiLpIY"
      },
      "source": [
        "We have to do several operations on raw data to be able to use it efficiently for our training. Firstly, we have to tokenize texts from concatenated question and answer separated by a [SEP] token, using appropriated tokenizer for the model to train. We make all sequences being the same size with padding. Moreover, because the positions of the answers start to extract are expressed in caracters, we have to translate them in terms of tokens used by the model. We also have to determine manually the end of answers.\n",
        "\n",
        "A function is dedicated to validation data to take into account that several answers are possible."
      ]
    },
    {
      "cell_type": "code",
      "metadata": {
        "id": "SWkxr5ZUn6oa"
      },
      "source": [
        "def prepare_train_squad_data(squad_df, tokenizer, max_length):\n",
        "    \n",
        "    squad_df[\"answers\"] = squad_df[\"answers\"]\\\n",
        "    .apply(lambda x: {**x, **{\"answer_stop\": [x[\"answer_start\"][0] + len(x[\"text\"][0]) - 1]\\\n",
        "                               if len(x[\"answer_start\"])!=0 else []}})\n",
        "    \n",
        "    tokens_ids = []\n",
        "    masks = []\n",
        "    start_token_positions = []\n",
        "    end_token_positions = []\n",
        "\n",
        "    for ind, (context, question, answer) in enumerate(zip(list(squad_df[\"context\"]), list(squad_df[\"question\"]), list(squad_df[\"answers\"]))):\n",
        "\n",
        "        tokenized = tokenizer(context, question, padding=\"max_length\", truncation=\"only_first\", max_length=max_length)\n",
        "\n",
        "        if tokenized == None:\n",
        "            squad_df = squad_df.drop(ind, axis=0)\n",
        "        else:\n",
        "            tokens_ids.append(tokenized[\"input_ids\"])\n",
        "            masks.append(tokenized[\"attention_mask\"])\n",
        "\n",
        "            if len(answer[\"answer_start\"]) == 0:\n",
        "                start_token_positions.append(0)\n",
        "                end_token_positions.append(0)\n",
        "            else:\n",
        "                start = answer[\"answer_start\"][0]\n",
        "                end = answer[\"answer_stop\"][0]\n",
        "                tokenized_start = tokenizer(context[:int(start)], max_length=max_length)['input_ids']\n",
        "                tokenized_end = tokenizer(context[start: end+1], max_length=max_length)['input_ids']\n",
        "                start_token_position = len(tokenized_start) - 1\n",
        "                end_token_position = start_token_position + len(tokenized_end) - 3\n",
        "                start_token_positions.append(start_token_position)\n",
        "                end_token_positions.append(end_token_position)\n",
        "\n",
        "    tokens_ids = torch.tensor(np.array(tokens_ids))\n",
        "    masks = torch.tensor(np.array(masks))\n",
        "    start_token_positions = torch.tensor(np.array(start_token_positions))\n",
        "    end_token_positions = torch.tensor(np.array(end_token_positions))\n",
        "\n",
        "    return tokens_ids, masks, start_token_positions, end_token_positions"
      ],
      "execution_count": null,
      "outputs": []
    },
    {
      "cell_type": "code",
      "metadata": {
        "id": "bnPjzBndfBUe"
      },
      "source": [
        "def prepare_val_squad_data(squad_df, tokenizer, max_length):\n",
        "\n",
        "    squad_df[\"answers\"] = squad_df[\"answers\"]\\\n",
        "    .apply(lambda x: {**x, **{\"answer_stop\": [x[\"answer_start\"][i] + len(x[\"text\"][i]) - 1\\\n",
        "                              for i in range(len(x[\"answer_start\"]))] if len(x[\"answer_start\"])!=0 else [] }})\n",
        "    \n",
        "    tokens_ids = []\n",
        "    masks = []\n",
        "\n",
        "    max_nb_answers = 6\n",
        "    start_end_token_positions = np.ones((len(squad_df), max_nb_answers, 2))*(-1)\n",
        "    i = 0\n",
        "\n",
        "    for ind, (context, question, answer) in enumerate(zip(list(squad_df[\"context\"]), list(squad_df[\"question\"]), list(squad_df[\"answers\"]))):\n",
        "\n",
        "        tokenized = tokenizer(context, question, padding=\"max_length\", truncation=\"only_first\", max_length=max_length)\n",
        "\n",
        "        if tokenized == None:\n",
        "            squad_df = squad_df.drop(ind, axis=0)\n",
        "        else:\n",
        "            tokens_ids.append(tokenized[\"input_ids\"])\n",
        "            masks.append(tokenized[\"attention_mask\"])\n",
        "\n",
        "            if len(answer[\"answer_start\"]) == 0:\n",
        "                start_end_token_positions[i][0][0] = 0\n",
        "                start_end_token_positions[i][0][1] = 0\n",
        "            else :\n",
        "                for j in range(len(answer[\"answer_start\"])):\n",
        "                    start = answer[\"answer_start\"][j]\n",
        "                    end = answer[\"answer_stop\"][j]\n",
        "                    tokenized_start = tokenizer(context[:int(start)], max_length=max_length)['input_ids']\n",
        "                    tokenized_end = tokenizer(context[start: end+1], max_length=max_length)['input_ids']\n",
        "                    start_token_position = len(tokenized_start) - 1\n",
        "                    end_token_position = start_token_position + len(tokenized_end) - 3\n",
        "                    start_end_token_positions[i][j][0] = start_token_position\n",
        "                    start_end_token_positions[i][j][1] = end_token_position\n",
        "\n",
        "            i += 1\n",
        "\n",
        "    tokens_ids = torch.tensor(np.array(tokens_ids))\n",
        "    masks = torch.tensor(np.array(masks))\n",
        "    start_end_token_positions = torch.tensor(np.array(start_end_token_positions[:i]))\n",
        "\n",
        "    return tokens_ids, masks, start_end_token_positions"
      ],
      "execution_count": null,
      "outputs": []
    },
    {
      "cell_type": "code",
      "metadata": {
        "id": "X4xfoQpVRu1x"
      },
      "source": [
        "def prepare_train_squad_data_bert(squad_df):\n",
        "\n",
        "    squad_df[\"answers\"] = squad_df[\"answers\"]\\\n",
        "    .apply(lambda x: {**x, **{\"answer_stop\": [x[\"answer_start\"][0] + len(x[\"text\"][0]) - 1]\\\n",
        "                               if len(x[\"answer_start\"])!=0 else []}})\n",
        "    \n",
        "    tokens_ids = []\n",
        "    masks = []\n",
        "\n",
        "    for context, question in zip(list(squad_df[\"context\"]), list(squad_df[\"question\"])):\n",
        "        tokenized = tokenizer(context, question, padding=\"max_length\", truncation=\"only_first\", max_length=512)\n",
        "        tokens_ids.append(tokenized[\"input_ids\"])\n",
        "        masks.append(tokenized[\"attention_mask\"])\n",
        "\n",
        "    tokens_ids = torch.tensor(np.array(tokens_ids))\n",
        "    masks = torch.tensor(np.array(masks))\n",
        "\n",
        "    start_token_positions = []\n",
        "    end_token_positions = []\n",
        "    \n",
        "    for context, answer in zip(list(squad_df[\"context\"]), list(squad_df[\"answers\"])):\n",
        "        \n",
        "        if len(answer[\"answer_start\"]) == 0:\n",
        "            start_token_positions.append(0)\n",
        "            end_token_positions.append(0)\n",
        "        else :\n",
        "            start = answer[\"answer_start\"][0]\n",
        "            end = answer[\"answer_stop\"][0]\n",
        "            start_token_position = len(tokenizer(context[:int(start)])[\"input_ids\"]) - 1\n",
        "            end_token_position = start_token_position + len(tokenizer(context[start: end+1])[\"input_ids\"]) - 3\n",
        "            if end_token_position>=512:\n",
        "                start_token_position = 0\n",
        "                end_token_position = 0\n",
        "            start_token_positions.append(start_token_position)\n",
        "            end_token_positions.append(end_token_position)\n",
        "\n",
        "    start_token_positions = torch.tensor(np.array(start_token_positions))\n",
        "    end_token_positions = torch.tensor(np.array(end_token_positions))\n",
        "\n",
        "    return tokens_ids, masks, start_token_positions, end_token_positions"
      ],
      "execution_count": null,
      "outputs": []
    },
    {
      "cell_type": "code",
      "metadata": {
        "id": "yG3DVc75PXwU"
      },
      "source": [
        "def prepare_val_squad_data_bert(squad_df):\n",
        "\n",
        "    squad_df[\"answers\"] = squad_df[\"answers\"]\\\n",
        "    .apply(lambda x: {**x, **{\"answer_stop\": [x[\"answer_start\"][i] + len(x[\"text\"][i]) - 1\\\n",
        "                              for i in range(len(x[\"answer_start\"]))] if len(x[\"answer_start\"])!=0 else [] }})\n",
        "    \n",
        "    tokens_ids = []\n",
        "    masks = []\n",
        "\n",
        "    for context, question in zip(list(squad_df[\"context\"]), list(squad_df[\"question\"])):\n",
        "        tokenized = tokenizer(context, question, padding=\"max_length\", truncation=\"only_first\", max_length=512)\n",
        "        tokens_ids.append(tokenized[\"input_ids\"])\n",
        "        masks.append(tokenized[\"attention_mask\"])\n",
        "\n",
        "    tokens_ids = torch.tensor(np.array(tokens_ids))\n",
        "    masks = torch.tensor(np.array(masks))\n",
        "    \n",
        "    max_nb_answers = 6\n",
        "    start_end_token_positions = np.ones((len(squad_df),max_nb_answers, 2))*(-1)\n",
        "\n",
        "    for i, (context, answer) in enumerate(zip(list(squad_df[\"context\"]), list(squad_df[\"answers\"]))):\n",
        "      \n",
        "        if len(answer[\"answer_start\"]) == 0:\n",
        "            start_end_token_positions[i][0][0] = 0\n",
        "            start_end_token_positions[i][0][1] = 0\n",
        "        else :\n",
        "            for j in range(len(answer[\"answer_start\"])):\n",
        "                start = answer[\"answer_start\"][j]\n",
        "                end = answer[\"answer_stop\"][j]\n",
        "                start_token_position = len(tokenizer(context[:int(start)])[\"input_ids\"]) - 1\n",
        "                end_token_position = start_token_position + len(tokenizer(context[start: end+1])[\"input_ids\"]) - 3\n",
        "                if end_token_position>=512:\n",
        "                    start_token_position = 0\n",
        "                    end_token_position = 0\n",
        "                start_end_token_positions[i][j][0] = start_token_position\n",
        "                start_end_token_positions[i][j][1] = end_token_position\n",
        "\n",
        "    start_end_token_positions = torch.tensor(np.array(start_end_token_positions))\n",
        "\n",
        "    return tokens_ids, masks, start_end_token_positions"
      ],
      "execution_count": null,
      "outputs": []
    },
    {
      "cell_type": "markdown",
      "metadata": {
        "id": "mdHS2E-FBEQj"
      },
      "source": [
        "# Metrics"
      ]
    },
    {
      "cell_type": "markdown",
      "metadata": {
        "id": "TlynU-mABT4i"
      },
      "source": [
        "To quantitatively evaluate the performance of a question-answering model, two metrics predominate: Exact Matching and F1 Score. \n",
        "\n",
        "The Exact Matching is simply the proportion of anwers extracted by the model that correspond exactly to the expected answer.\n",
        "\n",
        "The F1 Score is the harmonic mean between precision (the number of shared words between the expected answer and the prediction, divided by the total number of words in the prediction) and recall (the number of shared words, divided by the total number of words in the expected answer)."
      ]
    },
    {
      "cell_type": "code",
      "metadata": {
        "id": "TD1jyjvjFGf-"
      },
      "source": [
        "def exact_matching(start_and_end_predicted, start_end_true):\n",
        "    start_predicted = start_and_end_predicted[:,0]\n",
        "    end_predicted = start_and_end_predicted[:,1]\n",
        "    batch_size = len(start_predicted)\n",
        "    tot_matching = 0\n",
        "    for i in range(batch_size):\n",
        "        max_matching = 0\n",
        "        for start_true, end_true in start_end_true[i]:\n",
        "            local_matching = (start_true == start_predicted[i])*(end_true == end_predicted[i])*1.0\n",
        "            if local_matching > max_matching:\n",
        "                max_matching = local_matching\n",
        "        tot_matching += max_matching\n",
        "    tot_matching /= batch_size\n",
        "    return tot_matching\n",
        "\n",
        "def qa_f1_score(start_and_end_predicted, start_end_true):\n",
        "    batch_size = len(start_and_end_predicted)\n",
        "    mean_qa_f1_s = 0\n",
        "    for i in range(batch_size):\n",
        "        start_predicted, end_predicted = start_and_end_predicted[i]\n",
        "        predicted_span = end_predicted + 1 - start_predicted\n",
        "        max_qa_f1_s = 0\n",
        "        for start_true, end_true in start_end_true[i]:\n",
        "            true_span = end_true + 1 - start_true\n",
        "            nb_shared_words = max(0, min(end_true, end_predicted) + 1 - max(start_true, start_predicted))\n",
        "            recall = (nb_shared_words / predicted_span) if predicted_span>0 else 0\n",
        "            precision = (nb_shared_words / true_span)\n",
        "            qa_f1_s = 2*recall*precision/(recall+precision) if (recall+precision) != 0 else 0\n",
        "\n",
        "            if qa_f1_s > max_qa_f1_s:\n",
        "                max_qa_f1_s = qa_f1_s\n",
        "        \n",
        "        mean_qa_f1_s += max_qa_f1_s\n",
        "    mean_qa_f1_s /= batch_size\n",
        "    return mean_qa_f1_s"
      ],
      "execution_count": null,
      "outputs": []
    },
    {
      "cell_type": "markdown",
      "metadata": {
        "id": "3XAO9lOpQ6t7"
      },
      "source": [
        "# Transformer-based from scratch"
      ]
    },
    {
      "cell_type": "markdown",
      "metadata": {
        "id": "gp_cwE4PbQsG"
      },
      "source": [
        "One of the two main options we chose is to train from scratch a light transformer to perform extractive question answering."
      ]
    },
    {
      "cell_type": "markdown",
      "metadata": {
        "id": "7TlQHUUyPW0T"
      },
      "source": [
        "## Downloading Glove embeddings"
      ]
    },
    {
      "cell_type": "markdown",
      "metadata": {
        "id": "Bp2fimvVbc2P"
      },
      "source": [
        "Actually, we did not train everything from scratch as we chose to use Glove embeddings vectors pretrained on Wikipedia as the input of the transformer."
      ]
    },
    {
      "cell_type": "code",
      "metadata": {
        "colab": {
          "base_uri": "https://localhost:8080/"
        },
        "id": "9F4Ww12Wwr9P",
        "outputId": "7f6d0146-fbe7-40c3-e40e-5e1c808cc112"
      },
      "source": [
        "!wget http://nlp.stanford.edu/data/glove.6B.zip\n",
        "!unzip glove*.zip"
      ],
      "execution_count": null,
      "outputs": [
        {
          "output_type": "stream",
          "text": [
            "--2021-04-24 16:25:08--  http://nlp.stanford.edu/data/glove.6B.zip\n",
            "Resolving nlp.stanford.edu (nlp.stanford.edu)... 171.64.67.140\n",
            "Connecting to nlp.stanford.edu (nlp.stanford.edu)|171.64.67.140|:80... connected.\n",
            "HTTP request sent, awaiting response... 302 Found\n",
            "Location: https://nlp.stanford.edu/data/glove.6B.zip [following]\n",
            "--2021-04-24 16:25:08--  https://nlp.stanford.edu/data/glove.6B.zip\n",
            "Connecting to nlp.stanford.edu (nlp.stanford.edu)|171.64.67.140|:443... connected.\n",
            "HTTP request sent, awaiting response... 301 Moved Permanently\n",
            "Location: http://downloads.cs.stanford.edu/nlp/data/glove.6B.zip [following]\n",
            "--2021-04-24 16:25:08--  http://downloads.cs.stanford.edu/nlp/data/glove.6B.zip\n",
            "Resolving downloads.cs.stanford.edu (downloads.cs.stanford.edu)... 171.64.64.22\n",
            "Connecting to downloads.cs.stanford.edu (downloads.cs.stanford.edu)|171.64.64.22|:80... connected.\n",
            "HTTP request sent, awaiting response... 200 OK\n",
            "Length: 862182613 (822M) [application/zip]\n",
            "Saving to: ‘glove.6B.zip’\n",
            "\n",
            "glove.6B.zip        100%[===================>] 822.24M  5.08MB/s    in 2m 40s  \n",
            "\n",
            "2021-04-24 16:27:48 (5.14 MB/s) - ‘glove.6B.zip’ saved [862182613/862182613]\n",
            "\n",
            "Archive:  glove.6B.zip\n",
            "  inflating: glove.6B.50d.txt        \n",
            "  inflating: glove.6B.100d.txt       \n",
            "  inflating: glove.6B.200d.txt       \n",
            "  inflating: glove.6B.300d.txt       \n"
          ],
          "name": "stdout"
        }
      ]
    },
    {
      "cell_type": "markdown",
      "metadata": {
        "id": "-ncc_HKdbtz8"
      },
      "source": [
        "We particularly used Glove embeddings of size 100."
      ]
    },
    {
      "cell_type": "code",
      "metadata": {
        "id": "o4c5dASVw3rl"
      },
      "source": [
        "embeddings_index = {}\n",
        "file = open('glove.6B.100d.txt', encoding='utf-8')\n",
        "for line in file:\n",
        "    values = line.split()\n",
        "    word = values[0]\n",
        "    coefs = np.asarray(values[1:], dtype='float32')\n",
        "    embeddings_index[word] = coefs\n",
        "file.close()"
      ],
      "execution_count": null,
      "outputs": []
    },
    {
      "cell_type": "markdown",
      "metadata": {
        "id": "Y9CCCw8Kb00c"
      },
      "source": [
        "We create the dictionary of the ids related to Glove vocabulary to be able to tokenize word sequences then ; we add a token for padding, one for the [CLS] token at the beginning of each sequence, one for the [SEP] token separating context and question and ending the sequence and finally one for all unknown tokens not in Glove vocabulary."
      ]
    },
    {
      "cell_type": "code",
      "metadata": {
        "id": "KsA4YT6ZyxRh"
      },
      "source": [
        "word_to_ids = dict(zip(embeddings_index.keys(), range(1, len(embeddings_index)+1)))\n",
        "word_to_ids[\"[pad]\"] = 0\n",
        "word_to_ids[\"[CLS]\"] = len(word_to_ids)\n",
        "word_to_ids[\"[SEP]\"] = len(word_to_ids)\n",
        "word_to_ids[\"[Unk]\"] = len(word_to_ids)"
      ],
      "execution_count": null,
      "outputs": []
    },
    {
      "cell_type": "code",
      "metadata": {
        "id": "8gcv1j5uQox6"
      },
      "source": [
        "glove_vectors = list(embeddings_index.values())"
      ],
      "execution_count": null,
      "outputs": []
    },
    {
      "cell_type": "code",
      "metadata": {
        "id": "et-Ur_zS5Xqr"
      },
      "source": [
        "#create random embeddings for cls and sep\n",
        "glove_vectors.append(np.random.randn(len(glove_vectors[0])))\n",
        "glove_vectors.append(np.random.randn(len(glove_vectors[0])))\n",
        "#create embeddings for unknown with mean embeddings\n",
        "glove_vectors.append(np.array(glove_vectors).mean(axis=0))\n",
        "glove_vectors.insert(0, np.zeros(len(glove_vectors[0])))"
      ],
      "execution_count": null,
      "outputs": []
    },
    {
      "cell_type": "markdown",
      "metadata": {
        "id": "eS3xCeQ_cWzD"
      },
      "source": [
        "Glove vocabulary is of size 400000."
      ]
    },
    {
      "cell_type": "code",
      "metadata": {
        "colab": {
          "base_uri": "https://localhost:8080/"
        },
        "id": "6Qh18VPVR5g-",
        "outputId": "494fc1d3-b0a9-468d-eab0-bbc68b9f4c11"
      },
      "source": [
        "len(glove_vectors)"
      ],
      "execution_count": null,
      "outputs": [
        {
          "output_type": "execute_result",
          "data": {
            "text/plain": [
              "400004"
            ]
          },
          "metadata": {
            "tags": []
          },
          "execution_count": 24
        }
      ]
    },
    {
      "cell_type": "code",
      "metadata": {
        "colab": {
          "base_uri": "https://localhost:8080/"
        },
        "id": "I20EHH9w0LNs",
        "outputId": "5d8fc2b0-a2fe-44fc-9e0d-a6fa2dfc8e91"
      },
      "source": [
        "len(word_to_ids)"
      ],
      "execution_count": null,
      "outputs": [
        {
          "output_type": "execute_result",
          "data": {
            "text/plain": [
              "400004"
            ]
          },
          "metadata": {
            "tags": []
          },
          "execution_count": 25
        }
      ]
    },
    {
      "cell_type": "markdown",
      "metadata": {
        "id": "8ztePHjAcb4W"
      },
      "source": [
        "We also create a reverse dictionary in order to be able to decode a sequence of ids."
      ]
    },
    {
      "cell_type": "code",
      "metadata": {
        "id": "iWnwYccTBxij"
      },
      "source": [
        "ids_to_word = {v:k for k,v in word_to_ids.items()}"
      ],
      "execution_count": null,
      "outputs": []
    },
    {
      "cell_type": "markdown",
      "metadata": {
        "id": "hwdt1L2bQwD1"
      },
      "source": [
        "## Architecture definition"
      ]
    },
    {
      "cell_type": "markdown",
      "metadata": {
        "id": "DIWWsh4fYnmk"
      },
      "source": [
        "As transformer deals with data in parallel, we need to add positional embeddings to standard word embeddings in order to provide the information of the position of each element of the sequence to the model. We chose to use sinusoidal positional embeddings."
      ]
    },
    {
      "cell_type": "code",
      "metadata": {
        "id": "OVP45z8tYKWE"
      },
      "source": [
        "class PositionalEncoder(pl.LightningModule):\n",
        "    def __init__(self, seq_length, d_model):\n",
        "        super().__init__()\n",
        "        self.seq_length = seq_length\n",
        "        self.d_model = d_model\n",
        "\n",
        "    def forward(self, x):\n",
        "        positions = np.arange(self.seq_length)[:, np.newaxis]\n",
        "        indices = np.arange(self.d_model)[np.newaxis, :]\n",
        "        angles = positions / (\n",
        "            1e4 ** (\n",
        "                2*indices/self.d_model\n",
        "            )\n",
        "        )\n",
        "        encodings = np.zeros(shape=angles.shape)\n",
        "        encodings[:, 0::2] = np.sin(angles[:, 0::2])\n",
        "        encodings[:, 1::2] = np.cos(angles[:, 1::2])\n",
        "\n",
        "        pos_encodings = torch.tensor(encodings).type_as(x)\n",
        "\n",
        "        return torch.add(x, pos_encodings)"
      ],
      "execution_count": null,
      "outputs": []
    },
    {
      "cell_type": "markdown",
      "metadata": {
        "id": "6wiN0Vf6ZLoR"
      },
      "source": [
        "The architecture consists of a relatively light transformer with 4 layers and 4 heads, and a labeling head with two feedforward."
      ]
    },
    {
      "cell_type": "code",
      "metadata": {
        "id": "GEAncdQWbjtZ"
      },
      "source": [
        "class QA_transformer(pl.LightningModule):\n",
        "    def __init__(self, learning_rate, vector_size=100, train_embeddings=False):\n",
        "        super().__init__()\n",
        "        weights = torch.FloatTensor(glove_vectors)\n",
        "        self.vector_size = vector_size\n",
        "        if train_embeddings:\n",
        "            self.embeddings = nn.Embedding.from_pretrained(weights, freeze=False)\n",
        "        else:\n",
        "            self.embeddings = nn.Embedding.from_pretrained(weights, freeze=True)\n",
        "        self.pos_encoder = PositionalEncoder(seq_length=max_length, d_model=self.vector_size)\n",
        "        encoder_layers = nn.TransformerEncoderLayer(d_model=self.vector_size, nhead=4, dim_feedforward=256)\n",
        "        self.transformer_encoder = nn.TransformerEncoder(encoder_layers, 4, norm=nn.LayerNorm(normalized_shape=self.vector_size, eps=1e-6))\n",
        "        self.labeling_head = nn.Linear(self.vector_size, 2)\n",
        "        self.learning_rate = learning_rate\n",
        "\n",
        "    def forward(self, input_ids, attention_mask):\n",
        "        embds = self.embeddings(input_ids)\n",
        "        embds = self.pos_encoder(embds)\n",
        "        embds = embds.permute(1,0,2)\n",
        "        model_outputs = self.transformer_encoder(src=embds, src_key_padding_mask=attention_mask)\n",
        "        model_outputs = model_outputs.permute(1,0,2)\n",
        "        start_and_end_outputs = self.labeling_head(model_outputs)\n",
        "\n",
        "        return start_and_end_outputs\n",
        "\n",
        "    def predict_from_outputs(self, outputs):\n",
        "        #return start and and predicted positions\n",
        "        #from outputs of shape batch_size, sequence_length_size, 2 (number of labels per words)\n",
        "        predictions = torch.argmax(outputs, dim=1)\n",
        "        return predictions\n",
        "\n",
        "    def configure_optimizers(self):\n",
        "\n",
        "        optimizer = torch.optim.Adam(self.parameters(), lr=self.learning_rate)\n",
        "        return optimizer\n",
        "\n",
        "    def training_step(self, train_batch, batch_idx):\n",
        "\n",
        "        context_and_question_tokens, masks, start_positions, end_positions = train_batch\n",
        "\n",
        "        start_and_end_outputs = self.forward(input_ids=context_and_question_tokens, attention_mask=masks)\n",
        "\n",
        "        start_cross_entropy = nn.CrossEntropyLoss()(start_and_end_outputs[:,:,0], start_positions)\n",
        "        end_cross_entropy = nn.CrossEntropyLoss()(start_and_end_outputs[:,:,1], end_positions)\n",
        "        loss = (start_cross_entropy + end_cross_entropy)/2\n",
        "        self.log('train_loss', loss)\n",
        "\n",
        "        return loss\n",
        "\n",
        "    def validation_step(self, val_batch, batch_idx):\n",
        "        context_and_question_tokens, masks, start_end_positions = val_batch\n",
        "        start_and_end_outputs = self.forward(input_ids=context_and_question_tokens, attention_mask=masks)\n",
        "        start_and_end_predictions = self.predict_from_outputs(start_and_end_outputs)\n",
        "\n",
        "        f1_s = qa_f1_score(start_and_end_predictions, start_end_positions)\n",
        "        matching = exact_matching(start_and_end_predictions, start_end_positions)\n",
        "\n",
        "        self.log('val_f1_score', f1_s, prog_bar=True)\n",
        "        self.log('val_exact_matching', matching, prog_bar=True)\n",
        "\n",
        "    def test_step(self, batch, batch_idx):\n",
        "        context_and_question_tokens, masks, start_and_end_positions = batch\n",
        "        start_and_end_outputs = self.forward(input_ids=context_and_question_tokens, attention_mask=masks)\n",
        "        start_and_end_predictions = self.predict_from_outputs(start_and_end_outputs)\n",
        "\n",
        "        f1_s = qa_f1_score(start_and_end_predictions, start_and_end_positions)\n",
        "        matching = exact_matching(start_and_end_predictions, start_and_end_positions)\n",
        "\n",
        "        self.log('test_f1_score', f1_s)\n",
        "        self.log('test_exact_matching', matching)"
      ],
      "execution_count": null,
      "outputs": []
    },
    {
      "cell_type": "markdown",
      "metadata": {
        "id": "-iX-c3qsQd2P"
      },
      "source": [
        "## Creating custom tokenizer"
      ]
    },
    {
      "cell_type": "markdown",
      "metadata": {
        "id": "TUc-aozVcowz"
      },
      "source": [
        "To be able to tokenize according to Glove vocabulary, we need to define a tokenizer ourselves. We relied on the word_tokenizer of nltk."
      ]
    },
    {
      "cell_type": "code",
      "metadata": {
        "colab": {
          "base_uri": "https://localhost:8080/"
        },
        "id": "EDzaDq1_1x-U",
        "outputId": "62934f39-6ef4-45a4-ce7e-2ce42687efd3"
      },
      "source": [
        "nltk.download('punkt')"
      ],
      "execution_count": null,
      "outputs": [
        {
          "output_type": "stream",
          "text": [
            "[nltk_data] Downloading package punkt to /root/nltk_data...\n",
            "[nltk_data]   Unzipping tokenizers/punkt.zip.\n"
          ],
          "name": "stdout"
        },
        {
          "output_type": "execute_result",
          "data": {
            "text/plain": [
              "True"
            ]
          },
          "metadata": {
            "tags": []
          },
          "execution_count": 29
        }
      ]
    },
    {
      "cell_type": "markdown",
      "metadata": {
        "id": "R6GTWRfndHhA"
      },
      "source": [
        "We add the [CLS] token before each sequence and the [SEP] token between the two sequences and after."
      ]
    },
    {
      "cell_type": "code",
      "metadata": {
        "id": "vShuSciF1fIW"
      },
      "source": [
        "def custom_tokenizer(seq1, seq2=\"\"):\n",
        "    if len(seq2)!=0:\n",
        "        return [\"[CLS]\"] + nltk.word_tokenize(seq1.lower()) + [\"[SEP]\"] + nltk.word_tokenize(seq2.lower()) + [\"[SEP]\"]\n",
        "    else:\n",
        "        return [\"[CLS]\"] + nltk.word_tokenize(seq1.lower()) + [\"[SEP]\"]"
      ],
      "execution_count": null,
      "outputs": []
    },
    {
      "cell_type": "markdown",
      "metadata": {
        "id": "GbPOkZIydY0G"
      },
      "source": [
        "We then define the function to translate word sequences to tokens ids. Particularly, it pads data to a specified length, and computes mask to not consider extra padding tokens."
      ]
    },
    {
      "cell_type": "code",
      "metadata": {
        "id": "aXSm37mj4qFr"
      },
      "source": [
        "def text_encode(seq1, seq2=\"\", padding=\"non\", truncation=\"only_first\", max_length=126):\n",
        "    tokens = custom_tokenizer(seq1, seq2)\n",
        "\n",
        "    if truncation == \"only_first\":\n",
        "        if len(tokens)>max_length-1:\n",
        "            return None\n",
        "\n",
        "    tokens_ids = [word_to_ids.get(token, word_to_ids[\"[Unk]\"]) for token in tokens]\n",
        "    len_tokens_ids = len(tokens_ids)\n",
        "    masks = list(np.zeros(len_tokens_ids))\n",
        "    if padding == \"max_length\":\n",
        "        if max_length > len_tokens_ids:\n",
        "            masks += list(np.ones(max_length - len_tokens_ids))\n",
        "            tokens_ids += list(np.zeros(max_length - len_tokens_ids))\n",
        "\n",
        "    return {\"input_ids\": tokens_ids, \"attention_mask\": masks}"
      ],
      "execution_count": null,
      "outputs": []
    },
    {
      "cell_type": "markdown",
      "metadata": {
        "id": "y4Sucl9ueFbe"
      },
      "source": [
        "We define functions to decode the ids sequences computed previously."
      ]
    },
    {
      "cell_type": "code",
      "metadata": {
        "id": "Ms3VV2K0BZxB"
      },
      "source": [
        "def torch_decode(tokens_ids):\n",
        "    return [ids_to_word[token_id.item()] for token_id in tokens_ids]\n",
        "\n",
        "def decode(tokens_ids):\n",
        "    return [ids_to_word[token_id] for token_id in tokens_ids]"
      ],
      "execution_count": null,
      "outputs": []
    },
    {
      "cell_type": "markdown",
      "metadata": {
        "id": "QwHYM6c1eM1M"
      },
      "source": [
        "Let's test our encoder / decoder functions."
      ]
    },
    {
      "cell_type": "code",
      "metadata": {
        "colab": {
          "base_uri": "https://localhost:8080/"
        },
        "id": "1fM9gfz8CKuQ",
        "outputId": "277d503d-97b1-42a4-e95b-a57baea7cb96"
      },
      "source": [
        "decode(text_encode(\"I am a cat.\", \"And you ?\", max_length=12)[\"input_ids\"])"
      ],
      "execution_count": null,
      "outputs": [
        {
          "output_type": "execute_result",
          "data": {
            "text/plain": [
              "['[CLS]', 'i', 'am', 'a', 'cat', '.', '[SEP]', 'and', 'you', '?', '[SEP]']"
            ]
          },
          "metadata": {
            "tags": []
          },
          "execution_count": 33
        }
      ]
    },
    {
      "cell_type": "code",
      "metadata": {
        "colab": {
          "base_uri": "https://localhost:8080/"
        },
        "id": "cjpqvoETmfsA",
        "outputId": "5c3500c2-3004-4db6-e57e-acb731752667"
      },
      "source": [
        "decode(text_encode(\"I am a cat.\", max_length=12)[\"input_ids\"])"
      ],
      "execution_count": null,
      "outputs": [
        {
          "output_type": "execute_result",
          "data": {
            "text/plain": [
              "['[CLS]', 'i', 'am', 'a', 'cat', '.', '[SEP]']"
            ]
          },
          "metadata": {
            "tags": []
          },
          "execution_count": 34
        }
      ]
    },
    {
      "cell_type": "markdown",
      "metadata": {
        "id": "kXkOi96kQWK-"
      },
      "source": [
        "## Tokenizing and preprocessing data"
      ]
    },
    {
      "cell_type": "markdown",
      "metadata": {
        "id": "rUoc2zUSPlvR"
      },
      "source": [
        "To chose the size of the sequences given to the model, let's look at the size of the tokenized sequences before padding."
      ]
    },
    {
      "cell_type": "code",
      "metadata": {
        "id": "3cz2Ilf8FKeN",
        "colab": {
          "base_uri": "https://localhost:8080/",
          "height": 281
        },
        "outputId": "c73d0adf-785b-47de-ed80-378bf868b8bb"
      },
      "source": [
        "nb_words = []\n",
        "for context, question in zip(list(squad_v1_train_df[\"context\"]), list(squad_v1_train_df[\"question\"])):\n",
        "  nb_words.append(len(custom_tokenizer(context, question)))\n",
        "\n",
        "plt.hist(nb_words, bins=200)\n",
        "plt.title(\"Number of words per context+question\")\n",
        "plt.show()"
      ],
      "execution_count": null,
      "outputs": [
        {
          "output_type": "display_data",
          "data": {
            "image/png": "[encoded data removed]",
            "text/plain": [
              "<Figure size 432x288 with 1 Axes>"
            ]
          },
          "metadata": {
            "tags": [],
            "needs_background": "light"
          }
        }
      ]
    },
    {
      "cell_type": "markdown",
      "metadata": {
        "id": "XOuqH_YQ0-TB"
      },
      "source": [
        "We chose a length of 300 to have a reasonable size without cutting too much data."
      ]
    },
    {
      "cell_type": "code",
      "metadata": {
        "id": "Vomx5dim9uYN"
      },
      "source": [
        "max_length = 300"
      ],
      "execution_count": null,
      "outputs": []
    },
    {
      "cell_type": "markdown",
      "metadata": {
        "id": "cFjucbRM1Ju0"
      },
      "source": [
        "Let's preprocess and tokenize squad 1 data."
      ]
    },
    {
      "cell_type": "code",
      "metadata": {
        "id": "NvvPj1eaFCxl"
      },
      "source": [
        "train_tokens_ids, train_masks, train_start_positions, train_end_positions = prepare_train_squad_data(squad_v1_train_df, text_encode, max_length)"
      ],
      "execution_count": null,
      "outputs": []
    },
    {
      "cell_type": "code",
      "metadata": {
        "id": "rK2g12jPsQGp"
      },
      "source": [
        "val_tokens_ids, val_masks, val_start_end_positions = prepare_val_squad_data(squad_v1_val_df, text_encode, max_length)"
      ],
      "execution_count": null,
      "outputs": []
    },
    {
      "cell_type": "markdown",
      "metadata": {
        "id": "m__lYCLu1Pch"
      },
      "source": [
        "Let's check if data has been well preprocessed."
      ]
    },
    {
      "cell_type": "code",
      "metadata": {
        "colab": {
          "base_uri": "https://localhost:8080/"
        },
        "id": "rCvKsva7_ZpT",
        "outputId": "0ce2dd1c-923a-4546-c49f-803183f13961"
      },
      "source": [
        "for ind, start, end in zip(range(4), list(train_start_positions), list(train_end_positions)):\n",
        "    print(\"context: \\n\", squad_v1_train_df.iloc[ind]['context'])\n",
        "    print(\"question:\", squad_v1_train_df.iloc[ind]['question'])\n",
        "    if len(squad_v1_train_df.iloc[ind]['answers']['text'])==0:\n",
        "        print(\"answer:\", squad_v1_train_df.iloc[ind]['answers']['text'])\n",
        "    else:\n",
        "        print(\"answer:\", squad_v1_train_df.iloc[ind]['answers']['text'][0])\n",
        "    print(\"predicted answer:\", torch_decode(train_tokens_ids[ind][start:end+1]), \"\\n\")"
      ],
      "execution_count": null,
      "outputs": [
        {
          "output_type": "stream",
          "text": [
            "context: \n",
            " Architecturally, the school has a Catholic character. Atop the Main Building's gold dome is a golden statue of the Virgin Mary. Immediately in front of the Main Building and facing it, is a copper statue of Christ with arms upraised with the legend \"Venite Ad Me Omnes\". Next to the Main Building is the Basilica of the Sacred Heart. Immediately behind the basilica is the Grotto, a Marian place of prayer and reflection. It is a replica of the grotto at Lourdes, France where the Virgin Mary reputedly appeared to Saint Bernadette Soubirous in 1858. At the end of the main drive (and in a direct line that connects through 3 statues and the Gold Dome), is a simple, modern stone statue of Mary.\n",
            "question: To whom did the Virgin Mary allegedly appear in 1858 in Lourdes France?\n",
            "answer: Saint Bernadette Soubirous\n",
            "predicted answer: ['saint', 'bernadette', 'soubirous'] \n",
            "\n",
            "context: \n",
            " Architecturally, the school has a Catholic character. Atop the Main Building's gold dome is a golden statue of the Virgin Mary. Immediately in front of the Main Building and facing it, is a copper statue of Christ with arms upraised with the legend \"Venite Ad Me Omnes\". Next to the Main Building is the Basilica of the Sacred Heart. Immediately behind the basilica is the Grotto, a Marian place of prayer and reflection. It is a replica of the grotto at Lourdes, France where the Virgin Mary reputedly appeared to Saint Bernadette Soubirous in 1858. At the end of the main drive (and in a direct line that connects through 3 statues and the Gold Dome), is a simple, modern stone statue of Mary.\n",
            "question: What is in front of the Notre Dame Main Building?\n",
            "answer: a copper statue of Christ\n",
            "predicted answer: ['a', 'copper', 'statue', 'of', 'christ'] \n",
            "\n",
            "context: \n",
            " Architecturally, the school has a Catholic character. Atop the Main Building's gold dome is a golden statue of the Virgin Mary. Immediately in front of the Main Building and facing it, is a copper statue of Christ with arms upraised with the legend \"Venite Ad Me Omnes\". Next to the Main Building is the Basilica of the Sacred Heart. Immediately behind the basilica is the Grotto, a Marian place of prayer and reflection. It is a replica of the grotto at Lourdes, France where the Virgin Mary reputedly appeared to Saint Bernadette Soubirous in 1858. At the end of the main drive (and in a direct line that connects through 3 statues and the Gold Dome), is a simple, modern stone statue of Mary.\n",
            "question: The Basilica of the Sacred heart at Notre Dame is beside to which structure?\n",
            "answer: the Main Building\n",
            "predicted answer: ['the', 'main', 'building'] \n",
            "\n",
            "context: \n",
            " Architecturally, the school has a Catholic character. Atop the Main Building's gold dome is a golden statue of the Virgin Mary. Immediately in front of the Main Building and facing it, is a copper statue of Christ with arms upraised with the legend \"Venite Ad Me Omnes\". Next to the Main Building is the Basilica of the Sacred Heart. Immediately behind the basilica is the Grotto, a Marian place of prayer and reflection. It is a replica of the grotto at Lourdes, France where the Virgin Mary reputedly appeared to Saint Bernadette Soubirous in 1858. At the end of the main drive (and in a direct line that connects through 3 statues and the Gold Dome), is a simple, modern stone statue of Mary.\n",
            "question: What is the Grotto at Notre Dame?\n",
            "answer: a Marian place of prayer and reflection\n",
            "predicted answer: ['a', 'marian', 'place', 'of', 'prayer', 'and', 'reflection'] \n",
            "\n"
          ],
          "name": "stdout"
        }
      ]
    },
    {
      "cell_type": "code",
      "metadata": {
        "id": "XrC7XMKgDohm",
        "colab": {
          "base_uri": "https://localhost:8080/"
        },
        "outputId": "b7a450dc-c59b-42ad-afb2-41ee201d8f2f"
      },
      "source": [
        "for ind, start_end in zip(range(4), list(val_start_end_positions)):\n",
        "    print(\"context: \\n\", squad_v1_val_df.iloc[ind]['context'])\n",
        "    print(\"question:\", squad_v1_val_df.iloc[ind]['question'])\n",
        "    if len(squad_v1_val_df.iloc[ind]['answers']['text'])==0:\n",
        "        print(\"answer:\", squad_v1_val_df.iloc[ind]['answers']['text'])\n",
        "    else:\n",
        "        print(\"answer:\", squad_v1_val_df.iloc[ind]['answers']['text'][0])\n",
        "    start = int((start_end[0][0]).item())\n",
        "    end = int((start_end[0][1]).item())\n",
        "    print(\"predicted answer:\", torch_decode(val_tokens_ids[ind][start:end+1]), \"\\n\")"
      ],
      "execution_count": null,
      "outputs": [
        {
          "output_type": "stream",
          "text": [
            "context: \n",
            " Super Bowl 50 was an American football game to determine the champion of the National Football League (NFL) for the 2015 season. The American Football Conference (AFC) champion Denver Broncos defeated the National Football Conference (NFC) champion Carolina Panthers 24–10 to earn their third Super Bowl title. The game was played on February 7, 2016, at Levi's Stadium in the San Francisco Bay Area at Santa Clara, California. As this was the 50th Super Bowl, the league emphasized the \"golden anniversary\" with various gold-themed initiatives, as well as temporarily suspending the tradition of naming each Super Bowl game with Roman numerals (under which the game would have been known as \"Super Bowl L\"), so that the logo could prominently feature the Arabic numerals 50.\n",
            "question: Which NFL team represented the AFC at Super Bowl 50?\n",
            "answer: Denver Broncos\n",
            "predicted answer: ['denver', 'broncos'] \n",
            "\n",
            "context: \n",
            " Super Bowl 50 was an American football game to determine the champion of the National Football League (NFL) for the 2015 season. The American Football Conference (AFC) champion Denver Broncos defeated the National Football Conference (NFC) champion Carolina Panthers 24–10 to earn their third Super Bowl title. The game was played on February 7, 2016, at Levi's Stadium in the San Francisco Bay Area at Santa Clara, California. As this was the 50th Super Bowl, the league emphasized the \"golden anniversary\" with various gold-themed initiatives, as well as temporarily suspending the tradition of naming each Super Bowl game with Roman numerals (under which the game would have been known as \"Super Bowl L\"), so that the logo could prominently feature the Arabic numerals 50.\n",
            "question: Which NFL team represented the NFC at Super Bowl 50?\n",
            "answer: Carolina Panthers\n",
            "predicted answer: ['carolina', 'panthers'] \n",
            "\n",
            "context: \n",
            " Super Bowl 50 was an American football game to determine the champion of the National Football League (NFL) for the 2015 season. The American Football Conference (AFC) champion Denver Broncos defeated the National Football Conference (NFC) champion Carolina Panthers 24–10 to earn their third Super Bowl title. The game was played on February 7, 2016, at Levi's Stadium in the San Francisco Bay Area at Santa Clara, California. As this was the 50th Super Bowl, the league emphasized the \"golden anniversary\" with various gold-themed initiatives, as well as temporarily suspending the tradition of naming each Super Bowl game with Roman numerals (under which the game would have been known as \"Super Bowl L\"), so that the logo could prominently feature the Arabic numerals 50.\n",
            "question: Where did Super Bowl 50 take place?\n",
            "answer: Santa Clara, California\n",
            "predicted answer: ['santa', 'clara', ',', 'california'] \n",
            "\n",
            "context: \n",
            " Super Bowl 50 was an American football game to determine the champion of the National Football League (NFL) for the 2015 season. The American Football Conference (AFC) champion Denver Broncos defeated the National Football Conference (NFC) champion Carolina Panthers 24–10 to earn their third Super Bowl title. The game was played on February 7, 2016, at Levi's Stadium in the San Francisco Bay Area at Santa Clara, California. As this was the 50th Super Bowl, the league emphasized the \"golden anniversary\" with various gold-themed initiatives, as well as temporarily suspending the tradition of naming each Super Bowl game with Roman numerals (under which the game would have been known as \"Super Bowl L\"), so that the logo could prominently feature the Arabic numerals 50.\n",
            "question: Which NFL team won Super Bowl 50?\n",
            "answer: Denver Broncos\n",
            "predicted answer: ['denver', 'broncos'] \n",
            "\n"
          ],
          "name": "stdout"
        }
      ]
    },
    {
      "cell_type": "code",
      "metadata": {
        "id": "F7XsGOp1c30O"
      },
      "source": [
        "train_tokens_ids = train_tokens_ids.type(torch.LongTensor)\n",
        "train_masks = train_masks.type(torch.BoolTensor)\n",
        "val_tokens_ids = val_tokens_ids.type(torch.LongTensor)\n",
        "val_masks = val_masks.type(torch.BoolTensor)"
      ],
      "execution_count": null,
      "outputs": []
    },
    {
      "cell_type": "code",
      "metadata": {
        "id": "8eVfKM3KJH5-"
      },
      "source": [
        "#data selection\n",
        "size_train = len(train_tokens_ids)\n",
        "size_valid = 5000\n",
        "\n",
        "train_dataset = TensorDataset(train_tokens_ids[:size_train], train_masks[:size_train], train_start_positions[:size_train], train_end_positions[:size_train])\n",
        "val_dataset = TensorDataset(val_tokens_ids[:size_valid], val_masks[:size_valid], val_start_end_positions[:size_valid])\n",
        "train_loader = DataLoader(train_dataset, batch_size=16)\n",
        "val_loader = DataLoader(val_dataset, batch_size=16)"
      ],
      "execution_count": null,
      "outputs": []
    },
    {
      "cell_type": "markdown",
      "metadata": {
        "id": "mksfhF-MROUG"
      },
      "source": [
        "## Training"
      ]
    },
    {
      "cell_type": "markdown",
      "metadata": {
        "id": "BUQrOhkaamP7"
      },
      "source": [
        "We initialize an instance of the model."
      ]
    },
    {
      "cell_type": "code",
      "metadata": {
        "id": "jH7jbwaFJZG3"
      },
      "source": [
        "model = QA_transformer(learning_rate = 10**(-3), train_embeddings=False)"
      ],
      "execution_count": null,
      "outputs": []
    },
    {
      "cell_type": "markdown",
      "metadata": {
        "id": "wxFTtfL8auwS"
      },
      "source": [
        "We compute the training on Colab's GPU to accelerate it."
      ]
    },
    {
      "cell_type": "code",
      "metadata": {
        "colab": {
          "base_uri": "https://localhost:8080/"
        },
        "id": "m9fbafBPJIm1",
        "outputId": "b89ad651-adea-4c2e-fe0f-1f0b3b45bb39"
      },
      "source": [
        "trainer = pl.Trainer(gpus=1, max_epochs=5)"
      ],
      "execution_count": null,
      "outputs": [
        {
          "output_type": "stream",
          "text": [
            "GPU available: True, used: True\n",
            "TPU available: False, using: 0 TPU cores\n"
          ],
          "name": "stderr"
        }
      ]
    },
    {
      "cell_type": "markdown",
      "metadata": {
        "id": "cs1jtUrca5ee"
      },
      "source": [
        "We can finally train the model."
      ]
    },
    {
      "cell_type": "code",
      "metadata": {
        "colab": {
          "base_uri": "https://localhost:8080/",
          "height": 316,
          "referenced_widgets": [
            "e8c3f04101c144cdaba9dea6b3f2f8d8",
            "6951953ae658444bb11e78a83f281efb",
            "6a5c94e2f9b246edbc15d11b75ac72e0",
            "1adc347dc1d74d95ac5baabcb1620674",
            "8edea0bf18b044f8bffb730ab2f4f284",
            "600b3cf32fa2467791654d5bfb8819ac",
            "0e515438c8a845a3bd1550ceaa6057d8",
            "0e1f8f139cfd4e5abcc2645abce4094a",
            "7019fbb6fb344adfbd902624313696e6",
            "bc7bf8026f2d4782bdd1bab7a947c955",
            "d2b4fa0ed51140d0bf1e3b656daec0ac",
            "bcdaf8c2242e45ca8fddbe567425ae21",
            "eabf4d4af0ec48388937ea54f5332de1",
            "5c7d6e6e68034965a7953435927493de",
            "3674100b50114f8b8b1872bc68862a9c",
            "bee84f882e5340aab99c1af6ebb44a40",
            "5820d4bf525e4f42b8235cc0ec2c3989",
            "2bd6b4970f8743b9b792a44ba50286f8",
            "4316d52e6b2845de9894ec6f5ea68162",
            "821e98c9d4534aca88ad9c072097a83b",
            "323d7497aeb9483bbb83be067837e5ab",
            "f7726bad76d24429aa3ff604d8dfdc22",
            "3afca45948ff403dbc0c91b91c3d6ea8",
            "7b2be7e253b54e7fb9d652848660c121"
          ]
        },
        "id": "GadYm6bkJUPk",
        "outputId": "a8a13b4e-1cce-4c83-c156-fec2e75f7e45"
      },
      "source": [
        "trainer.fit(model, train_loader, val_loader)"
      ],
      "execution_count": null,
      "outputs": [
        {
          "output_type": "stream",
          "text": [
            "LOCAL_RANK: 0 - CUDA_VISIBLE_DEVICES: [0]\n",
            "\n",
            "  | Name                | Type               | Params\n",
            "-----------------------------------------------------------\n",
            "0 | embeddings          | Embedding          | 40.0 M\n",
            "1 | pos_encoder         | PositionalEncoder  | 0     \n",
            "2 | transformer_encoder | TransformerEncoder | 369 K \n",
            "3 | labeling_head       | Linear             | 202   \n",
            "-----------------------------------------------------------\n",
            "369 K     Trainable params\n",
            "40.0 M    Non-trainable params\n",
            "40.4 M    Total params\n",
            "161.481   Total estimated model params size (MB)\n"
          ],
          "name": "stderr"
        },
        {
          "output_type": "display_data",
          "data": {
            "application/vnd.jupyter.widget-view+json": {
              "model_id": "e8c3f04101c144cdaba9dea6b3f2f8d8",
              "version_minor": 0,
              "version_major": 2
            },
            "text/plain": [
              "HBox(children=(FloatProgress(value=1.0, bar_style='info', description='Validation sanity check', layout=Layout…"
            ]
          },
          "metadata": {
            "tags": []
          }
        },
        {
          "output_type": "stream",
          "text": [
            "\r"
          ],
          "name": "stdout"
        },
        {
          "output_type": "display_data",
          "data": {
            "application/vnd.jupyter.widget-view+json": {
              "model_id": "7019fbb6fb344adfbd902624313696e6",
              "version_minor": 0,
              "version_major": 2
            },
            "text/plain": [
              "HBox(children=(FloatProgress(value=1.0, bar_style='info', description='Training', layout=Layout(flex='2'), max…"
            ]
          },
          "metadata": {
            "tags": []
          }
        },
        {
          "output_type": "display_data",
          "data": {
            "application/vnd.jupyter.widget-view+json": {
              "model_id": "5820d4bf525e4f42b8235cc0ec2c3989",
              "version_minor": 0,
              "version_major": 2
            },
            "text/plain": [
              "HBox(children=(FloatProgress(value=1.0, bar_style='info', description='Validating', layout=Layout(flex='2'), m…"
            ]
          },
          "metadata": {
            "tags": []
          }
        },
        {
          "output_type": "execute_result",
          "data": {
            "text/plain": [
              "1"
            ]
          },
          "metadata": {
            "tags": []
          },
          "execution_count": 49
        }
      ]
    },
    {
      "cell_type": "markdown",
      "metadata": {
        "id": "wI9zQexERU-N"
      },
      "source": [
        "## Evaluating the results"
      ]
    },
    {
      "cell_type": "markdown",
      "metadata": {
        "id": "S6daxdhYaVYA"
      },
      "source": [
        "We can compute metrics on datasets."
      ]
    },
    {
      "cell_type": "code",
      "metadata": {
        "colab": {
          "base_uri": "https://localhost:8080/",
          "height": 183,
          "referenced_widgets": [
            "dbfd0d62d8124232b6a8d1ad2d752923",
            "dc2e1ffd8fe2460e9f05a04eae0f870a",
            "6603c86fe3c1485faa1a26c8f85798e7",
            "9b99743dbe7640618aaed071eeaf77e1",
            "a9c0385a590b4776a5b864a6744aad72",
            "6fd56c3c86644a189651209ab5d24cac",
            "107b98e6fa5e423099009acf769fe3d6",
            "855e78f36e8b4587834f06aafc767508"
          ]
        },
        "id": "5BwdSW2_aVYG",
        "outputId": "f791e71e-ae35-42f1-f550-922dc5c68887"
      },
      "source": [
        "#quantitative results\n",
        "result_val = trainer.test(test_dataloaders=val_loader)\n",
        "print(result_val)"
      ],
      "execution_count": null,
      "outputs": [
        {
          "output_type": "stream",
          "text": [
            "LOCAL_RANK: 0 - CUDA_VISIBLE_DEVICES: [0]\n"
          ],
          "name": "stderr"
        },
        {
          "output_type": "display_data",
          "data": {
            "application/vnd.jupyter.widget-view+json": {
              "model_id": "dbfd0d62d8124232b6a8d1ad2d752923",
              "version_minor": 0,
              "version_major": 2
            },
            "text/plain": [
              "HBox(children=(FloatProgress(value=1.0, bar_style='info', description='Testing', layout=Layout(flex='2'), max=…"
            ]
          },
          "metadata": {
            "tags": []
          }
        },
        {
          "output_type": "stream",
          "text": [
            "\n",
            "--------------------------------------------------------------------------------\n",
            "DATALOADER:0 TEST RESULTS\n",
            "{'test_exact_matching': 0.1096000000834465,\n",
            " 'test_f1_score': 0.15935756266117096}\n",
            "--------------------------------------------------------------------------------\n",
            "[{'test_f1_score': 0.15935756266117096, 'test_exact_matching': 0.1096000000834465}]\n"
          ],
          "name": "stdout"
        }
      ]
    },
    {
      "cell_type": "markdown",
      "metadata": {
        "id": "wtdtGmoZaVYJ"
      },
      "source": [
        "And we can also evaluate visually the performances of the model."
      ]
    },
    {
      "cell_type": "code",
      "metadata": {
        "colab": {
          "base_uri": "https://localhost:8080/"
        },
        "id": "5rLfVIUZaVYK",
        "outputId": "4aacbb52-7f23-4458-d182-b2e4afa15961"
      },
      "source": [
        "#qualitative results on training data\n",
        "index = [0, 100, 200, 250, 500, 1000, 2000, 2500, 3000]\n",
        "start_end_prediction = np.argmax(model(train_tokens_ids[index].cuda(), train_masks[index].cuda()).detach().cpu(), axis=1) \n",
        "print(start_end_prediction)\n",
        "for ind, start_end in zip(index, list(start_end_prediction)):\n",
        "    print(\"context: \\n\", squad_v1_train_df.iloc[ind]['context'])\n",
        "    print(\"question:\", squad_v1_train_df.iloc[ind]['question'])\n",
        "    if len(squad_v1_train_df.iloc[ind]['answers']['text'])==0:\n",
        "        print(\"answer:\", squad_v1_train_df.iloc[ind]['answers']['text'])\n",
        "    else:\n",
        "        print(\"answer:\", squad_v1_train_df.iloc[ind]['answers']['text'][0])\n",
        "    print(\"predicted answer:\", torch_decode(train_tokens_ids[ind][start_end[0]:start_end[1]+1]), \"\\n\")"
      ],
      "execution_count": null,
      "outputs": [
        {
          "output_type": "stream",
          "text": [
            "tensor([[ 93,  93],\n",
            "        [  9,  59],\n",
            "        [  5,   5],\n",
            "        [ 33,  33],\n",
            "        [ 17,  17],\n",
            "        [ 32,  32],\n",
            "        [  1,  30],\n",
            "        [ 23,  23],\n",
            "        [129,   4]])\n",
            "context: \n",
            " Architecturally, the school has a Catholic character. Atop the Main Building's gold dome is a golden statue of the Virgin Mary. Immediately in front of the Main Building and facing it, is a copper statue of Christ with arms upraised with the legend \"Venite Ad Me Omnes\". Next to the Main Building is the Basilica of the Sacred Heart. Immediately behind the basilica is the Grotto, a Marian place of prayer and reflection. It is a replica of the grotto at Lourdes, France where the Virgin Mary reputedly appeared to Saint Bernadette Soubirous in 1858. At the end of the main drive (and in a direct line that connects through 3 statues and the Gold Dome), is a simple, modern stone statue of Mary.\n",
            "question: To whom did the Virgin Mary allegedly appear in 1858 in Lourdes France?\n",
            "answer: Saint Bernadette Soubirous\n",
            "predicted answer: ['lourdes'] \n",
            "\n",
            "context: \n",
            " One of the main driving forces in the growth of the University was its football team, the Notre Dame Fighting Irish. Knute Rockne became head coach in 1918. Under Rockne, the Irish would post a record of 105 wins, 12 losses, and five ties. During his 13 years the Irish won three national championships, had five undefeated seasons, won the Rose Bowl in 1925, and produced players such as George Gipp and the \"Four Horsemen\". Knute Rockne has the highest winning percentage (.881) in NCAA Division I/FBS football history. Rockne's offenses employed the Notre Dame Box and his defenses ran a 7–2–2 scheme. The last game Rockne coached was on December 14, 1930 when he led a group of Notre Dame all-stars against the New York Giants in New York City.\n",
            "question: In what year did the team lead by Knute Rockne win the Rose Bowl?\n",
            "answer: 1925\n",
            "predicted answer: ['dame', 'a', 'household', 'name', '.', 'the', 'success', 'of', 'note', 'dame', 'reflected', 'rising', 'status', 'of', 'irish', 'americans', 'and', 'catholics', 'in', 'the', '1920s', '.', 'catholics', 'rallied', 'up', 'around', 'the', 'team', 'and', 'listen', 'to', 'the', 'games', 'on', 'the', 'radio', ',', 'especially', 'when', 'it', 'knocked', 'off', 'the', 'schools', 'that', 'symbolized', 'the', 'protestant', 'establishment', 'in', 'america'] \n",
            "\n",
            "context: \n",
            " In 1842, the Bishop of Vincennes, Célestine Guynemer de la Hailandière, offered land to Father Edward Sorin of the Congregation of the Holy Cross, on the condition that he build a college in two years. Fr. Sorin arrived on the site with eight Holy Cross brothers from France and Ireland on November 26, 1842, and began the school using Father Stephen Badin's old log chapel. He soon erected additional buildings, including Old College, the first church, and the first main building. They immediately acquired two students and set about building additions to the campus.\n",
            "question: In what year was Father Edward Sorin given two years to create a college?\n",
            "answer: 1842\n",
            "predicted answer: ['ndtv'] \n",
            "\n",
            "context: \n",
            " The men's basketball team has over 1,600 wins, one of only 12 schools who have reached that mark, and have appeared in 28 NCAA tournaments. Former player Austin Carr holds the record for most points scored in a single game of the tournament with 61. Although the team has never won the NCAA Tournament, they were named by the Helms Athletic Foundation as national champions twice. The team has orchestrated a number of upsets of number one ranked teams, the most notable of which was ending UCLA's record 88-game winning streak in 1974. The team has beaten an additional eight number-one teams, and those nine wins rank second, to UCLA's 10, all-time in wins against the top team. The team plays in newly renovated Purcell Pavilion (within the Edmund P. Joyce Center), which reopened for the beginning of the 2009–2010 season. The team is coached by Mike Brey, who, as of the 2014–15 season, his fifteenth at Notre Dame, has achieved a 332-165 record. In 2009 they were invited to the NIT, where they advanced to the semifinals but were beaten by Penn State who went on and beat Baylor in the championship. The 2010–11 team concluded its regular season ranked number seven in the country, with a record of 25–5, Brey's fifth straight 20-win season, and a second-place finish in the Big East. During the 2014-15 season, the team went 32-6 and won the ACC conference tournament, later advancing to the Elite 8, where the Fighting Irish lost on a missed buzzer-beater against then undefeated Kentucky. Led by NBA draft picks Jerian Grant and Pat Connaughton, the Fighting Irish beat the eventual national champion Duke Blue Devils twice during the season. The 32 wins were the most by the Fighting Irish team since 1908-09.\n",
            "question: How many schools have a similar men's basketball record to Notre Dame in terms of wins?\n",
            "answer: 12\n",
            "predicted answer: ['texas'] \n",
            "\n",
            "context: \n",
            " In 2011, documents obtained by WikiLeaks revealed that Beyoncé was one of many entertainers who performed for the family of Libyan ruler Muammar Gaddafi. Rolling Stone reported that the music industry was urging them to return the money they earned for the concerts; a spokesperson for Beyoncé later confirmed to The Huffington Post that she donated the money to the Clinton Bush Haiti Fund. Later that year she became the first solo female artist to headline the main Pyramid stage at the 2011 Glastonbury Festival in over twenty years, and was named the highest-paid performer in the world per minute.\n",
            "question: Who did Beyonce donate the money to earned from her shows?\n",
            "answer: Clinton Bush Haiti Fund\n",
            "predicted answer: ['[Unk]'] \n",
            "\n",
            "context: \n",
            " After Hurricane Katrina in 2005, Beyoncé and Rowland founded the Survivor Foundation to provide transitional housing for victims in the Houston area, to which Beyoncé contributed an initial $250,000. The foundation has since expanded to work with other charities in the city, and also provided relief following Hurricane Ike three years later.\n",
            "question: How much did Beyonce initially contribute to the foundation?\n",
            "answer: $250,000\n",
            "predicted answer: ['west-central'] \n",
            "\n",
            "context: \n",
            " With his health further deteriorating, Chopin desired to have a family member with him. In June 1849 his sister Ludwika came to Paris with her husband and daughter, and in September, supported by a loan from Jane Stirling, he took an apartment at Place Vendôme 12. After 15 October, when his condition took a marked turn for the worse, only a handful of his closest friends remained with him, although Viardot remarked sardonically that \"all the grand Parisian ladies considered it de rigueur to faint in his room.\"\n",
            "question: Who accompanied Chopin's sister to Paris?\n",
            "answer: her husband and daughter\n",
            "predicted answer: ['the', '21', 'nocturnes', 'are', 'more', 'structured', ',', 'and', 'of', 'greater', 'emotional', 'depth', ',', 'than', 'those', 'of', 'field', '(', 'whom', 'chopin', 'met', 'in', '1833', ')', '.', 'many', 'of', 'the', 'chopin', 'nocturnes'] \n",
            "\n",
            "context: \n",
            " In mid-2015, a new model of the iPod Touch was announced by Apple, and was officially released on the Apple store on July 15, 2015. The sixth generation iPod Touch includes a wide variety of spec improvements such as the upgraded A8 processor and higher-quality screen. The core is over 5 times faster than previous models and is built to be roughly on par with the iPhone 5S. It is available in 5 different colors: Space grey, pink, gold, silver and Product (red).\n",
            "question: What type of processor does the current iPod Touch use?\n",
            "answer: A8\n",
            "predicted answer: ['itunes'] \n",
            "\n",
            "context: \n",
            " Twilight Princess received the awards for Best Artistic Design, Best Original Score, and Best Use of Sound from IGN for its GameCube version. Both IGN and Nintendo Power gave Twilight Princess the awards for Best Graphics and Best Story. Twilight Princess received Game of the Year awards from GameTrailers, 1UP.com, Electronic Gaming Monthly, Game Informer, Games Radar, GameSpy, Spacey Awards, X-Play and Nintendo Power. It was also given awards for Best Adventure Game from the Game Critics Awards, X-Play, IGN, GameTrailers, 1UP.com, and Nintendo Power. The game was considered the Best Console Game by the Game Critics Awards and GameSpy. The game placed 16th in Official Nintendo Magazine's list of the 100 Greatest Nintendo Games of All Time. IGN ranked the game as the 4th-best Wii game. Nintendo Power ranked the game as the third-best game to be released on a Nintendo system in the 2000s decade.\n",
            "question: What place did the game take in Nintendo's Official list of 100 Greatest Nintendo Games of All Time?\n",
            "answer: 16th\n",
            "predicted answer: [] \n",
            "\n"
          ],
          "name": "stdout"
        }
      ]
    },
    {
      "cell_type": "code",
      "metadata": {
        "colab": {
          "base_uri": "https://localhost:8080/"
        },
        "id": "21EeUiQ_aVYL",
        "outputId": "bddc060e-52ba-42f3-8df1-0c804558417e"
      },
      "source": [
        "#qualitative results on validation data\n",
        "index = [0, 100, 200, 250, 500, 1000, 2000, 2500, 3000]\n",
        "start_end_prediction = np.argmax(model(val_tokens_ids[index].cuda(), val_masks[index].cuda()).detach().cpu(), axis=1) #trainer.predict(model, DataLoader(TensorDataset(val_tokens_ids[index], val_masks[index]), batch_size=8))[0], axis=1)\n",
        "print(start_end_prediction)\n",
        "for ind, start_end in zip(index, list(start_end_prediction)):\n",
        "    print(\"context: \\n\", squad_v1_val_df.iloc[ind]['context'])\n",
        "    print(\"question:\", squad_v1_val_df.iloc[ind]['question'])\n",
        "    if len(squad_v1_val_df.iloc[ind]['answers']['text'])==0:\n",
        "        print(\"answer:\", squad_v1_val_df.iloc[ind]['answers']['text'])\n",
        "    else:\n",
        "        print(\"answer:\", squad_v1_val_df.iloc[ind]['answers']['text'][0])\n",
        "    print(\"predicted answer:\", torch_decode(val_tokens_ids[ind][start_end[0]:start_end[1]+1]), \"\\n\")"
      ],
      "execution_count": null,
      "outputs": [
        {
          "output_type": "stream",
          "text": [
            "tensor([[ 67,  67],\n",
            "        [ 46,  46],\n",
            "        [ 14,   7],\n",
            "        [  8,  54],\n",
            "        [  4,   4],\n",
            "        [ 48,  48],\n",
            "        [  9,   9],\n",
            "        [  4, 126],\n",
            "        [ 14,  14]])\n",
            "context: \n",
            " Super Bowl 50 was an American football game to determine the champion of the National Football League (NFL) for the 2015 season. The American Football Conference (AFC) champion Denver Broncos defeated the National Football Conference (NFC) champion Carolina Panthers 24–10 to earn their third Super Bowl title. The game was played on February 7, 2016, at Levi's Stadium in the San Francisco Bay Area at Santa Clara, California. As this was the 50th Super Bowl, the league emphasized the \"golden anniversary\" with various gold-themed initiatives, as well as temporarily suspending the tradition of naming each Super Bowl game with Roman numerals (under which the game would have been known as \"Super Bowl L\"), so that the logo could prominently feature the Arabic numerals 50.\n",
            "question: Which NFL team represented the AFC at Super Bowl 50?\n",
            "answer: Denver Broncos\n",
            "predicted answer: ['levi'] \n",
            "\n",
            "context: \n",
            " CBS broadcast Super Bowl 50 in the U.S., and charged an average of $5 million for a 30-second commercial during the game. The Super Bowl 50 halftime show was headlined by the British rock group Coldplay with special guest performers Beyoncé and Bruno Mars, who headlined the Super Bowl XLVII and Super Bowl XLVIII halftime shows, respectively. It was the third-most watched U.S. broadcast ever.\n",
            "question: Who were special guests for the Super Bowl halftime show?\n",
            "answer: Beyoncé and Bruno Mars\n",
            "predicted answer: ['bruno'] \n",
            "\n",
            "context: \n",
            " Despite waiving longtime running back DeAngelo Williams and losing top wide receiver Kelvin Benjamin to a torn ACL in the preseason, the Carolina Panthers had their best regular season in franchise history, becoming the seventh team to win at least 15 regular season games since the league expanded to a 16-game schedule in 1978. Carolina started the season 14–0, not only setting franchise records for the best start and the longest single-season winning streak, but also posting the best start to a season by an NFC team in NFL history, breaking the 13–0 record previously shared with the 2009 New Orleans Saints and the 2011 Green Bay Packers. With their NFC-best 15–1 regular season record, the Panthers clinched home-field advantage throughout the NFC playoffs for the first time in franchise history. Ten players were selected to the Pro Bowl (the most in franchise history) along with eight All-Pro selections.\n",
            "question: Who had the best record in the NFC?\n",
            "answer: Carolina Panthers\n",
            "predicted answer: [] \n",
            "\n",
            "context: \n",
            " Following their loss in the divisional round of the previous season's playoffs, the Denver Broncos underwent numerous coaching changes, including a mutual parting with head coach John Fox (who had won four divisional championships in his four years as Broncos head coach), and the hiring of Gary Kubiak as the new head coach. Under Kubiak, the Broncos planned to install a run-oriented offense with zone blocking to blend in with quarterback Peyton Manning's shotgun passing skills, but struggled with numerous changes and injuries to the offensive line, as well as Manning having his worst statistical season since his rookie year with the Indianapolis Colts in 1998, due to a plantar fasciitis injury in his heel that he had suffered since the summer, and the simple fact that Manning was getting old, as he turned 39 in the 2015 off-season. Although the team had a 7–0 start, Manning led the NFL in interceptions. In week 10, Manning suffered a partial tear of the plantar fasciitis in his left foot. He set the NFL's all-time record for career passing yards in this game, but was benched after throwing four interceptions in favor of backup quarterback Brock Osweiler, who took over as the starter for most of the remainder of the regular season. Osweiler was injured, however, leading to Manning's return during the Week 17 regular season finale, where the Broncos were losing 13–7 against the 4–11 San Diego Chargers, resulting in Manning re-claiming the starting quarterback position for the playoffs by leading the team to a key 27–20 win that enabled the team to clinch the number one overall AFC seed. Under defensive coordinator Wade Phillips, the Broncos' defense ranked number one in total yards allowed, passing yards allowed and sacks, and like the previous three seasons, the team has continued to set numerous individual, league and franchise records. With the defense carrying the team despite the issues with the offense, the Broncos finished the regular season with a 12–4 record and earned home-field advantage throughout the AFC playoffs.\n",
            "question: Who is the head coach of the Broncos?\n",
            "answer: Gary Kubiak\n",
            "predicted answer: ['67.9', 'passer', 'rating', ',', 'throwing', 'for', '2,249', 'yards', 'and', 'nine', 'touchdowns', ',', 'with', '17', 'interceptions', '.', 'in', 'contrast', ',', '[Unk]', 'threw', 'for', '1,967', 'yards', ',', '10', 'touchdowns', 'and', 'six', 'interceptions', 'for', 'a', 'rating', 'of', '[Unk]', 'veteran', 'receiver', 'demaryius', 'thomas', 'led', 'the', 'team', 'with', '105', 'receptions', 'for', '1,304'] \n",
            "\n",
            "context: \n",
            " The game's media day, which was typically held on the Tuesday afternoon prior to the game, was moved to the Monday evening and re-branded as Super Bowl Opening Night. The event was held on February 1, 2016 at SAP Center in San Jose. Alongside the traditional media availabilities, the event featured an opening ceremony with player introductions on a replica of the Golden Gate Bridge.\n",
            "question: What was media day called for Super Bowl 50?\n",
            "answer: Super Bowl Opening Night.\n",
            "predicted answer: ['50'] \n",
            "\n",
            "context: \n",
            " Other green spaces in the city include the Botanic Garden and the University Library garden. They have extensive botanical collection of rare domestic and foreign plants, while a palm house in the New Orangery displays plants of subtropics from all over the world. Besides, within the city borders, there are also: Pole Mokotowskie (a big park in the northern Mokotów, where was the first horse racetrack and then the airport), Park Ujazdowski (close to the Sejm and John Lennon street), Park of Culture and Rest in Powsin, by the southern city border, Park Skaryszewski by the right Vistula bank, in Praga. The oldest park in Praga, the Praga Park, was established in 1865–1871 and designed by Jan Dobrowolski. In 1927 a zoological garden (Ogród Zoologiczny) was established on the park grounds, and in 1952 a bear run, still open today.\n",
            "question: Where is a palm house with subtropic plants from all over the world on display?\n",
            "answer: New Orangery\n",
            "predicted answer: ['andrzej'] \n",
            "\n",
            "context: \n",
            " Teachers that exhibit enthusiasm can lead to students who are more likely to be engaged, interested, energetic, and curious about learning the subject matter. Recent research has found a correlation between teacher enthusiasm and students' intrinsic motivation to learn and vitality in the classroom. Controlled, experimental studies exploring intrinsic motivation of college students has shown that nonverbal expressions of enthusiasm, such as demonstrative gesturing, dramatic movements which are varied, and emotional facial expressions, result in college students reporting higher levels of intrinsic motivation to learn. Students who experienced a very enthusiastic teacher were more likely to read lecture material outside of the classroom.\n",
            "question: What is dramatic gesturing an example of?\n",
            "answer: nonverbal expressions of enthusiasm\n",
            "predicted answer: ['uk'] \n",
            "\n",
            "context: \n",
            " In 1523, Luther wrote that Jesus Christ was born a Jew which discouraged mistreatment of the Jews and advocated their conversion by proving that the Old Testament could be shown to speak of Jesus Christ. However, as the Reformation continued, Luther began to lose hope in large-scale Jewish conversion to Christianity. In his later years, Luther grew more hostile toward the Jews, writing against them with the kind of venom he had already unleashed on the Anabaptists, Zwinglianism, and the papacy. His 1543 treatise Von den Juden und ihren Lügen (On the Jews and Their Lies) took its place among other anti-Jewish literature of the times, although historians acknowledge that this treatise was particularly extreme, even by the standards of sixteenth century Europe. In it, he takes a hardline against Judaism, writing that synagogues and Jewish homes should be destroyed, their money confiscated, and liberty curtailed. These statements and their influence on antisemitism have contributed to his controversial status.\n",
            "question: What did Luther gradually see as hopeless in the Reformation?\n",
            "answer: Jewish conversion to Christianity\n",
            "predicted answer: ['1941', ',', 'seven', 'protestant', 'regional', 'church', 'confederations', 'issued', 'a', 'statement', 'agreeing', 'with', 'the', 'policy', 'of', 'forcing', 'jews', 'to', 'wear', 'the', 'yellow', 'badge', ',', '``', 'since', 'after', 'his', 'bitter', 'experience', 'luther', 'had', 'already', 'suggested', 'preventive', 'measures', 'against', 'the', 'jews', 'and', 'their', 'expulsion', 'from', 'german', 'territory', '.', \"''\", 'according', 'to', 'daniel', 'goldhagen', ',', 'bishop', 'martin', 'sasse', ',', 'a', 'leading', 'protestant', 'churchman', ',', 'published', 'a', 'compendium', 'of', 'luther', \"'s\", 'writings', 'shortly', 'after', 'kristallnacht', ',', 'for', 'which', 'diarmaid', 'macculloch', ',', 'professor', 'of', 'the', 'history', 'of', 'the', 'church', 'in', 'the', 'university', 'of', 'oxford', 'argued', 'that', 'luther', \"'s\", 'writing', 'was', 'a', '``', 'blueprint', '.', \"''\", 'sasse', 'applauded', 'the', 'burning', 'of', 'the', 'synagogues', 'and', 'the', 'coincidence', 'of', 'the', 'day', ',', 'writing', 'in', 'the', 'introduction', ',', '``', 'on', '10', 'november', '1938'] \n",
            "\n",
            "context: \n",
            " As of August 2010, Victoria had 1,548 public schools, 489 Catholic schools and 214 independent schools. Just under 540,800 students were enrolled in public schools, and just over 311,800 in private schools. Over 61 per cent of private students attend Catholic schools. More than 462,000 students were enrolled in primary schools and more than 390,000 in secondary schools. Retention rates for the final two years of secondary school were 77 per cent for public school students and 90 per cent for private school students. Victoria has about 63,519 full-time teachers.\n",
            "question: How many full time teachers does Victoria have?\n",
            "answer: 63,519\n",
            "predicted answer: ['1671'] \n",
            "\n"
          ],
          "name": "stdout"
        }
      ]
    },
    {
      "cell_type": "markdown",
      "metadata": {
        "id": "Z3FHcLiH1NHe"
      },
      "source": [
        "# Bert Fine-tuning"
      ]
    },
    {
      "cell_type": "markdown",
      "metadata": {
        "id": "Dl_nxl5US9Pb"
      },
      "source": [
        "One of the two main options we chose is to fine-tune a pre-trained language model transformer of type BERT. It is important to note that this is a pre-trained model for language modelling and not question answering."
      ]
    },
    {
      "cell_type": "markdown",
      "metadata": {
        "id": "ADJJhFWjfKQG"
      },
      "source": [
        "Fine-tuning makes it possible to exploit the representations already learned by a model. This is very useful when little training data or computational resources are available, especially when one considers the enormous cost of learning most recent language models. This allows for a decent performance with little task-specific training data, where training from scratch would require much more data to achieve the same results. Many pre-trained models are available through the Hugging Face library, which we have exploited here."
      ]
    },
    {
      "cell_type": "markdown",
      "metadata": {
        "id": "HWe8q6ObOavM"
      },
      "source": [
        "## Architecture definition"
      ]
    },
    {
      "cell_type": "markdown",
      "metadata": {
        "id": "GgyY6liYTjpy"
      },
      "source": [
        "We replace the language modeling head of the BERT-based model by a labeling head computing extractive question-answering. It is composed of a feedforward network with two outputs applied to each representation extracted by BERT which give the probabilities of the first and last token of the answer to be extracted. The losses used to train the model are the Cross Entropy related to the prediction of the first and last token of the answer. The validation step computes the F1 score and Exact Matching. Moreover, we used a layerwise learning rate to avoid catastrophic forgeting in the first layers."
      ]
    },
    {
      "cell_type": "code",
      "metadata": {
        "id": "hQqnID8gZFlO"
      },
      "source": [
        "class QA_finetuned_BERT(pl.LightningModule):\n",
        "    def __init__(self, model_link, learning_rate=10**(-3), layerwise_gamma=1.):\n",
        "        super().__init__()\n",
        "        self.tokenizer = AutoTokenizer.from_pretrained(model_link)\n",
        "        self.language_model = AutoModel.from_pretrained(model_link)\n",
        "        self.l_model_size = 768 \n",
        "        self.labeling_head = nn.Linear(self.l_model_size, 2)\n",
        "        self.learning_rate = learning_rate\n",
        "        self.layerwise_gamma = layerwise_gamma\n",
        "\n",
        "    def forward(self, input_ids, attention_mask):\n",
        "        model_outputs = self.language_model(input_ids=input_ids, attention_mask=attention_mask)[0]\n",
        "        start_and_end_outputs = self.labeling_head(model_outputs)\n",
        "        return start_and_end_outputs\n",
        "\n",
        "    def predict_from_outputs(self, outputs):\n",
        "        #return start and and predicted positions\n",
        "        #from outputs of shape batch_size, sequence_length_size, 2 (number of labels per words)\n",
        "        predictions = torch.argmax(outputs, dim=1)\n",
        "        return predictions\n",
        "\n",
        "    def configure_optimizers(self):\n",
        "        \n",
        "        params_to_fit = []\n",
        "\n",
        "        layerwise_lr = self.learning_rate\n",
        "\n",
        "        params_to_fit.append({\"params\": self.labeling_head.parameters(), \"lr\": layerwise_lr})\n",
        "\n",
        "        #for transformer with 6 layers (Distilbert)\n",
        "        for i in range(5,-1,-1):\n",
        "            layerwise_lr *= self.layerwise_gamma\n",
        "            params_to_fit.append({\n",
        "                \"params\" : self.language_model.transformer.layer[i].parameters(),\n",
        "                \"lr\" : layerwise_lr})\n",
        "\n",
        "        optimizer = torch.optim.Adam(params_to_fit, lr=self.learning_rate)\n",
        "\n",
        "        return optimizer\n",
        "\n",
        "    def training_step(self, train_batch, batch_idx):\n",
        "\n",
        "        context_and_question_tokens, masks, start_positions, end_positions = train_batch\n",
        "        start_and_end_outputs = self.forward(input_ids=context_and_question_tokens, attention_mask=masks)\n",
        "\n",
        "        start_cross_entropy = nn.CrossEntropyLoss()(start_and_end_outputs[:,:,0], start_positions)\n",
        "        end_cross_entropy = nn.CrossEntropyLoss()(start_and_end_outputs[:,:,1], end_positions)\n",
        "        loss = (start_cross_entropy + end_cross_entropy)/2\n",
        "        self.log('train_loss', loss)\n",
        "\n",
        "        return loss\n",
        "\n",
        "    def validation_step(self, val_batch, batch_idx):\n",
        "        context_and_question_tokens, masks, start_end_positions = val_batch\n",
        "        start_and_end_outputs = self.forward(input_ids=context_and_question_tokens, attention_mask=masks)\n",
        "        start_and_end_predictions = self.predict_from_outputs(start_and_end_outputs)\n",
        "\n",
        "        f1_s = qa_f1_score(start_and_end_predictions, start_end_positions)\n",
        "        matching = exact_matching(start_and_end_predictions, start_end_positions)\n",
        "\n",
        "        self.log('val_f1_score', f1_s)\n",
        "        self.log('val_exact_matching', matching, prog_bar=True)\n",
        "\n",
        "    def test_step(self, batch, batch_idx):\n",
        "        context_and_question_tokens, masks, start_and_end_positions = batch\n",
        "        start_and_end_outputs = self.forward(input_ids=context_and_question_tokens, attention_mask=masks)\n",
        "        start_and_end_predictions = self.predict_from_outputs(start_and_end_outputs)\n",
        "\n",
        "        f1_s = qa_f1_score(start_and_end_predictions, start_and_end_positions)\n",
        "        matching = exact_matching(start_and_end_predictions, start_and_end_positions)\n",
        "\n",
        "        self.log('test_f1_score', f1_s)\n",
        "        self.log('test_exact_matching', matching)"
      ],
      "execution_count": null,
      "outputs": []
    },
    {
      "cell_type": "markdown",
      "metadata": {
        "id": "gMVxTKUMOiVm"
      },
      "source": [
        "## Tokenizing and preprocessing data"
      ]
    },
    {
      "cell_type": "markdown",
      "metadata": {
        "id": "Kw7BpRhaUxDh"
      },
      "source": [
        "We used the tokenizer related to the DistilBERT model."
      ]
    },
    {
      "cell_type": "code",
      "metadata": {
        "colab": {
          "base_uri": "https://localhost:8080/",
          "height": 212,
          "referenced_widgets": [
            "c65ce3cffa9a42a3abf28fbfa5dfe4da",
            "d668ade1e99c4a9bb1d94d8f99d87ee8",
            "4f97a906970541e988914b58c878436b",
            "66ecf95c0dd84e8f9cac721ef16e3e35",
            "8c173b63162e410eac8ea2ed3cb8762e",
            "604dcab6c4cd44149b95fb5fd87e461f",
            "c822d88c9fae4860bdc522e98a6e95eb",
            "c4c686ff2f1b4f7c813e65ebbf9a6bea",
            "38eb88d98c00415c89c33048298ab241",
            "c8331009a6324c2892a7c7618c76a220",
            "656f88dc14764f8c9dfb955289afadc0",
            "b67b5a67bba44c278b2224f01ba40888",
            "472358f0b3f646ac8c9be135cd096ef1",
            "c8363058de1c4df2b9ffd6db617bbe17",
            "043a61479fad4248a6cb85a6cb6b1be0",
            "160026f1347e45f6a01e03fadb946050",
            "224395e4f1b24831b79b8d961a9ab86d",
            "e7a4d2439f114f6abbb96e63aef81e16",
            "eb90c8d954ed4596b485ef31bb81a03e",
            "fd479e75e1a54af4895890af9b1eca38",
            "fea40126d2f04985989740460a7bc3ed",
            "19f4d83a02394a8184aafbd73133e70f",
            "d1e636aba38d4944b0534adbbfac832c",
            "27d2bf519d634aafb3725ac85ccbd35f",
            "3ec552059300477e82de037e8ca30285",
            "79189910b59a4247884f2eba0b3baea3",
            "916ee14c68114328aaac0a66dae7cadb",
            "edb9dc69de02479ea5fdd41eb0667f38",
            "d358c1cc98474260ab380bf7c7c56d5d",
            "a528e7bf099a44838743bac5b88d8c07",
            "f0a07b4d7b0348caa4dd549c445440ba",
            "22fc0964db354e3fb849986bd1b80c8f"
          ]
        },
        "id": "iIFmXopWs5_O",
        "outputId": "2891baff-31d5-4d27-97be-d4eaa0d29510"
      },
      "source": [
        "#Model pretrained selection\n",
        "model_link = \"distilbert-base-cased\" # \"bert-base-cased\"\n",
        "tokenizer = AutoTokenizer.from_pretrained(model_link)"
      ],
      "execution_count": null,
      "outputs": [
        {
          "output_type": "display_data",
          "data": {
            "application/vnd.jupyter.widget-view+json": {
              "model_id": "c65ce3cffa9a42a3abf28fbfa5dfe4da",
              "version_minor": 0,
              "version_major": 2
            },
            "text/plain": [
              "HBox(children=(FloatProgress(value=0.0, description='Downloading', max=411.0, style=ProgressStyle(description_…"
            ]
          },
          "metadata": {
            "tags": []
          }
        },
        {
          "output_type": "stream",
          "text": [
            "\n"
          ],
          "name": "stdout"
        },
        {
          "output_type": "display_data",
          "data": {
            "application/vnd.jupyter.widget-view+json": {
              "model_id": "38eb88d98c00415c89c33048298ab241",
              "version_minor": 0,
              "version_major": 2
            },
            "text/plain": [
              "HBox(children=(FloatProgress(value=0.0, description='Downloading', max=213450.0, style=ProgressStyle(descripti…"
            ]
          },
          "metadata": {
            "tags": []
          }
        },
        {
          "output_type": "stream",
          "text": [
            "\n"
          ],
          "name": "stdout"
        },
        {
          "output_type": "display_data",
          "data": {
            "application/vnd.jupyter.widget-view+json": {
              "model_id": "224395e4f1b24831b79b8d961a9ab86d",
              "version_minor": 0,
              "version_major": 2
            },
            "text/plain": [
              "HBox(children=(FloatProgress(value=0.0, description='Downloading', max=435797.0, style=ProgressStyle(descripti…"
            ]
          },
          "metadata": {
            "tags": []
          }
        },
        {
          "output_type": "stream",
          "text": [
            "\n"
          ],
          "name": "stdout"
        },
        {
          "output_type": "display_data",
          "data": {
            "application/vnd.jupyter.widget-view+json": {
              "model_id": "3ec552059300477e82de037e8ca30285",
              "version_minor": 0,
              "version_major": 2
            },
            "text/plain": [
              "HBox(children=(FloatProgress(value=0.0, description='Downloading', max=29.0, style=ProgressStyle(description_w…"
            ]
          },
          "metadata": {
            "tags": []
          }
        },
        {
          "output_type": "stream",
          "text": [
            "\n"
          ],
          "name": "stdout"
        }
      ]
    },
    {
      "cell_type": "code",
      "metadata": {
        "id": "lU_OAPEpqKYr",
        "colab": {
          "base_uri": "https://localhost:8080/"
        },
        "outputId": "23284c1b-2c16-4e4c-d115-f3ff57d57bbd"
      },
      "source": [
        "#Prepare training data\n",
        "train_tokens_ids, train_masks, train_start_positions, train_end_positions = prepare_train_squad_data_bert(squad_v1_train_df)"
      ],
      "execution_count": null,
      "outputs": [
        {
          "output_type": "stream",
          "text": [
            "Token indices sequence length is longer than the specified maximum sequence length for this model (525 > 512). Running this sequence through the model will result in indexing errors\n"
          ],
          "name": "stderr"
        }
      ]
    },
    {
      "cell_type": "code",
      "metadata": {
        "id": "RtXhsm-iki8B"
      },
      "source": [
        "#Prepare validation data\n",
        "val_tokens_ids, val_masks, val_start_end_positions = prepare_val_squad_data_bert(squad_v1_val_df)"
      ],
      "execution_count": null,
      "outputs": []
    },
    {
      "cell_type": "markdown",
      "metadata": {
        "id": "Bw1XAOSvU4_1"
      },
      "source": [
        "We can verify that the computing of the tokens and the answer tokens positions have been successful."
      ]
    },
    {
      "cell_type": "code",
      "metadata": {
        "colab": {
          "base_uri": "https://localhost:8080/"
        },
        "id": "h7hRvuQtoQnE",
        "outputId": "daaa04bb-3d4b-4a76-92cd-00f0e203398f"
      },
      "source": [
        "#Verification\n",
        "for ind, start, end in zip(range(5), list(train_start_positions), list(train_end_positions)):\n",
        "    print(\"context: \\n\", squad_v1_train_df.iloc[ind]['context'])\n",
        "    print(\"question:\", squad_v1_train_df.iloc[ind]['question'])\n",
        "    if len(squad_v1_train_df.iloc[ind]['answers']['text'])==0:\n",
        "        print(\"answer:\", squad_v1_train_df.iloc[ind]['answers']['text'])\n",
        "    else:\n",
        "        print(\"answer:\", squad_v1_train_df.iloc[ind]['answers']['text'][0])\n",
        "    print(\"predicted answer:\", tokenizer.decode(train_tokens_ids[ind][start:end+1]), \"\\n\")"
      ],
      "execution_count": null,
      "outputs": [
        {
          "output_type": "stream",
          "text": [
            "context: \n",
            " Architecturally, the school has a Catholic character. Atop the Main Building's gold dome is a golden statue of the Virgin Mary. Immediately in front of the Main Building and facing it, is a copper statue of Christ with arms upraised with the legend \"Venite Ad Me Omnes\". Next to the Main Building is the Basilica of the Sacred Heart. Immediately behind the basilica is the Grotto, a Marian place of prayer and reflection. It is a replica of the grotto at Lourdes, France where the Virgin Mary reputedly appeared to Saint Bernadette Soubirous in 1858. At the end of the main drive (and in a direct line that connects through 3 statues and the Gold Dome), is a simple, modern stone statue of Mary.\n",
            "question: To whom did the Virgin Mary allegedly appear in 1858 in Lourdes France?\n",
            "answer: Saint Bernadette Soubirous\n",
            "predicted answer: Saint Bernadette Soubirous \n",
            "\n",
            "context: \n",
            " Architecturally, the school has a Catholic character. Atop the Main Building's gold dome is a golden statue of the Virgin Mary. Immediately in front of the Main Building and facing it, is a copper statue of Christ with arms upraised with the legend \"Venite Ad Me Omnes\". Next to the Main Building is the Basilica of the Sacred Heart. Immediately behind the basilica is the Grotto, a Marian place of prayer and reflection. It is a replica of the grotto at Lourdes, France where the Virgin Mary reputedly appeared to Saint Bernadette Soubirous in 1858. At the end of the main drive (and in a direct line that connects through 3 statues and the Gold Dome), is a simple, modern stone statue of Mary.\n",
            "question: What is in front of the Notre Dame Main Building?\n",
            "answer: a copper statue of Christ\n",
            "predicted answer: a copper statue of Christ \n",
            "\n",
            "context: \n",
            " Architecturally, the school has a Catholic character. Atop the Main Building's gold dome is a golden statue of the Virgin Mary. Immediately in front of the Main Building and facing it, is a copper statue of Christ with arms upraised with the legend \"Venite Ad Me Omnes\". Next to the Main Building is the Basilica of the Sacred Heart. Immediately behind the basilica is the Grotto, a Marian place of prayer and reflection. It is a replica of the grotto at Lourdes, France where the Virgin Mary reputedly appeared to Saint Bernadette Soubirous in 1858. At the end of the main drive (and in a direct line that connects through 3 statues and the Gold Dome), is a simple, modern stone statue of Mary.\n",
            "question: The Basilica of the Sacred heart at Notre Dame is beside to which structure?\n",
            "answer: the Main Building\n",
            "predicted answer: the Main Building \n",
            "\n",
            "context: \n",
            " Architecturally, the school has a Catholic character. Atop the Main Building's gold dome is a golden statue of the Virgin Mary. Immediately in front of the Main Building and facing it, is a copper statue of Christ with arms upraised with the legend \"Venite Ad Me Omnes\". Next to the Main Building is the Basilica of the Sacred Heart. Immediately behind the basilica is the Grotto, a Marian place of prayer and reflection. It is a replica of the grotto at Lourdes, France where the Virgin Mary reputedly appeared to Saint Bernadette Soubirous in 1858. At the end of the main drive (and in a direct line that connects through 3 statues and the Gold Dome), is a simple, modern stone statue of Mary.\n",
            "question: What is the Grotto at Notre Dame?\n",
            "answer: a Marian place of prayer and reflection\n",
            "predicted answer: a Marian place of prayer and reflection \n",
            "\n",
            "context: \n",
            " Architecturally, the school has a Catholic character. Atop the Main Building's gold dome is a golden statue of the Virgin Mary. Immediately in front of the Main Building and facing it, is a copper statue of Christ with arms upraised with the legend \"Venite Ad Me Omnes\". Next to the Main Building is the Basilica of the Sacred Heart. Immediately behind the basilica is the Grotto, a Marian place of prayer and reflection. It is a replica of the grotto at Lourdes, France where the Virgin Mary reputedly appeared to Saint Bernadette Soubirous in 1858. At the end of the main drive (and in a direct line that connects through 3 statues and the Gold Dome), is a simple, modern stone statue of Mary.\n",
            "question: What sits on top of the Main Building at Notre Dame?\n",
            "answer: a golden statue of the Virgin Mary\n",
            "predicted answer: a golden statue of the Virgin Mary \n",
            "\n"
          ],
          "name": "stdout"
        }
      ]
    },
    {
      "cell_type": "markdown",
      "metadata": {
        "id": "6JpV8q63VMe_"
      },
      "source": [
        "Finally, we choose the number of data used for training and validation."
      ]
    },
    {
      "cell_type": "code",
      "metadata": {
        "id": "xO480KMco1Dn"
      },
      "source": [
        "#data selection\n",
        "size_train = len(train_tokens_ids)\n",
        "size_valid = 5000\n",
        "\n",
        "#data loader\n",
        "train_dataset = TensorDataset(train_tokens_ids[:size_train], train_masks[:size_train], train_start_positions[:size_train], train_end_positions[:size_train])\n",
        "val_dataset = TensorDataset(val_tokens_ids[:size_valid], val_masks[:size_valid], val_start_end_positions[:size_valid])\n",
        "train_loader = DataLoader(train_dataset, batch_size=16)\n",
        "val_loader = DataLoader(val_dataset, batch_size=16)"
      ],
      "execution_count": null,
      "outputs": []
    },
    {
      "cell_type": "markdown",
      "metadata": {
        "id": "o6RS7PcHOxs0"
      },
      "source": [
        "## Training"
      ]
    },
    {
      "cell_type": "markdown",
      "metadata": {
        "id": "Jll4r8Q9VYX2"
      },
      "source": [
        "We initialize an instance of the model."
      ]
    },
    {
      "cell_type": "code",
      "metadata": {
        "id": "19Sk2REin5CE",
        "colab": {
          "base_uri": "https://localhost:8080/",
          "height": 66,
          "referenced_widgets": [
            "542ff9831cd54cb5978d811f4ee45029",
            "31cac2dc35a94d49a4af71430309e021",
            "4e23781511ec4a04ba334d8c5255af65",
            "f916b533b8614248a118053147653e7d",
            "f072dd49c11b48129df174fe50dc3230",
            "b1cd2c161e2148aa886d456756b884d5",
            "d66fa16a11d040989d66e0524475afa2",
            "f31543873db744c19233cbd0a4ac69f7"
          ]
        },
        "outputId": "46598423-f5ff-443a-d57f-d8fd3a1763b1"
      },
      "source": [
        "#model\n",
        "model = QA_finetuned_BERT(model_link=model_link, learning_rate=10**(-3), layerwise_gamma=0.6) "
      ],
      "execution_count": null,
      "outputs": [
        {
          "output_type": "display_data",
          "data": {
            "application/vnd.jupyter.widget-view+json": {
              "model_id": "542ff9831cd54cb5978d811f4ee45029",
              "version_minor": 0,
              "version_major": 2
            },
            "text/plain": [
              "HBox(children=(FloatProgress(value=0.0, description='Downloading', max=263273408.0, style=ProgressStyle(descri…"
            ]
          },
          "metadata": {
            "tags": []
          }
        },
        {
          "output_type": "stream",
          "text": [
            "\n"
          ],
          "name": "stdout"
        }
      ]
    },
    {
      "cell_type": "markdown",
      "metadata": {
        "id": "bBuncJyGVgrY"
      },
      "source": [
        "We compute the training on Colab's GPU to accelerate it."
      ]
    },
    {
      "cell_type": "code",
      "metadata": {
        "id": "8YghhL5arZWE",
        "colab": {
          "base_uri": "https://localhost:8080/"
        },
        "outputId": "ac592b85-8899-4c39-f18e-88d05234aa65"
      },
      "source": [
        "#trainer\n",
        "trainer = pl.Trainer(gpus=1, max_epochs=2, auto_lr_find=True)"
      ],
      "execution_count": null,
      "outputs": [
        {
          "output_type": "stream",
          "text": [
            "GPU available: True, used: True\n",
            "TPU available: False, using: 0 TPU cores\n"
          ],
          "name": "stderr"
        }
      ]
    },
    {
      "cell_type": "markdown",
      "metadata": {
        "id": "h76newuXVoiA"
      },
      "source": [
        "We can firstly used the learning rate finder prodided by the Lightning framework in order to find quickly a good learning rate (the one used before the loss went up)."
      ]
    },
    {
      "cell_type": "code",
      "metadata": {
        "id": "1Hbfnk68rcnC",
        "colab": {
          "base_uri": "https://localhost:8080/",
          "height": 567,
          "referenced_widgets": [
            "4b60c44453e248d081cc879822536c65",
            "e239f8e128664b0ca5af43d555a1361f",
            "bdf9d05952ec4ba4b14ed817dd8ae707",
            "6c29e5e3131c41fea53d9cce9d7d6c43",
            "8db2ffc63a47406c85d4a4ca438a19ae",
            "80f7e1f18c4d43f789025ba569f9e4ac",
            "94eb147b563748039c7d930ec49ecafd",
            "9d6c63770a1d44f4bd4fe5a95163212e"
          ]
        },
        "outputId": "ec7cbab8-77c1-4f68-dd1c-584f900548ea"
      },
      "source": [
        "#tune learning rate\n",
        "lr_finder = trainer.tuner.lr_find(model, train_dataloader=train_loader)\n",
        "fig = lr_finder.plot(suggest=True)\n",
        "fig.show()\n",
        "model.learning_rate = lr_finder.suggestion()\n",
        "print(model.learning_rate)"
      ],
      "execution_count": null,
      "outputs": [
        {
          "output_type": "stream",
          "text": [
            "/usr/local/lib/python3.7/dist-packages/pytorch_lightning/utilities/distributed.py:68: UserWarning: you defined a validation_step but have no val_dataloader. Skipping validation loop\n",
            "  warnings.warn(*args, **kwargs)\n",
            "LOCAL_RANK: 0 - CUDA_VISIBLE_DEVICES: [0]\n",
            "\n",
            "  | Name           | Type            | Params\n",
            "---------------------------------------------------\n",
            "0 | language_model | DistilBertModel | 65.2 M\n",
            "1 | labeling_head  | Linear          | 1.5 K \n",
            "---------------------------------------------------\n",
            "65.2 M    Trainable params\n",
            "0         Non-trainable params\n",
            "65.2 M    Total params\n",
            "260.770   Total estimated model params size (MB)\n"
          ],
          "name": "stderr"
        },
        {
          "output_type": "display_data",
          "data": {
            "application/vnd.jupyter.widget-view+json": {
              "model_id": "4b60c44453e248d081cc879822536c65",
              "version_minor": 0,
              "version_major": 2
            },
            "text/plain": [
              "HBox(children=(FloatProgress(value=0.0, description='Finding best initial lr', style=ProgressStyle(description…"
            ]
          },
          "metadata": {
            "tags": []
          }
        },
        {
          "output_type": "stream",
          "text": [
            "Restored states from the checkpoint file at /content/lr_find_temp_model.ckpt\n"
          ],
          "name": "stderr"
        },
        {
          "output_type": "stream",
          "text": [
            "0.0001445439770745928\n"
          ],
          "name": "stdout"
        },
        {
          "output_type": "display_data",
          "data": {
            "image/png": "[encoded data removed]",
            "text/plain": [
              "<Figure size 432x288 with 1 Axes>"
            ]
          },
          "metadata": {
            "tags": [],
            "needs_background": "light"
          }
        }
      ]
    },
    {
      "cell_type": "markdown",
      "metadata": {
        "id": "h9zCwZFbWDWm"
      },
      "source": [
        "We can finally train the model."
      ]
    },
    {
      "cell_type": "code",
      "metadata": {
        "colab": {
          "base_uri": "https://localhost:8080/",
          "height": 282,
          "referenced_widgets": [
            "34a3d252b9084f2baf4b917b63676cb8",
            "0fc6453154fc43399d1bf3be9d116c3f",
            "73e94768a1a842fa9ea145cff4374ed3",
            "7779073dc3cf40f2ad075783575127ba",
            "5d1278177d884cd1b1deb1d1aea7a0ed",
            "e0f6c585a81e4c48ab1f0f1a6e274f52",
            "8d4902b3c8ce4634b58a5310a12b7be0",
            "b4e51bdd3b4e4f0abc962983d33b3e03",
            "2941166db56b4cd7b74ca850340a7dc5",
            "d12fa02df5c1413bbbc4e873b610b0b9",
            "798b03b45b74431f8ca1452f6a9eea2b",
            "210620580bfe45b0b1c0759b6ec54c98",
            "4608c31849764081bc8b530e74725811",
            "e57f56b35cc840e788709ae9ecaaa8ea",
            "d53bba0c8c244a599ef7a361e419dfef",
            "d6505bd7669c4e559fb78cb57f70a2f8",
            "41bb8077d49d4b079e9b0ed0f05b0aba",
            "b124d8d4b17a40508a6881c8f7d8aeff",
            "d92f32a1d957471491f8a181d7318e91",
            "4a5cdbe92de042279faa020c4201b4d4",
            "b21624c950f3457f8b7dd4ed419cd922",
            "d03656b90d6140f084eb646397da70b0",
            "ae536cdf8e534f95b0fa6743dca1b569",
            "348eae66aa2a47a689d26c288a49ae82"
          ]
        },
        "id": "1kyGrTqS0yUI",
        "outputId": "af5b737a-d8ea-4c0d-98a0-1fb8b468fc02"
      },
      "source": [
        "#training \n",
        "trainer.fit(model, train_loader, val_loader)"
      ],
      "execution_count": null,
      "outputs": [
        {
          "output_type": "stream",
          "text": [
            "LOCAL_RANK: 0 - CUDA_VISIBLE_DEVICES: [0]\n",
            "\n",
            "  | Name           | Type            | Params\n",
            "---------------------------------------------------\n",
            "0 | language_model | DistilBertModel | 65.2 M\n",
            "1 | labeling_head  | Linear          | 1.5 K \n",
            "---------------------------------------------------\n",
            "65.2 M    Trainable params\n",
            "0         Non-trainable params\n",
            "65.2 M    Total params\n",
            "260.770   Total estimated model params size (MB)\n"
          ],
          "name": "stderr"
        },
        {
          "output_type": "display_data",
          "data": {
            "application/vnd.jupyter.widget-view+json": {
              "model_id": "34a3d252b9084f2baf4b917b63676cb8",
              "version_minor": 0,
              "version_major": 2
            },
            "text/plain": [
              "HBox(children=(FloatProgress(value=1.0, bar_style='info', description='Validation sanity check', layout=Layout…"
            ]
          },
          "metadata": {
            "tags": []
          }
        },
        {
          "output_type": "stream",
          "text": [
            "\r"
          ],
          "name": "stdout"
        },
        {
          "output_type": "display_data",
          "data": {
            "application/vnd.jupyter.widget-view+json": {
              "model_id": "2941166db56b4cd7b74ca850340a7dc5",
              "version_minor": 0,
              "version_major": 2
            },
            "text/plain": [
              "HBox(children=(FloatProgress(value=1.0, bar_style='info', description='Training', layout=Layout(flex='2'), max…"
            ]
          },
          "metadata": {
            "tags": []
          }
        },
        {
          "output_type": "display_data",
          "data": {
            "application/vnd.jupyter.widget-view+json": {
              "model_id": "41bb8077d49d4b079e9b0ed0f05b0aba",
              "version_minor": 0,
              "version_major": 2
            },
            "text/plain": [
              "HBox(children=(FloatProgress(value=1.0, bar_style='info', description='Validating', layout=Layout(flex='2'), m…"
            ]
          },
          "metadata": {
            "tags": []
          }
        },
        {
          "output_type": "execute_result",
          "data": {
            "text/plain": [
              "1"
            ]
          },
          "metadata": {
            "tags": []
          },
          "execution_count": 16
        }
      ]
    },
    {
      "cell_type": "markdown",
      "metadata": {
        "id": "6i-DxG1UO56m"
      },
      "source": [
        "## Evaluating the results"
      ]
    },
    {
      "cell_type": "markdown",
      "metadata": {
        "id": "uqUFNZJoWSA6"
      },
      "source": [
        "We can use the framework tensorboard to explore the logs made during the training."
      ]
    },
    {
      "cell_type": "code",
      "metadata": {
        "id": "hfbU_lrfAQBy"
      },
      "source": [
        "#%load_ext tensorboard"
      ],
      "execution_count": null,
      "outputs": []
    },
    {
      "cell_type": "code",
      "metadata": {
        "id": "Wp9NtDzpAQpn"
      },
      "source": [
        "#%tensorboard --logdir lightning_logs/ "
      ],
      "execution_count": null,
      "outputs": []
    },
    {
      "cell_type": "code",
      "metadata": {
        "id": "Mug2rjI3NOaC"
      },
      "source": [
        "#loaded_model = QA_finetuned_BERT.load_from_checkpoint(\"lightning_logs/\")"
      ],
      "execution_count": null,
      "outputs": []
    },
    {
      "cell_type": "markdown",
      "metadata": {
        "id": "cKwjo9E5Wjik"
      },
      "source": [
        "We can compute metrics on datasets."
      ]
    },
    {
      "cell_type": "code",
      "metadata": {
        "colab": {
          "base_uri": "https://localhost:8080/",
          "height": 166,
          "referenced_widgets": [
            "05e732f6757d41bfa127b2a91e2128c6",
            "06e08db1e10547269177e5ae3aa6e6db",
            "895f93ecc140442fb0434ee373280ae5",
            "3ef113ad101f4378a23e68026aab4b0e",
            "08cb21ca1bd8457ba9dee8d6a5bcfad0",
            "b1a964820ba14167b4d074711b15e0a6",
            "54858c3c755a4870adfe920677fccab0",
            "576b343ed3f64c9e883e6462f49fee26"
          ]
        },
        "id": "US_uIJZV1H-q",
        "outputId": "bf47ebe3-c547-4519-b2e5-e18128955b57"
      },
      "source": [
        "#quantitative results\n",
        "result_val = trainer.test(test_dataloaders=val_loader)\n",
        "print(result_val)"
      ],
      "execution_count": null,
      "outputs": [
        {
          "output_type": "stream",
          "text": [
            "LOCAL_RANK: 0 - CUDA_VISIBLE_DEVICES: [0]\n"
          ],
          "name": "stderr"
        },
        {
          "output_type": "display_data",
          "data": {
            "application/vnd.jupyter.widget-view+json": {
              "model_id": "05e732f6757d41bfa127b2a91e2128c6",
              "version_minor": 0,
              "version_major": 2
            },
            "text/plain": [
              "HBox(children=(FloatProgress(value=1.0, bar_style='info', description='Testing', layout=Layout(flex='2'), max=…"
            ]
          },
          "metadata": {
            "tags": []
          }
        },
        {
          "output_type": "stream",
          "text": [
            "\n",
            "--------------------------------------------------------------------------------\n",
            "DATALOADER:0 TEST RESULTS\n",
            "{'test_exact_matching': 0.6690633893013, 'test_f1_score': 0.7736994624137878}\n",
            "--------------------------------------------------------------------------------\n",
            "[{'test_f1_score': 0.7736994624137878, 'test_exact_matching': 0.6690633893013}]\n"
          ],
          "name": "stdout"
        }
      ]
    },
    {
      "cell_type": "markdown",
      "metadata": {
        "id": "kKGZwMgiW11B"
      },
      "source": [
        "And we can also evaluate visually the performances of the model."
      ]
    },
    {
      "cell_type": "code",
      "metadata": {
        "colab": {
          "base_uri": "https://localhost:8080/"
        },
        "id": "Liig-DoC1Q5K",
        "outputId": "e13cf683-0076-463b-ae41-874aa1fc2be4"
      },
      "source": [
        "#qualitative results on training data\n",
        "index = [0, 100, 200, 250, 500, 1000, 2000, 2500, 3000]\n",
        "start_end_prediction = np.argmax(model(train_tokens_ids[index].cuda(), train_masks[index].cuda()).detach().cpu(), axis=1) #np.argmax(trainer.predict(model, DataLoader(train_tokens_ids[index], batch_size=8))[0], axis=1)\n",
        "print(start_end_prediction)\n",
        "for ind, start_end in zip(index, list(start_end_prediction)):\n",
        "    print(\"context: \\n\", squad_v2_train_df.iloc[ind]['context'])\n",
        "    print(\"question:\", squad_v2_train_df.iloc[ind]['question'])\n",
        "    if len(squad_v2_train_df.iloc[ind]['answers']['text'])==0:\n",
        "        print(\"answer:\", squad_v2_train_df.iloc[ind]['answers']['text'])\n",
        "    else:\n",
        "        print(\"answer:\", squad_v2_train_df.iloc[ind]['answers']['text'][0])\n",
        "    print(\"predicted answer:\", tokenizer.decode(train_tokens_ids[ind][start_end[0]:start_end[1]+1]), \"\\n\")"
      ],
      "execution_count": null,
      "outputs": [
        {
          "output_type": "stream",
          "text": [
            "tensor([[120, 126],\n",
            "        [ 77,  77],\n",
            "        [  2,   2],\n",
            "        [  8,  11],\n",
            "        [ 75,  78],\n",
            "        [ 31,  34],\n",
            "        [ 26,  29],\n",
            "        [ 53,  54],\n",
            "        [150, 150]])\n",
            "context: \n",
            " Architecturally, the school has a Catholic character. Atop the Main Building's gold dome is a golden statue of the Virgin Mary. Immediately in front of the Main Building and facing it, is a copper statue of Christ with arms upraised with the legend \"Venite Ad Me Omnes\". Next to the Main Building is the Basilica of the Sacred Heart. Immediately behind the basilica is the Grotto, a Marian place of prayer and reflection. It is a replica of the grotto at Lourdes, France where the Virgin Mary reputedly appeared to Saint Bernadette Soubirous in 1858. At the end of the main drive (and in a direct line that connects through 3 statues and the Gold Dome), is a simple, modern stone statue of Mary.\n",
            "question: To whom did the Virgin Mary allegedly appear in 1858 in Lourdes France?\n",
            "answer: Saint Bernadette Soubirous\n",
            "predicted answer: Saint Bernadette Soubirous \n",
            "\n",
            "context: \n",
            " One of the main driving forces in the growth of the University was its football team, the Notre Dame Fighting Irish. Knute Rockne became head coach in 1918. Under Rockne, the Irish would post a record of 105 wins, 12 losses, and five ties. During his 13 years the Irish won three national championships, had five undefeated seasons, won the Rose Bowl in 1925, and produced players such as George Gipp and the \"Four Horsemen\". Knute Rockne has the highest winning percentage (.881) in NCAA Division I/FBS football history. Rockne's offenses employed the Notre Dame Box and his defenses ran a 7–2–2 scheme. The last game Rockne coached was on December 14, 1930 when he led a group of Notre Dame all-stars against the New York Giants in New York City.\n",
            "question: In what year did the team lead by Knute Rockne win the Rose Bowl?\n",
            "answer: 1925\n",
            "predicted answer: 1925 \n",
            "\n",
            "context: \n",
            " In 1842, the Bishop of Vincennes, Célestine Guynemer de la Hailandière, offered land to Father Edward Sorin of the Congregation of the Holy Cross, on the condition that he build a college in two years. Fr. Sorin arrived on the site with eight Holy Cross brothers from France and Ireland on November 26, 1842, and began the school using Father Stephen Badin's old log chapel. He soon erected additional buildings, including Old College, the first church, and the first main building. They immediately acquired two students and set about building additions to the campus.\n",
            "question: In what year was Father Edward Sorin given two years to create a college?\n",
            "answer: 1842\n",
            "predicted answer: 1842 \n",
            "\n",
            "context: \n",
            " The men's basketball team has over 1,600 wins, one of only 12 schools who have reached that mark, and have appeared in 28 NCAA tournaments. Former player Austin Carr holds the record for most points scored in a single game of the tournament with 61. Although the team has never won the NCAA Tournament, they were named by the Helms Athletic Foundation as national champions twice. The team has orchestrated a number of upsets of number one ranked teams, the most notable of which was ending UCLA's record 88-game winning streak in 1974. The team has beaten an additional eight number-one teams, and those nine wins rank second, to UCLA's 10, all-time in wins against the top team. The team plays in newly renovated Purcell Pavilion (within the Edmund P. Joyce Center), which reopened for the beginning of the 2009–2010 season. The team is coached by Mike Brey, who, as of the 2014–15 season, his fifteenth at Notre Dame, has achieved a 332-165 record. In 2009 they were invited to the NIT, where they advanced to the semifinals but were beaten by Penn State who went on and beat Baylor in the championship. The 2010–11 team concluded its regular season ranked number seven in the country, with a record of 25–5, Brey's fifth straight 20-win season, and a second-place finish in the Big East. During the 2014-15 season, the team went 32-6 and won the ACC conference tournament, later advancing to the Elite 8, where the Fighting Irish lost on a missed buzzer-beater against then undefeated Kentucky. Led by NBA draft picks Jerian Grant and Pat Connaughton, the Fighting Irish beat the eventual national champion Duke Blue Devils twice during the season. The 32 wins were the most by the Fighting Irish team since 1908-09.\n",
            "question: How many schools have a similar men's basketball record to Notre Dame in terms of wins?\n",
            "answer: 12\n",
            "predicted answer: over 1, 600 \n",
            "\n",
            "context: \n",
            " In 2011, documents obtained by WikiLeaks revealed that Beyoncé was one of many entertainers who performed for the family of Libyan ruler Muammar Gaddafi. Rolling Stone reported that the music industry was urging them to return the money they earned for the concerts; a spokesperson for Beyoncé later confirmed to The Huffington Post that she donated the money to the Clinton Bush Haiti Fund. Later that year she became the first solo female artist to headline the main Pyramid stage at the 2011 Glastonbury Festival in over twenty years, and was named the highest-paid performer in the world per minute.\n",
            "question: Who did Beyonce donate the money to earned from her shows?\n",
            "answer: Clinton Bush Haiti Fund\n",
            "predicted answer: Clinton Bush Haiti Fund \n",
            "\n",
            "context: \n",
            " After Hurricane Katrina in 2005, Beyoncé and Rowland founded the Survivor Foundation to provide transitional housing for victims in the Houston area, to which Beyoncé contributed an initial $250,000. The foundation has since expanded to work with other charities in the city, and also provided relief following Hurricane Ike three years later.\n",
            "question: How much did Beyonce initially contribute to the foundation?\n",
            "answer: $250,000\n",
            "predicted answer: $ 250, 000 \n",
            "\n",
            "context: \n",
            " With his health further deteriorating, Chopin desired to have a family member with him. In June 1849 his sister Ludwika came to Paris with her husband and daughter, and in September, supported by a loan from Jane Stirling, he took an apartment at Place Vendôme 12. After 15 October, when his condition took a marked turn for the worse, only a handful of his closest friends remained with him, although Viardot remarked sardonically that \"all the grand Parisian ladies considered it de rigueur to faint in his room.\"\n",
            "question: Who accompanied Chopin's sister to Paris?\n",
            "answer: her husband and daughter\n",
            "predicted answer: Ludwika \n",
            "\n",
            "context: \n",
            " In mid-2015, a new model of the iPod Touch was announced by Apple, and was officially released on the Apple store on July 15, 2015. The sixth generation iPod Touch includes a wide variety of spec improvements such as the upgraded A8 processor and higher-quality screen. The core is over 5 times faster than previous models and is built to be roughly on par with the iPhone 5S. It is available in 5 different colors: Space grey, pink, gold, silver and Product (red).\n",
            "question: What type of processor does the current iPod Touch use?\n",
            "answer: A8\n",
            "predicted answer: A8 \n",
            "\n",
            "context: \n",
            " Twilight Princess received the awards for Best Artistic Design, Best Original Score, and Best Use of Sound from IGN for its GameCube version. Both IGN and Nintendo Power gave Twilight Princess the awards for Best Graphics and Best Story. Twilight Princess received Game of the Year awards from GameTrailers, 1UP.com, Electronic Gaming Monthly, Game Informer, Games Radar, GameSpy, Spacey Awards, X-Play and Nintendo Power. It was also given awards for Best Adventure Game from the Game Critics Awards, X-Play, IGN, GameTrailers, 1UP.com, and Nintendo Power. The game was considered the Best Console Game by the Game Critics Awards and GameSpy. The game placed 16th in Official Nintendo Magazine's list of the 100 Greatest Nintendo Games of All Time. IGN ranked the game as the 4th-best Wii game. Nintendo Power ranked the game as the third-best game to be released on a Nintendo system in the 2000s decade.\n",
            "question: What place did the game take in Nintendo's Official list of 100 Greatest Nintendo Games of All Time?\n",
            "answer: 16th\n",
            "predicted answer: 16th \n",
            "\n"
          ],
          "name": "stdout"
        }
      ]
    },
    {
      "cell_type": "code",
      "metadata": {
        "colab": {
          "base_uri": "https://localhost:8080/"
        },
        "id": "SP9eGdyt1fC9",
        "outputId": "25976b35-ba8f-4d61-e8ca-9b5de991abe5"
      },
      "source": [
        "#qualitative results on validation data\n",
        "index = [0, 100, 200, 250, 500, 1000, 2000, 2500, 3000]\n",
        "start_end_prediction = np.argmax(model(val_tokens_ids[index].cuda(), val_masks[index].cuda()).detach().cpu(), axis=1) #trainer.predict(model, DataLoader(TensorDataset(val_tokens_ids[index], val_masks[index]), batch_size=8))[0], axis=1)\n",
        "print(start_end_prediction)\n",
        "for ind, start_end in zip(index, list(start_end_prediction)):\n",
        "    print(\"context: \\n\", squad_v2_val_df.iloc[ind]['context'])\n",
        "    print(\"question:\", squad_v2_val_df.iloc[ind]['question'])\n",
        "    if len(squad_v2_val_df.iloc[ind]['answers']['text'])==0:\n",
        "        print(\"answer:\", squad_v2_val_df.iloc[ind]['answers']['text'])\n",
        "    else:\n",
        "        print(\"answer:\", squad_v2_val_df.iloc[ind]['answers']['text'][0])\n",
        "    print(\"predicted answer:\", tokenizer.decode(val_tokens_ids[ind][start_end[0]:start_end[1]+1]), \"\\n\")"
      ],
      "execution_count": null,
      "outputs": [
        {
          "output_type": "stream",
          "text": [
            "tensor([[ 34,  35],\n",
            "        [ 51,  54],\n",
            "        [ 30,  31],\n",
            "        [ 54,  57],\n",
            "        [ 32,  35],\n",
            "        [ 37,  39],\n",
            "        [ 75,  68],\n",
            "        [ 60,  60],\n",
            "        [111, 114]])\n",
            "context: \n",
            " Super Bowl 50 was an American football game to determine the champion of the National Football League (NFL) for the 2015 season. The American Football Conference (AFC) champion Denver Broncos defeated the National Football Conference (NFC) champion Carolina Panthers 24–10 to earn their third Super Bowl title. The game was played on February 7, 2016, at Levi's Stadium in the San Francisco Bay Area at Santa Clara, California. As this was the 50th Super Bowl, the league emphasized the \"golden anniversary\" with various gold-themed initiatives, as well as temporarily suspending the tradition of naming each Super Bowl game with Roman numerals (under which the game would have been known as \"Super Bowl L\"), so that the logo could prominently feature the Arabic numerals 50.\n",
            "question: Which NFL team represented the AFC at Super Bowl 50?\n",
            "answer: Denver Broncos\n",
            "predicted answer: Denver Broncos \n",
            "\n",
            "context: \n",
            " CBS broadcast Super Bowl 50 in the U.S., and charged an average of $5 million for a 30-second commercial during the game. The Super Bowl 50 halftime show was headlined by the British rock group Coldplay with special guest performers Beyoncé and Bruno Mars, who headlined the Super Bowl XLVII and Super Bowl XLVIII halftime shows, respectively. It was the third-most watched U.S. broadcast ever.\n",
            "question: Who were special guests for the Super Bowl halftime show?\n",
            "answer: Beyoncé and Bruno Mars\n",
            "predicted answer: Beyoncé and Bruno Mars \n",
            "\n",
            "context: \n",
            " Despite waiving longtime running back DeAngelo Williams and losing top wide receiver Kelvin Benjamin to a torn ACL in the preseason, the Carolina Panthers had their best regular season in franchise history, becoming the seventh team to win at least 15 regular season games since the league expanded to a 16-game schedule in 1978. Carolina started the season 14–0, not only setting franchise records for the best start and the longest single-season winning streak, but also posting the best start to a season by an NFC team in NFL history, breaking the 13–0 record previously shared with the 2009 New Orleans Saints and the 2011 Green Bay Packers. With their NFC-best 15–1 regular season record, the Panthers clinched home-field advantage throughout the NFC playoffs for the first time in franchise history. Ten players were selected to the Pro Bowl (the most in franchise history) along with eight All-Pro selections.\n",
            "question: Who had the best record in the NFC?\n",
            "answer: Carolina Panthers\n",
            "predicted answer: Carolina Panthers \n",
            "\n",
            "context: \n",
            " Following their loss in the divisional round of the previous season's playoffs, the Denver Broncos underwent numerous coaching changes, including a mutual parting with head coach John Fox (who had won four divisional championships in his four years as Broncos head coach), and the hiring of Gary Kubiak as the new head coach. Under Kubiak, the Broncos planned to install a run-oriented offense with zone blocking to blend in with quarterback Peyton Manning's shotgun passing skills, but struggled with numerous changes and injuries to the offensive line, as well as Manning having his worst statistical season since his rookie year with the Indianapolis Colts in 1998, due to a plantar fasciitis injury in his heel that he had suffered since the summer, and the simple fact that Manning was getting old, as he turned 39 in the 2015 off-season. Although the team had a 7–0 start, Manning led the NFL in interceptions. In week 10, Manning suffered a partial tear of the plantar fasciitis in his left foot. He set the NFL's all-time record for career passing yards in this game, but was benched after throwing four interceptions in favor of backup quarterback Brock Osweiler, who took over as the starter for most of the remainder of the regular season. Osweiler was injured, however, leading to Manning's return during the Week 17 regular season finale, where the Broncos were losing 13–7 against the 4–11 San Diego Chargers, resulting in Manning re-claiming the starting quarterback position for the playoffs by leading the team to a key 27–20 win that enabled the team to clinch the number one overall AFC seed. Under defensive coordinator Wade Phillips, the Broncos' defense ranked number one in total yards allowed, passing yards allowed and sacks, and like the previous three seasons, the team has continued to set numerous individual, league and franchise records. With the defense carrying the team despite the issues with the offense, the Broncos finished the regular season with a 12–4 record and earned home-field advantage throughout the AFC playoffs.\n",
            "question: Who is the head coach of the Broncos?\n",
            "answer: Gary Kubiak\n",
            "predicted answer: Gary Kubiak \n",
            "\n",
            "context: \n",
            " The game's media day, which was typically held on the Tuesday afternoon prior to the game, was moved to the Monday evening and re-branded as Super Bowl Opening Night. The event was held on February 1, 2016 at SAP Center in San Jose. Alongside the traditional media availabilities, the event featured an opening ceremony with player introductions on a replica of the Golden Gate Bridge.\n",
            "question: What was media day called for Super Bowl 50?\n",
            "answer: Super Bowl Opening Night.\n",
            "predicted answer: Super Bowl Opening Night \n",
            "\n",
            "context: \n",
            " Other green spaces in the city include the Botanic Garden and the University Library garden. They have extensive botanical collection of rare domestic and foreign plants, while a palm house in the New Orangery displays plants of subtropics from all over the world. Besides, within the city borders, there are also: Pole Mokotowskie (a big park in the northern Mokotów, where was the first horse racetrack and then the airport), Park Ujazdowski (close to the Sejm and John Lennon street), Park of Culture and Rest in Powsin, by the southern city border, Park Skaryszewski by the right Vistula bank, in Praga. The oldest park in Praga, the Praga Park, was established in 1865–1871 and designed by Jan Dobrowolski. In 1927 a zoological garden (Ogród Zoologiczny) was established on the park grounds, and in 1952 a bear run, still open today.\n",
            "question: Where is a palm house with subtropic plants from all over the world on display?\n",
            "answer: New Orangery\n",
            "predicted answer: New Orangery \n",
            "\n",
            "context: \n",
            " Teachers that exhibit enthusiasm can lead to students who are more likely to be engaged, interested, energetic, and curious about learning the subject matter. Recent research has found a correlation between teacher enthusiasm and students' intrinsic motivation to learn and vitality in the classroom. Controlled, experimental studies exploring intrinsic motivation of college students has shown that nonverbal expressions of enthusiasm, such as demonstrative gesturing, dramatic movements which are varied, and emotional facial expressions, result in college students reporting higher levels of intrinsic motivation to learn. Students who experienced a very enthusiastic teacher were more likely to read lecture material outside of the classroom.\n",
            "question: What is dramatic gesturing an example of?\n",
            "answer: nonverbal expressions of enthusiasm\n",
            "predicted answer:  \n",
            "\n",
            "context: \n",
            " In 1523, Luther wrote that Jesus Christ was born a Jew which discouraged mistreatment of the Jews and advocated their conversion by proving that the Old Testament could be shown to speak of Jesus Christ. However, as the Reformation continued, Luther began to lose hope in large-scale Jewish conversion to Christianity. In his later years, Luther grew more hostile toward the Jews, writing against them with the kind of venom he had already unleashed on the Anabaptists, Zwinglianism, and the papacy. His 1543 treatise Von den Juden und ihren Lügen (On the Jews and Their Lies) took its place among other anti-Jewish literature of the times, although historians acknowledge that this treatise was particularly extreme, even by the standards of sixteenth century Europe. In it, he takes a hardline against Judaism, writing that synagogues and Jewish homes should be destroyed, their money confiscated, and liberty curtailed. These statements and their influence on antisemitism have contributed to his controversial status.\n",
            "question: What did Luther gradually see as hopeless in the Reformation?\n",
            "answer: Jewish conversion to Christianity\n",
            "predicted answer: Christianity \n",
            "\n",
            "context: \n",
            " As of August 2010, Victoria had 1,548 public schools, 489 Catholic schools and 214 independent schools. Just under 540,800 students were enrolled in public schools, and just over 311,800 in private schools. Over 61 per cent of private students attend Catholic schools. More than 462,000 students were enrolled in primary schools and more than 390,000 in secondary schools. Retention rates for the final two years of secondary school were 77 per cent for public school students and 90 per cent for private school students. Victoria has about 63,519 full-time teachers.\n",
            "question: How many full time teachers does Victoria have?\n",
            "answer: 63,519\n",
            "predicted answer: 63, 519 \n",
            "\n"
          ],
          "name": "stdout"
        }
      ]
    },
    {
      "cell_type": "markdown",
      "metadata": {
        "id": "Gf6tgUmvZv84"
      },
      "source": [
        "# Bert Fine-tuning on SQuAD 2"
      ]
    },
    {
      "cell_type": "markdown",
      "metadata": {
        "id": "Iq7cvAJamPDT"
      },
      "source": [
        "Let's deal with a problem of higher difficulty by considering SQuAD 2 which has pairs of context-question that admits no answer. To take into account this new constraint, we indicate the first token of a sequence as a special token that must be pointed out by the model when the context does not contain an answer to a question. Since around 30\\% of the training data are unanswerable question, we weight the loss differently to penalize more errors on answerable questions than errors on unanswerable questions."
      ]
    },
    {
      "cell_type": "markdown",
      "metadata": {
        "id": "SkfEkXJuZv9B"
      },
      "source": [
        "## Architecture definition"
      ]
    },
    {
      "cell_type": "code",
      "metadata": {
        "id": "tiMlMe3KZv9B"
      },
      "source": [
        "class QA_finetuned_BERT_v2(pl.LightningModule):\n",
        "    \n",
        "    def __init__(self, model_link, weight, learning_rate=10**(-3), layerwise_gamma=1.):\n",
        "        super().__init__()\n",
        "        self.tokenizer = AutoTokenizer.from_pretrained(model_link)\n",
        "        self.language_model = AutoModel.from_pretrained(model_link)\n",
        "        self.l_model_size = 768 \n",
        "        self.labeling_head = nn.Linear(self.l_model_size, 2)\n",
        "        self.learning_rate = learning_rate\n",
        "        self.layerwise_gamma = layerwise_gamma\n",
        "        self.weight = weight\n",
        "\n",
        "    def forward(self, input_ids, attention_mask):\n",
        "        model_outputs = self.language_model(input_ids=input_ids, attention_mask=attention_mask)[0]\n",
        "        start_and_end_outputs = self.labeling_head(model_outputs)\n",
        "        return start_and_end_outputs\n",
        "\n",
        "    def predict_from_outputs(self, outputs):\n",
        "        predictions = torch.argmax(outputs, dim=1)\n",
        "        return predictions\n",
        "\n",
        "    def configure_optimizers(self):\n",
        "        \n",
        "        params_to_fit = []\n",
        "\n",
        "        layerwise_lr = self.learning_rate\n",
        "\n",
        "        params_to_fit.append({\"params\": self.labeling_head.parameters(), \"lr\": layerwise_lr})\n",
        "\n",
        "        #for transformer with 6 layers (Distilbert)\n",
        "        for i in range(5,-1,-1):\n",
        "            layerwise_lr *= self.layerwise_gamma\n",
        "            params_to_fit.append({\n",
        "                \"params\" : self.language_model.transformer.layer[i].parameters(),\n",
        "                \"lr\" : layerwise_lr})\n",
        "\n",
        "        optimizer = torch.optim.Adam(params_to_fit, lr=self.learning_rate)\n",
        "\n",
        "        return optimizer\n",
        "\n",
        "    def training_step(self, train_batch, batch_idx):\n",
        "\n",
        "        context_and_question_tokens, masks, start_positions, end_positions = train_batch\n",
        "        start_and_end_outputs = self.forward(input_ids=context_and_question_tokens, attention_mask=masks)\n",
        "\n",
        "        start_cross_entropy = nn.CrossEntropyLoss(weight=self.weight)(start_and_end_outputs[:,:,0], start_positions)\n",
        "        end_cross_entropy = nn.CrossEntropyLoss(weight=self.weight)(start_and_end_outputs[:,:,1], end_positions)\n",
        "        loss = (start_cross_entropy + end_cross_entropy)/2\n",
        "        self.log('train_loss', loss)\n",
        "\n",
        "        return loss\n",
        "\n",
        "    def validation_step(self, val_batch, batch_idx):\n",
        "        context_and_question_tokens, masks, start_end_positions = val_batch\n",
        "        start_and_end_outputs = self.forward(input_ids=context_and_question_tokens, attention_mask=masks)\n",
        "        start_and_end_predictions = self.predict_from_outputs(start_and_end_outputs)\n",
        "\n",
        "        f1_s = qa_f1_score(start_and_end_predictions, start_end_positions)\n",
        "        matching = exact_matching(start_and_end_predictions, start_end_positions)\n",
        "\n",
        "        self.log('val_f1_score', f1_s)\n",
        "        self.log('val_exact_matching', matching, prog_bar=True)\n",
        "\n",
        "    def test_step(self, batch, batch_idx):\n",
        "        context_and_question_tokens, masks, start_and_end_positions = batch\n",
        "        start_and_end_outputs = self.forward(input_ids=context_and_question_tokens, attention_mask=masks)\n",
        "        start_and_end_predictions = self.predict_from_outputs(start_and_end_outputs)\n",
        "\n",
        "        f1_s = qa_f1_score(start_and_end_predictions, start_and_end_positions)\n",
        "        matching = exact_matching(start_and_end_predictions, start_and_end_positions)\n",
        "\n",
        "        self.log('test_f1_score', f1_s)\n",
        "        self.log('test_exact_matching', matching)"
      ],
      "execution_count": null,
      "outputs": []
    },
    {
      "cell_type": "markdown",
      "metadata": {
        "id": "juvDo73Sj0tC"
      },
      "source": [
        "## Data import and presentation"
      ]
    },
    {
      "cell_type": "code",
      "metadata": {
        "id": "z3aiSoj_aEV-",
        "colab": {
          "base_uri": "https://localhost:8080/",
          "height": 282,
          "referenced_widgets": [
            "6148cd2cc19a44e9aec2d143f8cae6c4",
            "528f6f33a8304060889bb1a8bac6e19e",
            "e13110dbb8014ca989d2641a375c8ca2",
            "a070e19e34a0427b94b53ba7b359a350",
            "221006a999bb408b812a7dbea0b806e9",
            "7de603f63bc049968569adbe4d428665",
            "613c082a0d4e4df1a67b9284b6d26181",
            "7f5674cf72ed48fbb1125a29c156e9c9",
            "aa069e2b34994d70a5ddfde2f0e7ffdc",
            "a446ed8fef194ae0bcc0fbff049dab16",
            "53a73da2524a401fb89ebb67609bddcf",
            "4326369668274840932be1818950f0c2",
            "2451918683b34a079c2b4338777d1fb4",
            "9657df83fa5143238fe184eadc64f95d",
            "a2dca0674872470c93d8f47abe498eb7",
            "937d902ff8834718a0e623059847e573",
            "50101533ff8a40569abdde35bd8703c5",
            "683193102371416cac251e73999bfb5e",
            "22110ef68a5c4f9d947c244cbe9a7907",
            "a6697693ce4d4c57b05a97e70daf78d5",
            "205bebe64f9c404d9d77b315d505762b",
            "13503b7fcf3c477b8232094602e6952a",
            "0085fcc54b4d4bd2bf3da94da211e38b",
            "61154da358a8448d8fa7cd5abaf74a9f",
            "27a1a7dabcfc4a11a65f58583acf4c01",
            "6971ba63571c4330a6a8d01cc942cf31",
            "7bb27e6743b246d988d32a43a65be8a8",
            "beba893159464d769d2dfb19b72b321d",
            "ce00748ff3674385893728a7b540642a",
            "fc4596b8ca4a436194b55c5096ed4ec9",
            "8e91644fca95436b96b208c327367fa9",
            "00cc654172ce45b8bcf97e9037648d02",
            "80ecb050414b4fc39ab3ae6e14722115",
            "279a8a87955841aabeb92a7cf1241198",
            "96f8c7bc29e946868905a3fe61a47d32",
            "4c75003c0b4e4c6ea61ea2120e92d743",
            "3b013394d7a2409f9b5824d469fa745b",
            "d8ee7668d9644ea080419072b0b32611",
            "eb413ac38b074f9a8287d101805ae825",
            "4070ce0b72b243e3b671eb9ae3a558da",
            "ae120de18e0948daaad0603bc553e50e",
            "abbe76c0fd7240239580b15995a101aa",
            "92ef9ec68c1a491ebda4ec411fb47024",
            "7697a96914204f448b9cb64c56cf3a48",
            "6ab90c1d9b984973990b36e44350bc42",
            "e2e51536a1ad4f9981b633e86e68bfde",
            "d1b2d454f7f2442d8508ccfaa800a3cf",
            "51a478d028c54b74865ae0a782cce7ab"
          ]
        },
        "outputId": "34cfe36b-9dda-426b-f7e4-f476078f49b9"
      },
      "source": [
        "#Data loading\n",
        "squad_v2_dataset_train = load_dataset(\"squad_v2\", split=\"train\")\n",
        "squad_v2_dataset_val = load_dataset(\"squad_v2\", split=\"validation\")\n",
        "\n",
        "#Data transformation to DataFrame\n",
        "squad_v2_train_df = pd.DataFrame(squad_v2_dataset_train)\n",
        "squad_v2_val_df = pd.DataFrame(squad_v2_dataset_val)"
      ],
      "execution_count": null,
      "outputs": [
        {
          "output_type": "display_data",
          "data": {
            "application/vnd.jupyter.widget-view+json": {
              "model_id": "6148cd2cc19a44e9aec2d143f8cae6c4",
              "version_minor": 0,
              "version_major": 2
            },
            "text/plain": [
              "HBox(children=(FloatProgress(value=0.0, description='Downloading', max=1771.0, style=ProgressStyle(description…"
            ]
          },
          "metadata": {
            "tags": []
          }
        },
        {
          "output_type": "stream",
          "text": [
            "\n"
          ],
          "name": "stdout"
        },
        {
          "output_type": "display_data",
          "data": {
            "application/vnd.jupyter.widget-view+json": {
              "model_id": "aa069e2b34994d70a5ddfde2f0e7ffdc",
              "version_minor": 0,
              "version_major": 2
            },
            "text/plain": [
              "HBox(children=(FloatProgress(value=0.0, description='Downloading', max=963.0, style=ProgressStyle(description_…"
            ]
          },
          "metadata": {
            "tags": []
          }
        },
        {
          "output_type": "stream",
          "text": [
            "\n",
            "Downloading and preparing dataset squad_v2/squad_v2 (download: 44.34 MiB, generated: 122.57 MiB, post-processed: Unknown size, total: 166.91 MiB) to /root/.cache/huggingface/datasets/squad_v2/squad_v2/2.0.0/ba48bc29b974701e9ba8d80ac94f3e3df924aba41b764dcf9851debea7c672e4...\n"
          ],
          "name": "stdout"
        },
        {
          "output_type": "display_data",
          "data": {
            "application/vnd.jupyter.widget-view+json": {
              "model_id": "50101533ff8a40569abdde35bd8703c5",
              "version_minor": 0,
              "version_major": 2
            },
            "text/plain": [
              "HBox(children=(FloatProgress(value=0.0, description='Downloading', max=9551051.0, style=ProgressStyle(descript…"
            ]
          },
          "metadata": {
            "tags": []
          }
        },
        {
          "output_type": "stream",
          "text": [
            "\n"
          ],
          "name": "stdout"
        },
        {
          "output_type": "display_data",
          "data": {
            "application/vnd.jupyter.widget-view+json": {
              "model_id": "27a1a7dabcfc4a11a65f58583acf4c01",
              "version_minor": 0,
              "version_major": 2
            },
            "text/plain": [
              "HBox(children=(FloatProgress(value=0.0, description='Downloading', max=800683.0, style=ProgressStyle(descripti…"
            ]
          },
          "metadata": {
            "tags": []
          }
        },
        {
          "output_type": "stream",
          "text": [
            "\n"
          ],
          "name": "stdout"
        },
        {
          "output_type": "display_data",
          "data": {
            "application/vnd.jupyter.widget-view+json": {
              "model_id": "80ecb050414b4fc39ab3ae6e14722115",
              "version_minor": 0,
              "version_major": 2
            },
            "text/plain": [
              "HBox(children=(FloatProgress(value=1.0, bar_style='info', max=1.0), HTML(value='')))"
            ]
          },
          "metadata": {
            "tags": []
          }
        },
        {
          "output_type": "stream",
          "text": [
            "\r"
          ],
          "name": "stdout"
        },
        {
          "output_type": "display_data",
          "data": {
            "application/vnd.jupyter.widget-view+json": {
              "model_id": "ae120de18e0948daaad0603bc553e50e",
              "version_minor": 0,
              "version_major": 2
            },
            "text/plain": [
              "HBox(children=(FloatProgress(value=1.0, bar_style='info', max=1.0), HTML(value='')))"
            ]
          },
          "metadata": {
            "tags": []
          }
        },
        {
          "output_type": "stream",
          "text": [
            "\rDataset squad_v2 downloaded and prepared to /root/.cache/huggingface/datasets/squad_v2/squad_v2/2.0.0/ba48bc29b974701e9ba8d80ac94f3e3df924aba41b764dcf9851debea7c672e4. Subsequent calls will reuse this data.\n"
          ],
          "name": "stdout"
        },
        {
          "output_type": "stream",
          "text": [
            "Reusing dataset squad_v2 (/root/.cache/huggingface/datasets/squad_v2/squad_v2/2.0.0/ba48bc29b974701e9ba8d80ac94f3e3df924aba41b764dcf9851debea7c672e4)\n"
          ],
          "name": "stderr"
        }
      ]
    },
    {
      "cell_type": "markdown",
      "metadata": {
        "id": "ET3izy1qjign"
      },
      "source": [
        "We can see that the dataset provides a context, a question about this context and an expected answer extracted from the context."
      ]
    },
    {
      "cell_type": "code",
      "metadata": {
        "colab": {
          "base_uri": "https://localhost:8080/",
          "height": 195
        },
        "id": "C3h8gfT6jig0",
        "outputId": "d63ff727-3145-4c27-a239-a530002465f7"
      },
      "source": [
        "#Training data overview\n",
        "squad_v2_train_df.head()"
      ],
      "execution_count": null,
      "outputs": [
        {
          "output_type": "execute_result",
          "data": {
            "text/html": [
              "<div>\n",
              "<style scoped>\n",
              "    .dataframe tbody tr th:only-of-type {\n",
              "        vertical-align: middle;\n",
              "    }\n",
              "\n",
              "    .dataframe tbody tr th {\n",
              "        vertical-align: top;\n",
              "    }\n",
              "\n",
              "    .dataframe thead th {\n",
              "        text-align: right;\n",
              "    }\n",
              "</style>\n",
              "<table border=\"1\" class=\"dataframe\">\n",
              "  <thead>\n",
              "    <tr style=\"text-align: right;\">\n",
              "      <th></th>\n",
              "      <th>answers</th>\n",
              "      <th>context</th>\n",
              "      <th>id</th>\n",
              "      <th>question</th>\n",
              "      <th>title</th>\n",
              "    </tr>\n",
              "  </thead>\n",
              "  <tbody>\n",
              "    <tr>\n",
              "      <th>0</th>\n",
              "      <td>{'answer_start': [269], 'text': ['in the late ...</td>\n",
              "      <td>Beyoncé Giselle Knowles-Carter (/biːˈjɒnseɪ/ b...</td>\n",
              "      <td>56be85543aeaaa14008c9063</td>\n",
              "      <td>When did Beyonce start becoming popular?</td>\n",
              "      <td>Beyoncé</td>\n",
              "    </tr>\n",
              "    <tr>\n",
              "      <th>1</th>\n",
              "      <td>{'answer_start': [207], 'text': ['singing and ...</td>\n",
              "      <td>Beyoncé Giselle Knowles-Carter (/biːˈjɒnseɪ/ b...</td>\n",
              "      <td>56be85543aeaaa14008c9065</td>\n",
              "      <td>What areas did Beyonce compete in when she was...</td>\n",
              "      <td>Beyoncé</td>\n",
              "    </tr>\n",
              "    <tr>\n",
              "      <th>2</th>\n",
              "      <td>{'answer_start': [526], 'text': ['2003']}</td>\n",
              "      <td>Beyoncé Giselle Knowles-Carter (/biːˈjɒnseɪ/ b...</td>\n",
              "      <td>56be85543aeaaa14008c9066</td>\n",
              "      <td>When did Beyonce leave Destiny's Child and bec...</td>\n",
              "      <td>Beyoncé</td>\n",
              "    </tr>\n",
              "    <tr>\n",
              "      <th>3</th>\n",
              "      <td>{'answer_start': [166], 'text': ['Houston, Tex...</td>\n",
              "      <td>Beyoncé Giselle Knowles-Carter (/biːˈjɒnseɪ/ b...</td>\n",
              "      <td>56bf6b0f3aeaaa14008c9601</td>\n",
              "      <td>In what city and state did Beyonce  grow up?</td>\n",
              "      <td>Beyoncé</td>\n",
              "    </tr>\n",
              "    <tr>\n",
              "      <th>4</th>\n",
              "      <td>{'answer_start': [276], 'text': ['late 1990s']}</td>\n",
              "      <td>Beyoncé Giselle Knowles-Carter (/biːˈjɒnseɪ/ b...</td>\n",
              "      <td>56bf6b0f3aeaaa14008c9602</td>\n",
              "      <td>In which decade did Beyonce become famous?</td>\n",
              "      <td>Beyoncé</td>\n",
              "    </tr>\n",
              "  </tbody>\n",
              "</table>\n",
              "</div>"
            ],
            "text/plain": [
              "                                             answers  ...    title\n",
              "0  {'answer_start': [269], 'text': ['in the late ...  ...  Beyoncé\n",
              "1  {'answer_start': [207], 'text': ['singing and ...  ...  Beyoncé\n",
              "2          {'answer_start': [526], 'text': ['2003']}  ...  Beyoncé\n",
              "3  {'answer_start': [166], 'text': ['Houston, Tex...  ...  Beyoncé\n",
              "4    {'answer_start': [276], 'text': ['late 1990s']}  ...  Beyoncé\n",
              "\n",
              "[5 rows x 5 columns]"
            ]
          },
          "metadata": {
            "tags": []
          },
          "execution_count": 10
        }
      ]
    },
    {
      "cell_type": "markdown",
      "metadata": {
        "id": "BtM-S7eqjig4"
      },
      "source": [
        "The train dataset of SQUAD 2 consists of 130319 context/question/answers triplets."
      ]
    },
    {
      "cell_type": "code",
      "metadata": {
        "colab": {
          "base_uri": "https://localhost:8080/"
        },
        "id": "t-C2OEQxjig5",
        "outputId": "da6a943a-4970-4d19-8ed7-383df7d57faa"
      },
      "source": [
        "#Information on Training data\n",
        "squad_v2_train_df.info()"
      ],
      "execution_count": null,
      "outputs": [
        {
          "output_type": "stream",
          "text": [
            "<class 'pandas.core.frame.DataFrame'>\n",
            "RangeIndex: 130319 entries, 0 to 130318\n",
            "Data columns (total 5 columns):\n",
            " #   Column    Non-Null Count   Dtype \n",
            "---  ------    --------------   ----- \n",
            " 0   answers   130319 non-null  object\n",
            " 1   context   130319 non-null  object\n",
            " 2   id        130319 non-null  object\n",
            " 3   question  130319 non-null  object\n",
            " 4   title     130319 non-null  object\n",
            "dtypes: object(5)\n",
            "memory usage: 5.0+ MB\n"
          ],
          "name": "stdout"
        }
      ]
    },
    {
      "cell_type": "markdown",
      "metadata": {
        "id": "lKsrAIkMjig6"
      },
      "source": [
        "There can be one ground truth answer (66.6%) or no answer (33.4%) per question."
      ]
    },
    {
      "cell_type": "code",
      "metadata": {
        "colab": {
          "base_uri": "https://localhost:8080/",
          "height": 298
        },
        "id": "7wR1j__6jig7",
        "outputId": "6299d0d8-1bd9-4189-eb64-4eb9114cdb82"
      },
      "source": [
        "#Distribution of numbers of answers per question on Training data\n",
        "nb_answers = []\n",
        "for i in range(len(squad_v2_train_df)):\n",
        "    nb_answers.append(len(squad_v2_train_df[\"answers\"][i][\"text\"]))\n",
        "print(\"Mean number of answers : {}\".format(np.array(nb_answers).mean()))\n",
        "\n",
        "plt.hist(nb_answers, bins=2)\n",
        "plt.title(\"Distribution of numbers of answers per question\")\n",
        "plt.show()"
      ],
      "execution_count": null,
      "outputs": [
        {
          "output_type": "stream",
          "text": [
            "Mean number of answers : 0.6662190471074824\n"
          ],
          "name": "stdout"
        },
        {
          "output_type": "display_data",
          "data": {
            "image/png": "[encoded data removed]",
            "text/plain": [
              "<Figure size 432x288 with 1 Axes>"
            ]
          },
          "metadata": {
            "tags": [],
            "needs_background": "light"
          }
        }
      ]
    },
    {
      "cell_type": "markdown",
      "metadata": {
        "id": "mR_lBSNQjig8"
      },
      "source": [
        "For the validation dataset, contrary to train data, sometimes there are several possible answers per question."
      ]
    },
    {
      "cell_type": "code",
      "metadata": {
        "colab": {
          "base_uri": "https://localhost:8080/",
          "height": 195
        },
        "id": "z5I6_UBWjig9",
        "outputId": "60931b62-406f-4157-dc36-c300c6b94b9b"
      },
      "source": [
        "#Validation data overview\n",
        "squad_v2_val_df.head()"
      ],
      "execution_count": null,
      "outputs": [
        {
          "output_type": "execute_result",
          "data": {
            "text/html": [
              "<div>\n",
              "<style scoped>\n",
              "    .dataframe tbody tr th:only-of-type {\n",
              "        vertical-align: middle;\n",
              "    }\n",
              "\n",
              "    .dataframe tbody tr th {\n",
              "        vertical-align: top;\n",
              "    }\n",
              "\n",
              "    .dataframe thead th {\n",
              "        text-align: right;\n",
              "    }\n",
              "</style>\n",
              "<table border=\"1\" class=\"dataframe\">\n",
              "  <thead>\n",
              "    <tr style=\"text-align: right;\">\n",
              "      <th></th>\n",
              "      <th>answers</th>\n",
              "      <th>context</th>\n",
              "      <th>id</th>\n",
              "      <th>question</th>\n",
              "      <th>title</th>\n",
              "    </tr>\n",
              "  </thead>\n",
              "  <tbody>\n",
              "    <tr>\n",
              "      <th>0</th>\n",
              "      <td>{'answer_start': [159, 159, 159, 159], 'text':...</td>\n",
              "      <td>The Normans (Norman: Nourmands; French: Norman...</td>\n",
              "      <td>56ddde6b9a695914005b9628</td>\n",
              "      <td>In what country is Normandy located?</td>\n",
              "      <td>Normans</td>\n",
              "    </tr>\n",
              "    <tr>\n",
              "      <th>1</th>\n",
              "      <td>{'answer_start': [94, 87, 94, 94], 'text': ['1...</td>\n",
              "      <td>The Normans (Norman: Nourmands; French: Norman...</td>\n",
              "      <td>56ddde6b9a695914005b9629</td>\n",
              "      <td>When were the Normans in Normandy?</td>\n",
              "      <td>Normans</td>\n",
              "    </tr>\n",
              "    <tr>\n",
              "      <th>2</th>\n",
              "      <td>{'answer_start': [256, 256, 256, 256], 'text':...</td>\n",
              "      <td>The Normans (Norman: Nourmands; French: Norman...</td>\n",
              "      <td>56ddde6b9a695914005b962a</td>\n",
              "      <td>From which countries did the Norse originate?</td>\n",
              "      <td>Normans</td>\n",
              "    </tr>\n",
              "    <tr>\n",
              "      <th>3</th>\n",
              "      <td>{'answer_start': [308, 308, 308, 308], 'text':...</td>\n",
              "      <td>The Normans (Norman: Nourmands; French: Norman...</td>\n",
              "      <td>56ddde6b9a695914005b962b</td>\n",
              "      <td>Who was the Norse leader?</td>\n",
              "      <td>Normans</td>\n",
              "    </tr>\n",
              "    <tr>\n",
              "      <th>4</th>\n",
              "      <td>{'answer_start': [671, 649, 671, 671], 'text':...</td>\n",
              "      <td>The Normans (Norman: Nourmands; French: Norman...</td>\n",
              "      <td>56ddde6b9a695914005b962c</td>\n",
              "      <td>What century did the Normans first gain their ...</td>\n",
              "      <td>Normans</td>\n",
              "    </tr>\n",
              "  </tbody>\n",
              "</table>\n",
              "</div>"
            ],
            "text/plain": [
              "                                             answers  ...    title\n",
              "0  {'answer_start': [159, 159, 159, 159], 'text':...  ...  Normans\n",
              "1  {'answer_start': [94, 87, 94, 94], 'text': ['1...  ...  Normans\n",
              "2  {'answer_start': [256, 256, 256, 256], 'text':...  ...  Normans\n",
              "3  {'answer_start': [308, 308, 308, 308], 'text':...  ...  Normans\n",
              "4  {'answer_start': [671, 649, 671, 671], 'text':...  ...  Normans\n",
              "\n",
              "[5 rows x 5 columns]"
            ]
          },
          "metadata": {
            "tags": []
          },
          "execution_count": 13
        }
      ]
    },
    {
      "cell_type": "markdown",
      "metadata": {
        "id": "n97qqHwFjig9"
      },
      "source": [
        "The validation dataset of SQUAD 2 consists of 11873 context/question/answers triplets."
      ]
    },
    {
      "cell_type": "code",
      "metadata": {
        "colab": {
          "base_uri": "https://localhost:8080/"
        },
        "id": "pmdNxT_9jig-",
        "outputId": "8e1afb95-cd6e-4ad2-a710-14c78bed8f8f"
      },
      "source": [
        "#Information on Validation data\n",
        "squad_v2_val_df.info()"
      ],
      "execution_count": null,
      "outputs": [
        {
          "output_type": "stream",
          "text": [
            "<class 'pandas.core.frame.DataFrame'>\n",
            "RangeIndex: 11873 entries, 0 to 11872\n",
            "Data columns (total 5 columns):\n",
            " #   Column    Non-Null Count  Dtype \n",
            "---  ------    --------------  ----- \n",
            " 0   answers   11873 non-null  object\n",
            " 1   context   11873 non-null  object\n",
            " 2   id        11873 non-null  object\n",
            " 3   question  11873 non-null  object\n",
            " 4   title     11873 non-null  object\n",
            "dtypes: object(5)\n",
            "memory usage: 463.9+ KB\n"
          ],
          "name": "stdout"
        }
      ]
    },
    {
      "cell_type": "code",
      "metadata": {
        "colab": {
          "base_uri": "https://localhost:8080/",
          "height": 314
        },
        "id": "uOB_uxqtjig_",
        "outputId": "3bcecd2e-6af2-4e3e-ca3c-4bbf8a6c64c9"
      },
      "source": [
        "#Distribution of numbers of answers per question on Validation data\n",
        "nb_answers = []\n",
        "for i in range(len(squad_v2_val_df)):\n",
        "    nb_answers.append(len(squad_v2_val_df[\"answers\"][i][\"text\"]))\n",
        "print(\"Mean number of answers : {}\".format(np.array(nb_answers).mean()))\n",
        "print(\"Maximum number of answers : {}\".format(np.array(nb_answers).max()))\n",
        "\n",
        "plt.hist(nb_answers, bins=5)\n",
        "plt.title(\"Distribution of numbers of answers per question\")\n",
        "plt.show()"
      ],
      "execution_count": null,
      "outputs": [
        {
          "output_type": "stream",
          "text": [
            "Mean number of answers : 1.7099300934894297\n",
            "Maximum number of answers : 6\n"
          ],
          "name": "stdout"
        },
        {
          "output_type": "display_data",
          "data": {
            "image/png": "[encoded data removed]",
            "text/plain": [
              "<Figure size 432x288 with 1 Axes>"
            ]
          },
          "metadata": {
            "tags": [],
            "needs_background": "light"
          }
        }
      ]
    },
    {
      "cell_type": "markdown",
      "metadata": {
        "id": "Tbd5pHgUjihA"
      },
      "source": [
        "The SQuAD dataset deals about various subjects such as Anthropology, Canadian Football and Digestion ; this is a goldmine for building a robust system but also an additional difficulty when learning."
      ]
    },
    {
      "cell_type": "code",
      "metadata": {
        "colab": {
          "base_uri": "https://localhost:8080/"
        },
        "id": "CIBBVjSXjihA",
        "outputId": "4ed03956-0407-4e9d-a7c6-df7e9af807fc"
      },
      "source": [
        "#List of subjects in training data\n",
        "list_subject = squad_v2_train_df['title'].unique()\n",
        "list_subject.sort()\n",
        "list_subject"
      ],
      "execution_count": null,
      "outputs": [
        {
          "output_type": "execute_result",
          "data": {
            "text/plain": [
              "array(['2008_Sichuan_earthquake', '2008_Summer_Olympics_torch_relay',\n",
              "       '51st_state', 'ASCII', 'A_cappella', 'Adolescence',\n",
              "       'Adult_contemporary_music',\n",
              "       'Affirmative_action_in_the_United_States', 'Age_of_Enlightenment',\n",
              "       'Aircraft_carrier', 'Airport', 'Alaska', 'Alexander_Graham_Bell',\n",
              "       'Alfred_North_Whitehead', 'Alloy', 'Alps', 'Alsace',\n",
              "       'American_Idol', 'Animal', 'Ann_Arbor,_Michigan', 'Annelid',\n",
              "       'Antarctica', 'Antenna_(radio)', 'Anthropology',\n",
              "       'Anti-aircraft_warfare', 'Antibiotics', 'Apollo',\n",
              "       'Appalachian_Mountains', 'Architecture', 'Arena_Football_League',\n",
              "       'Armenia', 'Armenians', 'Arnold_Schwarzenegger', 'Arsenal_F.C.',\n",
              "       'Ashkenazi_Jews', 'Asphalt', 'Aspirated_consonant',\n",
              "       'Association_football', 'Asthma', 'Athanasius_of_Alexandria',\n",
              "       'Atlantic_City,_New_Jersey', 'Avicenna', 'BBC_Television',\n",
              "       'Bacteria', 'Baptists', 'Beer',\n",
              "       'BeiDou_Navigation_Satellite_System', 'Bermuda', 'Bern', 'Beyoncé',\n",
              "       'Bill_%26_Melinda_Gates_Foundation', 'Biodiversity', 'Bird',\n",
              "       'Bird_migration', 'Black_people', 'Boston', 'Botany', 'Brain',\n",
              "       'Bras%C3%ADlia', 'Brigham_Young_University', 'British_Empire',\n",
              "       'British_Isles', 'Buckingham_Palace', 'Buddhism', 'CBC_Television',\n",
              "       'Canadian_Armed_Forces', 'Canadian_football', 'Canon_law',\n",
              "       'Capacitor', 'Capital_punishment_in_the_United_States',\n",
              "       'Cardinal_(Catholicism)', 'Carnival', 'Catalan_language',\n",
              "       'Central_African_Republic', 'Central_Intelligence_Agency',\n",
              "       'Charleston,_South_Carolina', 'Chicago_Cubs', 'Chihuahua_(state)',\n",
              "       'Child_labour', 'Chinese_characters', 'Christian',\n",
              "       'Circadian_rhythm', 'Classical_music', 'Clothing', 'Comcast',\n",
              "       'Comics', 'Communication', 'Communications_in_Somalia',\n",
              "       'Compact_disc', 'Comprehensive_school', 'Computer',\n",
              "       'Computer_security', 'Copper', 'Copyright_infringement',\n",
              "       'Cork_(city)', 'Cotton', 'Crimean_War', 'Crucifixion_of_Jesus',\n",
              "       'Cubism', 'Culture', 'Cyprus', 'Czech_language',\n",
              "       'Data_compression', 'Database', 'Daylight_saving_time', 'Dell',\n",
              "       'Department_store', 'Detroit', 'Dialect', 'Diarrhea', 'Digestion',\n",
              "       'Digimon', 'Dissolution_of_the_Soviet_Union', 'Dog',\n",
              "       'Dominican_Order', 'Dutch_Republic', 'Dutch_language',\n",
              "       'Dwight_D._Eisenhower', 'East_India_Company', 'East_Prussia',\n",
              "       'Economy_of_Greece', 'Edmund_Burke', 'Education', 'Egypt',\n",
              "       'Electric_motor', 'Elevator', 'Elizabeth_II', 'Emotion',\n",
              "       'Empiricism', 'Endangered_Species_Act', 'Energy',\n",
              "       'England_national_football_team', 'Eritrea', 'Estonia',\n",
              "       'Estonian_language', 'Eton_College', 'European_Central_Bank',\n",
              "       'Everton_F.C.', 'Exhibition_game', 'FA_Cup', 'FC_Barcelona',\n",
              "       'Federal_Aviation_Administration',\n",
              "       'Federal_Bureau_of_Investigation', 'Federalism', 'Film_speed',\n",
              "       'Financial_crisis_of_2007%E2%80%9308', 'Florida',\n",
              "       'Flowering_plant', 'Franco-Prussian_War', 'Freemasonry',\n",
              "       'Friedrich_Hayek', 'Frédéric_Chopin', 'Galicia_(Spain)',\n",
              "       'Gamal_Abdel_Nasser', 'Gene', 'General_Electric', 'Genocide',\n",
              "       'Genome', 'Geography_of_the_United_States',\n",
              "       'Geological_history_of_Earth', 'George_VI',\n",
              "       'Georgian_architecture', 'Germans', 'Glacier', 'Glass', 'God',\n",
              "       'Gothic_architecture', 'Gramophone_record', 'Grape',\n",
              "       'Great_Plains', 'Great_power', 'Greece', 'Greeks', 'Green',\n",
              "       'Gregorian_calendar', 'Group_(mathematics)', 'Guam',\n",
              "       'Guinea-Bissau', 'Gymnastics', 'Han_dynasty', 'Hanover',\n",
              "       'Hard_rock', 'Heian_period', 'Hellenistic_period', 'Heresy',\n",
              "       'High-definition_television', 'Himachal_Pradesh',\n",
              "       'Hindu_philosophy', 'History_of_India', 'History_of_science',\n",
              "       'Hokkien', 'House_music', 'Houston', 'Human_Development_Index',\n",
              "       'Humanism', 'Hunter-gatherer', 'Hunting', 'Hyderabad', 'Hydrogen',\n",
              "       'IBM', 'IPod', 'Idealism', 'Identity_(social_science)',\n",
              "       'Imamah_(Shia_doctrine)', 'Immaculate_Conception', 'Immunology',\n",
              "       'Imperial_College_London', 'Incandescent_light_bulb',\n",
              "       'Indigenous_peoples_of_the_Americas', 'Infection', 'Infrared',\n",
              "       'Insect', 'Institute_of_technology', 'Intellectual_property',\n",
              "       'Internet_service_provider', 'Iran', 'Iranian_languages', 'Israel',\n",
              "       'Jehovah%27s_Witnesses', 'Jews', 'John,_King_of_England',\n",
              "       'John_Kerry', 'John_von_Neumann', 'Josip_Broz_Tito', 'Kanye_West',\n",
              "       'Karl_Popper', 'Kathmandu', 'Kievan_Rus%27', 'Korean_War',\n",
              "       'Labour_Party_(UK)', 'Lancashire', 'LaserDisc', 'Late_Middle_Ages',\n",
              "       'Law_of_the_United_States', 'Letter_case',\n",
              "       'Liberal_Party_of_Australia', 'Liberia', 'Light-emitting_diode',\n",
              "       'Lighting', 'List_of_numbered_streets_in_Manhattan', 'Literature',\n",
              "       'London', 'MP3', 'Macintosh', 'Madonna_(entertainer)', 'Madrasa',\n",
              "       'Mali', 'Mammal', 'Mandolin', 'Marshall_Islands', 'Marvel_Comics',\n",
              "       'Mary_(mother_of_Jesus)', 'Materialism', 'Matter', 'Melbourne',\n",
              "       'Memory', 'Mesozoic', 'Mexico_City', 'Miami', 'Middle_Ages',\n",
              "       'Military_history_of_the_United_States',\n",
              "       'Ministry_of_Defence_(United_Kingdom)', 'Modern_history',\n",
              "       'Molotov%E2%80%93Ribbentrop_Pact', 'Montana', 'Montevideo',\n",
              "       'Mosaic', 'Muammar_Gaddafi', 'Multiracial_American',\n",
              "       'Muslim_world', 'Myanmar', 'Myocardial_infarction', 'Namibia',\n",
              "       'Nanjing', 'Napoleon',\n",
              "       'National_Archives_and_Records_Administration', 'Near_East',\n",
              "       'Neoclassical_architecture', 'Neolithic', 'Neptune', 'New_Delhi',\n",
              "       'New_Haven,_Connecticut', 'New_York_City', 'Nigeria',\n",
              "       'Nintendo_Entertainment_System', 'Nonprofit_organization',\n",
              "       'Norfolk_Island', 'North_Carolina', 'Northwestern_University',\n",
              "       'Nutrition', 'Oklahoma', 'Oklahoma_City', 'Old_English',\n",
              "       'On_the_Origin_of_Species', 'Order_of_the_British_Empire',\n",
              "       'Orthodox_Judaism', 'Ottoman_Empire', 'Pacific_War', 'Pain',\n",
              "       'Palermo', 'Paper', 'Paris',\n",
              "       'Party_leaders_of_the_United_States_House_of_Representatives',\n",
              "       'Pesticide', 'Pharmaceutical_industry', 'Philadelphia',\n",
              "       'Philosophy_of_space_and_time', 'Phonology', 'Pitch_(music)',\n",
              "       'Planck_constant', 'PlayStation_3', 'Plymouth', 'Police',\n",
              "       'Political_corruption', 'Political_party', 'Political_philosophy',\n",
              "       'Pope_John_XXIII', 'Pope_Paul_VI', 'Portugal', 'Post-punk',\n",
              "       'Poultry', 'Predation', 'Premier_League', 'Presbyterianism',\n",
              "       'Prime_minister', 'Printed_circuit_board',\n",
              "       'Professional_wrestling', 'Protestantism', 'Pub',\n",
              "       'Punjab,_Pakistan', 'Qing_dynasty', 'Queen_(band)',\n",
              "       'Queen_Victoria', 'Quran', 'Race_(human_categorization)',\n",
              "       'Race_and_ethnicity_in_the_United_States_Census',\n",
              "       'Railway_electrification_system', 'Rajasthan',\n",
              "       'Raleigh,_North_Carolina', 'Red', 'Religion_in_ancient_Rome',\n",
              "       'Renewable_energy_commercialization', 'Republic_of_the_Congo',\n",
              "       'Richard_Feynman', 'Richmond,_Virginia', 'Roman_Republic',\n",
              "       'Royal_Dutch_Shell', 'Royal_Institute_of_British_Architects',\n",
              "       'Royal_assent', 'Rule_of_law',\n",
              "       'Russian_Soviet_Federative_Socialist_Republic', 'Russian_language',\n",
              "       'Sahara', 'Saint_Barth%C3%A9lemy', 'Saint_Helena', 'Samoa',\n",
              "       'Samurai', 'San_Diego', 'Sanskrit', 'Santa_Monica,_California',\n",
              "       'Seattle', 'Separation_of_church_and_state_in_the_United_States',\n",
              "       'Separation_of_powers_under_the_United_States_Constitution',\n",
              "       'Serbo-Croatian', 'Seven_Years%27_War', 'Sexual_orientation',\n",
              "       'Sichuan', 'Sino-Tibetan_relations_during_the_Ming_dynasty',\n",
              "       'Slavs', 'Software_testing', 'Solar_energy', 'Somalis', 'Somerset',\n",
              "       'Sony_Music_Entertainment', 'Southampton', 'Southeast_Asia',\n",
              "       'Southern_Europe', 'Space_Race',\n",
              "       'Spanish_language_in_the_United_States', 'Spectre_(2015_film)',\n",
              "       'St._John%27s,_Newfoundland_and_Labrador', 'States_of_Germany',\n",
              "       'Steven_Spielberg', 'Strasbourg', 'Sumer',\n",
              "       'Super_Nintendo_Entertainment_System', 'Supreme_court',\n",
              "       'Swaziland', 'Switzerland', 'Symbiosis', 'Szlachta', 'Tajikistan',\n",
              "       'Tennessee', 'Textual_criticism', 'The_Blitz', 'The_Bronx',\n",
              "       'The_Legend_of_Zelda:_Twilight_Princess',\n",
              "       'The_Sun_(United_Kingdom)', 'The_Times', 'Thuringia', 'Tibet',\n",
              "       'Time', 'To_Kill_a_Mockingbird', 'Transistor', 'Translation',\n",
              "       'Treaty', 'Tristan_da_Cunha', 'Tuberculosis', 'Tucson,_Arizona',\n",
              "       'Turner_Classic_Movies', 'Tuvalu', 'USB', 'Umayyad_Caliphate',\n",
              "       'Unicode', 'United_Nations_Population_Fund',\n",
              "       'United_States_Air_Force', 'United_States_Army',\n",
              "       'United_States_dollar',\n",
              "       'United_States_presidential_election,_2004', 'Universal_Studios',\n",
              "       'University', 'University_of_Kansas', 'University_of_Notre_Dame',\n",
              "       'Uranium', 'Utrecht', 'Vacuum', 'Valencia', 'Videoconferencing',\n",
              "       'Virgil', 'War_on_Terror', 'Warsaw_Pact',\n",
              "       'Washington_University_in_St._Louis', 'Wayback_Machine',\n",
              "       'Web_browser', 'Westminster_Abbey', 'Windows_8', 'Wood',\n",
              "       'Xbox_360', 'Yale_University', 'YouTube', 'Zhejiang', 'Zinc'],\n",
              "      dtype=object)"
            ]
          },
          "metadata": {
            "tags": []
          },
          "execution_count": 16
        }
      ]
    },
    {
      "cell_type": "markdown",
      "metadata": {
        "id": "990hA_6EjihB"
      },
      "source": [
        "The subjects in validation data are not the same as in training data."
      ]
    },
    {
      "cell_type": "code",
      "metadata": {
        "colab": {
          "base_uri": "https://localhost:8080/"
        },
        "id": "2XjSQWuujihB",
        "outputId": "c8c31579-efbf-4d29-f3f0-4d7fa0d807cc"
      },
      "source": [
        "#List of subjects in validation data\n",
        "list_subject = squad_v2_val_df['title'].unique()\n",
        "list_subject.sort()\n",
        "list_subject"
      ],
      "execution_count": null,
      "outputs": [
        {
          "output_type": "execute_result",
          "data": {
            "text/plain": [
              "array(['1973_oil_crisis', 'Amazon_rainforest', 'Black_Death',\n",
              "       'Civil_disobedience', 'Computational_complexity_theory',\n",
              "       'Construction', 'Ctenophora', 'Economic_inequality',\n",
              "       'European_Union_law', 'Force', 'French_and_Indian_War',\n",
              "       'Fresno,_California', 'Geology', 'Harvard_University', 'Huguenot',\n",
              "       'Immune_system', 'Imperialism',\n",
              "       'Intergovernmental_Panel_on_Climate_Change', 'Islamism',\n",
              "       'Jacksonville,_Florida', 'Normans', 'Oxygen', 'Packet_switching',\n",
              "       'Pharmacy', 'Prime_number', 'Private_school', 'Rhine',\n",
              "       'Scottish_Parliament', 'Sky_(United_Kingdom)',\n",
              "       'Southern_California', 'Steam_engine', 'University_of_Chicago',\n",
              "       'Victoria_(Australia)', 'Warsaw', 'Yuan_dynasty'], dtype=object)"
            ]
          },
          "metadata": {
            "tags": []
          },
          "execution_count": 17
        }
      ]
    },
    {
      "cell_type": "markdown",
      "metadata": {
        "id": "EPWQPCxojihC"
      },
      "source": [
        "Let's look for instance at context, questions and answers related to Antartica."
      ]
    },
    {
      "cell_type": "code",
      "metadata": {
        "colab": {
          "base_uri": "https://localhost:8080/",
          "height": 402
        },
        "id": "wPmCO-ltjihC",
        "outputId": "466eab7c-c119-41b9-d45a-4bf9dda5e3f4"
      },
      "source": [
        "#Data related to Antarctica\n",
        "squad_v2_train_df.loc[squad_v2_train_df['title']=='Antarctica']"
      ],
      "execution_count": null,
      "outputs": [
        {
          "output_type": "execute_result",
          "data": {
            "text/html": [
              "<div>\n",
              "<style scoped>\n",
              "    .dataframe tbody tr th:only-of-type {\n",
              "        vertical-align: middle;\n",
              "    }\n",
              "\n",
              "    .dataframe tbody tr th {\n",
              "        vertical-align: top;\n",
              "    }\n",
              "\n",
              "    .dataframe thead th {\n",
              "        text-align: right;\n",
              "    }\n",
              "</style>\n",
              "<table border=\"1\" class=\"dataframe\">\n",
              "  <thead>\n",
              "    <tr style=\"text-align: right;\">\n",
              "      <th></th>\n",
              "      <th>answers</th>\n",
              "      <th>context</th>\n",
              "      <th>id</th>\n",
              "      <th>question</th>\n",
              "      <th>title</th>\n",
              "    </tr>\n",
              "  </thead>\n",
              "  <tbody>\n",
              "    <tr>\n",
              "      <th>42333</th>\n",
              "      <td>{'answer_start': [0], 'text': ['Antarctica']}</td>\n",
              "      <td>Antarctica, on average, is the coldest, driest...</td>\n",
              "      <td>570d9260b3d812140066da51</td>\n",
              "      <td>Which continent is the highest in elevation?</td>\n",
              "      <td>Antarctica</td>\n",
              "    </tr>\n",
              "    <tr>\n",
              "      <th>42334</th>\n",
              "      <td>{'answer_start': [202], 'text': ['200 mm']}</td>\n",
              "      <td>Antarctica, on average, is the coldest, driest...</td>\n",
              "      <td>570d9260b3d812140066da52</td>\n",
              "      <td>What is the annual precipitation rate of coast...</td>\n",
              "      <td>Antarctica</td>\n",
              "    </tr>\n",
              "    <tr>\n",
              "      <th>42335</th>\n",
              "      <td>{'answer_start': [392], 'text': ['−63 °C']}</td>\n",
              "      <td>Antarctica, on average, is the coldest, driest...</td>\n",
              "      <td>570d9260b3d812140066da53</td>\n",
              "      <td>What is the average coldest temperature?</td>\n",
              "      <td>Antarctica</td>\n",
              "    </tr>\n",
              "    <tr>\n",
              "      <th>42336</th>\n",
              "      <td>{'answer_start': [295], 'text': ['−89.2 °C']}</td>\n",
              "      <td>Antarctica, on average, is the coldest, driest...</td>\n",
              "      <td>570d9260b3d812140066da54</td>\n",
              "      <td>What is the coldest recorded temperature?</td>\n",
              "      <td>Antarctica</td>\n",
              "    </tr>\n",
              "    <tr>\n",
              "      <th>42337</th>\n",
              "      <td>{'answer_start': [780], 'text': ['tundra']}</td>\n",
              "      <td>Antarctica, on average, is the coldest, driest...</td>\n",
              "      <td>570d9260b3d812140066da55</td>\n",
              "      <td>Ehat is the vegetation type on Antarctica?</td>\n",
              "      <td>Antarctica</td>\n",
              "    </tr>\n",
              "    <tr>\n",
              "      <th>...</th>\n",
              "      <td>...</td>\n",
              "      <td>...</td>\n",
              "      <td>...</td>\n",
              "      <td>...</td>\n",
              "      <td>...</td>\n",
              "    </tr>\n",
              "    <tr>\n",
              "      <th>42853</th>\n",
              "      <td>{'answer_start': [1347], 'text': ['Amundsen–Sc...</td>\n",
              "      <td>Researchers include biologists, geologists, oc...</td>\n",
              "      <td>570e1f340dc6ce1900204dcd</td>\n",
              "      <td>Where is the largest neutrino telescope on Earth?</td>\n",
              "      <td>Antarctica</td>\n",
              "    </tr>\n",
              "    <tr>\n",
              "      <th>42854</th>\n",
              "      <td>{'answer_start': [], 'text': []}</td>\n",
              "      <td>Researchers include biologists, geologists, oc...</td>\n",
              "      <td>5ad2d28ed7d075001a42a388</td>\n",
              "      <td>What do astrophysicists at the Scott-Aumundsen...</td>\n",
              "      <td>Antarctica</td>\n",
              "    </tr>\n",
              "    <tr>\n",
              "      <th>42855</th>\n",
              "      <td>{'answer_start': [], 'text': []}</td>\n",
              "      <td>Researchers include biologists, geologists, oc...</td>\n",
              "      <td>5ad2d28ed7d075001a42a389</td>\n",
              "      <td>What was built 2 mi below the Amundsen-Scott s...</td>\n",
              "      <td>Antarctica</td>\n",
              "    </tr>\n",
              "    <tr>\n",
              "      <th>42856</th>\n",
              "      <td>{'answer_start': [], 'text': []}</td>\n",
              "      <td>Researchers include biologists, geologists, oc...</td>\n",
              "      <td>5ad2d28ed7d075001a42a38a</td>\n",
              "      <td>Why are astronomical observations better made ...</td>\n",
              "      <td>Antarctica</td>\n",
              "    </tr>\n",
              "    <tr>\n",
              "      <th>42857</th>\n",
              "      <td>{'answer_start': [], 'text': []}</td>\n",
              "      <td>Researchers include biologists, geologists, oc...</td>\n",
              "      <td>5ad2d28ed7d075001a42a38b</td>\n",
              "      <td>What does the 2 mile ice serve as for the tele...</td>\n",
              "      <td>Antarctica</td>\n",
              "    </tr>\n",
              "  </tbody>\n",
              "</table>\n",
              "<p>525 rows × 5 columns</p>\n",
              "</div>"
            ],
            "text/plain": [
              "                                                 answers  ...       title\n",
              "42333      {'answer_start': [0], 'text': ['Antarctica']}  ...  Antarctica\n",
              "42334        {'answer_start': [202], 'text': ['200 mm']}  ...  Antarctica\n",
              "42335        {'answer_start': [392], 'text': ['−63 °C']}  ...  Antarctica\n",
              "42336      {'answer_start': [295], 'text': ['−89.2 °C']}  ...  Antarctica\n",
              "42337        {'answer_start': [780], 'text': ['tundra']}  ...  Antarctica\n",
              "...                                                  ...  ...         ...\n",
              "42853  {'answer_start': [1347], 'text': ['Amundsen–Sc...  ...  Antarctica\n",
              "42854                   {'answer_start': [], 'text': []}  ...  Antarctica\n",
              "42855                   {'answer_start': [], 'text': []}  ...  Antarctica\n",
              "42856                   {'answer_start': [], 'text': []}  ...  Antarctica\n",
              "42857                   {'answer_start': [], 'text': []}  ...  Antarctica\n",
              "\n",
              "[525 rows x 5 columns]"
            ]
          },
          "metadata": {
            "tags": []
          },
          "execution_count": 18
        }
      ]
    },
    {
      "cell_type": "code",
      "metadata": {
        "colab": {
          "base_uri": "https://localhost:8080/"
        },
        "id": "vbUbDB92jihC",
        "outputId": "d0edec91-3ffa-41ef-e9f5-0e1e77aef319"
      },
      "source": [
        "#Questions and answers related to a context from Antarctica\n",
        "print(\"context: \\n\", squad_v2_train_df.loc[squad_v2_train_df['title']=='Antarctica', 'context'].iloc[0], \"\\n\")\n",
        "for i in [0, 2, 3, 5, 8]:\n",
        "    print(\"question:\", squad_v2_train_df.loc[squad_v2_train_df['title']=='Antarctica', 'question'].iloc[i])\n",
        "    print(\"answer:\", squad_v2_train_df.loc[squad_v2_train_df['title']=='Antarctica', 'answers'].iloc[i]['text'], \"\\n\")"
      ],
      "execution_count": null,
      "outputs": [
        {
          "output_type": "stream",
          "text": [
            "context: \n",
            " Antarctica, on average, is the coldest, driest, and windiest continent, and has the highest average elevation of all the continents. Antarctica is considered a desert, with annual precipitation of only 200 mm (8 in) along the coast and far less inland. The temperature in Antarctica has reached −89.2 °C (−128.6 °F), though the average for the third quarter (the coldest part of the year) is −63 °C (−81 °F). There are no permanent human residents, but anywhere from 1,000 to 5,000 people reside throughout the year at the research stations scattered across the continent. Organisms native to Antarctica include many types of algae, bacteria, fungi, plants, protista, and certain animals, such as mites, nematodes, penguins, seals and tardigrades. Vegetation, where it occurs, is tundra. \n",
            "\n",
            "question: Which continent is the highest in elevation?\n",
            "answer: ['Antarctica'] \n",
            "\n",
            "question: What is the average coldest temperature?\n",
            "answer: ['−63 °C'] \n",
            "\n",
            "question: What is the coldest recorded temperature?\n",
            "answer: ['−89.2 °C'] \n",
            "\n",
            "question: What is on average is the coldest, wetest, and windiest continent?\n",
            "answer: [] \n",
            "\n",
            "question: How many humans live in Antarctica?\n",
            "answer: [] \n",
            "\n"
          ],
          "name": "stdout"
        }
      ]
    },
    {
      "cell_type": "markdown",
      "metadata": {
        "id": "Aby_WKZzl-Ac"
      },
      "source": [
        "Some questions have no answer for the given context as illustrated above."
      ]
    },
    {
      "cell_type": "markdown",
      "metadata": {
        "id": "sumfk13jZv9B"
      },
      "source": [
        "## Tokenizing and preprocessing data"
      ]
    },
    {
      "cell_type": "markdown",
      "metadata": {
        "id": "p_udPgftZv9B"
      },
      "source": [
        "We used the tokenizer related to the DistilBERT model."
      ]
    },
    {
      "cell_type": "code",
      "metadata": {
        "colab": {
          "base_uri": "https://localhost:8080/",
          "height": 212,
          "referenced_widgets": [
            "7b69cc61a1b640b3a617fd5651a48734",
            "70f8379802474293a98cf7a66a18fe71",
            "43ed33aa565a466883d42797816fbada",
            "e338f130ba2f485384206fed5aa74a6b",
            "4d843453b8444d429fb9c55b7b7f1a94",
            "bb52fce7fce8448f842e1da226268108",
            "783ccb13538744bba8f733f42d8de2e4",
            "a4ebdfa0c07e4ce2859fabfd9a0775c1",
            "e22ad40a7f4b4a399f0c255fd6984424",
            "05c5dfbb7f154eeba3703dc401832c01",
            "d60146abc8764c50b6c6a3df161e2676",
            "72268aec79bb42fd933be2933daf0d81",
            "0d89420422254e8e9fdb136aff8ed808",
            "3f97ca1bdff0488db030af041e37171f",
            "f09ef14838724303bb24c740522f0b47",
            "adf49c9310984c879923acc443cd76f9",
            "61b372f7f2bf49788185fd493afeee66",
            "ad91680f97684a17b15e469c265714d3",
            "dc87857f8fe5429a9a68e6dbf71a6ffc",
            "91c6e9cf6de54954aa47c50321c31b32",
            "ca511ef4409941ac8e35b0053322533c",
            "c18a9ddea70b44529703d147f9ee92db",
            "330b9888c05a42dbbc28fb9fbdb025bf",
            "335bc30e68e64dd3867b427c0e90e936",
            "aca46d49a5994860a7d28e682df117d1",
            "c2a1497ba1124338b55d2af4a935d7c6",
            "ccc51c7db7b5487e99d290ba3b72a977",
            "481721de4a434534bd249c25741aaeba",
            "191715bcd93444329b9158c4d9ca5f25",
            "233eaabcbbba4008a89b5638e7a74601",
            "b30c94b884a043c3ad36c3c93c3a22f1",
            "9303ecdd30cc44748dc3ad2c73188c8e"
          ]
        },
        "id": "nec_ogDlZv9B",
        "outputId": "fc1a5f17-2423-476c-ab53-6d38e297990a"
      },
      "source": [
        "#Model pretrained selection\n",
        "model_link = \"distilbert-base-cased\" # \"bert-base-cased\"\n",
        "tokenizer = AutoTokenizer.from_pretrained(model_link)"
      ],
      "execution_count": null,
      "outputs": [
        {
          "output_type": "display_data",
          "data": {
            "application/vnd.jupyter.widget-view+json": {
              "model_id": "7b69cc61a1b640b3a617fd5651a48734",
              "version_minor": 0,
              "version_major": 2
            },
            "text/plain": [
              "HBox(children=(FloatProgress(value=0.0, description='Downloading', max=411.0, style=ProgressStyle(description_…"
            ]
          },
          "metadata": {
            "tags": []
          }
        },
        {
          "output_type": "stream",
          "text": [
            "\n"
          ],
          "name": "stdout"
        },
        {
          "output_type": "display_data",
          "data": {
            "application/vnd.jupyter.widget-view+json": {
              "model_id": "e22ad40a7f4b4a399f0c255fd6984424",
              "version_minor": 0,
              "version_major": 2
            },
            "text/plain": [
              "HBox(children=(FloatProgress(value=0.0, description='Downloading', max=213450.0, style=ProgressStyle(descripti…"
            ]
          },
          "metadata": {
            "tags": []
          }
        },
        {
          "output_type": "stream",
          "text": [
            "\n"
          ],
          "name": "stdout"
        },
        {
          "output_type": "display_data",
          "data": {
            "application/vnd.jupyter.widget-view+json": {
              "model_id": "61b372f7f2bf49788185fd493afeee66",
              "version_minor": 0,
              "version_major": 2
            },
            "text/plain": [
              "HBox(children=(FloatProgress(value=0.0, description='Downloading', max=435797.0, style=ProgressStyle(descripti…"
            ]
          },
          "metadata": {
            "tags": []
          }
        },
        {
          "output_type": "stream",
          "text": [
            "\n"
          ],
          "name": "stdout"
        },
        {
          "output_type": "display_data",
          "data": {
            "application/vnd.jupyter.widget-view+json": {
              "model_id": "aca46d49a5994860a7d28e682df117d1",
              "version_minor": 0,
              "version_major": 2
            },
            "text/plain": [
              "HBox(children=(FloatProgress(value=0.0, description='Downloading', max=29.0, style=ProgressStyle(description_w…"
            ]
          },
          "metadata": {
            "tags": []
          }
        },
        {
          "output_type": "stream",
          "text": [
            "\n"
          ],
          "name": "stdout"
        }
      ]
    },
    {
      "cell_type": "code",
      "metadata": {
        "colab": {
          "base_uri": "https://localhost:8080/"
        },
        "id": "04Dwz65kZv9C",
        "outputId": "d706afde-1c0a-4094-e349-ef883381d43c"
      },
      "source": [
        "#Prepare train data\n",
        "train_tokens_ids, train_masks, train_start_positions, train_end_positions = prepare_train_squad_data_bert(squad_v2_train_df)"
      ],
      "execution_count": null,
      "outputs": [
        {
          "output_type": "stream",
          "text": [
            "Token indices sequence length is longer than the specified maximum sequence length for this model (525 > 512). Running this sequence through the model will result in indexing errors\n"
          ],
          "name": "stderr"
        }
      ]
    },
    {
      "cell_type": "code",
      "metadata": {
        "id": "gCMgTpBtZv9C"
      },
      "source": [
        "#Prepare validation data\n",
        "val_tokens_ids, val_masks, val_start_end_positions = prepare_val_squad_data_bert(squad_v2_val_df)"
      ],
      "execution_count": null,
      "outputs": []
    },
    {
      "cell_type": "markdown",
      "metadata": {
        "id": "lKk32LYgZv9D"
      },
      "source": [
        "We can verify that the computing of the tokens and the answer tokens positions have been successful."
      ]
    },
    {
      "cell_type": "code",
      "metadata": {
        "colab": {
          "base_uri": "https://localhost:8080/"
        },
        "id": "ntuZT9CEZv9D",
        "outputId": "341f1d0a-4a57-46d4-8757-03a68dd1ae9e"
      },
      "source": [
        "#Verification\n",
        "for ind, start, end in zip(range(4), list(train_start_positions), list(train_end_positions)):\n",
        "    print(\"context: \\n\", squad_v2_train_df.iloc[ind]['context'])\n",
        "    print(\"question:\", squad_v2_train_df.iloc[ind]['question'])\n",
        "    if len(squad_v2_train_df.iloc[ind]['answers']['text'])==0:\n",
        "        print(\"answer:\", squad_v2_train_df.iloc[ind]['answers']['text'])\n",
        "    else:\n",
        "        print(\"answer:\", squad_v2_train_df.iloc[ind]['answers']['text'][0])\n",
        "    print(\"predicted answer:\", tokenizer.decode(train_tokens_ids[ind][start:end+1]), \"\\n\")"
      ],
      "execution_count": null,
      "outputs": [
        {
          "output_type": "stream",
          "text": [
            "context: \n",
            " Beyoncé Giselle Knowles-Carter (/biːˈjɒnseɪ/ bee-YON-say) (born September 4, 1981) is an American singer, songwriter, record producer and actress. Born and raised in Houston, Texas, she performed in various singing and dancing competitions as a child, and rose to fame in the late 1990s as lead singer of R&B girl-group Destiny's Child. Managed by her father, Mathew Knowles, the group became one of the world's best-selling girl groups of all time. Their hiatus saw the release of Beyoncé's debut album, Dangerously in Love (2003), which established her as a solo artist worldwide, earned five Grammy Awards and featured the Billboard Hot 100 number-one singles \"Crazy in Love\" and \"Baby Boy\".\n",
            "question: When did Beyonce start becoming popular?\n",
            "answer: in the late 1990s\n",
            "predicted answer: in the late 1990s \n",
            "\n",
            "context: \n",
            " Beyoncé Giselle Knowles-Carter (/biːˈjɒnseɪ/ bee-YON-say) (born September 4, 1981) is an American singer, songwriter, record producer and actress. Born and raised in Houston, Texas, she performed in various singing and dancing competitions as a child, and rose to fame in the late 1990s as lead singer of R&B girl-group Destiny's Child. Managed by her father, Mathew Knowles, the group became one of the world's best-selling girl groups of all time. Their hiatus saw the release of Beyoncé's debut album, Dangerously in Love (2003), which established her as a solo artist worldwide, earned five Grammy Awards and featured the Billboard Hot 100 number-one singles \"Crazy in Love\" and \"Baby Boy\".\n",
            "question: What areas did Beyonce compete in when she was growing up?\n",
            "answer: singing and dancing\n",
            "predicted answer: singing and dancing \n",
            "\n",
            "context: \n",
            " Beyoncé Giselle Knowles-Carter (/biːˈjɒnseɪ/ bee-YON-say) (born September 4, 1981) is an American singer, songwriter, record producer and actress. Born and raised in Houston, Texas, she performed in various singing and dancing competitions as a child, and rose to fame in the late 1990s as lead singer of R&B girl-group Destiny's Child. Managed by her father, Mathew Knowles, the group became one of the world's best-selling girl groups of all time. Their hiatus saw the release of Beyoncé's debut album, Dangerously in Love (2003), which established her as a solo artist worldwide, earned five Grammy Awards and featured the Billboard Hot 100 number-one singles \"Crazy in Love\" and \"Baby Boy\".\n",
            "question: When did Beyonce leave Destiny's Child and become a solo singer?\n",
            "answer: 2003\n",
            "predicted answer: 2003 \n",
            "\n",
            "context: \n",
            " Beyoncé Giselle Knowles-Carter (/biːˈjɒnseɪ/ bee-YON-say) (born September 4, 1981) is an American singer, songwriter, record producer and actress. Born and raised in Houston, Texas, she performed in various singing and dancing competitions as a child, and rose to fame in the late 1990s as lead singer of R&B girl-group Destiny's Child. Managed by her father, Mathew Knowles, the group became one of the world's best-selling girl groups of all time. Their hiatus saw the release of Beyoncé's debut album, Dangerously in Love (2003), which established her as a solo artist worldwide, earned five Grammy Awards and featured the Billboard Hot 100 number-one singles \"Crazy in Love\" and \"Baby Boy\".\n",
            "question: In what city and state did Beyonce  grow up?\n",
            "answer: Houston, Texas\n",
            "predicted answer: Houston, Texas \n",
            "\n"
          ],
          "name": "stdout"
        }
      ]
    },
    {
      "cell_type": "markdown",
      "metadata": {
        "id": "GAv7PYcFZv9D"
      },
      "source": [
        "Finally, we choose the number of data used for training and validation."
      ]
    },
    {
      "cell_type": "code",
      "metadata": {
        "id": "U78whEYmZv9D"
      },
      "source": [
        "#data selection\n",
        "size_train = 100000\n",
        "size_valid = 10000\n",
        "\n",
        "#data loader\n",
        "train_dataset = TensorDataset(train_tokens_ids[:size_train], train_masks[:size_train], train_start_positions[:size_train], train_end_positions[:size_train])\n",
        "val_dataset = TensorDataset(val_tokens_ids[:size_valid], val_masks[:size_valid], val_start_end_positions[:size_valid])\n",
        "train_loader = DataLoader(train_dataset, batch_size=16)\n",
        "val_loader = DataLoader(val_dataset, batch_size=16)"
      ],
      "execution_count": null,
      "outputs": []
    },
    {
      "cell_type": "code",
      "metadata": {
        "id": "pdHmPWEdoqAW"
      },
      "source": [
        "#weight error selection\n",
        "weight = torch.ones(512) * 1.0 \n",
        "weight[0] = 0.09\n",
        "weight = weight.cuda()"
      ],
      "execution_count": null,
      "outputs": []
    },
    {
      "cell_type": "markdown",
      "metadata": {
        "id": "7OW61nXcZv9D"
      },
      "source": [
        "## Training"
      ]
    },
    {
      "cell_type": "markdown",
      "metadata": {
        "id": "eggTiyxGZv9D"
      },
      "source": [
        "We initialize an instance of the model."
      ]
    },
    {
      "cell_type": "code",
      "metadata": {
        "id": "Sgf7nPiwZv9E",
        "colab": {
          "base_uri": "https://localhost:8080/",
          "height": 66,
          "referenced_widgets": [
            "b14d5d909574460a962e938cf12c55dd",
            "c3841eff72fb4fb799bfeb92dee1ab9b",
            "5c595e03905e469ab51becceceaad158",
            "599d6b0926904595af1a84a7b44994a0",
            "009746cd8dda410dae85494cd758ac94",
            "0df9962d612b4b07b49135820a112529",
            "e7fb3438869443a89398c33cee35dbf4",
            "52df715471ce489ebf12765d8347cf88"
          ]
        },
        "outputId": "4d4b2dc1-cf57-4bd3-fc82-66262f5a1f82"
      },
      "source": [
        "#model\n",
        "model = QA_finetuned_BERT_v2(model_link=model_link, weight=weight, learning_rate=10**(-3), layerwise_gamma=0.6)"
      ],
      "execution_count": null,
      "outputs": [
        {
          "output_type": "display_data",
          "data": {
            "application/vnd.jupyter.widget-view+json": {
              "model_id": "b14d5d909574460a962e938cf12c55dd",
              "version_minor": 0,
              "version_major": 2
            },
            "text/plain": [
              "HBox(children=(FloatProgress(value=0.0, description='Downloading', max=263273408.0, style=ProgressStyle(descri…"
            ]
          },
          "metadata": {
            "tags": []
          }
        },
        {
          "output_type": "stream",
          "text": [
            "\n"
          ],
          "name": "stdout"
        }
      ]
    },
    {
      "cell_type": "markdown",
      "metadata": {
        "id": "tPWsfLtFZv9E"
      },
      "source": [
        "We compute the training on Colab's GPU to accelerate it."
      ]
    },
    {
      "cell_type": "code",
      "metadata": {
        "colab": {
          "base_uri": "https://localhost:8080/"
        },
        "id": "7-Jx3gMkZv9E",
        "outputId": "eea77180-64c5-457d-89c1-d3ce7435b8d6"
      },
      "source": [
        "#trainer\n",
        "trainer = pl.Trainer(gpus=1, max_epochs=2, auto_lr_find=True)"
      ],
      "execution_count": null,
      "outputs": [
        {
          "output_type": "stream",
          "text": [
            "GPU available: True, used: True\n",
            "TPU available: False, using: 0 TPU cores\n"
          ],
          "name": "stderr"
        }
      ]
    },
    {
      "cell_type": "markdown",
      "metadata": {
        "id": "sBwyv8sEZv9E"
      },
      "source": [
        "We can firstly use the learning rate finder prodided by the Lightning framework in order to find quickly a good learning rate (the one used before the loss went up)."
      ]
    },
    {
      "cell_type": "code",
      "metadata": {
        "colab": {
          "base_uri": "https://localhost:8080/",
          "height": 567,
          "referenced_widgets": [
            "f1516a5d741d41c5bd49954d1dbf3eb7",
            "fd7e1f32788b411fa9422db48ea1b66c",
            "168df7374df44bfe87fe2852aa4af7ce",
            "de662202e05e45d3ae43edc0edabcd95",
            "69c4d9ba76df4bc69493f7e1b94ce91f",
            "0afc3e86869f430492022fa05650ec14",
            "ed09e3dc95fe461789cd35f3344d94a7",
            "32786ba397744e99a2b12f0f41222512"
          ]
        },
        "id": "l63u7u6_Zv9E",
        "outputId": "1d58b270-cca0-42c6-c25f-914d54a2e3c5"
      },
      "source": [
        "#tune learning rate\n",
        "lr_finder = trainer.tuner.lr_find(model, train_dataloader=train_loader)\n",
        "fig = lr_finder.plot(suggest=True)\n",
        "fig.show()\n",
        "model.learning_rate = lr_finder.suggestion()\n",
        "print(model.learning_rate)"
      ],
      "execution_count": null,
      "outputs": [
        {
          "output_type": "stream",
          "text": [
            "/usr/local/lib/python3.7/dist-packages/pytorch_lightning/utilities/distributed.py:68: UserWarning: you defined a validation_step but have no val_dataloader. Skipping validation loop\n",
            "  warnings.warn(*args, **kwargs)\n",
            "LOCAL_RANK: 0 - CUDA_VISIBLE_DEVICES: [0]\n",
            "\n",
            "  | Name           | Type            | Params\n",
            "---------------------------------------------------\n",
            "0 | language_model | DistilBertModel | 65.2 M\n",
            "1 | labeling_head  | Linear          | 1.5 K \n",
            "---------------------------------------------------\n",
            "65.2 M    Trainable params\n",
            "0         Non-trainable params\n",
            "65.2 M    Total params\n",
            "260.770   Total estimated model params size (MB)\n"
          ],
          "name": "stderr"
        },
        {
          "output_type": "display_data",
          "data": {
            "application/vnd.jupyter.widget-view+json": {
              "model_id": "f1516a5d741d41c5bd49954d1dbf3eb7",
              "version_minor": 0,
              "version_major": 2
            },
            "text/plain": [
              "HBox(children=(FloatProgress(value=0.0, description='Finding best initial lr', style=ProgressStyle(description…"
            ]
          },
          "metadata": {
            "tags": []
          }
        },
        {
          "output_type": "stream",
          "text": [
            "Restored states from the checkpoint file at /content/lr_find_temp_model.ckpt\n"
          ],
          "name": "stderr"
        },
        {
          "output_type": "stream",
          "text": [
            "0.0001445439770745928\n"
          ],
          "name": "stdout"
        },
        {
          "output_type": "display_data",
          "data": {
            "image/png": "[encoded data removed]",
            "text/plain": [
              "<Figure size 432x288 with 1 Axes>"
            ]
          },
          "metadata": {
            "tags": [],
            "needs_background": "light"
          }
        }
      ]
    },
    {
      "cell_type": "markdown",
      "metadata": {
        "id": "uZkAAfuAZv9F"
      },
      "source": [
        "We can finally train the model."
      ]
    },
    {
      "cell_type": "code",
      "metadata": {
        "colab": {
          "base_uri": "https://localhost:8080/",
          "height": 282,
          "referenced_widgets": [
            "b6a77ee54529438eba2041d3a4591013",
            "1e79e4ed5324413f86f50d79341ab15d",
            "7aa03662bc1f4585a997e892f0443eea",
            "26c707f70881405bb94ca3fddff3231b",
            "2d817b2add6349d1a4d6ad407a965812",
            "761f4b391edc49dab9e0fd71a0f22749",
            "37417b887a324b53bb0b9252ed671595",
            "5d77b3aa1d1a4139bfe84ca060deb6ce",
            "c2c910a63233473f98f133a8df2f9f85",
            "53bba9d2d2274d31bbc0dac04d8dbd77",
            "42e9f450db1440a1ba8e5798c1a2e6db",
            "146f5227e70b4e479be7446f5e7abf53",
            "8d2531143dbf484196da4a2d936b25ff",
            "047975b2b1184f59a29a6012a3b16d0e",
            "c1b4a8f9cd174e909adac2272a7b856b",
            "3dd7d53003f6487d9216b95523cd36e0",
            "0d5082f149334cec997ab3dbba7e8bc1",
            "e8b1174f598444ad89553498fc5f4bc7",
            "193564b7667242c8b35a660e3f8c73e1",
            "77f97576ad01470f91ad33dbc56c3a58",
            "d9cb1bbb21be4740950976883c2394a5",
            "f7f2946c45e54e9f84225f7916db809d",
            "445e4d15d4074dc29d0f8aa853974a44",
            "c9c98c3184f64f078b82427d85cdbd80"
          ]
        },
        "id": "BHPvcBUjZv9F",
        "outputId": "1676a5a9-2bab-4c29-8179-5e90b1e3c5a7"
      },
      "source": [
        "#training\n",
        "trainer.fit(model, train_loader, val_loader) "
      ],
      "execution_count": null,
      "outputs": [
        {
          "output_type": "stream",
          "text": [
            "LOCAL_RANK: 0 - CUDA_VISIBLE_DEVICES: [0]\n",
            "\n",
            "  | Name           | Type            | Params\n",
            "---------------------------------------------------\n",
            "0 | language_model | DistilBertModel | 65.2 M\n",
            "1 | labeling_head  | Linear          | 1.5 K \n",
            "---------------------------------------------------\n",
            "65.2 M    Trainable params\n",
            "0         Non-trainable params\n",
            "65.2 M    Total params\n",
            "260.770   Total estimated model params size (MB)\n"
          ],
          "name": "stderr"
        },
        {
          "output_type": "display_data",
          "data": {
            "application/vnd.jupyter.widget-view+json": {
              "model_id": "b6a77ee54529438eba2041d3a4591013",
              "version_minor": 0,
              "version_major": 2
            },
            "text/plain": [
              "HBox(children=(FloatProgress(value=1.0, bar_style='info', description='Validation sanity check', layout=Layout…"
            ]
          },
          "metadata": {
            "tags": []
          }
        },
        {
          "output_type": "stream",
          "text": [
            "\r"
          ],
          "name": "stdout"
        },
        {
          "output_type": "display_data",
          "data": {
            "application/vnd.jupyter.widget-view+json": {
              "model_id": "c2c910a63233473f98f133a8df2f9f85",
              "version_minor": 0,
              "version_major": 2
            },
            "text/plain": [
              "HBox(children=(FloatProgress(value=1.0, bar_style='info', description='Training', layout=Layout(flex='2'), max…"
            ]
          },
          "metadata": {
            "tags": []
          }
        },
        {
          "output_type": "display_data",
          "data": {
            "application/vnd.jupyter.widget-view+json": {
              "model_id": "0d5082f149334cec997ab3dbba7e8bc1",
              "version_minor": 0,
              "version_major": 2
            },
            "text/plain": [
              "HBox(children=(FloatProgress(value=1.0, bar_style='info', description='Validating', layout=Layout(flex='2'), m…"
            ]
          },
          "metadata": {
            "tags": []
          }
        },
        {
          "output_type": "execute_result",
          "data": {
            "text/plain": [
              "1"
            ]
          },
          "metadata": {
            "tags": []
          },
          "execution_count": 29
        }
      ]
    },
    {
      "cell_type": "markdown",
      "metadata": {
        "id": "3pA3QPKcZv9F"
      },
      "source": [
        "## Evaluating the results"
      ]
    },
    {
      "cell_type": "markdown",
      "metadata": {
        "id": "UPSeXCjFZv9F"
      },
      "source": [
        "We can use the framework tensorboard to explore the logs made during the training."
      ]
    },
    {
      "cell_type": "code",
      "metadata": {
        "id": "KoTlhaOGZv9F"
      },
      "source": [
        "#%load_ext tensorboard"
      ],
      "execution_count": null,
      "outputs": []
    },
    {
      "cell_type": "code",
      "metadata": {
        "id": "mEyEhdrHZv9F"
      },
      "source": [
        "#%tensorboard --logdir lightning_logs/ "
      ],
      "execution_count": null,
      "outputs": []
    },
    {
      "cell_type": "code",
      "metadata": {
        "id": "1kzpKDudZv9G"
      },
      "source": [
        "#loaded_model = QA_finetuned_BERT.load_from_checkpoint(\"lightning_logs/\")"
      ],
      "execution_count": null,
      "outputs": []
    },
    {
      "cell_type": "markdown",
      "metadata": {
        "id": "-_cHWeNaZv9G"
      },
      "source": [
        "We can compute metrics on datasets."
      ]
    },
    {
      "cell_type": "code",
      "metadata": {
        "id": "vlBkhtLwZv9G",
        "colab": {
          "base_uri": "https://localhost:8080/",
          "height": 183,
          "referenced_widgets": [
            "e9a8f9d70d5a4be89cb40745561e02fa",
            "e491a9a861dd49898be127befab2a0a4",
            "bfa93c2db0764f1394fdb7066377c1e8",
            "7a51b9333f5041868b0bde78678c0403",
            "80162d3cca0841cb9df7a52617cc0571",
            "b12ea6da6acd47b2b8aee9fda1970ef0",
            "49b5d365159b47cfbf14123f50834ea5",
            "717899fd94a74571a499dcd6a3d56502"
          ]
        },
        "outputId": "c995b133-c4f4-40d2-aa64-6136e51b28f6"
      },
      "source": [
        "#quantitative results\n",
        "result_val = trainer.test(test_dataloaders=val_loader)\n",
        "print(result_val)"
      ],
      "execution_count": null,
      "outputs": [
        {
          "output_type": "stream",
          "text": [
            "LOCAL_RANK: 0 - CUDA_VISIBLE_DEVICES: [0]\n"
          ],
          "name": "stderr"
        },
        {
          "output_type": "display_data",
          "data": {
            "application/vnd.jupyter.widget-view+json": {
              "model_id": "e9a8f9d70d5a4be89cb40745561e02fa",
              "version_minor": 0,
              "version_major": 2
            },
            "text/plain": [
              "HBox(children=(FloatProgress(value=1.0, bar_style='info', description='Testing', layout=Layout(flex='2'), max=…"
            ]
          },
          "metadata": {
            "tags": []
          }
        },
        {
          "output_type": "stream",
          "text": [
            "\n",
            "--------------------------------------------------------------------------------\n",
            "DATALOADER:0 TEST RESULTS\n",
            "{'test_exact_matching': 0.39010000228881836,\n",
            " 'test_f1_score': 0.44341278076171875}\n",
            "--------------------------------------------------------------------------------\n",
            "[{'test_f1_score': 0.44341278076171875, 'test_exact_matching': 0.39010000228881836}]\n"
          ],
          "name": "stdout"
        }
      ]
    },
    {
      "cell_type": "markdown",
      "metadata": {
        "id": "L_lE6d5EZv9G"
      },
      "source": [
        "And we can also evaluate visually the performances of the model."
      ]
    },
    {
      "cell_type": "code",
      "metadata": {
        "colab": {
          "base_uri": "https://localhost:8080/"
        },
        "id": "YG2zfybzZv9G",
        "outputId": "27aa6ed2-2316-47a6-b50f-c80d8f0de9e6"
      },
      "source": [
        "#qualitative results on training data\n",
        "index = [0, 100, 200, 250, 500, 1000, 2000, 2500, 3000]\n",
        "start_end_prediction = np.argmax(model(train_tokens_ids[index].cuda(), train_masks[index].cuda()).detach().cpu(), axis=1) #np.argmax(trainer.predict(model, DataLoader(train_tokens_ids[index], batch_size=8))[0], axis=1)\n",
        "print(start_end_prediction)\n",
        "for ind, start_end in zip(index, list(start_end_prediction)):\n",
        "    print(\"context: \\n\", squad_v2_train_df.iloc[ind]['context'])\n",
        "    print(\"question:\", squad_v2_train_df.iloc[ind]['question'])\n",
        "    if len(squad_v2_train_df.iloc[ind]['answers']['text'])==0:\n",
        "        print(\"answer:\", squad_v2_train_df.iloc[ind]['answers']['text'])\n",
        "    else:\n",
        "        print(\"answer:\", squad_v2_train_df.iloc[ind]['answers']['text'][0])\n",
        "    print(\"predicted answer:\", tokenizer.decode(train_tokens_ids[ind][start_end[0]:start_end[1]+1]), \"\\n\")"
      ],
      "execution_count": null,
      "outputs": [
        {
          "output_type": "stream",
          "text": [
            "tensor([[ 63,  64],\n",
            "        [ 47,  47],\n",
            "        [ 11,  11],\n",
            "        [171, 178],\n",
            "        [ 15,  26],\n",
            "        [  2,   2],\n",
            "        [ 88,  91],\n",
            "        [ 69,  94],\n",
            "        [125, 129]])\n",
            "context: \n",
            " Beyoncé Giselle Knowles-Carter (/biːˈjɒnseɪ/ bee-YON-say) (born September 4, 1981) is an American singer, songwriter, record producer and actress. Born and raised in Houston, Texas, she performed in various singing and dancing competitions as a child, and rose to fame in the late 1990s as lead singer of R&B girl-group Destiny's Child. Managed by her father, Mathew Knowles, the group became one of the world's best-selling girl groups of all time. Their hiatus saw the release of Beyoncé's debut album, Dangerously in Love (2003), which established her as a solo artist worldwide, earned five Grammy Awards and featured the Billboard Hot 100 number-one singles \"Crazy in Love\" and \"Baby Boy\".\n",
            "question: When did Beyonce start becoming popular?\n",
            "answer: in the late 1990s\n",
            "predicted answer: late 1990s \n",
            "\n",
            "context: \n",
            " The remaining band members recorded \"Independent Women Part I\", which appeared on the soundtrack to the 2000 film, Charlie's Angels. It became their best-charting single, topping the U.S. Billboard Hot 100 chart for eleven consecutive weeks. In early 2001, while Destiny's Child was completing their third album, Beyoncé landed a major role in the MTV made-for-television film, Carmen: A Hip Hopera, starring alongside American actor Mekhi Phifer. Set in Philadelphia, the film is a modern interpretation of the 19th century opera Carmen by French composer Georges Bizet. When the third album Survivor was released in May 2001, Luckett and Roberson filed a lawsuit claiming that the songs were aimed at them. The album debuted at number one on the U.S. Billboard 200, with first-week sales of 663,000 copies sold. The album spawned other number-one hits, \"Bootylicious\" and the title track, \"Survivor\", the latter of which earned the group a Grammy Award for Best R&B Performance by a Duo or Group with Vocals. After releasing their holiday album 8 Days of Christmas in October 2001, the group announced a hiatus to further pursue solo careers.\n",
            "question: How many weeks did their single \"Independent Women Part I\" stay on top?\n",
            "answer: eleven\n",
            "predicted answer: eleven \n",
            "\n",
            "context: \n",
            " At the 52nd Annual Grammy Awards, Beyoncé received ten nominations, including Album of the Year for I Am... Sasha Fierce, Record of the Year for \"Halo\", and Song of the Year for \"Single Ladies (Put a Ring on It)\", among others. She tied with Lauryn Hill for most Grammy nominations in a single year by a female artist. In 2010, Beyoncé was featured on Lady Gaga's single \"Telephone\" and its music video. The song topped the US Pop Songs chart, becoming the sixth number-one for both Beyoncé and Gaga, tying them with Mariah Carey for most number-ones since the Nielsen Top 40 airplay chart launched in 1992. \"Telephone\" received a Grammy Award nomination for Best Pop Collaboration with Vocals.\n",
            "question: How many awards was Beyonce nominated for at the 52nd Grammy Awards?\n",
            "answer: ten\n",
            "predicted answer: ten \n",
            "\n",
            "context: \n",
            " Her fourth studio album 4 was released on June 28, 2011 in the US. 4 sold 310,000 copies in its first week and debuted atop the Billboard 200 chart, giving Beyoncé her fourth consecutive number-one album in the US. The album was preceded by two of its singles \"Run the World (Girls)\" and \"Best Thing I Never Had\", which both attained moderate success. The fourth single \"Love on Top\" was a commercial success in the US. 4 also produced four other singles; \"Party\", \"Countdown\", \"I Care\" and \"End of Time\". \"Eat, Play, Love\", a cover story written by Beyoncé for Essence that detailed her 2010 career break, won her a writing award from the New York Association of Black Journalists. In late 2011, she took the stage at New York's Roseland Ballroom for four nights of special performances: the 4 Intimate Nights with Beyoncé concerts saw the performance of her 4 album to a standing room only.\n",
            "question: Where did Beyoncé perform for four nights of standing room only concerts in 2011?\n",
            "answer: New York's Roseland Ballroom\n",
            "predicted answer: New York's Roseland Ballroom \n",
            "\n",
            "context: \n",
            " Beyoncé has received praise for her stage presence and voice during live performances. Jarett Wieselman of the New York Post placed her at number one on her list of the Five Best Singer/Dancers. According to Barbara Ellen of The Guardian Beyoncé is the most in-charge female artist she's seen onstage, while Alice Jones of The Independent wrote she \"takes her role as entertainer so seriously she's almost too good.\" The ex-President of Def Jam L.A. Reid has described Beyoncé as the greatest entertainer alive. Jim Farber of the Daily News and Stephanie Classen of Star Phoenix both praised her strong voice and her stage presence.\n",
            "question: Who chose her as number one on his list of Best singers/ Dancers?\n",
            "answer: Jarett Wieselman\n",
            "predicted answer: Jarett Wieselman of the New York Post \n",
            "\n",
            "context: \n",
            " Two Polish friends in Paris were also to play important roles in Chopin's life there. His fellow student at the Warsaw Conservatory, Julian Fontana, had originally tried unsuccessfully to establish himself in England; Albert Grzymała, who in Paris became a wealthy financier and society figure, often acted as Chopin's adviser and \"gradually began to fill the role of elder brother in [his] life.\" Fontana was to become, in the words of Michałowski and Samson, Chopin's \"general factotum and copyist\".\n",
            "question: What nationality were the two friends who served as a pivotal influence in Frédéric's life while in Paris?\n",
            "answer: Polish\n",
            "predicted answer: Polish \n",
            "\n",
            "context: \n",
            " On October 21, 2008, Apple reported that only 14.21% of total revenue for fiscal quarter 4 of year 2008 came from iPods. At the September 9, 2009 keynote presentation at the Apple Event, Phil Schiller announced total cumulative sales of iPods exceeded 220 million. The continual decline of iPod sales since 2009 has not been a surprising trend for the Apple corporation, as Apple CFO Peter Oppenheimer explained in June 2009: \"We expect our traditional MP3 players to decline over time as we cannibalize ourselves with the iPod Touch and the iPhone.\" Since 2009, the company's iPod sales have continually decreased every financial quarter and in 2013 a new model was not introduced onto the market.\n",
            "question: Who was Chief Financial Officer of Apple in July of 2009?\n",
            "answer: Peter Oppenheimer\n",
            "predicted answer: Peter Oppenheimer \n",
            "\n",
            "context: \n",
            " Bond disobeys M's order and travels to Rome to attend Sciarra's funeral. That evening he visits Sciarra's widow Lucia, who tells him about Spectre, a criminal organisation to which her husband belonged. Bond infiltrates a Spectre meeting, where he identifies the leader, Franz Oberhauser. When Oberhauser addresses Bond by name, he escapes and is pursued by Mr. Hinx, a Spectre assassin. Moneypenny informs Bond that the information he collected leads to Mr. White, former member of Quantum, a subsidiary of Spectre. Bond asks her to investigate Oberhauser, who was presumed dead years earlier.\n",
            "question: Who performs research for Bond?\n",
            "answer: Moneypenny\n",
            "predicted answer: Franz Oberhauser. When Oberhauser addresses Bond by name, he escapes and is pursued by Mr. Hinx \n",
            "\n",
            "context: \n",
            " Office buildings in Shanghai's financial district, including the Jin Mao Tower and the Hong Kong New World Tower, were evacuated. A receptionist at the Tibet Hotel in Chengdu said things were \"calm\" after the hotel evacuated its guests. Meanwhile, workers at a Ford plant in Sichuan were evacuated for about 10 minutes. Chengdu Shuangliu International Airport was shut down, and the control tower and regional radar control evacuated. One SilkAir flight was diverted and landed in Kunming as a result. Cathay Pacific delayed both legs of its quadruple daily Hong Kong to London route due to this disruption in air traffic services. Chengdu Shuangliu Airport reopened later on the evening of May 12, offering limited service as the airport began to be used as a staging area for relief operations.\n",
            "question: Why were flights delayed and diverted?\n",
            "answer: disruption in air traffic services\n",
            "predicted answer: disruption in air traffic services \n",
            "\n"
          ],
          "name": "stdout"
        }
      ]
    },
    {
      "cell_type": "code",
      "metadata": {
        "colab": {
          "base_uri": "https://localhost:8080/"
        },
        "id": "VfSC7Jb0Zv9H",
        "outputId": "f1f5df34-afd0-46b1-ca01-1d6a1fc017c8"
      },
      "source": [
        "#qualitative results on validation data\n",
        "index = [0, 100, 200, 250, 500, 1000, 2000, 2500, 3000]\n",
        "start_end_prediction = np.argmax(model(val_tokens_ids[index].cuda(), val_masks[index].cuda()).detach().cpu(), axis=1) #trainer.predict(model, DataLoader(TensorDataset(val_tokens_ids[index], val_masks[index]), batch_size=8))[0], axis=1)\n",
        "print(start_end_prediction)\n",
        "for ind, start_end in zip(index, list(start_end_prediction)):\n",
        "    print(\"context: \\n\", squad_v2_val_df.iloc[ind]['context'])\n",
        "    print(\"question:\", squad_v2_val_df.iloc[ind]['question'])\n",
        "    if len(squad_v2_val_df.iloc[ind]['answers']['text'])==0:\n",
        "        print(\"answer:\", squad_v2_val_df.iloc[ind]['answers']['text'])\n",
        "    else:\n",
        "        print(\"answer:\", squad_v2_val_df.iloc[ind]['answers']['text'][0])\n",
        "    print(\"predicted answer:\", tokenizer.decode(val_tokens_ids[ind][start_end[0]:start_end[1]+1]), \"\\n\")"
      ],
      "execution_count": null,
      "outputs": [
        {
          "output_type": "stream",
          "text": [
            "tensor([[ 41,  41],\n",
            "        [ 18,  20],\n",
            "        [ 53,  62],\n",
            "        [  0,   0],\n",
            "        [ 95,  96],\n",
            "        [ 47,  48],\n",
            "        [ 13,  15],\n",
            "        [ 46,  48],\n",
            "        [297, 298]])\n",
            "context: \n",
            " The Normans (Norman: Nourmands; French: Normands; Latin: Normanni) were the people who in the 10th and 11th centuries gave their name to Normandy, a region in France. They were descended from Norse (\"Norman\" comes from \"Norseman\") raiders and pirates from Denmark, Iceland and Norway who, under their leader Rollo, agreed to swear fealty to King Charles III of West Francia. Through generations of assimilation and mixing with the native Frankish and Roman-Gaulish populations, their descendants would gradually merge with the Carolingian-based cultures of West Francia. The distinct cultural and ethnic identity of the Normans emerged initially in the first half of the 10th century, and it continued to evolve over the succeeding centuries.\n",
            "question: In what country is Normandy located?\n",
            "answer: France\n",
            "predicted answer: France \n",
            "\n",
            "context: \n",
            " In 1066, Duke William II of Normandy conquered England killing King Harold II at the Battle of Hastings. The invading Normans and their descendants replaced the Anglo-Saxons as the ruling class of England. The nobility of England were part of a single Normans culture and many had lands on both sides of the channel. Early Norman kings of England, as Dukes of Normandy, owed homage to the King of France for their land on the continent. They considered England to be their most important holding (it brought with it the title of King—an important status symbol).\n",
            "question: What battle took place in the 10th century?\n",
            "answer: []\n",
            "predicted answer: Battle of Hastings \n",
            "\n",
            "context: \n",
            " Normandy was the site of several important developments in the history of classical music in the 11th century. Fécamp Abbey and Saint-Evroul Abbey were centres of musical production and education. At Fécamp, under two Italian abbots, William of Volpiano and John of Ravenna, the system of denoting notes by letters was developed and taught. It is still the most common form of pitch representation in English- and German-speaking countries today. Also at Fécamp, the staff, around which neumes were oriented, was first developed and taught in the 11th century. Under the German abbot Isembard, La Trinité-du-Mont became a centre of musical composition.\n",
            "question: Who were the two abbots at Fécamp Abbey?\n",
            "answer: William of Volpiano and John of Ravenna\n",
            "predicted answer: William of Volpiano and John of Ravenna \n",
            "\n",
            "context: \n",
            " To further highlight the difference between a problem and an instance, consider the following instance of the decision version of the traveling salesman problem: Is there a route of at most 2000 kilometres passing through all of Germany's 15 largest cities? The quantitative answer to this particular problem instance is of little use for solving other instances of the problem, such as asking for a round trip through all sites in Milan whose total length is at most 10 km. For this reason, complexity theory addresses computational problems and not particular problem instances.\n",
            "question: What is one example of an instance that the qualitative answer to the traveling salesman fails to answer?\n",
            "answer: []\n",
            "predicted answer: [CLS] \n",
            "\n",
            "context: \n",
            " The complexity class P is often seen as a mathematical abstraction modeling those computational tasks that admit an efficient algorithm. This hypothesis is called the Cobham–Edmonds thesis. The complexity class NP, on the other hand, contains many problems that people would like to solve efficiently, but for which no efficient algorithm is known, such as the Boolean satisfiability problem, the Hamiltonian path problem and the vertex cover problem. Since deterministic Turing machines are special non-deterministic Turing machines, it is easily observed that each problem in P is also member of the class NP.\n",
            "question: In what theoretical machine is it confirmed that a problem in P belies membership in the NP class?\n",
            "answer: Turing machines\n",
            "predicted answer: Turing \n",
            "\n",
            "context: \n",
            " In 2007, BSkyB and Virgin Media became involved in a dispute over the carriage of Sky channels on cable TV. The failure to renew the existing carriage agreements negotiated with NTL and Telewest resulted in Virgin Media removing the basic channels from the network on 1 March 2007. Virgin Media claimed that BSkyB had substantially increased the asking price for the channels, a claim which BSkyB denied, on the basis that their new deal offered \"substantially more value\" by including HD channels and Video On Demand content which was not previously carried by cable.\n",
            "question: What channels were removed from the network in March of 2007?\n",
            "answer: basic channels\n",
            "predicted answer: basic channels \n",
            "\n",
            "context: \n",
            " The working fluid in a Rankine cycle can operate as a closed loop system, where the working fluid is recycled continuously, or may be an \"open loop\" system, where the exhaust steam is directly released to the atmosphere, and a separate source of water feeding the boiler is supplied. Normally water is the fluid of choice due to its favourable properties, such as non-toxic and unreactive chemistry, abundance, low cost, and its thermodynamic properties. Mercury is the working fluid in the mercury vapor turbine. Low boiling hydrocarbons can be used in a binary cycle.\n",
            "question: What can the working fluid in a boiler cycle operate as?\n",
            "answer: []\n",
            "predicted answer: closed loop system \n",
            "\n",
            "context: \n",
            " Singlet oxygen is a name given to several higher-energy species of molecular O\n",
            "2 in which all the electron spins are paired. It is much more reactive towards common organic molecules than is molecular oxygen per se. In nature, singlet oxygen is commonly formed from water during photosynthesis, using the energy of sunlight. It is also produced in the troposphere by the photolysis of ozone by light of short wavelength, and by the immune system as a source of active oxygen. Carotenoids in photosynthetic organisms (and possibly also in animals) play a major role in absorbing energy from singlet oxygen and converting it to the unexcited ground state before it can cause harm to tissues.\n",
            "question: What is formed in nature from energy during photosynthesis?\n",
            "answer: []\n",
            "predicted answer: singlet oxygen \n",
            "\n",
            "context: \n",
            " The primary law of the EU consists mainly of the founding treaties, the \"core\" treaties being the Treaty on European Union (TEU) and the Treaty on the Functioning of the European Union (TFEU). The Treaties contain formal and substantive provisions, which frame policies of the European Union institutions and determine the division of competences between the European Union and its member states. The TEU establishes that European Union law applies to the metropolitan territories of the member states, as well as certain islands and overseas territories, including Madeira, the Canary Islands and the French overseas departments. European Union law also applies in territories where a member state is responsible for external relations, for example Gibraltar and the Åland islands. The TEU allows the European Council to make specific provisions for regions, as for example done for customs matters in Gibraltar and Saint-Pierre-et-Miquelon. The TEU specifically excludes certain regions, for example the Faroe Islands, from the jurisdiction of European Union law. Treaties apply as soon as they enter into force, unless stated otherwise, and are generally concluded for an unlimited period. The TEU provides that commitments entered into by the member states between themselves before the treaty was signed no longer apply.[vague] All EU member states are regarded as subject to the general obligation of the principle of cooperation, as stated in the TEU, whereby member states are obliged not to take measure which could jeopardise the attainment of the TEU objectives. The Court of Justice of the European Union can interpret the Treaties, but it cannot rule on their validity, which is subject to international law. Individuals may rely on primary law in the Court of Justice of the European Union if the Treaty provisions have a direct effect and they are sufficiently clear, precise and unconditional.\n",
            "question: What does the TEU not do?\n",
            "answer: []\n",
            "predicted answer: take measure \n",
            "\n"
          ],
          "name": "stdout"
        }
      ]
    },
    {
      "cell_type": "code",
      "metadata": {
        "id": "2g-KkdkENE_z"
      },
      "source": [
        ""
      ],
      "execution_count": null,
      "outputs": []
    }
  ]
}